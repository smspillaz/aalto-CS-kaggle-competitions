{
 "cells": [
  {
   "cell_type": "markdown",
   "metadata": {},
   "source": [
    "# Two Sigma: Rental Interest Competition"
   ]
  },
  {
   "cell_type": "code",
   "execution_count": 1,
   "metadata": {},
   "outputs": [],
   "source": [
    "import datetime\n",
    "import itertools\n",
    "import json\n",
    "import operator\n",
    "import os\n",
    "import pandas as pd\n",
    "import pickle\n",
    "import pprint\n",
    "import numpy as np\n",
    "import re\n",
    "import spacy\n",
    "import torch\n",
    "import torch.optim as optim\n",
    "\n",
    "from collections import Counter, deque\n",
    "from pytorch_pretrained_bert import BertAdam\n",
    "from sklearn.metrics import (\n",
    "    accuracy_score,\n",
    "    log_loss,\n",
    "    mean_squared_error\n",
    ")\n",
    "from sklearn.model_selection import train_test_split\n",
    "from sklearn.preprocessing import StandardScaler\n",
    "from skorch.callbacks import (\n",
    "    Callback,\n",
    "    Checkpoint,\n",
    "    EpochScoring,\n",
    "    LRScheduler,\n",
    "    ProgressBar,\n",
    "    TrainEndCheckpoint\n",
    ")\n",
    "\n",
    "from utils.data import load_training_test_data\n",
    "from utils.dataframe import (\n",
    "    categories_from_column,\n",
    "    column_list_to_category_flags,\n",
    "    count_json_in_dataframes,\n",
    "    count_ngrams_up_to_n,\n",
    "    drop_columns_from_dataframes,\n",
    "    map_categorical_column_to_category_ids,\n",
    "    normalize_categories,\n",
    "    normalize_description,\n",
    "    numerical_feature_engineering_on_dataframe,\n",
    "    parse_address_components,\n",
    "    remap_column,\n",
    "    remap_columns_with_transform,\n",
    "    remap_date_column_to_days_before,\n",
    "    remove_small_or_stopwords_from_ranking\n",
    ")\n",
    "from utils.doc2vec import (\n",
    "    column_to_doc_vectors\n",
    ")\n",
    "from utils.model import (\n",
    "    basic_logistic_regression_pipeline,\n",
    "    basic_xgboost_pipeline,\n",
    "    expand_onehot_encoding,\n",
    "    format_statistics,\n",
    "    get_prediction_probabilities_with_columns,\n",
    "    get_prediction_probabilities_with_columns_from_predictions,\n",
    "    prediction_accuracy,\n",
    "    write_predictions_table_to_csv,\n",
    "    rescale_features_and_split_into_continuous_and_categorical,\n",
    "    split_into_continuous_and_categorical,\n",
    "    test_model_with_k_fold_cross_validation\n",
    ")\n",
    "from utils.language_models.bert import (\n",
    "    BertClassifier,\n",
    "    BertForSequenceClassification,\n",
    "    GRADIENT_ACCUMULATION_STEPS,\n",
    "    LEARNING_RATE,\n",
    "    TRAIN_BATCH_SIZE,\n",
    "    WARMUP_PROPORTION,\n",
    "    bert_featurize_data_frames,\n",
    "    create_bert_model,\n",
    "    create_bert_model_with_tabular_features\n",
    ")\n",
    "from utils.language_models.descriptions import (\n",
    "    descriptions_to_word_sequences,\n",
    "    generate_bigrams,\n",
    "    generate_description_sequences,\n",
    "    maybe_cuda,\n",
    "    postprocess_sequences,\n",
    "    token_dictionary_seq_encoder,\n",
    "    tokenize_sequences,\n",
    "    torchtext_create_text_vocab,\n",
    "    torchtext_process_texts,\n",
    "    words_to_one_hot_lookups,\n",
    ")\n",
    "from utils.language_models.fasttext import (\n",
    "    FastText,\n",
    "    FastTextWithTabularData\n",
    ")\n",
    "from utils.language_models.simple_rnn import (\n",
    "    CheckpointAndKeepBest,\n",
    "    LRAnnealing,\n",
    "    NoToTensorInLossClassifier,\n",
    "    SimpleRNNPredictor,\n",
    "    SimpleRNNTabularDataPredictor\n",
    ")\n",
    "from utils.language_models.split import (\n",
    "    shuffled_train_test_split_by_indices,\n",
    "    simple_train_test_split_without_shuffle_func,\n",
    "    ordered_train_test_split_with_oversampling\n",
    ")\n",
    "from utils.language_models.textcnn import (\n",
    "    TextCNN,\n",
    "    TextCNNWithTabularData\n",
    ")\n",
    "from utils.language_models.ulmfit import (\n",
    "    load_ulmfit_classifier_with_transfer_learning_from_data_frame,\n",
    "    train_ulmfit_classifier_with_gradual_unfreezing\n",
    ")\n",
    "from utils.report import (\n",
    "    generate_classification_report_from_preds,\n",
    "    generate_classification_report\n",
    ")\n",
    "\n",
    "nlp = spacy.load(\"en\")"
   ]
  },
  {
   "cell_type": "markdown",
   "metadata": {},
   "source": [
    "Check GPU support"
   ]
  },
  {
   "cell_type": "code",
   "execution_count": 2,
   "metadata": {
    "scrolled": true
   },
   "outputs": [
    {
     "data": {
      "text/plain": [
       "True"
      ]
     },
     "execution_count": 2,
     "metadata": {},
     "output_type": "execute_result"
    }
   ],
   "source": [
    "torch.cuda.is_available()"
   ]
  },
  {
   "cell_type": "markdown",
   "metadata": {},
   "source": [
    "## 1) Load data"
   ]
  },
  {
   "cell_type": "code",
   "execution_count": 3,
   "metadata": {
    "scrolled": true
   },
   "outputs": [],
   "source": [
    "(ALL_TRAIN_DATAFRAME, TEST_DATAFRAME) = \\\n",
    "  load_training_test_data(os.path.join('data', 'train.json'),\n",
    "                          os.path.join('data', 'test.json'))\n",
    "TRAIN_INDEX, VALIDATION_INDEX = train_test_split(ALL_TRAIN_DATAFRAME.index, test_size=0.1)\n",
    "TRAIN_DATAFRAME = ALL_TRAIN_DATAFRAME.iloc[TRAIN_INDEX].reset_index()\n",
    "VALIDATION_DATAFRAME = ALL_TRAIN_DATAFRAME.iloc[VALIDATION_INDEX].reset_index()\n",
    "TEST_DATAFRAME = TEST_DATAFRAME.reset_index()"
   ]
  },
  {
   "cell_type": "markdown",
   "metadata": {},
   "source": [
    "## 2) Data Cleaning"
   ]
  },
  {
   "cell_type": "markdown",
   "metadata": {},
   "source": [
    "Let's see what this table looks like. We'll display the head of the table which shows its features"
   ]
  },
  {
   "cell_type": "code",
   "execution_count": 4,
   "metadata": {
    "scrolled": false
   },
   "outputs": [
    {
     "data": {
      "text/html": [
       "<div>\n",
       "<style scoped>\n",
       "    .dataframe tbody tr th:only-of-type {\n",
       "        vertical-align: middle;\n",
       "    }\n",
       "\n",
       "    .dataframe tbody tr th {\n",
       "        vertical-align: top;\n",
       "    }\n",
       "\n",
       "    .dataframe thead th {\n",
       "        text-align: right;\n",
       "    }\n",
       "</style>\n",
       "<table border=\"1\" class=\"dataframe\">\n",
       "  <thead>\n",
       "    <tr style=\"text-align: right;\">\n",
       "      <th></th>\n",
       "      <th>index</th>\n",
       "      <th>id</th>\n",
       "      <th>bathrooms</th>\n",
       "      <th>bedrooms</th>\n",
       "      <th>building_id</th>\n",
       "      <th>created</th>\n",
       "      <th>description</th>\n",
       "      <th>display_address</th>\n",
       "      <th>features</th>\n",
       "      <th>latitude</th>\n",
       "      <th>listing_id</th>\n",
       "      <th>longitude</th>\n",
       "      <th>manager_id</th>\n",
       "      <th>photos</th>\n",
       "      <th>price</th>\n",
       "      <th>street_address</th>\n",
       "      <th>interest_level</th>\n",
       "    </tr>\n",
       "  </thead>\n",
       "  <tbody>\n",
       "    <tr>\n",
       "      <th>0</th>\n",
       "      <td>31086</td>\n",
       "      <td>78098</td>\n",
       "      <td>1.0</td>\n",
       "      <td>1</td>\n",
       "      <td>0</td>\n",
       "      <td>2016-05-05 05:20:46</td>\n",
       "      <td>1 BD MIDTOWN WEST/ HELLS KITCHEN , ,HARD WOOD ...</td>\n",
       "      <td>W 49th St.</td>\n",
       "      <td>[Hardwood Floors, Outdoor Space]</td>\n",
       "      <td>40.7630</td>\n",
       "      <td>6969324</td>\n",
       "      <td>-73.9902</td>\n",
       "      <td>63ba8954e3cb79647d71eb0d56025039</td>\n",
       "      <td>[https://photos.renthop.com/2/6969324_2ea36203...</td>\n",
       "      <td>2485</td>\n",
       "      <td>412 W 49th St.</td>\n",
       "      <td>low</td>\n",
       "    </tr>\n",
       "    <tr>\n",
       "      <th>1</th>\n",
       "      <td>43279</td>\n",
       "      <td>108883</td>\n",
       "      <td>2.0</td>\n",
       "      <td>3</td>\n",
       "      <td>d9ecc11f7d634c492a93cbfaa310a71c</td>\n",
       "      <td>2016-04-06 03:00:13</td>\n",
       "      <td>Massive Flex 3BR/2BA apartment at an unbeatabl...</td>\n",
       "      <td>E 82nd St.</td>\n",
       "      <td>[Balcony, Doorman, Elevator, Terrace, Laundry ...</td>\n",
       "      <td>40.7753</td>\n",
       "      <td>6829352</td>\n",
       "      <td>-73.9540</td>\n",
       "      <td>2983e45f7e0ad87d677dacd13e362785</td>\n",
       "      <td>[https://photos.renthop.com/2/6829352_8f7dace4...</td>\n",
       "      <td>5500</td>\n",
       "      <td>240 E 82nd St.</td>\n",
       "      <td>medium</td>\n",
       "    </tr>\n",
       "    <tr>\n",
       "      <th>2</th>\n",
       "      <td>17601</td>\n",
       "      <td>44332</td>\n",
       "      <td>4.5</td>\n",
       "      <td>4</td>\n",
       "      <td>41b3f5da3a9d25611fda51a320de54f4</td>\n",
       "      <td>2016-05-25 02:33:56</td>\n",
       "      <td>(((((((((((((((((2300SF)))))))))))))))))))))))...</td>\n",
       "      <td>W 86th St.</td>\n",
       "      <td>[Roof Deck, Dining Room, Doorman, Elevator, Fi...</td>\n",
       "      <td>40.7860</td>\n",
       "      <td>7062909</td>\n",
       "      <td>-73.9703</td>\n",
       "      <td>7b73a97a2516d3c33de0d452f21d4e79</td>\n",
       "      <td>[https://photos.renthop.com/2/7062909_39fd7b10...</td>\n",
       "      <td>24000</td>\n",
       "      <td>21 W 86th St.</td>\n",
       "      <td>low</td>\n",
       "    </tr>\n",
       "    <tr>\n",
       "      <th>3</th>\n",
       "      <td>23229</td>\n",
       "      <td>58460</td>\n",
       "      <td>0.0</td>\n",
       "      <td>2</td>\n",
       "      <td>0</td>\n",
       "      <td>2016-05-25 20:36:04</td>\n",
       "      <td></td>\n",
       "      <td>W 109th St</td>\n",
       "      <td>[]</td>\n",
       "      <td>40.8030</td>\n",
       "      <td>7067407</td>\n",
       "      <td>-73.9664</td>\n",
       "      <td>5239c98c3c2228c0369842750684054d</td>\n",
       "      <td>[]</td>\n",
       "      <td>2850</td>\n",
       "      <td>244 W 109th St</td>\n",
       "      <td>low</td>\n",
       "    </tr>\n",
       "    <tr>\n",
       "      <th>4</th>\n",
       "      <td>46117</td>\n",
       "      <td>115974</td>\n",
       "      <td>1.0</td>\n",
       "      <td>1</td>\n",
       "      <td>b24fe663839858ffc7a84410a20e1b9e</td>\n",
       "      <td>2016-04-12 04:25:17</td>\n",
       "      <td>This is why we leave Manhattan! This s...</td>\n",
       "      <td>Greenway Terrace</td>\n",
       "      <td>[Doorman, Elevator, Cats Allowed, Dogs Allowed]</td>\n",
       "      <td>40.7164</td>\n",
       "      <td>6860155</td>\n",
       "      <td>-73.8439</td>\n",
       "      <td>fc3eb34da075c0a3835533f61f0851f9</td>\n",
       "      <td>[https://photos.renthop.com/2/6860155_b7442cc4...</td>\n",
       "      <td>2700</td>\n",
       "      <td>150 Greenway Terrace</td>\n",
       "      <td>low</td>\n",
       "    </tr>\n",
       "  </tbody>\n",
       "</table>\n",
       "</div>"
      ],
      "text/plain": [
       "   index      id  bathrooms  bedrooms                       building_id  \\\n",
       "0  31086   78098        1.0         1                                 0   \n",
       "1  43279  108883        2.0         3  d9ecc11f7d634c492a93cbfaa310a71c   \n",
       "2  17601   44332        4.5         4  41b3f5da3a9d25611fda51a320de54f4   \n",
       "3  23229   58460        0.0         2                                 0   \n",
       "4  46117  115974        1.0         1  b24fe663839858ffc7a84410a20e1b9e   \n",
       "\n",
       "               created                                        description  \\\n",
       "0  2016-05-05 05:20:46  1 BD MIDTOWN WEST/ HELLS KITCHEN , ,HARD WOOD ...   \n",
       "1  2016-04-06 03:00:13  Massive Flex 3BR/2BA apartment at an unbeatabl...   \n",
       "2  2016-05-25 02:33:56  (((((((((((((((((2300SF)))))))))))))))))))))))...   \n",
       "3  2016-05-25 20:36:04                                                      \n",
       "4  2016-04-12 04:25:17          This is why we leave Manhattan! This s...   \n",
       "\n",
       "    display_address                                           features  \\\n",
       "0        W 49th St.                   [Hardwood Floors, Outdoor Space]   \n",
       "1        E 82nd St.  [Balcony, Doorman, Elevator, Terrace, Laundry ...   \n",
       "2        W 86th St.  [Roof Deck, Dining Room, Doorman, Elevator, Fi...   \n",
       "3        W 109th St                                                 []   \n",
       "4  Greenway Terrace    [Doorman, Elevator, Cats Allowed, Dogs Allowed]   \n",
       "\n",
       "   latitude  listing_id  longitude                        manager_id  \\\n",
       "0   40.7630     6969324   -73.9902  63ba8954e3cb79647d71eb0d56025039   \n",
       "1   40.7753     6829352   -73.9540  2983e45f7e0ad87d677dacd13e362785   \n",
       "2   40.7860     7062909   -73.9703  7b73a97a2516d3c33de0d452f21d4e79   \n",
       "3   40.8030     7067407   -73.9664  5239c98c3c2228c0369842750684054d   \n",
       "4   40.7164     6860155   -73.8439  fc3eb34da075c0a3835533f61f0851f9   \n",
       "\n",
       "                                              photos  price  \\\n",
       "0  [https://photos.renthop.com/2/6969324_2ea36203...   2485   \n",
       "1  [https://photos.renthop.com/2/6829352_8f7dace4...   5500   \n",
       "2  [https://photos.renthop.com/2/7062909_39fd7b10...  24000   \n",
       "3                                                 []   2850   \n",
       "4  [https://photos.renthop.com/2/6860155_b7442cc4...   2700   \n",
       "\n",
       "         street_address interest_level  \n",
       "0        412 W 49th St.            low  \n",
       "1        240 E 82nd St.         medium  \n",
       "2         21 W 86th St.            low  \n",
       "3        244 W 109th St            low  \n",
       "4  150 Greenway Terrace            low  "
      ]
     },
     "execution_count": 4,
     "metadata": {},
     "output_type": "execute_result"
    }
   ],
   "source": [
    "TRAIN_DATAFRAME.head()"
   ]
  },
  {
   "cell_type": "markdown",
   "metadata": {},
   "source": [
    "### 2.1) Cleaning up categories"
   ]
  },
  {
   "cell_type": "markdown",
   "metadata": {},
   "source": [
    "Let's clean up the categories and put them into a sensible vector. Unfortunately the categories are a bit of a mess - since the user can specify what categories they want there isn't much in the way of consistency between categories.\n",
    "\n",
    "Some of the patterns that we frequently see in the categories are:\n",
    " - Separating category names with \"**\"\n",
    " - Mix of caps/nocaps\n",
    " - Some common themes, such as:\n",
    "   - \"pets\"\n",
    "   - \"office\"\n",
    "   - \"living room\"\n",
    "   - \"garden\"\n",
    "   - \"common area\"\n",
    "   - \"storage\"\n",
    "   - \"no pets\"\n",
    "   - \"parking\"\n",
    "   - \"bicycle\"\n",
    "   - \"doorman\"\n",
    "   - etc\n",
    "\n",
    "To deal with this, lets pull out all of the categories and normalize them\n",
    "by removing excess punctuation, normalizing for whitespace, lowercasing, and counting for certain n-grams."
   ]
  },
  {
   "cell_type": "code",
   "execution_count": 5,
   "metadata": {
    "scrolled": false
   },
   "outputs": [
    {
     "data": {
      "text/plain": [
       "['$1500. move in visa giftcard will be handed to new tenants upon rental lease signing',\n",
       " '$250 application fee with background and credit check. board interview and approval.',\n",
       " '$250 security deposit',\n",
       " '$500 security deposit',\n",
       " '$600 gift card for move ins prior to june 19',\n",
       " '000 sf fitness center',\n",
       " '000 sq. ft. landscaped terrace complete with an organic garden',\n",
       " '000 square foot exclusive courtyard oasis for via residents',\n",
       " '000 square foot sun deck• free wifi in marc club',\n",
       " '1 br or conv 2',\n",
       " \"1 mo broker's fee 18 mo lease\",\n",
       " '1 month free',\n",
       " '1 month free',\n",
       " '1 month free',\n",
       " '1 month free rent',\n",
       " '1.5 bath',\n",
       " '1.5 bathrooms',\n",
       " '1.5 baths',\n",
       " '1.5 baths',\n",
       " '1.5 marble baths',\n",
       " '1/2 bath',\n",
       " '1/2 month fee',\n",
       " '1100 sq ft',\n",
       " '1200sq ft',\n",
       " '12th st 3rd ave',\n",
       " '1st',\n",
       " '2',\n",
       " '2 bathrooms',\n",
       " '2 beautifully furnished outside sundecks',\n",
       " '2 blocks away from union square',\n",
       " '2 full bathrooms',\n",
       " '2 full baths',\n",
       " '2 months free',\n",
       " '2 queen bedrooms',\n",
       " '2 story tenant lounge',\n",
       " '2 year lease',\n",
       " '22',\n",
       " '24 hour attended lobby',\n",
       " '24 hour attended lobby',\n",
       " '24 hour concierge',\n",
       " '24 hour concierge and doorman',\n",
       " '24 hour doorman',\n",
       " '24 hour doorman',\n",
       " '24 hour doorman concierge',\n",
       " '24 hour parking garage with an electric vehicle charging station.',\n",
       " '24 hr concierge',\n",
       " '24 hr doorman',\n",
       " '24/7 concierge',\n",
       " '24/7 doorman',\n",
       " '24/7 doorman']"
      ]
     },
     "execution_count": 5,
     "metadata": {},
     "output_type": "execute_result"
    }
   ],
   "source": [
    "normalized_categories = sorted(normalize_categories(categories_from_column(TRAIN_DATAFRAME, 'features')))\n",
    "normalized_categories[:50]"
   ]
  },
  {
   "cell_type": "markdown",
   "metadata": {},
   "source": [
    "Now that we have our slightly tidied up categories, we can create some n-grams and count their frequency"
   ]
  },
  {
   "cell_type": "code",
   "execution_count": 6,
   "metadata": {
    "scrolled": false
   },
   "outputs": [
    {
     "data": {
      "text/plain": [
       "[('', 5961),\n",
       " ('in', 110),\n",
       " ('kitchen', 108),\n",
       " ('room', 83),\n",
       " ('to', 83),\n",
       " ('home', 60),\n",
       " ('of', 60),\n",
       " ('fee', 58),\n",
       " ('no', 54),\n",
       " ('and', 52),\n",
       " ('the', 52),\n",
       " ('private', 51),\n",
       " ('super', 50),\n",
       " ('2br', 48),\n",
       " ('massive', 46),\n",
       " ('new', 46),\n",
       " ('2', 44),\n",
       " ('on', 43),\n",
       " ('storage', 42),\n",
       " ('park', 41),\n",
       " ('share', 41),\n",
       " ('windows', 41),\n",
       " ('no fee', 39),\n",
       " ('ok', 38),\n",
       " ('pets', 38),\n",
       " ('sprawling', 38),\n",
       " ('bldg', 37),\n",
       " ('deck', 37),\n",
       " ('laundry', 34),\n",
       " ('all', 33),\n",
       " ('l', 33),\n",
       " ('renovated', 32),\n",
       " ('roof', 32),\n",
       " ('free', 31),\n",
       " ('oversized', 31),\n",
       " ('parking', 31),\n",
       " ('3br', 30),\n",
       " ('huge', 30),\n",
       " ('eat', 28),\n",
       " ('eat in', 28),\n",
       " ('in kitchen', 28),\n",
       " ('with', 28),\n",
       " ('1br', 27),\n",
       " ('doorman', 27),\n",
       " ('steps', 27),\n",
       " ('studio', 27),\n",
       " ('blks', 26),\n",
       " ('blks to', 26),\n",
       " ('closets', 26),\n",
       " ('full', 26)]"
      ]
     },
     "execution_count": 6,
     "metadata": {},
     "output_type": "execute_result"
    }
   ],
   "source": [
    "most_common_ngrams = sorted(count_ngrams_up_to_n(\" \".join(normalized_categories), 3).most_common(),\n",
    "                            key=lambda x: (-x[1], x[0]))\n",
    "most_common_ngrams[:50]"
   ]
  },
  {
   "cell_type": "markdown",
   "metadata": {},
   "source": [
    "There's quite a few words here that don't add much value. We can remove them by consulting a list of stopwords"
   ]
  },
  {
   "cell_type": "code",
   "execution_count": 7,
   "metadata": {
    "scrolled": false
   },
   "outputs": [
    {
     "data": {
      "text/plain": [
       "[('kitchen', 108),\n",
       " ('room', 83),\n",
       " ('home', 60),\n",
       " ('fee', 58),\n",
       " ('private', 51),\n",
       " ('super', 50),\n",
       " ('2br', 48),\n",
       " ('massive', 46),\n",
       " ('new', 46),\n",
       " ('storage', 42),\n",
       " ('park', 41),\n",
       " ('share', 41),\n",
       " ('windows', 41),\n",
       " ('no fee', 39),\n",
       " ('pets', 38),\n",
       " ('sprawling', 38),\n",
       " ('bldg', 37),\n",
       " ('deck', 37),\n",
       " ('laundry', 34),\n",
       " ('renovated', 32),\n",
       " ('roof', 32),\n",
       " ('free', 31),\n",
       " ('oversized', 31),\n",
       " ('parking', 31),\n",
       " ('3br', 30),\n",
       " ('huge', 30),\n",
       " ('eat', 28),\n",
       " ('eat in', 28),\n",
       " ('in kitchen', 28),\n",
       " ('1br', 27),\n",
       " ('doorman', 27),\n",
       " ('steps', 27),\n",
       " ('studio', 27),\n",
       " ('blks', 26),\n",
       " ('blks to', 26),\n",
       " ('closets', 26),\n",
       " ('included', 26),\n",
       " ('large', 26),\n",
       " ('steps to', 26),\n",
       " ('super share', 26),\n",
       " ('lounge', 25),\n",
       " ('on site', 25),\n",
       " ('site', 25),\n",
       " ('clean', 24),\n",
       " ('pets ok', 24),\n",
       " ('roof deck', 24),\n",
       " ('appliances', 23),\n",
       " ('bedford', 23),\n",
       " ('bedford l', 23),\n",
       " ('brick', 23)]"
      ]
     },
     "execution_count": 7,
     "metadata": {},
     "output_type": "execute_result"
    }
   ],
   "source": [
    "most_common_ngrams = sorted(list(remove_small_or_stopwords_from_ranking(most_common_ngrams, nlp, 3)),\n",
    "                            key=lambda x: (-x[1], x[0]))\n",
    "most_common_ngrams[:50]"
   ]
  },
  {
   "cell_type": "markdown",
   "metadata": {},
   "source": [
    "Now that we have these, we can probably take 100 most common and arrange\n",
    "them into category flags for our table"
   ]
  },
  {
   "cell_type": "code",
   "execution_count": 8,
   "metadata": {
    "scrolled": true
   },
   "outputs": [],
   "source": [
    "TRAIN_DATAFRAME = column_list_to_category_flags(TRAIN_DATAFRAME, 'features', list(map(operator.itemgetter(0), most_common_ngrams[:100])))\n",
    "VALIDATION_DATAFRAME = column_list_to_category_flags(VALIDATION_DATAFRAME, 'features', list(map(operator.itemgetter(0), most_common_ngrams[:100])))\n",
    "TEST_DATAFRAME = column_list_to_category_flags(TEST_DATAFRAME, 'features', list(map(operator.itemgetter(0), most_common_ngrams[:100])))"
   ]
  },
  {
   "cell_type": "code",
   "execution_count": 9,
   "metadata": {
    "scrolled": false
   },
   "outputs": [
    {
     "data": {
      "text/html": [
       "<div>\n",
       "<style scoped>\n",
       "    .dataframe tbody tr th:only-of-type {\n",
       "        vertical-align: middle;\n",
       "    }\n",
       "\n",
       "    .dataframe tbody tr th {\n",
       "        vertical-align: top;\n",
       "    }\n",
       "\n",
       "    .dataframe thead th {\n",
       "        text-align: right;\n",
       "    }\n",
       "</style>\n",
       "<table border=\"1\" class=\"dataframe\">\n",
       "  <thead>\n",
       "    <tr style=\"text-align: right;\">\n",
       "      <th></th>\n",
       "      <th>index</th>\n",
       "      <th>id</th>\n",
       "      <th>bathrooms</th>\n",
       "      <th>bedrooms</th>\n",
       "      <th>building_id</th>\n",
       "      <th>created</th>\n",
       "      <th>description</th>\n",
       "      <th>display_address</th>\n",
       "      <th>features</th>\n",
       "      <th>latitude</th>\n",
       "      <th>...</th>\n",
       "      <th>features_heart_of</th>\n",
       "      <th>features_in_unit</th>\n",
       "      <th>features_living</th>\n",
       "      <th>features_luxury</th>\n",
       "      <th>features_natural</th>\n",
       "      <th>features_steel</th>\n",
       "      <th>features_true</th>\n",
       "      <th>features_views</th>\n",
       "      <th>features_approved</th>\n",
       "      <th>features_ave</th>\n",
       "    </tr>\n",
       "  </thead>\n",
       "  <tbody>\n",
       "    <tr>\n",
       "      <th>0</th>\n",
       "      <td>31086</td>\n",
       "      <td>78098</td>\n",
       "      <td>1.0</td>\n",
       "      <td>1</td>\n",
       "      <td>0</td>\n",
       "      <td>2016-05-05 05:20:46</td>\n",
       "      <td>1 BD MIDTOWN WEST/ HELLS KITCHEN , ,HARD WOOD ...</td>\n",
       "      <td>W 49th St.</td>\n",
       "      <td>[Hardwood Floors, Outdoor Space]</td>\n",
       "      <td>40.7630</td>\n",
       "      <td>...</td>\n",
       "      <td>0</td>\n",
       "      <td>0</td>\n",
       "      <td>0</td>\n",
       "      <td>0</td>\n",
       "      <td>0</td>\n",
       "      <td>0</td>\n",
       "      <td>0</td>\n",
       "      <td>0</td>\n",
       "      <td>0</td>\n",
       "      <td>0</td>\n",
       "    </tr>\n",
       "    <tr>\n",
       "      <th>1</th>\n",
       "      <td>43279</td>\n",
       "      <td>108883</td>\n",
       "      <td>2.0</td>\n",
       "      <td>3</td>\n",
       "      <td>d9ecc11f7d634c492a93cbfaa310a71c</td>\n",
       "      <td>2016-04-06 03:00:13</td>\n",
       "      <td>Massive Flex 3BR/2BA apartment at an unbeatabl...</td>\n",
       "      <td>E 82nd St.</td>\n",
       "      <td>[Balcony, Doorman, Elevator, Terrace, Laundry ...</td>\n",
       "      <td>40.7753</td>\n",
       "      <td>...</td>\n",
       "      <td>0</td>\n",
       "      <td>0</td>\n",
       "      <td>0</td>\n",
       "      <td>0</td>\n",
       "      <td>0</td>\n",
       "      <td>0</td>\n",
       "      <td>0</td>\n",
       "      <td>0</td>\n",
       "      <td>0</td>\n",
       "      <td>0</td>\n",
       "    </tr>\n",
       "    <tr>\n",
       "      <th>2</th>\n",
       "      <td>17601</td>\n",
       "      <td>44332</td>\n",
       "      <td>4.5</td>\n",
       "      <td>4</td>\n",
       "      <td>41b3f5da3a9d25611fda51a320de54f4</td>\n",
       "      <td>2016-05-25 02:33:56</td>\n",
       "      <td>(((((((((((((((((2300SF)))))))))))))))))))))))...</td>\n",
       "      <td>W 86th St.</td>\n",
       "      <td>[Roof Deck, Dining Room, Doorman, Elevator, Fi...</td>\n",
       "      <td>40.7860</td>\n",
       "      <td>...</td>\n",
       "      <td>0</td>\n",
       "      <td>1</td>\n",
       "      <td>0</td>\n",
       "      <td>0</td>\n",
       "      <td>0</td>\n",
       "      <td>0</td>\n",
       "      <td>0</td>\n",
       "      <td>0</td>\n",
       "      <td>0</td>\n",
       "      <td>0</td>\n",
       "    </tr>\n",
       "    <tr>\n",
       "      <th>3</th>\n",
       "      <td>23229</td>\n",
       "      <td>58460</td>\n",
       "      <td>0.0</td>\n",
       "      <td>2</td>\n",
       "      <td>0</td>\n",
       "      <td>2016-05-25 20:36:04</td>\n",
       "      <td></td>\n",
       "      <td>W 109th St</td>\n",
       "      <td>[]</td>\n",
       "      <td>40.8030</td>\n",
       "      <td>...</td>\n",
       "      <td>0</td>\n",
       "      <td>0</td>\n",
       "      <td>0</td>\n",
       "      <td>0</td>\n",
       "      <td>0</td>\n",
       "      <td>0</td>\n",
       "      <td>0</td>\n",
       "      <td>0</td>\n",
       "      <td>0</td>\n",
       "      <td>0</td>\n",
       "    </tr>\n",
       "    <tr>\n",
       "      <th>4</th>\n",
       "      <td>46117</td>\n",
       "      <td>115974</td>\n",
       "      <td>1.0</td>\n",
       "      <td>1</td>\n",
       "      <td>b24fe663839858ffc7a84410a20e1b9e</td>\n",
       "      <td>2016-04-12 04:25:17</td>\n",
       "      <td>This is why we leave Manhattan! This s...</td>\n",
       "      <td>Greenway Terrace</td>\n",
       "      <td>[Doorman, Elevator, Cats Allowed, Dogs Allowed]</td>\n",
       "      <td>40.7164</td>\n",
       "      <td>...</td>\n",
       "      <td>0</td>\n",
       "      <td>0</td>\n",
       "      <td>0</td>\n",
       "      <td>0</td>\n",
       "      <td>0</td>\n",
       "      <td>0</td>\n",
       "      <td>0</td>\n",
       "      <td>0</td>\n",
       "      <td>0</td>\n",
       "      <td>0</td>\n",
       "    </tr>\n",
       "  </tbody>\n",
       "</table>\n",
       "<p>5 rows × 117 columns</p>\n",
       "</div>"
      ],
      "text/plain": [
       "   index      id  bathrooms  bedrooms                       building_id  \\\n",
       "0  31086   78098        1.0         1                                 0   \n",
       "1  43279  108883        2.0         3  d9ecc11f7d634c492a93cbfaa310a71c   \n",
       "2  17601   44332        4.5         4  41b3f5da3a9d25611fda51a320de54f4   \n",
       "3  23229   58460        0.0         2                                 0   \n",
       "4  46117  115974        1.0         1  b24fe663839858ffc7a84410a20e1b9e   \n",
       "\n",
       "               created                                        description  \\\n",
       "0  2016-05-05 05:20:46  1 BD MIDTOWN WEST/ HELLS KITCHEN , ,HARD WOOD ...   \n",
       "1  2016-04-06 03:00:13  Massive Flex 3BR/2BA apartment at an unbeatabl...   \n",
       "2  2016-05-25 02:33:56  (((((((((((((((((2300SF)))))))))))))))))))))))...   \n",
       "3  2016-05-25 20:36:04                                                      \n",
       "4  2016-04-12 04:25:17          This is why we leave Manhattan! This s...   \n",
       "\n",
       "    display_address                                           features  \\\n",
       "0        W 49th St.                   [Hardwood Floors, Outdoor Space]   \n",
       "1        E 82nd St.  [Balcony, Doorman, Elevator, Terrace, Laundry ...   \n",
       "2        W 86th St.  [Roof Deck, Dining Room, Doorman, Elevator, Fi...   \n",
       "3        W 109th St                                                 []   \n",
       "4  Greenway Terrace    [Doorman, Elevator, Cats Allowed, Dogs Allowed]   \n",
       "\n",
       "   latitude      ...       features_heart_of  features_in_unit  \\\n",
       "0   40.7630      ...                       0                 0   \n",
       "1   40.7753      ...                       0                 0   \n",
       "2   40.7860      ...                       0                 1   \n",
       "3   40.8030      ...                       0                 0   \n",
       "4   40.7164      ...                       0                 0   \n",
       "\n",
       "  features_living features_luxury  features_natural features_steel  \\\n",
       "0               0               0                 0              0   \n",
       "1               0               0                 0              0   \n",
       "2               0               0                 0              0   \n",
       "3               0               0                 0              0   \n",
       "4               0               0                 0              0   \n",
       "\n",
       "  features_true  features_views  features_approved  features_ave  \n",
       "0             0               0                  0             0  \n",
       "1             0               0                  0             0  \n",
       "2             0               0                  0             0  \n",
       "3             0               0                  0             0  \n",
       "4             0               0                  0             0  \n",
       "\n",
       "[5 rows x 117 columns]"
      ]
     },
     "execution_count": 9,
     "metadata": {},
     "output_type": "execute_result"
    }
   ],
   "source": [
    "TRAIN_DATAFRAME.head(5)"
   ]
  },
  {
   "cell_type": "markdown",
   "metadata": {},
   "source": [
    "### 2.2) Cleaning up listing_date"
   ]
  },
  {
   "cell_type": "markdown",
   "metadata": {},
   "source": [
    "We can also do something useful with the listing date - it may be better to say how many days ago the property was listed - older properties are probably going to get a lot less interest than newer properties."
   ]
  },
  {
   "cell_type": "code",
   "execution_count": 10,
   "metadata": {
    "scrolled": false
   },
   "outputs": [],
   "source": [
    "TRAIN_DATAFRAME = remap_date_column_to_days_before(TRAIN_DATAFRAME, \"created\", \"created_days_ago\", datetime.datetime(2017, 1, 1))\n",
    "VALIDATION_DATAFRAME = remap_date_column_to_days_before(VALIDATION_DATAFRAME, \"created\", \"created_days_ago\", datetime.datetime(2017, 1, 1))\n",
    "TEST_DATAFRAME = remap_date_column_to_days_before(TEST_DATAFRAME, \"created\", \"created_days_ago\", datetime.datetime(2017, 1, 1))"
   ]
  },
  {
   "cell_type": "code",
   "execution_count": 11,
   "metadata": {
    "scrolled": false
   },
   "outputs": [
    {
     "data": {
      "text/plain": [
       "0    240\n",
       "1    269\n",
       "2    220\n",
       "3    220\n",
       "4    263\n",
       "Name: created_days_ago, dtype: int64"
      ]
     },
     "execution_count": 11,
     "metadata": {},
     "output_type": "execute_result"
    }
   ],
   "source": [
    "TRAIN_DATAFRAME[\"created_days_ago\"].head(5)"
   ]
  },
  {
   "cell_type": "markdown",
   "metadata": {},
   "source": [
    "### 2.3) Cleaning up interest_level"
   ]
  },
  {
   "cell_type": "markdown",
   "metadata": {},
   "source": [
    "Right now the interest level is encoded on a scale of \"Low, Medium, High\". The competition\n",
    "wants us to classify the entries in to each, so we assign a label"
   ]
  },
  {
   "cell_type": "code",
   "execution_count": 12,
   "metadata": {
    "scrolled": false
   },
   "outputs": [],
   "source": [
    "INTEREST_LEVEL_MAPPINGS = {\n",
    "    \"high\": 0,\n",
    "    \"medium\": 1,\n",
    "    \"low\": 2\n",
    "}\n",
    "\n",
    "TRAIN_DATAFRAME = remap_column(TRAIN_DATAFRAME, \"interest_level\", \"label_interest_level\", lambda x: INTEREST_LEVEL_MAPPINGS[x])\n",
    "VALIDATION_DATAFRAME = remap_column(VALIDATION_DATAFRAME, \"interest_level\", \"label_interest_level\", lambda x: INTEREST_LEVEL_MAPPINGS[x])\n",
    "# The TEST_DATAFRAME does not have an interest_level column, so we\n",
    "# instead add it and replace it with all zeros\n",
    "TEST_DATAFRAME[\"label_interest_level\"] = 0"
   ]
  },
  {
   "cell_type": "code",
   "execution_count": 13,
   "metadata": {
    "scrolled": false
   },
   "outputs": [
    {
     "data": {
      "text/plain": [
       "0    2\n",
       "1    1\n",
       "2    2\n",
       "3    2\n",
       "4    2\n",
       "Name: label_interest_level, dtype: int64"
      ]
     },
     "execution_count": 13,
     "metadata": {},
     "output_type": "execute_result"
    }
   ],
   "source": [
    "TRAIN_DATAFRAME[\"label_interest_level\"].head(5)"
   ]
  },
  {
   "cell_type": "markdown",
   "metadata": {},
   "source": [
    "### 2.4) Cleaning up building_id, manager_id"
   ]
  },
  {
   "cell_type": "markdown",
   "metadata": {},
   "source": [
    "`building_id` and `manager_id` look a bit useless to us on the outside, but according to https://www.kaggle.com/den3b81/some-insights-on-building-id they are actually quite predictive of interest since 20% of the manager make up 80% of the rentals (we can also see this in their writing style as well).\n",
    "\n",
    "Since there aren't too many managers or buildings in total, we can convert these into category ID's where we'll pass them through an embedding later on.\n",
    "\n",
    "Note that we need to do this over both dataframes - since there could\n",
    "be some managers that are in the test dataframe which are not in the training dataframe and vice versa.\n",
    "\n",
    "Note that we want to lump all the \"misc\" buildings and managers together\n",
    "into a single building or manager since listings by \"non-property managers\" or \"non-frequently-rented-buildings\" are different from ones run by property managers."
   ]
  },
  {
   "cell_type": "code",
   "execution_count": 14,
   "metadata": {},
   "outputs": [],
   "source": [
    "((BUILDING_ID_UNKNOWN_REMAPPING,\n",
    "  BUILDING_CATEGORY_TO_BUILDING_ID,\n",
    "  BUILDING_CATEGORY_TO_BUILDING_ID),\n",
    " (TRAIN_DATAFRAME,\n",
    "  VALIDATION_DATAFRAME,\n",
    "  TEST_DATAFRAME)) = map_categorical_column_to_category_ids(\n",
    "    'building_id',\n",
    "    'building_id_category',\n",
    "    TRAIN_DATAFRAME,\n",
    "    VALIDATION_DATAFRAME,\n",
    "    TEST_DATAFRAME,\n",
    "    min_freq=40\n",
    ")"
   ]
  },
  {
   "cell_type": "code",
   "execution_count": 15,
   "metadata": {},
   "outputs": [],
   "source": [
    "((MANAGER_ID_UNKNOWN_REMAPPING,\n",
    "  MANAGER_ID_TO_MANAGER_CATEGORY,\n",
    "  MANAGER_CATEGORY_TO_MANAGER_ID),\n",
    " (TRAIN_DATAFRAME,\n",
    "  VALIDATION_DATAFRAME,\n",
    "  TEST_DATAFRAME)) = map_categorical_column_to_category_ids(\n",
    "    'manager_id',\n",
    "    'manager_id_category',\n",
    "    TRAIN_DATAFRAME,\n",
    "    VALIDATION_DATAFRAME,\n",
    "    TEST_DATAFRAME,\n",
    "    min_freq=40\n",
    ")"
   ]
  },
  {
   "cell_type": "markdown",
   "metadata": {},
   "source": [
    "### 2.4AA) Parsing and Separating Out Address Components\n",
    "Some properties might be in the same neighbourhood, the same street or\n",
    "part of the same building. If we separate out the address components then\n",
    "we might be able to get some more meaningful feature groupings.\n",
    "\n",
    "We first parse all the components into their own columns and then map them into categories (dropping them later on)."
   ]
  },
  {
   "cell_type": "code",
   "execution_count": 16,
   "metadata": {},
   "outputs": [],
   "source": [
    "(TRAIN_DATAFRAME,\n",
    " VALIDATION_DATAFRAME,\n",
    " TEST_DATAFRAME) = parse_address_components(\n",
    "    [\n",
    "        \"display_address\",\n",
    "        \"street_address\"\n",
    "    ],\n",
    "    TRAIN_DATAFRAME,\n",
    "    VALIDATION_DATAFRAME,\n",
    "    TEST_DATAFRAME,\n",
    ")"
   ]
  },
  {
   "cell_type": "code",
   "execution_count": 17,
   "metadata": {},
   "outputs": [],
   "source": [
    "((DISP_ADDR_ID_UNKNOWN_REMAPPING,\n",
    "  DISP_ADDR_ID_TO_DISP_ADDR_CATEGORY,\n",
    "  DISP_ADDR_CATEGORY_TO_DISP_ADDR_ID),\n",
    " (TRAIN_DATAFRAME,\n",
    "  VALIDATION_DATAFRAME,\n",
    "  TEST_DATAFRAME)) = map_categorical_column_to_category_ids(\n",
    "    'display_address_normalized',\n",
    "    'display_address_category',\n",
    "    TRAIN_DATAFRAME,\n",
    "    VALIDATION_DATAFRAME,\n",
    "    TEST_DATAFRAME,\n",
    "    min_freq=40\n",
    ")"
   ]
  },
  {
   "cell_type": "markdown",
   "metadata": {},
   "source": [
    "### 2.4AB) Counting Number of Photos\n",
    "The number of photos a place has might be predictive of its interest as well, so lets at least count the number of photos."
   ]
  },
  {
   "cell_type": "code",
   "execution_count": 18,
   "metadata": {},
   "outputs": [],
   "source": [
    "(TRAIN_DATAFRAME,\n",
    " VALIDATION_DATAFRAME,\n",
    " TEST_DATAFRAME) = count_json_in_dataframes(\n",
    "    \"photos\",\n",
    "    TRAIN_DATAFRAME,\n",
    "    VALIDATION_DATAFRAME,\n",
    "    TEST_DATAFRAME,\n",
    ")"
   ]
  },
  {
   "cell_type": "markdown",
   "metadata": {},
   "source": [
    "### 2.4AC) Feature Engineering on Numerical Columns\n",
    "Some models can't do simple math, but ratios or additions/subtractions\n",
    "between things might be important. Lets do that now for all of our\n",
    "numerical data, but only for XGBoost, later"
   ]
  },
  {
   "cell_type": "code",
   "execution_count": 19,
   "metadata": {},
   "outputs": [],
   "source": [
    "NUMERICAL_COLUMNS = [\n",
    "    'bathrooms',\n",
    "    'bedrooms',\n",
    "    'price',\n",
    "    'latitude',\n",
    "    'longitude',\n",
    "    'photos_count'\n",
    "]"
   ]
  },
  {
   "cell_type": "markdown",
   "metadata": {},
   "source": [
    "### 2.4A) Generating document vectors for description\n",
    "The text in the descriptions are pretty messy. We can generate some document vectors to embed the entire thing into vector space.\n",
    "\n",
    "To do that we use an LSTM to train some embeddings, similar to the Tweet2Vec paper."
   ]
  },
  {
   "cell_type": "code",
   "execution_count": 20,
   "metadata": {
    "scrolled": false
   },
   "outputs": [],
   "source": [
    "(TRAIN_DATAFRAME,\n",
    " VALIDATION_DATAFRAME,\n",
    " TEST_DATAFRAME) = remap_columns_with_transform(\n",
    "    'description',\n",
    "    'clean_description',\n",
    "    normalize_description,\n",
    "    TRAIN_DATAFRAME,\n",
    "    VALIDATION_DATAFRAME,\n",
    "    TEST_DATAFRAME,\n",
    ")"
   ]
  },
  {
   "cell_type": "code",
   "execution_count": 21,
   "metadata": {},
   "outputs": [],
   "source": [
    "#TRAIN_DATAFRAME, TEST_DATAFRAME = utils.doc2vec.column_to_doc_vectors(\n",
    "#    TRAIN_DATAFRAME,\n",
    "#    TEST_DATAFRAME,\n",
    "#    'clean_description',\n",
    "#    'label_interest_level',\n",
    "#    'description_vector',\n",
    "#    epochs=1000,\n",
    "#    parameters=200,\n",
    "#    learning_rate=0.01,\n",
    "#    save='word_embedding.npy',\n",
    "#    batch_size=100\n",
    "#)"
   ]
  },
  {
   "cell_type": "markdown",
   "metadata": {},
   "source": [
    "### 2.5) Drop unnecessary columns"
   ]
  },
  {
   "cell_type": "markdown",
   "metadata": {},
   "source": [
    "Now that we have made our data nicer to work with, we can drop all the inconvenient to work with columns."
   ]
  },
  {
   "cell_type": "code",
   "execution_count": 22,
   "metadata": {},
   "outputs": [],
   "source": [
    "DROP_COLUMNS = [\n",
    "    'id',\n",
    "    'index',\n",
    "    'created',\n",
    "    'building_id',\n",
    "    'clean_description',\n",
    "    'description',\n",
    "    'features',\n",
    "    'display_address',\n",
    "    'display_address_normalized',\n",
    "    # We keep listing_id in the dataframe\n",
    "    # since we'll need it later\n",
    "    # 'listing_id',\n",
    "    'manager_id',\n",
    "    'photos',\n",
    "    'street_address',\n",
    "    'street_address_normalized',\n",
    "    'interest_level',\n",
    "]\n",
    "(FEATURES_TRAIN_DATAFRAME,\n",
    " FEATURES_VALIDATION_DATAFRAME,\n",
    " FEATURES_TEST_DATAFRAME) = drop_columns_from_dataframes(\n",
    "    DROP_COLUMNS,\n",
    "    TRAIN_DATAFRAME,\n",
    "    VALIDATION_DATAFRAME,\n",
    "    TEST_DATAFRAME\n",
    ")"
   ]
  },
  {
   "cell_type": "code",
   "execution_count": 23,
   "metadata": {},
   "outputs": [
    {
     "data": {
      "text/html": [
       "<div>\n",
       "<style scoped>\n",
       "    .dataframe tbody tr th:only-of-type {\n",
       "        vertical-align: middle;\n",
       "    }\n",
       "\n",
       "    .dataframe tbody tr th {\n",
       "        vertical-align: top;\n",
       "    }\n",
       "\n",
       "    .dataframe thead th {\n",
       "        text-align: right;\n",
       "    }\n",
       "</style>\n",
       "<table border=\"1\" class=\"dataframe\">\n",
       "  <thead>\n",
       "    <tr style=\"text-align: right;\">\n",
       "      <th></th>\n",
       "      <th>bathrooms</th>\n",
       "      <th>bedrooms</th>\n",
       "      <th>latitude</th>\n",
       "      <th>listing_id</th>\n",
       "      <th>longitude</th>\n",
       "      <th>price</th>\n",
       "      <th>features_kitchen</th>\n",
       "      <th>features_room</th>\n",
       "      <th>features_home</th>\n",
       "      <th>features_fee</th>\n",
       "      <th>...</th>\n",
       "      <th>features_true</th>\n",
       "      <th>features_views</th>\n",
       "      <th>features_approved</th>\n",
       "      <th>features_ave</th>\n",
       "      <th>created_days_ago</th>\n",
       "      <th>label_interest_level</th>\n",
       "      <th>building_id_category</th>\n",
       "      <th>manager_id_category</th>\n",
       "      <th>display_address_category</th>\n",
       "      <th>photos_count</th>\n",
       "    </tr>\n",
       "  </thead>\n",
       "  <tbody>\n",
       "    <tr>\n",
       "      <th>0</th>\n",
       "      <td>1.0</td>\n",
       "      <td>1</td>\n",
       "      <td>40.7630</td>\n",
       "      <td>6969324</td>\n",
       "      <td>-73.9902</td>\n",
       "      <td>2485</td>\n",
       "      <td>0</td>\n",
       "      <td>0</td>\n",
       "      <td>0</td>\n",
       "      <td>0</td>\n",
       "      <td>...</td>\n",
       "      <td>0</td>\n",
       "      <td>0</td>\n",
       "      <td>0</td>\n",
       "      <td>0</td>\n",
       "      <td>240</td>\n",
       "      <td>2</td>\n",
       "      <td>0</td>\n",
       "      <td>455</td>\n",
       "      <td>501</td>\n",
       "      <td>3</td>\n",
       "    </tr>\n",
       "    <tr>\n",
       "      <th>1</th>\n",
       "      <td>2.0</td>\n",
       "      <td>3</td>\n",
       "      <td>40.7753</td>\n",
       "      <td>6829352</td>\n",
       "      <td>-73.9540</td>\n",
       "      <td>5500</td>\n",
       "      <td>0</td>\n",
       "      <td>0</td>\n",
       "      <td>0</td>\n",
       "      <td>0</td>\n",
       "      <td>...</td>\n",
       "      <td>0</td>\n",
       "      <td>0</td>\n",
       "      <td>0</td>\n",
       "      <td>0</td>\n",
       "      <td>269</td>\n",
       "      <td>1</td>\n",
       "      <td>466</td>\n",
       "      <td>128</td>\n",
       "      <td>381</td>\n",
       "      <td>9</td>\n",
       "    </tr>\n",
       "    <tr>\n",
       "      <th>2</th>\n",
       "      <td>4.5</td>\n",
       "      <td>4</td>\n",
       "      <td>40.7860</td>\n",
       "      <td>7062909</td>\n",
       "      <td>-73.9703</td>\n",
       "      <td>24000</td>\n",
       "      <td>0</td>\n",
       "      <td>1</td>\n",
       "      <td>0</td>\n",
       "      <td>1</td>\n",
       "      <td>...</td>\n",
       "      <td>0</td>\n",
       "      <td>0</td>\n",
       "      <td>0</td>\n",
       "      <td>0</td>\n",
       "      <td>220</td>\n",
       "      <td>2</td>\n",
       "      <td>122</td>\n",
       "      <td>356</td>\n",
       "      <td>554</td>\n",
       "      <td>15</td>\n",
       "    </tr>\n",
       "    <tr>\n",
       "      <th>3</th>\n",
       "      <td>0.0</td>\n",
       "      <td>2</td>\n",
       "      <td>40.8030</td>\n",
       "      <td>7067407</td>\n",
       "      <td>-73.9664</td>\n",
       "      <td>2850</td>\n",
       "      <td>0</td>\n",
       "      <td>0</td>\n",
       "      <td>0</td>\n",
       "      <td>0</td>\n",
       "      <td>...</td>\n",
       "      <td>0</td>\n",
       "      <td>0</td>\n",
       "      <td>0</td>\n",
       "      <td>0</td>\n",
       "      <td>220</td>\n",
       "      <td>2</td>\n",
       "      <td>0</td>\n",
       "      <td>238</td>\n",
       "      <td>426</td>\n",
       "      <td>0</td>\n",
       "    </tr>\n",
       "    <tr>\n",
       "      <th>4</th>\n",
       "      <td>1.0</td>\n",
       "      <td>1</td>\n",
       "      <td>40.7164</td>\n",
       "      <td>6860155</td>\n",
       "      <td>-73.8439</td>\n",
       "      <td>2700</td>\n",
       "      <td>0</td>\n",
       "      <td>0</td>\n",
       "      <td>0</td>\n",
       "      <td>0</td>\n",
       "      <td>...</td>\n",
       "      <td>0</td>\n",
       "      <td>0</td>\n",
       "      <td>0</td>\n",
       "      <td>0</td>\n",
       "      <td>263</td>\n",
       "      <td>2</td>\n",
       "      <td>341</td>\n",
       "      <td>455</td>\n",
       "      <td>239</td>\n",
       "      <td>7</td>\n",
       "    </tr>\n",
       "  </tbody>\n",
       "</table>\n",
       "<p>5 rows × 112 columns</p>\n",
       "</div>"
      ],
      "text/plain": [
       "   bathrooms  bedrooms  latitude  listing_id  longitude  price  \\\n",
       "0        1.0         1   40.7630     6969324   -73.9902   2485   \n",
       "1        2.0         3   40.7753     6829352   -73.9540   5500   \n",
       "2        4.5         4   40.7860     7062909   -73.9703  24000   \n",
       "3        0.0         2   40.8030     7067407   -73.9664   2850   \n",
       "4        1.0         1   40.7164     6860155   -73.8439   2700   \n",
       "\n",
       "   features_kitchen  features_room  features_home  features_fee      ...       \\\n",
       "0                 0              0              0             0      ...        \n",
       "1                 0              0              0             0      ...        \n",
       "2                 0              1              0             1      ...        \n",
       "3                 0              0              0             0      ...        \n",
       "4                 0              0              0             0      ...        \n",
       "\n",
       "   features_true  features_views  features_approved  features_ave  \\\n",
       "0              0               0                  0             0   \n",
       "1              0               0                  0             0   \n",
       "2              0               0                  0             0   \n",
       "3              0               0                  0             0   \n",
       "4              0               0                  0             0   \n",
       "\n",
       "   created_days_ago  label_interest_level  building_id_category  \\\n",
       "0               240                     2                     0   \n",
       "1               269                     1                   466   \n",
       "2               220                     2                   122   \n",
       "3               220                     2                     0   \n",
       "4               263                     2                   341   \n",
       "\n",
       "   manager_id_category  display_address_category  photos_count  \n",
       "0                  455                       501             3  \n",
       "1                  128                       381             9  \n",
       "2                  356                       554            15  \n",
       "3                  238                       426             0  \n",
       "4                  455                       239             7  \n",
       "\n",
       "[5 rows x 112 columns]"
      ]
     },
     "execution_count": 23,
     "metadata": {},
     "output_type": "execute_result"
    }
   ],
   "source": [
    "FEATURES_TRAIN_DATAFRAME.head(5)"
   ]
  },
  {
   "cell_type": "markdown",
   "metadata": {},
   "source": [
    "## 3) Fitting models"
   ]
  },
  {
   "cell_type": "markdown",
   "metadata": {},
   "source": [
    "Now we can try out a few models and see what works well for the data that\n",
    "we have so far."
   ]
  },
  {
   "cell_type": "code",
   "execution_count": 24,
   "metadata": {},
   "outputs": [],
   "source": [
    "CATEGORICAL_FEATURES = {\n",
    "    'building_id_category': len(BUILDING_CATEGORY_TO_BUILDING_ID),\n",
    "    'manager_id_category': len(MANAGER_ID_TO_MANAGER_CATEGORY),\n",
    "    'display_address_category': len(DISP_ADDR_ID_TO_DISP_ADDR_CATEGORY)\n",
    "}"
   ]
  },
  {
   "cell_type": "markdown",
   "metadata": {},
   "source": [
    "For convenience, pull out the labels for training"
   ]
  },
  {
   "cell_type": "code",
   "execution_count": 25,
   "metadata": {},
   "outputs": [],
   "source": [
    "TRAIN_LABELS = FEATURES_TRAIN_DATAFRAME['label_interest_level']\n",
    "VALIDATION_LABELS = FEATURES_VALIDATION_DATAFRAME['label_interest_level']"
   ]
  },
  {
   "cell_type": "markdown",
   "metadata": {},
   "source": [
    "### 3.1) Logistic Regression"
   ]
  },
  {
   "cell_type": "code",
   "execution_count": 26,
   "metadata": {},
   "outputs": [
    {
     "name": "stderr",
     "output_type": "stream",
     "text": [
      "/u/77/spilsbt1/unix/miniconda3/lib/python3.6/site-packages/sklearn/preprocessing/_encoders.py:331: DeprecationWarning: Passing 'n_values' is deprecated in version 0.20 and will be removed in 0.22. You can use the 'categories' keyword instead. 'n_values=n' corresponds to 'categories=[range(n)]'.\n",
      "  warnings.warn(msg, DeprecationWarning)\n",
      "/u/77/spilsbt1/unix/miniconda3/lib/python3.6/site-packages/sklearn/preprocessing/_encoders.py:331: DeprecationWarning: Passing 'n_values' is deprecated in version 0.20 and will be removed in 0.22. You can use the 'categories' keyword instead. 'n_values=n' corresponds to 'categories=[range(n)]'.\n",
      "  warnings.warn(msg, DeprecationWarning)\n",
      "/u/77/spilsbt1/unix/miniconda3/lib/python3.6/site-packages/sklearn/preprocessing/_encoders.py:331: DeprecationWarning: Passing 'n_values' is deprecated in version 0.20 and will be removed in 0.22. You can use the 'categories' keyword instead. 'n_values=n' corresponds to 'categories=[range(n)]'.\n",
      "  warnings.warn(msg, DeprecationWarning)\n",
      "/u/77/spilsbt1/unix/miniconda3/lib/python3.6/site-packages/sklearn/preprocessing/data.py:625: DataConversionWarning: Data with input dtype int64, float64 were all converted to float64 by StandardScaler.\n",
      "  return self.partial_fit(X, y)\n",
      "/u/77/spilsbt1/unix/miniconda3/lib/python3.6/site-packages/sklearn/base.py:465: DataConversionWarning: Data with input dtype int64, float64 were all converted to float64 by StandardScaler.\n",
      "  return self.fit(X, y, **fit_params).transform(X)\n",
      "/u/77/spilsbt1/unix/miniconda3/lib/python3.6/site-packages/sklearn/pipeline.py:381: DataConversionWarning: Data with input dtype int64, float64 were all converted to float64 by StandardScaler.\n",
      "  Xt = transform.transform(Xt)\n"
     ]
    },
    {
     "name": "stdout",
     "output_type": "stream",
     "text": [
      "Fold 0 accuracy: 0.71, log_loss: 0.84\n"
     ]
    },
    {
     "name": "stderr",
     "output_type": "stream",
     "text": [
      "/u/77/spilsbt1/unix/miniconda3/lib/python3.6/site-packages/sklearn/preprocessing/data.py:625: DataConversionWarning: Data with input dtype int64, float64 were all converted to float64 by StandardScaler.\n",
      "  return self.partial_fit(X, y)\n",
      "/u/77/spilsbt1/unix/miniconda3/lib/python3.6/site-packages/sklearn/base.py:465: DataConversionWarning: Data with input dtype int64, float64 were all converted to float64 by StandardScaler.\n",
      "  return self.fit(X, y, **fit_params).transform(X)\n",
      "/u/77/spilsbt1/unix/miniconda3/lib/python3.6/site-packages/sklearn/pipeline.py:381: DataConversionWarning: Data with input dtype int64, float64 were all converted to float64 by StandardScaler.\n",
      "  Xt = transform.transform(Xt)\n"
     ]
    },
    {
     "name": "stdout",
     "output_type": "stream",
     "text": [
      "Fold 1 accuracy: 0.70, log_loss: 0.85\n",
      "Linear Model accuracy: 0.71, log_loss: 0.84\n"
     ]
    }
   ],
   "source": [
    "(LINEAR_MODEL_STATISTICS,\n",
    " LINEAR_MODEL_LABELS,\n",
    " LINEAR_MODEL_PREDICTIONS,\n",
    " LINEAR_MODEL) = test_model_with_k_fold_cross_validation(\n",
    "    basic_logistic_regression_pipeline(CATEGORICAL_FEATURES),\n",
    "    expand_onehot_encoding(\n",
    "        FEATURES_TRAIN_DATAFRAME.drop(['listing_id', 'label_interest_level'], axis=1),\n",
    "        CATEGORICAL_FEATURES,\n",
    "    ),\n",
    "    TRAIN_LABELS,\n",
    "    {\n",
    "        \"accuracy\": prediction_accuracy,\n",
    "        \"log_loss\": log_loss\n",
    "    },\n",
    "    n_splits=2\n",
    ")\n",
    "\n",
    "print('Linear Model', format_statistics(LINEAR_MODEL_STATISTICS))"
   ]
  },
  {
   "cell_type": "code",
   "execution_count": 27,
   "metadata": {},
   "outputs": [
    {
     "name": "stderr",
     "output_type": "stream",
     "text": [
      "/u/77/spilsbt1/unix/miniconda3/lib/python3.6/site-packages/sklearn/preprocessing/_encoders.py:331: DeprecationWarning: Passing 'n_values' is deprecated in version 0.20 and will be removed in 0.22. You can use the 'categories' keyword instead. 'n_values=n' corresponds to 'categories=[range(n)]'.\n",
      "  warnings.warn(msg, DeprecationWarning)\n",
      "/u/77/spilsbt1/unix/miniconda3/lib/python3.6/site-packages/sklearn/preprocessing/_encoders.py:331: DeprecationWarning: Passing 'n_values' is deprecated in version 0.20 and will be removed in 0.22. You can use the 'categories' keyword instead. 'n_values=n' corresponds to 'categories=[range(n)]'.\n",
      "  warnings.warn(msg, DeprecationWarning)\n",
      "/u/77/spilsbt1/unix/miniconda3/lib/python3.6/site-packages/sklearn/preprocessing/_encoders.py:331: DeprecationWarning: Passing 'n_values' is deprecated in version 0.20 and will be removed in 0.22. You can use the 'categories' keyword instead. 'n_values=n' corresponds to 'categories=[range(n)]'.\n",
      "  warnings.warn(msg, DeprecationWarning)\n"
     ]
    },
    {
     "name": "stdout",
     "output_type": "stream",
     "text": [
      "Label was 0, classified as 0\n"
     ]
    },
    {
     "name": "stderr",
     "output_type": "stream",
     "text": [
      "/u/77/spilsbt1/unix/miniconda3/lib/python3.6/site-packages/sklearn/pipeline.py:331: DataConversionWarning: Data with input dtype int64, float64 were all converted to float64 by StandardScaler.\n",
      "  Xt = transform.transform(Xt)\n",
      "/u/77/spilsbt1/unix/miniconda3/lib/python3.6/site-packages/sklearn/pipeline.py:381: DataConversionWarning: Data with input dtype int64, float64 were all converted to float64 by StandardScaler.\n",
      "  Xt = transform.transform(Xt)\n"
     ]
    },
    {
     "data": {
      "text/html": [
       "<div>\n",
       "<style scoped>\n",
       "    .dataframe tbody tr th:only-of-type {\n",
       "        vertical-align: middle;\n",
       "    }\n",
       "\n",
       "    .dataframe tbody tr th {\n",
       "        vertical-align: top;\n",
       "    }\n",
       "\n",
       "    .dataframe thead th {\n",
       "        text-align: right;\n",
       "    }\n",
       "</style>\n",
       "<table border=\"1\" class=\"dataframe\">\n",
       "  <thead>\n",
       "    <tr style=\"text-align: right;\">\n",
       "      <th></th>\n",
       "      <th>description</th>\n",
       "      <th>price</th>\n",
       "      <th>bedrooms</th>\n",
       "      <th>bathrooms</th>\n",
       "      <th>photos_count</th>\n",
       "    </tr>\n",
       "  </thead>\n",
       "  <tbody>\n",
       "    <tr>\n",
       "      <th>93</th>\n",
       "      <td>THE APARTMENT: AMAZING DEAL This 3 Bedroom FUL...</td>\n",
       "      <td>3725</td>\n",
       "      <td>3</td>\n",
       "      <td>1.0</td>\n",
       "      <td>10</td>\n",
       "    </tr>\n",
       "    <tr>\n",
       "      <th>96</th>\n",
       "      <td>Amazingly large studio situated in a gorgeous ...</td>\n",
       "      <td>1500</td>\n",
       "      <td>0</td>\n",
       "      <td>1.0</td>\n",
       "      <td>5</td>\n",
       "    </tr>\n",
       "    <tr>\n",
       "      <th>125</th>\n",
       "      <td>THE APARTMENT: STUNNING NORTH Facing Loft Stud...</td>\n",
       "      <td>2275</td>\n",
       "      <td>0</td>\n",
       "      <td>1.0</td>\n",
       "      <td>7</td>\n",
       "    </tr>\n",
       "    <tr>\n",
       "      <th>224</th>\n",
       "      <td>50TH/ 2 AVE!! TRUE 2 BEDROOM IN NICE WALK-UP B...</td>\n",
       "      <td>3000</td>\n",
       "      <td>2</td>\n",
       "      <td>1.0</td>\n",
       "      <td>5</td>\n",
       "    </tr>\n",
       "    <tr>\n",
       "      <th>250</th>\n",
       "      <td>28TH/2ND AVE !! GORGEOUS ALCOVE STU !! ELEV/LA...</td>\n",
       "      <td>2295</td>\n",
       "      <td>0</td>\n",
       "      <td>1.0</td>\n",
       "      <td>5</td>\n",
       "    </tr>\n",
       "  </tbody>\n",
       "</table>\n",
       "</div>"
      ],
      "text/plain": [
       "                                           description  price  bedrooms  \\\n",
       "93   THE APARTMENT: AMAZING DEAL This 3 Bedroom FUL...   3725         3   \n",
       "96   Amazingly large studio situated in a gorgeous ...   1500         0   \n",
       "125  THE APARTMENT: STUNNING NORTH Facing Loft Stud...   2275         0   \n",
       "224  50TH/ 2 AVE!! TRUE 2 BEDROOM IN NICE WALK-UP B...   3000         2   \n",
       "250  28TH/2ND AVE !! GORGEOUS ALCOVE STU !! ELEV/LA...   2295         0   \n",
       "\n",
       "     bathrooms  photos_count  \n",
       "93         1.0            10  \n",
       "96         1.0             5  \n",
       "125        1.0             7  \n",
       "224        1.0             5  \n",
       "250        1.0             5  "
      ]
     },
     "metadata": {},
     "output_type": "display_data"
    },
    {
     "name": "stdout",
     "output_type": "stream",
     "text": [
      "Label was 0, classified as 1\n"
     ]
    },
    {
     "data": {
      "text/html": [
       "<div>\n",
       "<style scoped>\n",
       "    .dataframe tbody tr th:only-of-type {\n",
       "        vertical-align: middle;\n",
       "    }\n",
       "\n",
       "    .dataframe tbody tr th {\n",
       "        vertical-align: top;\n",
       "    }\n",
       "\n",
       "    .dataframe thead th {\n",
       "        text-align: right;\n",
       "    }\n",
       "</style>\n",
       "<table border=\"1\" class=\"dataframe\">\n",
       "  <thead>\n",
       "    <tr style=\"text-align: right;\">\n",
       "      <th></th>\n",
       "      <th>description</th>\n",
       "      <th>price</th>\n",
       "      <th>bedrooms</th>\n",
       "      <th>bathrooms</th>\n",
       "      <th>photos_count</th>\n",
       "    </tr>\n",
       "  </thead>\n",
       "  <tbody>\n",
       "    <tr>\n",
       "      <th>51</th>\n",
       "      <td>*******BEAUTIFULLY RENOVATED AND RARELY AVAILA...</td>\n",
       "      <td>2485</td>\n",
       "      <td>1</td>\n",
       "      <td>1.0</td>\n",
       "      <td>4</td>\n",
       "    </tr>\n",
       "    <tr>\n",
       "      <th>61</th>\n",
       "      <td>Newly renovated first floor studio apt...</td>\n",
       "      <td>1500</td>\n",
       "      <td>0</td>\n",
       "      <td>1.0</td>\n",
       "      <td>13</td>\n",
       "    </tr>\n",
       "    <tr>\n",
       "      <th>199</th>\n",
       "      <td>PRIME TRIBECA___BEST PRICE FLEX 2 BED____KING ...</td>\n",
       "      <td>4000</td>\n",
       "      <td>2</td>\n",
       "      <td>1.0</td>\n",
       "      <td>7</td>\n",
       "    </tr>\n",
       "    <tr>\n",
       "      <th>201</th>\n",
       "      <td>This large wing two bedroom apartment is locat...</td>\n",
       "      <td>2450</td>\n",
       "      <td>2</td>\n",
       "      <td>1.0</td>\n",
       "      <td>3</td>\n",
       "    </tr>\n",
       "    <tr>\n",
       "      <th>257</th>\n",
       "      <td>This Sweet &amp;amp; Spacious NoHa Studio apartmen...</td>\n",
       "      <td>1600</td>\n",
       "      <td>0</td>\n",
       "      <td>1.0</td>\n",
       "      <td>5</td>\n",
       "    </tr>\n",
       "  </tbody>\n",
       "</table>\n",
       "</div>"
      ],
      "text/plain": [
       "                                           description  price  bedrooms  \\\n",
       "51   *******BEAUTIFULLY RENOVATED AND RARELY AVAILA...   2485         1   \n",
       "61           Newly renovated first floor studio apt...   1500         0   \n",
       "199  PRIME TRIBECA___BEST PRICE FLEX 2 BED____KING ...   4000         2   \n",
       "201  This large wing two bedroom apartment is locat...   2450         2   \n",
       "257  This Sweet &amp; Spacious NoHa Studio apartmen...   1600         0   \n",
       "\n",
       "     bathrooms  photos_count  \n",
       "51         1.0             4  \n",
       "61         1.0            13  \n",
       "199        1.0             7  \n",
       "201        1.0             3  \n",
       "257        1.0             5  "
      ]
     },
     "metadata": {},
     "output_type": "display_data"
    },
    {
     "name": "stdout",
     "output_type": "stream",
     "text": [
      "Label was 0, classified as 2\n"
     ]
    },
    {
     "data": {
      "text/html": [
       "<div>\n",
       "<style scoped>\n",
       "    .dataframe tbody tr th:only-of-type {\n",
       "        vertical-align: middle;\n",
       "    }\n",
       "\n",
       "    .dataframe tbody tr th {\n",
       "        vertical-align: top;\n",
       "    }\n",
       "\n",
       "    .dataframe thead th {\n",
       "        text-align: right;\n",
       "    }\n",
       "</style>\n",
       "<table border=\"1\" class=\"dataframe\">\n",
       "  <thead>\n",
       "    <tr style=\"text-align: right;\">\n",
       "      <th></th>\n",
       "      <th>description</th>\n",
       "      <th>price</th>\n",
       "      <th>bedrooms</th>\n",
       "      <th>bathrooms</th>\n",
       "      <th>photos_count</th>\n",
       "    </tr>\n",
       "  </thead>\n",
       "  <tbody>\n",
       "    <tr>\n",
       "      <th>36</th>\n",
       "      <td>UPGRADED! Corner 2 Bed conv 3, facing due west...</td>\n",
       "      <td>5000</td>\n",
       "      <td>3</td>\n",
       "      <td>2.0</td>\n",
       "      <td>9</td>\n",
       "    </tr>\n",
       "    <tr>\n",
       "      <th>40</th>\n",
       "      <td>(((NO BROKER FEE)))\\r\\rFLEXIBLE MOVE IN DATES ...</td>\n",
       "      <td>3550</td>\n",
       "      <td>3</td>\n",
       "      <td>1.0</td>\n",
       "      <td>7</td>\n",
       "    </tr>\n",
       "    <tr>\n",
       "      <th>47</th>\n",
       "      <td>New to Market 2 bedroom 1 king size bedroom an...</td>\n",
       "      <td>1800</td>\n",
       "      <td>2</td>\n",
       "      <td>1.0</td>\n",
       "      <td>7</td>\n",
       "    </tr>\n",
       "    <tr>\n",
       "      <th>74</th>\n",
       "      <td>Luxury doorman building located prime E 30's. ...</td>\n",
       "      <td>1000</td>\n",
       "      <td>3</td>\n",
       "      <td>3.0</td>\n",
       "      <td>5</td>\n",
       "    </tr>\n",
       "    <tr>\n",
       "      <th>77</th>\n",
       "      <td>Location! Location! Mins Walks To E &amp; ...</td>\n",
       "      <td>1500</td>\n",
       "      <td>1</td>\n",
       "      <td>1.0</td>\n",
       "      <td>11</td>\n",
       "    </tr>\n",
       "  </tbody>\n",
       "</table>\n",
       "</div>"
      ],
      "text/plain": [
       "                                          description  price  bedrooms  \\\n",
       "36  UPGRADED! Corner 2 Bed conv 3, facing due west...   5000         3   \n",
       "40  (((NO BROKER FEE)))\\r\\rFLEXIBLE MOVE IN DATES ...   3550         3   \n",
       "47  New to Market 2 bedroom 1 king size bedroom an...   1800         2   \n",
       "74  Luxury doorman building located prime E 30's. ...   1000         3   \n",
       "77          Location! Location! Mins Walks To E & ...   1500         1   \n",
       "\n",
       "    bathrooms  photos_count  \n",
       "36        2.0             9  \n",
       "40        1.0             7  \n",
       "47        1.0             7  \n",
       "74        3.0             5  \n",
       "77        1.0            11  "
      ]
     },
     "metadata": {},
     "output_type": "display_data"
    },
    {
     "name": "stdout",
     "output_type": "stream",
     "text": [
      "Label was 1, classified as 0\n"
     ]
    },
    {
     "data": {
      "text/html": [
       "<div>\n",
       "<style scoped>\n",
       "    .dataframe tbody tr th:only-of-type {\n",
       "        vertical-align: middle;\n",
       "    }\n",
       "\n",
       "    .dataframe tbody tr th {\n",
       "        vertical-align: top;\n",
       "    }\n",
       "\n",
       "    .dataframe thead th {\n",
       "        text-align: right;\n",
       "    }\n",
       "</style>\n",
       "<table border=\"1\" class=\"dataframe\">\n",
       "  <thead>\n",
       "    <tr style=\"text-align: right;\">\n",
       "      <th></th>\n",
       "      <th>description</th>\n",
       "      <th>price</th>\n",
       "      <th>bedrooms</th>\n",
       "      <th>bathrooms</th>\n",
       "      <th>photos_count</th>\n",
       "    </tr>\n",
       "  </thead>\n",
       "  <tbody>\n",
       "    <tr>\n",
       "      <th>110</th>\n",
       "      <td>Great, spacious, newly renovated flex 3 Bedroo...</td>\n",
       "      <td>4375</td>\n",
       "      <td>3</td>\n",
       "      <td>2.0</td>\n",
       "      <td>8</td>\n",
       "    </tr>\n",
       "    <tr>\n",
       "      <th>128</th>\n",
       "      <td>BRAND NEW FULL SERVICE LUXURY BUILDING, CENTRA...</td>\n",
       "      <td>2512</td>\n",
       "      <td>1</td>\n",
       "      <td>1.0</td>\n",
       "      <td>6</td>\n",
       "    </tr>\n",
       "    <tr>\n",
       "      <th>192</th>\n",
       "      <td>NO BROKER FEE!! Gorgeous Renovated 1 Bedroom A...</td>\n",
       "      <td>1695</td>\n",
       "      <td>1</td>\n",
       "      <td>1.0</td>\n",
       "      <td>8</td>\n",
       "    </tr>\n",
       "    <tr>\n",
       "      <th>299</th>\n",
       "      <td>Currently under renovation, this one b...</td>\n",
       "      <td>1300</td>\n",
       "      <td>1</td>\n",
       "      <td>1.0</td>\n",
       "      <td>1</td>\n",
       "    </tr>\n",
       "    <tr>\n",
       "      <th>346</th>\n",
       "      <td>** LUXURIOUS!! AMENITY FILLED!! JAW DROPPING V...</td>\n",
       "      <td>3250</td>\n",
       "      <td>2</td>\n",
       "      <td>1.0</td>\n",
       "      <td>5</td>\n",
       "    </tr>\n",
       "  </tbody>\n",
       "</table>\n",
       "</div>"
      ],
      "text/plain": [
       "                                           description  price  bedrooms  \\\n",
       "110  Great, spacious, newly renovated flex 3 Bedroo...   4375         3   \n",
       "128  BRAND NEW FULL SERVICE LUXURY BUILDING, CENTRA...   2512         1   \n",
       "192  NO BROKER FEE!! Gorgeous Renovated 1 Bedroom A...   1695         1   \n",
       "299          Currently under renovation, this one b...   1300         1   \n",
       "346  ** LUXURIOUS!! AMENITY FILLED!! JAW DROPPING V...   3250         2   \n",
       "\n",
       "     bathrooms  photos_count  \n",
       "110        2.0             8  \n",
       "128        1.0             6  \n",
       "192        1.0             8  \n",
       "299        1.0             1  \n",
       "346        1.0             5  "
      ]
     },
     "metadata": {},
     "output_type": "display_data"
    },
    {
     "name": "stdout",
     "output_type": "stream",
     "text": [
      "Label was 1, classified as 1\n"
     ]
    },
    {
     "data": {
      "text/html": [
       "<div>\n",
       "<style scoped>\n",
       "    .dataframe tbody tr th:only-of-type {\n",
       "        vertical-align: middle;\n",
       "    }\n",
       "\n",
       "    .dataframe tbody tr th {\n",
       "        vertical-align: top;\n",
       "    }\n",
       "\n",
       "    .dataframe thead th {\n",
       "        text-align: right;\n",
       "    }\n",
       "</style>\n",
       "<table border=\"1\" class=\"dataframe\">\n",
       "  <thead>\n",
       "    <tr style=\"text-align: right;\">\n",
       "      <th></th>\n",
       "      <th>description</th>\n",
       "      <th>price</th>\n",
       "      <th>bedrooms</th>\n",
       "      <th>bathrooms</th>\n",
       "      <th>photos_count</th>\n",
       "    </tr>\n",
       "  </thead>\n",
       "  <tbody>\n",
       "    <tr>\n",
       "      <th>23</th>\n",
       "      <td>3 months free if you sign before August 1st. &lt;...</td>\n",
       "      <td>3399</td>\n",
       "      <td>3</td>\n",
       "      <td>2.0</td>\n",
       "      <td>6</td>\n",
       "    </tr>\n",
       "    <tr>\n",
       "      <th>65</th>\n",
       "      <td>LOCATION: 144th between Amsterdam &amp;amp; Broadw...</td>\n",
       "      <td>2859</td>\n",
       "      <td>3</td>\n",
       "      <td>2.0</td>\n",
       "      <td>13</td>\n",
       "    </tr>\n",
       "    <tr>\n",
       "      <th>99</th>\n",
       "      <td>NO FEE PLUS 1 MONTH FREE&lt;br/&gt;&lt;br/&gt;Apar...</td>\n",
       "      <td>2630</td>\n",
       "      <td>0</td>\n",
       "      <td>1.0</td>\n",
       "      <td>6</td>\n",
       "    </tr>\n",
       "    <tr>\n",
       "      <th>112</th>\n",
       "      <td>SPACIOUS 2 BED HOME FEATURES, HARDWOOD FLOORS ...</td>\n",
       "      <td>2400</td>\n",
       "      <td>2</td>\n",
       "      <td>1.0</td>\n",
       "      <td>6</td>\n",
       "    </tr>\n",
       "    <tr>\n",
       "      <th>115</th>\n",
       "      <td>-BRAND NEW 2 bedroom, 1 bathroom apartment-Hig...</td>\n",
       "      <td>2600</td>\n",
       "      <td>2</td>\n",
       "      <td>1.0</td>\n",
       "      <td>6</td>\n",
       "    </tr>\n",
       "  </tbody>\n",
       "</table>\n",
       "</div>"
      ],
      "text/plain": [
       "                                           description  price  bedrooms  \\\n",
       "23   3 months free if you sign before August 1st. <...   3399         3   \n",
       "65   LOCATION: 144th between Amsterdam &amp; Broadw...   2859         3   \n",
       "99           NO FEE PLUS 1 MONTH FREE<br/><br/>Apar...   2630         0   \n",
       "112  SPACIOUS 2 BED HOME FEATURES, HARDWOOD FLOORS ...   2400         2   \n",
       "115  -BRAND NEW 2 bedroom, 1 bathroom apartment-Hig...   2600         2   \n",
       "\n",
       "     bathrooms  photos_count  \n",
       "23         2.0             6  \n",
       "65         2.0            13  \n",
       "99         1.0             6  \n",
       "112        1.0             6  \n",
       "115        1.0             6  "
      ]
     },
     "metadata": {},
     "output_type": "display_data"
    },
    {
     "name": "stdout",
     "output_type": "stream",
     "text": [
      "Label was 1, classified as 2\n"
     ]
    },
    {
     "data": {
      "text/html": [
       "<div>\n",
       "<style scoped>\n",
       "    .dataframe tbody tr th:only-of-type {\n",
       "        vertical-align: middle;\n",
       "    }\n",
       "\n",
       "    .dataframe tbody tr th {\n",
       "        vertical-align: top;\n",
       "    }\n",
       "\n",
       "    .dataframe thead th {\n",
       "        text-align: right;\n",
       "    }\n",
       "</style>\n",
       "<table border=\"1\" class=\"dataframe\">\n",
       "  <thead>\n",
       "    <tr style=\"text-align: right;\">\n",
       "      <th></th>\n",
       "      <th>description</th>\n",
       "      <th>price</th>\n",
       "      <th>bedrooms</th>\n",
       "      <th>bathrooms</th>\n",
       "      <th>photos_count</th>\n",
       "    </tr>\n",
       "  </thead>\n",
       "  <tbody>\n",
       "    <tr>\n",
       "      <th>20</th>\n",
       "      <td>No Broker Fee! Bright studio apartment with St...</td>\n",
       "      <td>2475</td>\n",
       "      <td>0</td>\n",
       "      <td>1.0</td>\n",
       "      <td>3</td>\n",
       "    </tr>\n",
       "    <tr>\n",
       "      <th>24</th>\n",
       "      <td>The modern apartments in this attractive seven...</td>\n",
       "      <td>3000</td>\n",
       "      <td>2</td>\n",
       "      <td>1.0</td>\n",
       "      <td>8</td>\n",
       "    </tr>\n",
       "    <tr>\n",
       "      <th>28</th>\n",
       "      <td>PREMIUM NO FEECENTRAL PARK, CITY &amp; RIVER VIEWS...</td>\n",
       "      <td>8000</td>\n",
       "      <td>2</td>\n",
       "      <td>2.0</td>\n",
       "      <td>6</td>\n",
       "    </tr>\n",
       "    <tr>\n",
       "      <th>41</th>\n",
       "      <td>**NO FEE**W 10TH/ HUDSON ST1BR/1BA--Washer/Dry...</td>\n",
       "      <td>3595</td>\n",
       "      <td>1</td>\n",
       "      <td>1.0</td>\n",
       "      <td>7</td>\n",
       "    </tr>\n",
       "    <tr>\n",
       "      <th>44</th>\n",
       "      <td>Very Large and Spacious Converted (wall alread...</td>\n",
       "      <td>3800</td>\n",
       "      <td>3</td>\n",
       "      <td>1.0</td>\n",
       "      <td>5</td>\n",
       "    </tr>\n",
       "  </tbody>\n",
       "</table>\n",
       "</div>"
      ],
      "text/plain": [
       "                                          description  price  bedrooms  \\\n",
       "20  No Broker Fee! Bright studio apartment with St...   2475         0   \n",
       "24  The modern apartments in this attractive seven...   3000         2   \n",
       "28  PREMIUM NO FEECENTRAL PARK, CITY & RIVER VIEWS...   8000         2   \n",
       "41  **NO FEE**W 10TH/ HUDSON ST1BR/1BA--Washer/Dry...   3595         1   \n",
       "44  Very Large and Spacious Converted (wall alread...   3800         3   \n",
       "\n",
       "    bathrooms  photos_count  \n",
       "20        1.0             3  \n",
       "24        1.0             8  \n",
       "28        2.0             6  \n",
       "41        1.0             7  \n",
       "44        1.0             5  "
      ]
     },
     "metadata": {},
     "output_type": "display_data"
    },
    {
     "name": "stdout",
     "output_type": "stream",
     "text": [
      "Label was 2, classified as 0\n"
     ]
    },
    {
     "data": {
      "text/html": [
       "<div>\n",
       "<style scoped>\n",
       "    .dataframe tbody tr th:only-of-type {\n",
       "        vertical-align: middle;\n",
       "    }\n",
       "\n",
       "    .dataframe tbody tr th {\n",
       "        vertical-align: top;\n",
       "    }\n",
       "\n",
       "    .dataframe thead th {\n",
       "        text-align: right;\n",
       "    }\n",
       "</style>\n",
       "<table border=\"1\" class=\"dataframe\">\n",
       "  <thead>\n",
       "    <tr style=\"text-align: right;\">\n",
       "      <th></th>\n",
       "      <th>description</th>\n",
       "      <th>price</th>\n",
       "      <th>bedrooms</th>\n",
       "      <th>bathrooms</th>\n",
       "      <th>photos_count</th>\n",
       "    </tr>\n",
       "  </thead>\n",
       "  <tbody>\n",
       "    <tr>\n",
       "      <th>5</th>\n",
       "      <td>This is an EXCEPTIONAL apt. fully loaded, wall...</td>\n",
       "      <td>2700</td>\n",
       "      <td>2</td>\n",
       "      <td>1.0</td>\n",
       "      <td>6</td>\n",
       "    </tr>\n",
       "    <tr>\n",
       "      <th>46</th>\n",
       "      <td>DON'T MISS THE DEAL___LARGE 2BR______PLUS LIVI...</td>\n",
       "      <td>2695</td>\n",
       "      <td>2</td>\n",
       "      <td>1.0</td>\n",
       "      <td>3</td>\n",
       "    </tr>\n",
       "    <tr>\n",
       "      <th>186</th>\n",
       "      <td>INCREDIBLE Deal for a Luxury, white glove door...</td>\n",
       "      <td>5300</td>\n",
       "      <td>2</td>\n",
       "      <td>2.0</td>\n",
       "      <td>8</td>\n",
       "    </tr>\n",
       "    <tr>\n",
       "      <th>234</th>\n",
       "      <td>NO BROKERS FEE !! 2 BEDROOM 1 BATH STEPS TO TH...</td>\n",
       "      <td>2400</td>\n",
       "      <td>2</td>\n",
       "      <td>1.0</td>\n",
       "      <td>9</td>\n",
       "    </tr>\n",
       "    <tr>\n",
       "      <th>332</th>\n",
       "      <td>THE APARTMENT: AMAZING DEAL This Studio apartm...</td>\n",
       "      <td>2350</td>\n",
       "      <td>0</td>\n",
       "      <td>1.0</td>\n",
       "      <td>10</td>\n",
       "    </tr>\n",
       "  </tbody>\n",
       "</table>\n",
       "</div>"
      ],
      "text/plain": [
       "                                           description  price  bedrooms  \\\n",
       "5    This is an EXCEPTIONAL apt. fully loaded, wall...   2700         2   \n",
       "46   DON'T MISS THE DEAL___LARGE 2BR______PLUS LIVI...   2695         2   \n",
       "186  INCREDIBLE Deal for a Luxury, white glove door...   5300         2   \n",
       "234  NO BROKERS FEE !! 2 BEDROOM 1 BATH STEPS TO TH...   2400         2   \n",
       "332  THE APARTMENT: AMAZING DEAL This Studio apartm...   2350         0   \n",
       "\n",
       "     bathrooms  photos_count  \n",
       "5          1.0             6  \n",
       "46         1.0             3  \n",
       "186        2.0             8  \n",
       "234        1.0             9  \n",
       "332        1.0            10  "
      ]
     },
     "metadata": {},
     "output_type": "display_data"
    },
    {
     "name": "stdout",
     "output_type": "stream",
     "text": [
      "Label was 2, classified as 1\n"
     ]
    },
    {
     "data": {
      "text/html": [
       "<div>\n",
       "<style scoped>\n",
       "    .dataframe tbody tr th:only-of-type {\n",
       "        vertical-align: middle;\n",
       "    }\n",
       "\n",
       "    .dataframe tbody tr th {\n",
       "        vertical-align: top;\n",
       "    }\n",
       "\n",
       "    .dataframe thead th {\n",
       "        text-align: right;\n",
       "    }\n",
       "</style>\n",
       "<table border=\"1\" class=\"dataframe\">\n",
       "  <thead>\n",
       "    <tr style=\"text-align: right;\">\n",
       "      <th></th>\n",
       "      <th>description</th>\n",
       "      <th>price</th>\n",
       "      <th>bedrooms</th>\n",
       "      <th>bathrooms</th>\n",
       "      <th>photos_count</th>\n",
       "    </tr>\n",
       "  </thead>\n",
       "  <tbody>\n",
       "    <tr>\n",
       "      <th>6</th>\n",
       "      <td>THIS IS A BEAUTIFUL AND SPACIOUS CONV 2 BEDROO...</td>\n",
       "      <td>3200</td>\n",
       "      <td>2</td>\n",
       "      <td>1.0</td>\n",
       "      <td>4</td>\n",
       "    </tr>\n",
       "    <tr>\n",
       "      <th>11</th>\n",
       "      <td>This is a Top of the line Gut renovated 2 bedr...</td>\n",
       "      <td>2750</td>\n",
       "      <td>2</td>\n",
       "      <td>2.0</td>\n",
       "      <td>6</td>\n",
       "    </tr>\n",
       "    <tr>\n",
       "      <th>18</th>\n",
       "      <td>3rd and E. 50s True NO FEE 1BD! Renovated and ...</td>\n",
       "      <td>2895</td>\n",
       "      <td>1</td>\n",
       "      <td>1.0</td>\n",
       "      <td>7</td>\n",
       "    </tr>\n",
       "    <tr>\n",
       "      <th>19</th>\n",
       "      <td>BRIGHT AND SUNNY ONE BED UNIT WITH LARGE LIVIN...</td>\n",
       "      <td>1965</td>\n",
       "      <td>1</td>\n",
       "      <td>1.0</td>\n",
       "      <td>7</td>\n",
       "    </tr>\n",
       "    <tr>\n",
       "      <th>45</th>\n",
       "      <td>LUXURY 3 BR/ 2 BA APARTMENT -- 1100 SQFT -- PV...</td>\n",
       "      <td>5000</td>\n",
       "      <td>3</td>\n",
       "      <td>2.0</td>\n",
       "      <td>12</td>\n",
       "    </tr>\n",
       "  </tbody>\n",
       "</table>\n",
       "</div>"
      ],
      "text/plain": [
       "                                          description  price  bedrooms  \\\n",
       "6   THIS IS A BEAUTIFUL AND SPACIOUS CONV 2 BEDROO...   3200         2   \n",
       "11  This is a Top of the line Gut renovated 2 bedr...   2750         2   \n",
       "18  3rd and E. 50s True NO FEE 1BD! Renovated and ...   2895         1   \n",
       "19  BRIGHT AND SUNNY ONE BED UNIT WITH LARGE LIVIN...   1965         1   \n",
       "45  LUXURY 3 BR/ 2 BA APARTMENT -- 1100 SQFT -- PV...   5000         3   \n",
       "\n",
       "    bathrooms  photos_count  \n",
       "6         1.0             4  \n",
       "11        2.0             6  \n",
       "18        1.0             7  \n",
       "19        1.0             7  \n",
       "45        2.0            12  "
      ]
     },
     "metadata": {},
     "output_type": "display_data"
    },
    {
     "name": "stdout",
     "output_type": "stream",
     "text": [
      "Label was 2, classified as 2\n"
     ]
    },
    {
     "data": {
      "text/html": [
       "<div>\n",
       "<style scoped>\n",
       "    .dataframe tbody tr th:only-of-type {\n",
       "        vertical-align: middle;\n",
       "    }\n",
       "\n",
       "    .dataframe tbody tr th {\n",
       "        vertical-align: top;\n",
       "    }\n",
       "\n",
       "    .dataframe thead th {\n",
       "        text-align: right;\n",
       "    }\n",
       "</style>\n",
       "<table border=\"1\" class=\"dataframe\">\n",
       "  <thead>\n",
       "    <tr style=\"text-align: right;\">\n",
       "      <th></th>\n",
       "      <th>description</th>\n",
       "      <th>price</th>\n",
       "      <th>bedrooms</th>\n",
       "      <th>bathrooms</th>\n",
       "      <th>photos_count</th>\n",
       "    </tr>\n",
       "  </thead>\n",
       "  <tbody>\n",
       "    <tr>\n",
       "      <th>0</th>\n",
       "      <td>Located just minutes from the 4,5,6 Express st...</td>\n",
       "      <td>2400</td>\n",
       "      <td>0</td>\n",
       "      <td>1.0</td>\n",
       "      <td>6</td>\n",
       "    </tr>\n",
       "    <tr>\n",
       "      <th>1</th>\n",
       "      <td>** HUGE 4BED **2BATH** 24HR DM** UES ** AMAZIN...</td>\n",
       "      <td>5000</td>\n",
       "      <td>4</td>\n",
       "      <td>2.0</td>\n",
       "      <td>7</td>\n",
       "    </tr>\n",
       "    <tr>\n",
       "      <th>2</th>\n",
       "      <td>CHARMING RENOVATED BUILDING-NEWLY RENOVATED HI...</td>\n",
       "      <td>4300</td>\n",
       "      <td>2</td>\n",
       "      <td>2.0</td>\n",
       "      <td>9</td>\n",
       "    </tr>\n",
       "    <tr>\n",
       "      <th>3</th>\n",
       "      <td>A great LG 1 bedroom unit just few blocks away...</td>\n",
       "      <td>3900</td>\n",
       "      <td>1</td>\n",
       "      <td>1.0</td>\n",
       "      <td>3</td>\n",
       "    </tr>\n",
       "    <tr>\n",
       "      <th>4</th>\n",
       "      <td>3 bedroom, 2 bathroom....Brand new, gut-renova...</td>\n",
       "      <td>6625</td>\n",
       "      <td>3</td>\n",
       "      <td>2.0</td>\n",
       "      <td>5</td>\n",
       "    </tr>\n",
       "  </tbody>\n",
       "</table>\n",
       "</div>"
      ],
      "text/plain": [
       "                                         description  price  bedrooms  \\\n",
       "0  Located just minutes from the 4,5,6 Express st...   2400         0   \n",
       "1  ** HUGE 4BED **2BATH** 24HR DM** UES ** AMAZIN...   5000         4   \n",
       "2  CHARMING RENOVATED BUILDING-NEWLY RENOVATED HI...   4300         2   \n",
       "3  A great LG 1 bedroom unit just few blocks away...   3900         1   \n",
       "4  3 bedroom, 2 bathroom....Brand new, gut-renova...   6625         3   \n",
       "\n",
       "   bathrooms  photos_count  \n",
       "0        1.0             6  \n",
       "1        2.0             7  \n",
       "2        2.0             9  \n",
       "3        1.0             3  \n",
       "4        2.0             5  "
      ]
     },
     "metadata": {},
     "output_type": "display_data"
    },
    {
     "data": {
      "text/plain": [
       "<matplotlib.axes._subplots.AxesSubplot at 0x7fd71db8d0f0>"
      ]
     },
     "metadata": {},
     "output_type": "display_data"
    },
    {
     "name": "stdout",
     "output_type": "stream",
     "text": [
      "              precision    recall  f1-score   support\n",
      "\n",
      "           0       0.22      0.37      0.28       239\n",
      "           1       0.33      0.44      0.38       854\n",
      "           2       0.88      0.78      0.83      3843\n",
      "\n",
      "   micro avg       0.70      0.70      0.70      4936\n",
      "   macro avg       0.48      0.53      0.49      4936\n",
      "weighted avg       0.76      0.70      0.72      4936\n",
      "\n",
      "Logistic loss 0.84785\n"
     ]
    },
    {
     "data": {
      "image/png": "[encoded data removed]",
      "text/plain": [
       "<Figure size 432x288 with 2 Axes>"
      ]
     },
     "metadata": {
      "needs_background": "light"
     },
     "output_type": "display_data"
    }
   ],
   "source": [
    "generate_classification_report(LINEAR_MODEL,\n",
    "                               VALIDATION_DATAFRAME,\n",
    "                               expand_onehot_encoding(\n",
    "                                   FEATURES_VALIDATION_DATAFRAME.drop(['listing_id', 'label_interest_level'], axis=1),\n",
    "                                   CATEGORICAL_FEATURES,\n",
    "                               ),\n",
    "                               FEATURES_VALIDATION_DATAFRAME['label_interest_level'],\n",
    "                               [0, 1, 2])"
   ]
  },
  {
   "cell_type": "code",
   "execution_count": 28,
   "metadata": {},
   "outputs": [
    {
     "name": "stderr",
     "output_type": "stream",
     "text": [
      "/u/77/spilsbt1/unix/miniconda3/lib/python3.6/site-packages/sklearn/preprocessing/_encoders.py:331: DeprecationWarning: Passing 'n_values' is deprecated in version 0.20 and will be removed in 0.22. You can use the 'categories' keyword instead. 'n_values=n' corresponds to 'categories=[range(n)]'.\n",
      "  warnings.warn(msg, DeprecationWarning)\n",
      "/u/77/spilsbt1/unix/miniconda3/lib/python3.6/site-packages/sklearn/preprocessing/_encoders.py:331: DeprecationWarning: Passing 'n_values' is deprecated in version 0.20 and will be removed in 0.22. You can use the 'categories' keyword instead. 'n_values=n' corresponds to 'categories=[range(n)]'.\n",
      "  warnings.warn(msg, DeprecationWarning)\n",
      "/u/77/spilsbt1/unix/miniconda3/lib/python3.6/site-packages/sklearn/preprocessing/_encoders.py:331: DeprecationWarning: Passing 'n_values' is deprecated in version 0.20 and will be removed in 0.22. You can use the 'categories' keyword instead. 'n_values=n' corresponds to 'categories=[range(n)]'.\n",
      "  warnings.warn(msg, DeprecationWarning)\n",
      "/u/77/spilsbt1/unix/miniconda3/lib/python3.6/site-packages/sklearn/pipeline.py:381: DataConversionWarning: Data with input dtype int64, float64 were all converted to float64 by StandardScaler.\n",
      "  Xt = transform.transform(Xt)\n"
     ]
    }
   ],
   "source": [
    "write_predictions_table_to_csv(\n",
    "    get_prediction_probabilities_with_columns(\n",
    "        LINEAR_MODEL,\n",
    "        FEATURES_TEST_DATAFRAME['listing_id'],\n",
    "        expand_onehot_encoding(\n",
    "            FEATURES_TRAIN_DATAFRAME.drop(['listing_id', 'label_interest_level'], axis=1),\n",
    "            CATEGORICAL_FEATURES,\n",
    "        ),\n",
    "    ),\n",
    "    'renthop_logistic_regression_submissions.csv'\n",
    ")"
   ]
  },
  {
   "cell_type": "code",
   "execution_count": 29,
   "metadata": {},
   "outputs": [
    {
     "data": {
      "text/plain": [
       "{'building_id_category': 540,\n",
       " 'manager_id_category': 718,\n",
       " 'display_address_category': 581}"
      ]
     },
     "execution_count": 29,
     "metadata": {},
     "output_type": "execute_result"
    }
   ],
   "source": [
    "CATEGORICAL_FEATURES"
   ]
  },
  {
   "cell_type": "markdown",
   "metadata": {},
   "source": [
    "### 3.2) XGBoost"
   ]
  },
  {
   "cell_type": "code",
   "execution_count": 30,
   "metadata": {},
   "outputs": [
    {
     "name": "stderr",
     "output_type": "stream",
     "text": [
      "/u/77/spilsbt1/unix/miniconda3/lib/python3.6/site-packages/sklearn/preprocessing/_encoders.py:331: DeprecationWarning: Passing 'n_values' is deprecated in version 0.20 and will be removed in 0.22. You can use the 'categories' keyword instead. 'n_values=n' corresponds to 'categories=[range(n)]'.\n",
      "  warnings.warn(msg, DeprecationWarning)\n",
      "/u/77/spilsbt1/unix/miniconda3/lib/python3.6/site-packages/sklearn/preprocessing/_encoders.py:331: DeprecationWarning: Passing 'n_values' is deprecated in version 0.20 and will be removed in 0.22. You can use the 'categories' keyword instead. 'n_values=n' corresponds to 'categories=[range(n)]'.\n",
      "  warnings.warn(msg, DeprecationWarning)\n",
      "/u/77/spilsbt1/unix/miniconda3/lib/python3.6/site-packages/sklearn/preprocessing/_encoders.py:331: DeprecationWarning: Passing 'n_values' is deprecated in version 0.20 and will be removed in 0.22. You can use the 'categories' keyword instead. 'n_values=n' corresponds to 'categories=[range(n)]'.\n",
      "  warnings.warn(msg, DeprecationWarning)\n"
     ]
    },
    {
     "name": "stdout",
     "output_type": "stream",
     "text": [
      "Fold 0 accuracy: 0.74, log_loss: 0.68\n",
      "Fold 1 accuracy: 0.73, log_loss: 0.68\n",
      "XGBoost accuracy: 0.73, log_loss: 0.68\n"
     ]
    }
   ],
   "source": [
    "(XGBOOST_STATISTICS,\n",
    " XGBOOST_LABELS,\n",
    " XGBOOST_PREDICTIONS,\n",
    " XGBOOST_MODEL) = test_model_with_k_fold_cross_validation(\n",
    "    basic_xgboost_pipeline(CATEGORICAL_FEATURES,\n",
    "                           n_estimators=10000,\n",
    "                           tree_method=('gpu_hist' if torch.cuda.is_available() else None)),\n",
    "    expand_onehot_encoding(\n",
    "        numerical_feature_engineering_on_dataframe(\n",
    "            FEATURES_TRAIN_DATAFRAME.drop(['listing_id', 'label_interest_level'], axis=1),\n",
    "            NUMERICAL_COLUMNS\n",
    "        ),\n",
    "        CATEGORICAL_FEATURES,\n",
    "    ),\n",
    "    TRAIN_LABELS,\n",
    "    {\n",
    "        \"accuracy\": prediction_accuracy,\n",
    "        \"log_loss\": log_loss\n",
    "    },\n",
    "    n_splits=2\n",
    ")\n",
    "\n",
    "print('XGBoost', format_statistics(XGBOOST_STATISTICS))"
   ]
  },
  {
   "cell_type": "code",
   "execution_count": 31,
   "metadata": {},
   "outputs": [
    {
     "name": "stderr",
     "output_type": "stream",
     "text": [
      "/u/77/spilsbt1/unix/miniconda3/lib/python3.6/site-packages/sklearn/preprocessing/_encoders.py:331: DeprecationWarning: Passing 'n_values' is deprecated in version 0.20 and will be removed in 0.22. You can use the 'categories' keyword instead. 'n_values=n' corresponds to 'categories=[range(n)]'.\n",
      "  warnings.warn(msg, DeprecationWarning)\n",
      "/u/77/spilsbt1/unix/miniconda3/lib/python3.6/site-packages/sklearn/preprocessing/_encoders.py:331: DeprecationWarning: Passing 'n_values' is deprecated in version 0.20 and will be removed in 0.22. You can use the 'categories' keyword instead. 'n_values=n' corresponds to 'categories=[range(n)]'.\n",
      "  warnings.warn(msg, DeprecationWarning)\n",
      "/u/77/spilsbt1/unix/miniconda3/lib/python3.6/site-packages/sklearn/preprocessing/_encoders.py:331: DeprecationWarning: Passing 'n_values' is deprecated in version 0.20 and will be removed in 0.22. You can use the 'categories' keyword instead. 'n_values=n' corresponds to 'categories=[range(n)]'.\n",
      "  warnings.warn(msg, DeprecationWarning)\n"
     ]
    },
    {
     "name": "stdout",
     "output_type": "stream",
     "text": [
      "Label was 0, classified as 0\n"
     ]
    },
    {
     "data": {
      "text/html": [
       "<div>\n",
       "<style scoped>\n",
       "    .dataframe tbody tr th:only-of-type {\n",
       "        vertical-align: middle;\n",
       "    }\n",
       "\n",
       "    .dataframe tbody tr th {\n",
       "        vertical-align: top;\n",
       "    }\n",
       "\n",
       "    .dataframe thead th {\n",
       "        text-align: right;\n",
       "    }\n",
       "</style>\n",
       "<table border=\"1\" class=\"dataframe\">\n",
       "  <thead>\n",
       "    <tr style=\"text-align: right;\">\n",
       "      <th></th>\n",
       "      <th>description</th>\n",
       "      <th>price</th>\n",
       "      <th>bedrooms</th>\n",
       "      <th>bathrooms</th>\n",
       "      <th>photos_count</th>\n",
       "    </tr>\n",
       "  </thead>\n",
       "  <tbody>\n",
       "    <tr>\n",
       "      <th>2</th>\n",
       "      <td>5TH ST/ 2 AVE! RENOVATED 2 BEDROOM IN CHARMING...</td>\n",
       "      <td>3200</td>\n",
       "      <td>2</td>\n",
       "      <td>1.0</td>\n",
       "      <td>6</td>\n",
       "    </tr>\n",
       "    <tr>\n",
       "      <th>9</th>\n",
       "      <td>83RD/ AMSTERDAM! TRUE 2 BED IN NICE WELL KEPT ...</td>\n",
       "      <td>3000</td>\n",
       "      <td>2</td>\n",
       "      <td>1.0</td>\n",
       "      <td>6</td>\n",
       "    </tr>\n",
       "    <tr>\n",
       "      <th>71</th>\n",
       "      <td>Well maintained elevator building, offers a th...</td>\n",
       "      <td>1450</td>\n",
       "      <td>0</td>\n",
       "      <td>1.0</td>\n",
       "      <td>7</td>\n",
       "    </tr>\n",
       "    <tr>\n",
       "      <th>79</th>\n",
       "      <td>Large studio located on the 2nd floor in Prime...</td>\n",
       "      <td>1795</td>\n",
       "      <td>0</td>\n",
       "      <td>1.0</td>\n",
       "      <td>4</td>\n",
       "    </tr>\n",
       "    <tr>\n",
       "      <th>81</th>\n",
       "      <td>These pictures are from a similarlisting.</td>\n",
       "      <td>2295</td>\n",
       "      <td>2</td>\n",
       "      <td>1.0</td>\n",
       "      <td>6</td>\n",
       "    </tr>\n",
       "  </tbody>\n",
       "</table>\n",
       "</div>"
      ],
      "text/plain": [
       "                                          description  price  bedrooms  \\\n",
       "2   5TH ST/ 2 AVE! RENOVATED 2 BEDROOM IN CHARMING...   3200         2   \n",
       "9   83RD/ AMSTERDAM! TRUE 2 BED IN NICE WELL KEPT ...   3000         2   \n",
       "71  Well maintained elevator building, offers a th...   1450         0   \n",
       "79  Large studio located on the 2nd floor in Prime...   1795         0   \n",
       "81          These pictures are from a similarlisting.   2295         2   \n",
       "\n",
       "    bathrooms  photos_count  \n",
       "2         1.0             6  \n",
       "9         1.0             6  \n",
       "71        1.0             7  \n",
       "79        1.0             4  \n",
       "81        1.0             6  "
      ]
     },
     "metadata": {},
     "output_type": "display_data"
    },
    {
     "name": "stdout",
     "output_type": "stream",
     "text": [
      "Label was 0, classified as 1\n"
     ]
    },
    {
     "data": {
      "text/html": [
       "<div>\n",
       "<style scoped>\n",
       "    .dataframe tbody tr th:only-of-type {\n",
       "        vertical-align: middle;\n",
       "    }\n",
       "\n",
       "    .dataframe tbody tr th {\n",
       "        vertical-align: top;\n",
       "    }\n",
       "\n",
       "    .dataframe thead th {\n",
       "        text-align: right;\n",
       "    }\n",
       "</style>\n",
       "<table border=\"1\" class=\"dataframe\">\n",
       "  <thead>\n",
       "    <tr style=\"text-align: right;\">\n",
       "      <th></th>\n",
       "      <th>description</th>\n",
       "      <th>price</th>\n",
       "      <th>bedrooms</th>\n",
       "      <th>bathrooms</th>\n",
       "      <th>photos_count</th>\n",
       "    </tr>\n",
       "  </thead>\n",
       "  <tbody>\n",
       "    <tr>\n",
       "      <th>46</th>\n",
       "      <td>Gorgeous Renovated Studio apartment in Kew Gar...</td>\n",
       "      <td>1375</td>\n",
       "      <td>0</td>\n",
       "      <td>1.0</td>\n",
       "      <td>7</td>\n",
       "    </tr>\n",
       "    <tr>\n",
       "      <th>47</th>\n",
       "      <td>Simply amazing!!!! Spacious 3 bedroom apartmen...</td>\n",
       "      <td>1899</td>\n",
       "      <td>3</td>\n",
       "      <td>1.0</td>\n",
       "      <td>8</td>\n",
       "    </tr>\n",
       "    <tr>\n",
       "      <th>107</th>\n",
       "      <td>Lexington AVE on 88th ST ~ Just LISTED 2 BED !...</td>\n",
       "      <td>2600</td>\n",
       "      <td>2</td>\n",
       "      <td>1.0</td>\n",
       "      <td>5</td>\n",
       "    </tr>\n",
       "    <tr>\n",
       "      <th>159</th>\n",
       "      <td>LOW FEE!! NEW TO MARKET!!!  HUGE 1 BED br. 1 b...</td>\n",
       "      <td>2175</td>\n",
       "      <td>1</td>\n",
       "      <td>1.0</td>\n",
       "      <td>4</td>\n",
       "    </tr>\n",
       "    <tr>\n",
       "      <th>188</th>\n",
       "      <td>Gramercy Park/Union Square! Huge 3 bedroom apa...</td>\n",
       "      <td>4553</td>\n",
       "      <td>3</td>\n",
       "      <td>1.0</td>\n",
       "      <td>5</td>\n",
       "    </tr>\n",
       "  </tbody>\n",
       "</table>\n",
       "</div>"
      ],
      "text/plain": [
       "                                           description  price  bedrooms  \\\n",
       "46   Gorgeous Renovated Studio apartment in Kew Gar...   1375         0   \n",
       "47   Simply amazing!!!! Spacious 3 bedroom apartmen...   1899         3   \n",
       "107  Lexington AVE on 88th ST ~ Just LISTED 2 BED !...   2600         2   \n",
       "159  LOW FEE!! NEW TO MARKET!!!  HUGE 1 BED br. 1 b...   2175         1   \n",
       "188  Gramercy Park/Union Square! Huge 3 bedroom apa...   4553         3   \n",
       "\n",
       "     bathrooms  photos_count  \n",
       "46         1.0             7  \n",
       "47         1.0             8  \n",
       "107        1.0             5  \n",
       "159        1.0             4  \n",
       "188        1.0             5  "
      ]
     },
     "metadata": {},
     "output_type": "display_data"
    },
    {
     "name": "stdout",
     "output_type": "stream",
     "text": [
      "Label was 0, classified as 2\n"
     ]
    },
    {
     "data": {
      "text/html": [
       "<div>\n",
       "<style scoped>\n",
       "    .dataframe tbody tr th:only-of-type {\n",
       "        vertical-align: middle;\n",
       "    }\n",
       "\n",
       "    .dataframe tbody tr th {\n",
       "        vertical-align: top;\n",
       "    }\n",
       "\n",
       "    .dataframe thead th {\n",
       "        text-align: right;\n",
       "    }\n",
       "</style>\n",
       "<table border=\"1\" class=\"dataframe\">\n",
       "  <thead>\n",
       "    <tr style=\"text-align: right;\">\n",
       "      <th></th>\n",
       "      <th>description</th>\n",
       "      <th>price</th>\n",
       "      <th>bedrooms</th>\n",
       "      <th>bathrooms</th>\n",
       "      <th>photos_count</th>\n",
       "    </tr>\n",
       "  </thead>\n",
       "  <tbody>\n",
       "    <tr>\n",
       "      <th>69</th>\n",
       "      <td>Spacious studio apartment near Fulton Street M...</td>\n",
       "      <td>2495</td>\n",
       "      <td>0</td>\n",
       "      <td>1.0</td>\n",
       "      <td>5</td>\n",
       "    </tr>\n",
       "    <tr>\n",
       "      <th>140</th>\n",
       "      <td>This luxury studio has an open -space layout w...</td>\n",
       "      <td>2500</td>\n",
       "      <td>0</td>\n",
       "      <td>1.0</td>\n",
       "      <td>7</td>\n",
       "    </tr>\n",
       "    <tr>\n",
       "      <th>251</th>\n",
       "      <td>NEW!! Rare Large two bedroom in the east villa...</td>\n",
       "      <td>3300</td>\n",
       "      <td>2</td>\n",
       "      <td>1.0</td>\n",
       "      <td>5</td>\n",
       "    </tr>\n",
       "    <tr>\n",
       "      <th>409</th>\n",
       "      <td>Welcome home to this luxury, bright loft-like ...</td>\n",
       "      <td>2395</td>\n",
       "      <td>0</td>\n",
       "      <td>1.0</td>\n",
       "      <td>3</td>\n",
       "    </tr>\n",
       "    <tr>\n",
       "      <th>428</th>\n",
       "      <td>I HAVE AMAZING STUDIO AVAILABLE .BRAND NEW , J...</td>\n",
       "      <td>2500</td>\n",
       "      <td>0</td>\n",
       "      <td>1.0</td>\n",
       "      <td>2</td>\n",
       "    </tr>\n",
       "  </tbody>\n",
       "</table>\n",
       "</div>"
      ],
      "text/plain": [
       "                                           description  price  bedrooms  \\\n",
       "69   Spacious studio apartment near Fulton Street M...   2495         0   \n",
       "140  This luxury studio has an open -space layout w...   2500         0   \n",
       "251  NEW!! Rare Large two bedroom in the east villa...   3300         2   \n",
       "409  Welcome home to this luxury, bright loft-like ...   2395         0   \n",
       "428  I HAVE AMAZING STUDIO AVAILABLE .BRAND NEW , J...   2500         0   \n",
       "\n",
       "     bathrooms  photos_count  \n",
       "69         1.0             5  \n",
       "140        1.0             7  \n",
       "251        1.0             5  \n",
       "409        1.0             3  \n",
       "428        1.0             2  "
      ]
     },
     "metadata": {},
     "output_type": "display_data"
    },
    {
     "name": "stdout",
     "output_type": "stream",
     "text": [
      "Label was 1, classified as 0\n"
     ]
    },
    {
     "data": {
      "text/html": [
       "<div>\n",
       "<style scoped>\n",
       "    .dataframe tbody tr th:only-of-type {\n",
       "        vertical-align: middle;\n",
       "    }\n",
       "\n",
       "    .dataframe tbody tr th {\n",
       "        vertical-align: top;\n",
       "    }\n",
       "\n",
       "    .dataframe thead th {\n",
       "        text-align: right;\n",
       "    }\n",
       "</style>\n",
       "<table border=\"1\" class=\"dataframe\">\n",
       "  <thead>\n",
       "    <tr style=\"text-align: right;\">\n",
       "      <th></th>\n",
       "      <th>description</th>\n",
       "      <th>price</th>\n",
       "      <th>bedrooms</th>\n",
       "      <th>bathrooms</th>\n",
       "      <th>photos_count</th>\n",
       "    </tr>\n",
       "  </thead>\n",
       "  <tbody>\n",
       "    <tr>\n",
       "      <th>48</th>\n",
       "      <td>Prewar Charm !! East 80s &amp; 1st AVE ~ Gorgeous ...</td>\n",
       "      <td>1775</td>\n",
       "      <td>0</td>\n",
       "      <td>1.0</td>\n",
       "      <td>3</td>\n",
       "    </tr>\n",
       "    <tr>\n",
       "      <th>59</th>\n",
       "      <td>This 1 Bedroom Apartment is Located Just 5 BLO...</td>\n",
       "      <td>1800</td>\n",
       "      <td>1</td>\n",
       "      <td>1.0</td>\n",
       "      <td>7</td>\n",
       "    </tr>\n",
       "    <tr>\n",
       "      <th>99</th>\n",
       "      <td>High Floor, Bright And Spacious Two Be...</td>\n",
       "      <td>2150</td>\n",
       "      <td>2</td>\n",
       "      <td>1.0</td>\n",
       "      <td>10</td>\n",
       "    </tr>\n",
       "    <tr>\n",
       "      <th>105</th>\n",
       "      <td>- Tree-lined block - Restaurants nearby - Quie...</td>\n",
       "      <td>1850</td>\n",
       "      <td>2</td>\n",
       "      <td>1.0</td>\n",
       "      <td>5</td>\n",
       "    </tr>\n",
       "    <tr>\n",
       "      <th>113</th>\n",
       "      <td>Building features: Elevator/Laundry/Fitness ro...</td>\n",
       "      <td>1950</td>\n",
       "      <td>2</td>\n",
       "      <td>2.0</td>\n",
       "      <td>5</td>\n",
       "    </tr>\n",
       "  </tbody>\n",
       "</table>\n",
       "</div>"
      ],
      "text/plain": [
       "                                           description  price  bedrooms  \\\n",
       "48   Prewar Charm !! East 80s & 1st AVE ~ Gorgeous ...   1775         0   \n",
       "59   This 1 Bedroom Apartment is Located Just 5 BLO...   1800         1   \n",
       "99           High Floor, Bright And Spacious Two Be...   2150         2   \n",
       "105  - Tree-lined block - Restaurants nearby - Quie...   1850         2   \n",
       "113  Building features: Elevator/Laundry/Fitness ro...   1950         2   \n",
       "\n",
       "     bathrooms  photos_count  \n",
       "48         1.0             3  \n",
       "59         1.0             7  \n",
       "99         1.0            10  \n",
       "105        1.0             5  \n",
       "113        2.0             5  "
      ]
     },
     "metadata": {},
     "output_type": "display_data"
    },
    {
     "name": "stdout",
     "output_type": "stream",
     "text": [
      "Label was 1, classified as 1\n"
     ]
    },
    {
     "data": {
      "text/html": [
       "<div>\n",
       "<style scoped>\n",
       "    .dataframe tbody tr th:only-of-type {\n",
       "        vertical-align: middle;\n",
       "    }\n",
       "\n",
       "    .dataframe tbody tr th {\n",
       "        vertical-align: top;\n",
       "    }\n",
       "\n",
       "    .dataframe thead th {\n",
       "        text-align: right;\n",
       "    }\n",
       "</style>\n",
       "<table border=\"1\" class=\"dataframe\">\n",
       "  <thead>\n",
       "    <tr style=\"text-align: right;\">\n",
       "      <th></th>\n",
       "      <th>description</th>\n",
       "      <th>price</th>\n",
       "      <th>bedrooms</th>\n",
       "      <th>bathrooms</th>\n",
       "      <th>photos_count</th>\n",
       "    </tr>\n",
       "  </thead>\n",
       "  <tbody>\n",
       "    <tr>\n",
       "      <th>23</th>\n",
       "      <td>Charming 1 Bedroom Apartment for Rent in Boeru...</td>\n",
       "      <td>2500</td>\n",
       "      <td>1</td>\n",
       "      <td>1.0</td>\n",
       "      <td>12</td>\n",
       "    </tr>\n",
       "    <tr>\n",
       "      <th>24</th>\n",
       "      <td>LISTING ID: 150804\\rSunny apartment in a quiet...</td>\n",
       "      <td>2050</td>\n",
       "      <td>1</td>\n",
       "      <td>1.0</td>\n",
       "      <td>3</td>\n",
       "    </tr>\n",
       "    <tr>\n",
       "      <th>34</th>\n",
       "      <td>This bright 1 bedroom apartment is located jus...</td>\n",
       "      <td>2100</td>\n",
       "      <td>1</td>\n",
       "      <td>1.0</td>\n",
       "      <td>5</td>\n",
       "    </tr>\n",
       "    <tr>\n",
       "      <th>52</th>\n",
       "      <td>AS YOU ENTER THIS ULTRA LUXURY BUILDING, YOU W...</td>\n",
       "      <td>2865</td>\n",
       "      <td>2</td>\n",
       "      <td>1.0</td>\n",
       "      <td>6</td>\n",
       "    </tr>\n",
       "    <tr>\n",
       "      <th>56</th>\n",
       "      <td>Impeccably located in an elevator building wit...</td>\n",
       "      <td>2400</td>\n",
       "      <td>1</td>\n",
       "      <td>1.0</td>\n",
       "      <td>7</td>\n",
       "    </tr>\n",
       "  </tbody>\n",
       "</table>\n",
       "</div>"
      ],
      "text/plain": [
       "                                          description  price  bedrooms  \\\n",
       "23  Charming 1 Bedroom Apartment for Rent in Boeru...   2500         1   \n",
       "24  LISTING ID: 150804\\rSunny apartment in a quiet...   2050         1   \n",
       "34  This bright 1 bedroom apartment is located jus...   2100         1   \n",
       "52  AS YOU ENTER THIS ULTRA LUXURY BUILDING, YOU W...   2865         2   \n",
       "56  Impeccably located in an elevator building wit...   2400         1   \n",
       "\n",
       "    bathrooms  photos_count  \n",
       "23        1.0            12  \n",
       "24        1.0             3  \n",
       "34        1.0             5  \n",
       "52        1.0             6  \n",
       "56        1.0             7  "
      ]
     },
     "metadata": {},
     "output_type": "display_data"
    },
    {
     "name": "stdout",
     "output_type": "stream",
     "text": [
      "Label was 1, classified as 2\n"
     ]
    },
    {
     "data": {
      "text/html": [
       "<div>\n",
       "<style scoped>\n",
       "    .dataframe tbody tr th:only-of-type {\n",
       "        vertical-align: middle;\n",
       "    }\n",
       "\n",
       "    .dataframe tbody tr th {\n",
       "        vertical-align: top;\n",
       "    }\n",
       "\n",
       "    .dataframe thead th {\n",
       "        text-align: right;\n",
       "    }\n",
       "</style>\n",
       "<table border=\"1\" class=\"dataframe\">\n",
       "  <thead>\n",
       "    <tr style=\"text-align: right;\">\n",
       "      <th></th>\n",
       "      <th>description</th>\n",
       "      <th>price</th>\n",
       "      <th>bedrooms</th>\n",
       "      <th>bathrooms</th>\n",
       "      <th>photos_count</th>\n",
       "    </tr>\n",
       "  </thead>\n",
       "  <tbody>\n",
       "    <tr>\n",
       "      <th>17</th>\n",
       "      <td>Residential Prewar Building With Art Deco Flai...</td>\n",
       "      <td>2995</td>\n",
       "      <td>2</td>\n",
       "      <td>1.0</td>\n",
       "      <td>4</td>\n",
       "    </tr>\n",
       "    <tr>\n",
       "      <th>31</th>\n",
       "      <td>Prime Murray Hill Neighborhood!   Located off ...</td>\n",
       "      <td>2350</td>\n",
       "      <td>0</td>\n",
       "      <td>1.0</td>\n",
       "      <td>2</td>\n",
       "    </tr>\n",
       "    <tr>\n",
       "      <th>43</th>\n",
       "      <td>PRIME Greenwich Village!\\r\\rMASSIVE 2BR!\\r\\rHi...</td>\n",
       "      <td>4350</td>\n",
       "      <td>2</td>\n",
       "      <td>1.0</td>\n",
       "      <td>4</td>\n",
       "    </tr>\n",
       "    <tr>\n",
       "      <th>45</th>\n",
       "      <td>Move in to this great spacious studio, will no...</td>\n",
       "      <td>2550</td>\n",
       "      <td>0</td>\n",
       "      <td>1.0</td>\n",
       "      <td>3</td>\n",
       "    </tr>\n",
       "    <tr>\n",
       "      <th>58</th>\n",
       "      <td>This is a Gut Renovated 3 Bedroom w/ Washer &amp; ...</td>\n",
       "      <td>5200</td>\n",
       "      <td>3</td>\n",
       "      <td>3.0</td>\n",
       "      <td>14</td>\n",
       "    </tr>\n",
       "  </tbody>\n",
       "</table>\n",
       "</div>"
      ],
      "text/plain": [
       "                                          description  price  bedrooms  \\\n",
       "17  Residential Prewar Building With Art Deco Flai...   2995         2   \n",
       "31  Prime Murray Hill Neighborhood!   Located off ...   2350         0   \n",
       "43  PRIME Greenwich Village!\\r\\rMASSIVE 2BR!\\r\\rHi...   4350         2   \n",
       "45  Move in to this great spacious studio, will no...   2550         0   \n",
       "58  This is a Gut Renovated 3 Bedroom w/ Washer & ...   5200         3   \n",
       "\n",
       "    bathrooms  photos_count  \n",
       "17        1.0             4  \n",
       "31        1.0             2  \n",
       "43        1.0             4  \n",
       "45        1.0             3  \n",
       "58        3.0            14  "
      ]
     },
     "metadata": {},
     "output_type": "display_data"
    },
    {
     "name": "stdout",
     "output_type": "stream",
     "text": [
      "Label was 2, classified as 0\n"
     ]
    },
    {
     "data": {
      "text/html": [
       "<div>\n",
       "<style scoped>\n",
       "    .dataframe tbody tr th:only-of-type {\n",
       "        vertical-align: middle;\n",
       "    }\n",
       "\n",
       "    .dataframe tbody tr th {\n",
       "        vertical-align: top;\n",
       "    }\n",
       "\n",
       "    .dataframe thead th {\n",
       "        text-align: right;\n",
       "    }\n",
       "</style>\n",
       "<table border=\"1\" class=\"dataframe\">\n",
       "  <thead>\n",
       "    <tr style=\"text-align: right;\">\n",
       "      <th></th>\n",
       "      <th>description</th>\n",
       "      <th>price</th>\n",
       "      <th>bedrooms</th>\n",
       "      <th>bathrooms</th>\n",
       "      <th>photos_count</th>\n",
       "    </tr>\n",
       "  </thead>\n",
       "  <tbody>\n",
       "    <tr>\n",
       "      <th>38</th>\n",
       "      <td>Now available, absolutely stunning 1 bedroom 1...</td>\n",
       "      <td>401</td>\n",
       "      <td>1</td>\n",
       "      <td>1.0</td>\n",
       "      <td>7</td>\n",
       "    </tr>\n",
       "    <tr>\n",
       "      <th>155</th>\n",
       "      <td>***E 53rd/2nd!! GARDEN APARTMENT!! MASSIVE LOF...</td>\n",
       "      <td>2200</td>\n",
       "      <td>0</td>\n",
       "      <td>1.0</td>\n",
       "      <td>5</td>\n",
       "    </tr>\n",
       "    <tr>\n",
       "      <th>441</th>\n",
       "      <td>This spacious sun drenched flex 3 apartment is...</td>\n",
       "      <td>3200</td>\n",
       "      <td>3</td>\n",
       "      <td>1.0</td>\n",
       "      <td>4</td>\n",
       "    </tr>\n",
       "    <tr>\n",
       "      <th>451</th>\n",
       "      <td>~Midtown 6th Ave~Convertible 3 Bedrooms with F...</td>\n",
       "      <td>4650</td>\n",
       "      <td>3</td>\n",
       "      <td>2.0</td>\n",
       "      <td>5</td>\n",
       "    </tr>\n",
       "    <tr>\n",
       "      <th>705</th>\n",
       "      <td>Beautiful studio flex three bedroom in a stunn...</td>\n",
       "      <td>3000</td>\n",
       "      <td>3</td>\n",
       "      <td>1.0</td>\n",
       "      <td>6</td>\n",
       "    </tr>\n",
       "  </tbody>\n",
       "</table>\n",
       "</div>"
      ],
      "text/plain": [
       "                                           description  price  bedrooms  \\\n",
       "38   Now available, absolutely stunning 1 bedroom 1...    401         1   \n",
       "155  ***E 53rd/2nd!! GARDEN APARTMENT!! MASSIVE LOF...   2200         0   \n",
       "441  This spacious sun drenched flex 3 apartment is...   3200         3   \n",
       "451  ~Midtown 6th Ave~Convertible 3 Bedrooms with F...   4650         3   \n",
       "705  Beautiful studio flex three bedroom in a stunn...   3000         3   \n",
       "\n",
       "     bathrooms  photos_count  \n",
       "38         1.0             7  \n",
       "155        1.0             5  \n",
       "441        1.0             4  \n",
       "451        2.0             5  \n",
       "705        1.0             6  "
      ]
     },
     "metadata": {},
     "output_type": "display_data"
    },
    {
     "name": "stdout",
     "output_type": "stream",
     "text": [
      "Label was 2, classified as 1\n"
     ]
    },
    {
     "data": {
      "text/html": [
       "<div>\n",
       "<style scoped>\n",
       "    .dataframe tbody tr th:only-of-type {\n",
       "        vertical-align: middle;\n",
       "    }\n",
       "\n",
       "    .dataframe tbody tr th {\n",
       "        vertical-align: top;\n",
       "    }\n",
       "\n",
       "    .dataframe thead th {\n",
       "        text-align: right;\n",
       "    }\n",
       "</style>\n",
       "<table border=\"1\" class=\"dataframe\">\n",
       "  <thead>\n",
       "    <tr style=\"text-align: right;\">\n",
       "      <th></th>\n",
       "      <th>description</th>\n",
       "      <th>price</th>\n",
       "      <th>bedrooms</th>\n",
       "      <th>bathrooms</th>\n",
       "      <th>photos_count</th>\n",
       "    </tr>\n",
       "  </thead>\n",
       "  <tbody>\n",
       "    <tr>\n",
       "      <th>3</th>\n",
       "      <td>85TH/ 3 AVE! UNIQUE 800 SQFT PENTHOUSE DUPLEX ...</td>\n",
       "      <td>2850</td>\n",
       "      <td>1</td>\n",
       "      <td>2.0</td>\n",
       "      <td>6</td>\n",
       "    </tr>\n",
       "    <tr>\n",
       "      <th>8</th>\n",
       "      <td></td>\n",
       "      <td>2200</td>\n",
       "      <td>2</td>\n",
       "      <td>1.0</td>\n",
       "      <td>20</td>\n",
       "    </tr>\n",
       "    <tr>\n",
       "      <th>10</th>\n",
       "      <td>Alcove studio\\r\\rRenovated kitchen and bathroo...</td>\n",
       "      <td>2550</td>\n",
       "      <td>1</td>\n",
       "      <td>1.0</td>\n",
       "      <td>2</td>\n",
       "    </tr>\n",
       "    <tr>\n",
       "      <th>15</th>\n",
       "      <td>COME SEE THIS AMAZING DISPLAY OF PERFECTION! L...</td>\n",
       "      <td>3400</td>\n",
       "      <td>3</td>\n",
       "      <td>1.0</td>\n",
       "      <td>7</td>\n",
       "    </tr>\n",
       "    <tr>\n",
       "      <th>25</th>\n",
       "      <td>!!!!!!!! This will end your search!!!!!!!!!***...</td>\n",
       "      <td>2525</td>\n",
       "      <td>0</td>\n",
       "      <td>1.0</td>\n",
       "      <td>11</td>\n",
       "    </tr>\n",
       "  </tbody>\n",
       "</table>\n",
       "</div>"
      ],
      "text/plain": [
       "                                          description  price  bedrooms  \\\n",
       "3   85TH/ 3 AVE! UNIQUE 800 SQFT PENTHOUSE DUPLEX ...   2850         1   \n",
       "8                                                       2200         2   \n",
       "10  Alcove studio\\r\\rRenovated kitchen and bathroo...   2550         1   \n",
       "15  COME SEE THIS AMAZING DISPLAY OF PERFECTION! L...   3400         3   \n",
       "25  !!!!!!!! This will end your search!!!!!!!!!***...   2525         0   \n",
       "\n",
       "    bathrooms  photos_count  \n",
       "3         2.0             6  \n",
       "8         1.0            20  \n",
       "10        1.0             2  \n",
       "15        1.0             7  \n",
       "25        1.0            11  "
      ]
     },
     "metadata": {},
     "output_type": "display_data"
    },
    {
     "name": "stdout",
     "output_type": "stream",
     "text": [
      "Label was 2, classified as 2\n"
     ]
    },
    {
     "data": {
      "text/html": [
       "<div>\n",
       "<style scoped>\n",
       "    .dataframe tbody tr th:only-of-type {\n",
       "        vertical-align: middle;\n",
       "    }\n",
       "\n",
       "    .dataframe tbody tr th {\n",
       "        vertical-align: top;\n",
       "    }\n",
       "\n",
       "    .dataframe thead th {\n",
       "        text-align: right;\n",
       "    }\n",
       "</style>\n",
       "<table border=\"1\" class=\"dataframe\">\n",
       "  <thead>\n",
       "    <tr style=\"text-align: right;\">\n",
       "      <th></th>\n",
       "      <th>description</th>\n",
       "      <th>price</th>\n",
       "      <th>bedrooms</th>\n",
       "      <th>bathrooms</th>\n",
       "      <th>photos_count</th>\n",
       "    </tr>\n",
       "  </thead>\n",
       "  <tbody>\n",
       "    <tr>\n",
       "      <th>0</th>\n",
       "      <td>THE PRICE IS NET EFFECTIVE - One month Free on...</td>\n",
       "      <td>2900</td>\n",
       "      <td>1</td>\n",
       "      <td>1.0</td>\n",
       "      <td>4</td>\n",
       "    </tr>\n",
       "    <tr>\n",
       "      <th>1</th>\n",
       "      <td>Spacious and contemporary alcove studio with h...</td>\n",
       "      <td>4000</td>\n",
       "      <td>0</td>\n",
       "      <td>1.0</td>\n",
       "      <td>4</td>\n",
       "    </tr>\n",
       "    <tr>\n",
       "      <th>4</th>\n",
       "      <td>This HUGE STUDIO LOFT apartment HAS AN AMAZING...</td>\n",
       "      <td>3100</td>\n",
       "      <td>0</td>\n",
       "      <td>1.0</td>\n",
       "      <td>5</td>\n",
       "    </tr>\n",
       "    <tr>\n",
       "      <th>5</th>\n",
       "      <td>Located on west 57th st , short walk from Colu...</td>\n",
       "      <td>4000</td>\n",
       "      <td>2</td>\n",
       "      <td>1.0</td>\n",
       "      <td>6</td>\n",
       "    </tr>\n",
       "    <tr>\n",
       "      <th>6</th>\n",
       "      <td>AMAZING TWO BEDROOM UNIT!HUGE LIVING AREA WITH...</td>\n",
       "      <td>5125</td>\n",
       "      <td>2</td>\n",
       "      <td>2.0</td>\n",
       "      <td>14</td>\n",
       "    </tr>\n",
       "  </tbody>\n",
       "</table>\n",
       "</div>"
      ],
      "text/plain": [
       "                                         description  price  bedrooms  \\\n",
       "0  THE PRICE IS NET EFFECTIVE - One month Free on...   2900         1   \n",
       "1  Spacious and contemporary alcove studio with h...   4000         0   \n",
       "4  This HUGE STUDIO LOFT apartment HAS AN AMAZING...   3100         0   \n",
       "5  Located on west 57th st , short walk from Colu...   4000         2   \n",
       "6  AMAZING TWO BEDROOM UNIT!HUGE LIVING AREA WITH...   5125         2   \n",
       "\n",
       "   bathrooms  photos_count  \n",
       "0        1.0             4  \n",
       "1        1.0             4  \n",
       "4        1.0             5  \n",
       "5        1.0             6  \n",
       "6        2.0            14  "
      ]
     },
     "metadata": {},
     "output_type": "display_data"
    },
    {
     "data": {
      "text/plain": [
       "<matplotlib.axes._subplots.AxesSubplot at 0x7efe1c9df2b0>"
      ]
     },
     "metadata": {},
     "output_type": "display_data"
    },
    {
     "name": "stdout",
     "output_type": "stream",
     "text": [
      "              precision    recall  f1-score   support\n",
      "\n",
      "           0       0.38      0.49      0.43       301\n",
      "           1       0.39      0.46      0.42       946\n",
      "           2       0.88      0.82      0.85      3689\n",
      "\n",
      "   micro avg       0.73      0.73      0.73      4936\n",
      "   macro avg       0.55      0.59      0.57      4936\n",
      "weighted avg       0.76      0.73      0.74      4936\n",
      "\n",
      "Logistic loss 0.67566\n"
     ]
    },
    {
     "data": {
      "image/png": "[encoded data removed]",
      "text/plain": [
       "<Figure size 432x288 with 2 Axes>"
      ]
     },
     "metadata": {
      "needs_background": "light"
     },
     "output_type": "display_data"
    }
   ],
   "source": [
    "generate_classification_report(XGBOOST_MODEL,\n",
    "                               VALIDATION_DATAFRAME,\n",
    "                               expand_onehot_encoding(\n",
    "                                   numerical_feature_engineering_on_dataframe(\n",
    "                                       FEATURES_VALIDATION_DATAFRAME.drop(['listing_id', 'label_interest_level'], axis=1),\n",
    "                                       NUMERICAL_COLUMNS\n",
    "                                   ),\n",
    "                                   CATEGORICAL_FEATURES,\n",
    "                               ),\n",
    "                               FEATURES_VALIDATION_DATAFRAME['label_interest_level'],\n",
    "                               [0, 1, 2])"
   ]
  },
  {
   "cell_type": "code",
   "execution_count": 32,
   "metadata": {},
   "outputs": [
    {
     "name": "stderr",
     "output_type": "stream",
     "text": [
      "/u/77/spilsbt1/unix/miniconda3/lib/python3.6/site-packages/sklearn/preprocessing/_encoders.py:331: DeprecationWarning: Passing 'n_values' is deprecated in version 0.20 and will be removed in 0.22. You can use the 'categories' keyword instead. 'n_values=n' corresponds to 'categories=[range(n)]'.\n",
      "  warnings.warn(msg, DeprecationWarning)\n",
      "/u/77/spilsbt1/unix/miniconda3/lib/python3.6/site-packages/sklearn/preprocessing/_encoders.py:331: DeprecationWarning: Passing 'n_values' is deprecated in version 0.20 and will be removed in 0.22. You can use the 'categories' keyword instead. 'n_values=n' corresponds to 'categories=[range(n)]'.\n",
      "  warnings.warn(msg, DeprecationWarning)\n",
      "/u/77/spilsbt1/unix/miniconda3/lib/python3.6/site-packages/sklearn/preprocessing/_encoders.py:331: DeprecationWarning: Passing 'n_values' is deprecated in version 0.20 and will be removed in 0.22. You can use the 'categories' keyword instead. 'n_values=n' corresponds to 'categories=[range(n)]'.\n",
      "  warnings.warn(msg, DeprecationWarning)\n"
     ]
    }
   ],
   "source": [
    "write_predictions_table_to_csv(\n",
    "    get_prediction_probabilities_with_columns(\n",
    "        XGBOOST_MODEL,\n",
    "        FEATURES_TEST_DATAFRAME['listing_id'],\n",
    "        expand_onehot_encoding(\n",
    "            numerical_feature_engineering_on_dataframe(\n",
    "                FEATURES_TEST_DATAFRAME.drop(['listing_id', 'label_interest_level'], axis=1),\n",
    "                NUMERICAL_COLUMNS\n",
    "            ),\n",
    "            CATEGORICAL_FEATURES\n",
    "        ) \n",
    "    ),\n",
    "    'xgboost_submissions.csv'\n",
    ")"
   ]
  },
  {
   "cell_type": "markdown",
   "metadata": {},
   "source": [
    "### 3.3) Neural Net (Text Classification) Approaches"
   ]
  },
  {
   "cell_type": "markdown",
   "metadata": {},
   "source": [
    "Here we leverage the actual text in the \"description\" field to try and do the classification, both independently and on top of the tabular data using Neural Nets with PyTorch.\n",
    "\n",
    "Before we do that, it will be convenient to split our\n",
    "data into continuous and categorical sections (as the categorical\n",
    "sections will be put through independent embeddings in each\n",
    "model) and tensorify some of our data, so lets do that now.\n",
    "\n",
    "Note that the continuous data needs to be scaled to have zero mean\n",
    "and unit variance - this prevents saturation of activation units\n",
    "in the upper classification layers."
   ]
  },
  {
   "cell_type": "code",
   "execution_count": 30,
   "metadata": {},
   "outputs": [],
   "source": [
    "((TRAIN_FEATURES_CONTINUOUS,\n",
    "  TRAIN_FEATURES_CATEGORICAL),\n",
    " (VALIDATION_FEATURES_CONTINUOUS,\n",
    "  VALIDATION_FEATURES_CATEGORICAL),\n",
    " (TEST_FEATURES_CONTINUOUS,\n",
    "  TEST_FEATURES_CATEGORICAL)) = rescale_features_and_split_into_continuous_and_categorical(CATEGORICAL_FEATURES,\n",
    "                                                                                           FEATURES_TRAIN_DATAFRAME,\n",
    "                                                                                           FEATURES_VALIDATION_DATAFRAME,\n",
    "                                                                                           FEATURES_TEST_DATAFRAME)"
   ]
  },
  {
   "cell_type": "markdown",
   "metadata": {},
   "source": [
    "Now we convert the labels into tensors, but we only put the labels\n",
    "on the GPU (not the rest of the data, we'd run out of memory). Skorch\n",
    "will conveniently put each batch on the GPU for us, so we don't need to\n",
    "worry about that."
   ]
  },
  {
   "cell_type": "code",
   "execution_count": 31,
   "metadata": {},
   "outputs": [],
   "source": [
    "TRAIN_LABELS_TENSOR = maybe_cuda(torch.tensor(TRAIN_LABELS.values).long())\n",
    "VALIDATION_LABELS_TENSOR = maybe_cuda(torch.tensor(VALIDATION_LABELS.values).long())"
   ]
  },
  {
   "cell_type": "code",
   "execution_count": 32,
   "metadata": {},
   "outputs": [],
   "source": [
    "TRAIN_FEATURES_CONTINUOUS_TENSOR = torch.tensor(TRAIN_FEATURES_CONTINUOUS).float()\n",
    "TRAIN_FEATURES_CATEGORICAL_TENSOR = torch.tensor(TRAIN_FEATURES_CATEGORICAL).long()"
   ]
  },
  {
   "cell_type": "code",
   "execution_count": 33,
   "metadata": {},
   "outputs": [],
   "source": [
    "VALIDATION_FEATURES_CONTINUOUS_TENSOR = torch.tensor(VALIDATION_FEATURES_CONTINUOUS).float()\n",
    "VALIDATION_FEATURES_CATEGORICAL_TENSOR = torch.tensor(VALIDATION_FEATURES_CATEGORICAL).long()"
   ]
  },
  {
   "cell_type": "code",
   "execution_count": 34,
   "metadata": {},
   "outputs": [],
   "source": [
    "TEST_FEATURES_CONTINUOUS_TENSOR = torch.tensor(TEST_FEATURES_CONTINUOUS).float()\n",
    "TEST_FEATURES_CATEGORICAL_TENSOR = torch.tensor(TEST_FEATURES_CATEGORICAL).long()"
   ]
  },
  {
   "cell_type": "markdown",
   "metadata": {},
   "source": [
    "#### 3.3.1) Simple RNN/LSTM"
   ]
  },
  {
   "cell_type": "markdown",
   "metadata": {},
   "source": [
    "Before we start putting our data into the RNN, lets tokenize our descriptions. In order to do this we'll be using fastai's Tokenizer class. We can preview the result of tokenization below"
   ]
  },
  {
   "cell_type": "code",
   "execution_count": 38,
   "metadata": {},
   "outputs": [
    {
     "data": {
      "text/html": [
       "<div>\n",
       "<style scoped>\n",
       "    .dataframe tbody tr th:only-of-type {\n",
       "        vertical-align: middle;\n",
       "    }\n",
       "\n",
       "    .dataframe tbody tr th {\n",
       "        vertical-align: top;\n",
       "    }\n",
       "\n",
       "    .dataframe thead th {\n",
       "        text-align: right;\n",
       "    }\n",
       "</style>\n",
       "<table border=\"1\" class=\"dataframe\">\n",
       "  <thead>\n",
       "    <tr style=\"text-align: right;\">\n",
       "      <th></th>\n",
       "      <th>Original</th>\n",
       "      <th>Tokenized</th>\n",
       "    </tr>\n",
       "  </thead>\n",
       "  <tbody>\n",
       "    <tr>\n",
       "      <th>0</th>\n",
       "      <td>**AMAZING 3BD FLEX*** ROOFTOP DECK***! YOUR SE...</td>\n",
       "      <td>* * xxup amazing xxup 3bd xxup flex * * * xxup...</td>\n",
       "    </tr>\n",
       "    <tr>\n",
       "      <th>1</th>\n",
       "      <td>This unit was a gut renovation true studio. Ev...</td>\n",
       "      <td>xxmaj this unit was a gut renovation true stud...</td>\n",
       "    </tr>\n",
       "    <tr>\n",
       "      <th>2</th>\n",
       "      <td>This spacious studio features high ceilings, l...</td>\n",
       "      <td>xxmaj this spacious studio features high ceili...</td>\n",
       "    </tr>\n",
       "    <tr>\n",
       "      <th>3</th>\n",
       "      <td>RENOVATED studio apartment with great SPACIOUS...</td>\n",
       "      <td>xxup renovated studio apartment with great xxu...</td>\n",
       "    </tr>\n",
       "    <tr>\n",
       "      <th>4</th>\n",
       "      <td>89TH/1ST LARGE STUDIO!! LUX ELV BLDG! BALCONY!...</td>\n",
       "      <td>xxup 89th / xxup 1st xxup large xxup studio ! ...</td>\n",
       "    </tr>\n",
       "    <tr>\n",
       "      <th>5</th>\n",
       "      <td>Stunning Three Bedroom Home Featuring: -Modern...</td>\n",
       "      <td>xxmaj stunning xxmaj three xxmaj bedroom xxmaj...</td>\n",
       "    </tr>\n",
       "    <tr>\n",
       "      <th>6</th>\n",
       "      <td>Fully Furnished 2 bedroom, 1 Bathroom-  Spacio...</td>\n",
       "      <td>xxmaj fully xxmaj furnished 2 bedroom , 1 xxma...</td>\n",
       "    </tr>\n",
       "    <tr>\n",
       "      <th>7</th>\n",
       "      <td>Awesome 24 hour doorman building....shares OK!...</td>\n",
       "      <td>xxmaj awesome 24 hour doorman building xxrep 4...</td>\n",
       "    </tr>\n",
       "    <tr>\n",
       "      <th>8</th>\n",
       "      <td>SPACIOUS one bedroom in prime East Williamsbur...</td>\n",
       "      <td>xxup spacious one bedroom in prime xxmaj east ...</td>\n",
       "    </tr>\n",
       "    <tr>\n",
       "      <th>9</th>\n",
       "      <td>No Fee!Full Service.Elevator.Doorman.Close to ...</td>\n",
       "      <td>xxmaj no fee!full xxmaj service . xxmaj elevat...</td>\n",
       "    </tr>\n",
       "  </tbody>\n",
       "</table>\n",
       "</div>"
      ],
      "text/plain": [
       "                                            Original  \\\n",
       "0  **AMAZING 3BD FLEX*** ROOFTOP DECK***! YOUR SE...   \n",
       "1  This unit was a gut renovation true studio. Ev...   \n",
       "2  This spacious studio features high ceilings, l...   \n",
       "3  RENOVATED studio apartment with great SPACIOUS...   \n",
       "4  89TH/1ST LARGE STUDIO!! LUX ELV BLDG! BALCONY!...   \n",
       "5  Stunning Three Bedroom Home Featuring: -Modern...   \n",
       "6  Fully Furnished 2 bedroom, 1 Bathroom-  Spacio...   \n",
       "7  Awesome 24 hour doorman building....shares OK!...   \n",
       "8  SPACIOUS one bedroom in prime East Williamsbur...   \n",
       "9  No Fee!Full Service.Elevator.Doorman.Close to ...   \n",
       "\n",
       "                                           Tokenized  \n",
       "0  * * xxup amazing xxup 3bd xxup flex * * * xxup...  \n",
       "1  xxmaj this unit was a gut renovation true stud...  \n",
       "2  xxmaj this spacious studio features high ceili...  \n",
       "3  xxup renovated studio apartment with great xxu...  \n",
       "4  xxup 89th / xxup 1st xxup large xxup studio ! ...  \n",
       "5  xxmaj stunning xxmaj three xxmaj bedroom xxmaj...  \n",
       "6  xxmaj fully xxmaj furnished 2 bedroom , 1 xxma...  \n",
       "7  xxmaj awesome 24 hour doorman building xxrep 4...  \n",
       "8  xxup spacious one bedroom in prime xxmaj east ...  \n",
       "9  xxmaj no fee!full xxmaj service . xxmaj elevat...  "
      ]
     },
     "execution_count": 38,
     "metadata": {},
     "output_type": "execute_result"
    }
   ],
   "source": [
    "pd.DataFrame(list(zip(*[\n",
    "    list(TRAIN_DATAFRAME[\"description\"][:10]),\n",
    "    list(itertools.chain.from_iterable([\n",
    "        [\" \".join(s for s in sequence) for sequence in sequences]\n",
    "        for sequences in tokenize_sequences(TRAIN_DATAFRAME[\"description\"][:10])\n",
    "    ]))\n",
    "])), columns=[\"Original\", \"Tokenized\"])"
   ]
  },
  {
   "cell_type": "markdown",
   "metadata": {},
   "source": [
    "Now we need to encode our tokens as **padded** sequences of integers such that we have a matrix of length [n $\\times$ max_len].\n",
    "\n",
    "To start our with, PyTorch takes one-hot encoded data as a single array of integers, where each integer specifies the index into some sparse vector where a $1$ will be set. Of course, if you have such sparse vectors, you can save a lot of time on the multiplication by just picking the right dimension and ignoring all the zero ones, which is exactly what happens internally.\n",
    "\n",
    "The reason why we need padding is for computational efficiency reasons - we want to push a large batch of sentences on to the GPU for parallel computation all, but in order for this to work we need to pass the GPU a big square matrix. This means that the matrix will have at least as many columns as the maximum number of tokens in a sentence, where every other shorter sentence will be padded by a special \"<PAD>\" token. We also keep the length of every unpadded sentence in a separate vector - we'll see later that this is used by torch as an optimization to prevent the RNN from running over all the padding tokens within a batch."
   ]
  },
  {
   "cell_type": "code",
   "execution_count": 39,
   "metadata": {},
   "outputs": [],
   "source": [
    "((WORD_TO_ONE_HOT,\n",
    "  ONE_HOT_TO_WORD),\n",
    " ((TRAIN_WORD_DESCRIPTION_SEQUENCES,\n",
    "   TRAIN_WORD_SEQUENCES_LENGTHS),\n",
    "  (VALIDATION_WORD_DESCRIPTION_SEQUENCES,\n",
    "   VALIDATION_WORD_SEQUENCES_LENGTHS),\n",
    "  (TEST_WORD_DESCRIPTION_SEQUENCES,\n",
    "   TEST_WORD_SEQUENCES_LENGTHS))) = generate_description_sequences(\n",
    "     token_dictionary_seq_encoder,\n",
    "     TRAIN_DATAFRAME[\"description\"],\n",
    "     VALIDATION_DATAFRAME[\"description\"],\n",
    "     TEST_DATAFRAME[\"description\"],\n",
    ")"
   ]
  },
  {
   "cell_type": "code",
   "execution_count": 40,
   "metadata": {},
   "outputs": [
    {
     "data": {
      "text/html": [
       "<div>\n",
       "<style scoped>\n",
       "    .dataframe tbody tr th:only-of-type {\n",
       "        vertical-align: middle;\n",
       "    }\n",
       "\n",
       "    .dataframe tbody tr th {\n",
       "        vertical-align: top;\n",
       "    }\n",
       "\n",
       "    .dataframe thead th {\n",
       "        text-align: right;\n",
       "    }\n",
       "</style>\n",
       "<table border=\"1\" class=\"dataframe\">\n",
       "  <thead>\n",
       "    <tr style=\"text-align: right;\">\n",
       "      <th></th>\n",
       "      <th>Original</th>\n",
       "      <th>Encoded</th>\n",
       "      <th>Length</th>\n",
       "    </tr>\n",
       "  </thead>\n",
       "  <tbody>\n",
       "    <tr>\n",
       "      <th>0</th>\n",
       "      <td>**AMAZING 3BD FLEX*** ROOFTOP DECK***! YOUR SE...</td>\n",
       "      <td>93163, 91429, 50053, 85402, 14018, 93165, 8164...</td>\n",
       "      <td>879</td>\n",
       "    </tr>\n",
       "    <tr>\n",
       "      <th>1</th>\n",
       "      <td>This unit was a gut renovation true studio. Ev...</td>\n",
       "      <td>13886, 66182, 13901, 93163, 33028, 51902, 1387...</td>\n",
       "      <td>810</td>\n",
       "    </tr>\n",
       "    <tr>\n",
       "      <th>2</th>\n",
       "      <td>This spacious studio features high ceilings, l...</td>\n",
       "      <td>170, 170, 93165, 63839, 93165, 26618, 93165, 4...</td>\n",
       "      <td>727</td>\n",
       "    </tr>\n",
       "    <tr>\n",
       "      <th>3</th>\n",
       "      <td>RENOVATED studio apartment with great SPACIOUS...</td>\n",
       "      <td>170, 170, 93165, 63839, 93165, 26618, 93165, 4...</td>\n",
       "      <td>727</td>\n",
       "    </tr>\n",
       "    <tr>\n",
       "      <th>4</th>\n",
       "      <td>89TH/1ST LARGE STUDIO!! LUX ELV BLDG! BALCONY!...</td>\n",
       "      <td>126, 93163, 57650, 13871, 2128, 1840, 7227, 18...</td>\n",
       "      <td>725</td>\n",
       "    </tr>\n",
       "    <tr>\n",
       "      <th>5</th>\n",
       "      <td>Stunning Three Bedroom Home Featuring: -Modern...</td>\n",
       "      <td>126, 93164, 10217, 179, 93165, 20013, 93165, 6...</td>\n",
       "      <td>723</td>\n",
       "    </tr>\n",
       "    <tr>\n",
       "      <th>6</th>\n",
       "      <td>Fully Furnished 2 bedroom, 1 Bathroom-  Spacio...</td>\n",
       "      <td>126, 93164, 10217, 179, 93165, 20013, 93165, 6...</td>\n",
       "      <td>719</td>\n",
       "    </tr>\n",
       "    <tr>\n",
       "      <th>7</th>\n",
       "      <td>Awesome 24 hour doorman building....shares OK!...</td>\n",
       "      <td>93163, 36046, 93163, 84760, 52563, 14018, 9316...</td>\n",
       "      <td>706</td>\n",
       "    </tr>\n",
       "    <tr>\n",
       "      <th>8</th>\n",
       "      <td>SPACIOUS one bedroom in prime East Williamsbur...</td>\n",
       "      <td>2520, 93165, 62119, 93165, 45945, 65233, 3800,...</td>\n",
       "      <td>700</td>\n",
       "    </tr>\n",
       "    <tr>\n",
       "      <th>9</th>\n",
       "      <td>No Fee!Full Service.Elevator.Doorman.Close to ...</td>\n",
       "      <td>93163, 49585, 84605, 136, 13871, 175, 90, 9316...</td>\n",
       "      <td>699</td>\n",
       "    </tr>\n",
       "  </tbody>\n",
       "</table>\n",
       "</div>"
      ],
      "text/plain": [
       "                                            Original  \\\n",
       "0  **AMAZING 3BD FLEX*** ROOFTOP DECK***! YOUR SE...   \n",
       "1  This unit was a gut renovation true studio. Ev...   \n",
       "2  This spacious studio features high ceilings, l...   \n",
       "3  RENOVATED studio apartment with great SPACIOUS...   \n",
       "4  89TH/1ST LARGE STUDIO!! LUX ELV BLDG! BALCONY!...   \n",
       "5  Stunning Three Bedroom Home Featuring: -Modern...   \n",
       "6  Fully Furnished 2 bedroom, 1 Bathroom-  Spacio...   \n",
       "7  Awesome 24 hour doorman building....shares OK!...   \n",
       "8  SPACIOUS one bedroom in prime East Williamsbur...   \n",
       "9  No Fee!Full Service.Elevator.Doorman.Close to ...   \n",
       "\n",
       "                                             Encoded  Length  \n",
       "0  93163, 91429, 50053, 85402, 14018, 93165, 8164...     879  \n",
       "1  13886, 66182, 13901, 93163, 33028, 51902, 1387...     810  \n",
       "2  170, 170, 93165, 63839, 93165, 26618, 93165, 4...     727  \n",
       "3  170, 170, 93165, 63839, 93165, 26618, 93165, 4...     727  \n",
       "4  126, 93163, 57650, 13871, 2128, 1840, 7227, 18...     725  \n",
       "5  126, 93164, 10217, 179, 93165, 20013, 93165, 6...     723  \n",
       "6  126, 93164, 10217, 179, 93165, 20013, 93165, 6...     719  \n",
       "7  93163, 36046, 93163, 84760, 52563, 14018, 9316...     706  \n",
       "8  2520, 93165, 62119, 93165, 45945, 65233, 3800,...     700  \n",
       "9  93163, 49585, 84605, 136, 13871, 175, 90, 9316...     699  "
      ]
     },
     "execution_count": 40,
     "metadata": {},
     "output_type": "execute_result"
    }
   ],
   "source": [
    "pd.DataFrame(list(zip(*[\n",
    "    list(TRAIN_DATAFRAME[\"description\"][:10]),\n",
    "    [\n",
    "        \", \".join(str(s) for s in sequence)\n",
    "        for sequence in TRAIN_WORD_DESCRIPTION_SEQUENCES.numpy()[:10]\n",
    "    ],\n",
    "    TRAIN_WORD_SEQUENCES_LENGTHS.numpy()[:10]\n",
    "])), columns=[\"Original\", \"Encoded\", \"Length\"])"
   ]
  },
  {
   "cell_type": "markdown",
   "metadata": {},
   "source": [
    "Here we roll our own simple LSTM classifier using Skorch and PyTorch.\n",
    "\n",
    "The `SimpleRNNPredictor` model just takes a batch of encoded word-encoded\n",
    "sentences and runs them through a Bi-LSTM, then has a fully connected\n",
    "layer sitting on top of the final \"hidden\" output of the LSTM (think\n",
    "of the hidden state being passed through the LSTM along with each encoded input for the entire sentence all the way up to the sentence length). Then we just predict the class based on the final hidden state.\n",
    "\n",
    "What Skorch does here is it implements the training loop, allows us\n",
    "to add \"hooks\" (for instance, scoring on every epoch, a progress bar,\n",
    "checkpointing so that we only keep our best model by validation loss,\n",
    "cyclic learning rate scheduling and learning rate annealing (we reduce the learning rate if our validation loss is not going down)). It also wraps the model in an sklearn estimator-like API, so we can use it just like any other estimator.\n",
    "\n",
    "Note that the NoToTensorInLossClassifier implements a few fixes on top\n",
    "of NeuralNetClassifier - in particular `predict_proba` takes the exponent of the returned probabilities since we return log-softmax probabilities that get passed to `NLLLoss`."
   ]
  },
  {
   "cell_type": "code",
   "execution_count": 41,
   "metadata": {},
   "outputs": [],
   "source": [
    "SIMPLE_RNN_MODEL = NoToTensorInLossClassifier(\n",
    "    SimpleRNNPredictor,\n",
    "    module__encoder_dimension=100, # Number of encoder features\n",
    "    module__hidden_dimension=50, # Number of hidden features\n",
    "    module__dictionary_dimension=len(ONE_HOT_TO_WORD), # Dictionary dimension\n",
    "    module__output_dimension=3,\n",
    "    module__dropout=0.1,\n",
    "    lr=1e-2,\n",
    "    batch_size=256,\n",
    "    optimizer=optim.Adam,\n",
    "    max_epochs=10,\n",
    "    module__layers=2,\n",
    "    train_split=simple_train_test_split_without_shuffle_func(0.3),\n",
    "    device='cuda' if torch.cuda.is_available() else 'cpu',\n",
    "    callbacks=[\n",
    "        EpochScoring(scoring='accuracy'),\n",
    "        LRAnnealing(),\n",
    "        LRScheduler(),\n",
    "        ProgressBar(),\n",
    "        CheckpointAndKeepBest(dirname='rnn_lang_checkpoint'),\n",
    "        TrainEndCheckpoint(dirname='rnn_lang_checkpoint',\n",
    "                           fn_prefix='rnn_train_end_')\n",
    "    ]\n",
    ")"
   ]
  },
  {
   "cell_type": "code",
   "execution_count": 42,
   "metadata": {},
   "outputs": [
    {
     "data": {
      "application/vnd.jupyter.widget-view+json": {
       "model_id": "",
       "version_major": 2,
       "version_minor": 0
      },
      "text/plain": [
       "HBox(children=(IntProgress(value=0, max=175), HTML(value='')))"
      ]
     },
     "metadata": {},
     "output_type": "display_data"
    },
    {
     "name": "stdout",
     "output_type": "stream",
     "text": [
      "  epoch    accuracy    train_loss    valid_acc    valid_loss    cp      dur\n",
      "-------  ----------  ------------  -----------  ------------  ----  -------\n",
      "      1      \u001b[36m0.6229\u001b[0m        \u001b[32m0.8652\u001b[0m       \u001b[35m0.6229\u001b[0m        \u001b[31m0.9085\u001b[0m     +  87.0196\n"
     ]
    },
    {
     "data": {
      "application/vnd.jupyter.widget-view+json": {
       "model_id": "",
       "version_major": 2,
       "version_minor": 0
      },
      "text/plain": [
       "HBox(children=(IntProgress(value=0, max=175), HTML(value='')))"
      ]
     },
     "metadata": {},
     "output_type": "display_data"
    },
    {
     "name": "stdout",
     "output_type": "stream",
     "text": [
      "      2      0.6783        \u001b[32m0.8300\u001b[0m       \u001b[35m0.6783\u001b[0m        \u001b[31m0.9038\u001b[0m     +  86.7877\n"
     ]
    },
    {
     "data": {
      "application/vnd.jupyter.widget-view+json": {
       "model_id": "",
       "version_major": 2,
       "version_minor": 0
      },
      "text/plain": [
       "HBox(children=(IntProgress(value=0, max=175), HTML(value='')))"
      ]
     },
     "metadata": {},
     "output_type": "display_data"
    },
    {
     "name": "stdout",
     "output_type": "stream",
     "text": [
      "      3      0.6842        \u001b[32m0.8157\u001b[0m       \u001b[35m0.6842\u001b[0m        \u001b[31m0.8672\u001b[0m     +  86.9980\n"
     ]
    },
    {
     "data": {
      "application/vnd.jupyter.widget-view+json": {
       "model_id": "",
       "version_major": 2,
       "version_minor": 0
      },
      "text/plain": [
       "HBox(children=(IntProgress(value=0, max=175), HTML(value='')))"
      ]
     },
     "metadata": {},
     "output_type": "display_data"
    },
    {
     "name": "stdout",
     "output_type": "stream",
     "text": [
      "\r",
      "      4      0.6787        \u001b[32m0.8076\u001b[0m       0.6787        0.8908        86.8562\n"
     ]
    },
    {
     "data": {
      "application/vnd.jupyter.widget-view+json": {
       "model_id": "",
       "version_major": 2,
       "version_minor": 0
      },
      "text/plain": [
       "HBox(children=(IntProgress(value=0, max=175), HTML(value='')))"
      ]
     },
     "metadata": {},
     "output_type": "display_data"
    },
    {
     "name": "stdout",
     "output_type": "stream",
     "text": [
      "\r",
      "      5      0.6837        \u001b[32m0.8036\u001b[0m       0.6837        0.8707        86.9361\n"
     ]
    },
    {
     "data": {
      "application/vnd.jupyter.widget-view+json": {
       "model_id": "",
       "version_major": 2,
       "version_minor": 0
      },
      "text/plain": [
       "HBox(children=(IntProgress(value=0, max=175), HTML(value='')))"
      ]
     },
     "metadata": {},
     "output_type": "display_data"
    },
    {
     "name": "stdout",
     "output_type": "stream",
     "text": [
      "      6      0.6741        \u001b[32m0.7969\u001b[0m       0.6741        \u001b[31m0.8561\u001b[0m     +  87.2589\n"
     ]
    },
    {
     "data": {
      "application/vnd.jupyter.widget-view+json": {
       "model_id": "",
       "version_major": 2,
       "version_minor": 0
      },
      "text/plain": [
       "HBox(children=(IntProgress(value=0, max=175), HTML(value='')))"
      ]
     },
     "metadata": {},
     "output_type": "display_data"
    },
    {
     "name": "stdout",
     "output_type": "stream",
     "text": [
      "\r",
      "      7      0.6566        \u001b[32m0.7843\u001b[0m       0.6566        0.8608        86.9161\n"
     ]
    },
    {
     "data": {
      "application/vnd.jupyter.widget-view+json": {
       "model_id": "",
       "version_major": 2,
       "version_minor": 0
      },
      "text/plain": [
       "HBox(children=(IntProgress(value=0, max=175), HTML(value='')))"
      ]
     },
     "metadata": {},
     "output_type": "display_data"
    },
    {
     "name": "stdout",
     "output_type": "stream",
     "text": [
      "\r",
      "      8      0.6688        \u001b[32m0.7719\u001b[0m       0.6688        0.8570        86.9988\n"
     ]
    },
    {
     "data": {
      "application/vnd.jupyter.widget-view+json": {
       "model_id": "",
       "version_major": 2,
       "version_minor": 0
      },
      "text/plain": [
       "HBox(children=(IntProgress(value=0, max=175), HTML(value='')))"
      ]
     },
     "metadata": {},
     "output_type": "display_data"
    },
    {
     "name": "stdout",
     "output_type": "stream",
     "text": [
      "\r",
      "      9      0.6719        \u001b[32m0.7577\u001b[0m       0.6719        0.8586        86.9946\n"
     ]
    },
    {
     "data": {
      "application/vnd.jupyter.widget-view+json": {
       "model_id": "",
       "version_major": 2,
       "version_minor": 0
      },
      "text/plain": [
       "HBox(children=(IntProgress(value=0, max=175), HTML(value='')))"
      ]
     },
     "metadata": {},
     "output_type": "display_data"
    },
    {
     "name": "stdout",
     "output_type": "stream",
     "text": [
      "     10      0.6716        \u001b[32m0.7393\u001b[0m       0.6716        0.8663        86.9280\n",
      "Loading parameters from checkpoint 5\n"
     ]
    },
    {
     "data": {
      "text/plain": [
       "<class 'utils.language_models.simple_rnn.NoToTensorInLossClassifier'>[initialized](\n",
       "  module_=SimpleRNNPredictor(\n",
       "    (word_encoder): Embedding(94388, 100)\n",
       "    (rnn): LSTM(100, 50, num_layers=2, batch_first=True, dropout=0.1, bidirectional=True)\n",
       "    (decoder): Linear(in_features=200, out_features=3, bias=True)\n",
       "    (class_decoder1): Linear(in_features=200, out_features=128, bias=True)\n",
       "    (class_decoder2): Linear(in_features=128, out_features=128, bias=True)\n",
       "    (class_decoder3): Linear(in_features=128, out_features=3, bias=True)\n",
       "  ),\n",
       ")"
      ]
     },
     "execution_count": 42,
     "metadata": {},
     "output_type": "execute_result"
    }
   ],
   "source": [
    "SIMPLE_RNN_MODEL.fit((TRAIN_WORD_DESCRIPTION_SEQUENCES,\n",
    "                      TRAIN_WORD_SEQUENCES_LENGTHS),\n",
    "                     TRAIN_LABELS_TENSOR)"
   ]
  },
  {
   "cell_type": "code",
   "execution_count": 43,
   "metadata": {},
   "outputs": [
    {
     "name": "stdout",
     "output_type": "stream",
     "text": [
      "Label was 0, classified as 0\n"
     ]
    },
    {
     "data": {
      "text/html": [
       "<div>\n",
       "<style scoped>\n",
       "    .dataframe tbody tr th:only-of-type {\n",
       "        vertical-align: middle;\n",
       "    }\n",
       "\n",
       "    .dataframe tbody tr th {\n",
       "        vertical-align: top;\n",
       "    }\n",
       "\n",
       "    .dataframe thead th {\n",
       "        text-align: right;\n",
       "    }\n",
       "</style>\n",
       "<table border=\"1\" class=\"dataframe\">\n",
       "  <thead>\n",
       "    <tr style=\"text-align: right;\">\n",
       "      <th></th>\n",
       "      <th>description</th>\n",
       "      <th>price</th>\n",
       "      <th>bedrooms</th>\n",
       "      <th>bathrooms</th>\n",
       "      <th>photos_count</th>\n",
       "    </tr>\n",
       "  </thead>\n",
       "  <tbody>\n",
       "    <tr>\n",
       "      <th>360</th>\n",
       "      <td>2 Bedroom available on the first floor of a pr...</td>\n",
       "      <td>1950</td>\n",
       "      <td>2</td>\n",
       "      <td>1.0</td>\n",
       "      <td>5</td>\n",
       "    </tr>\n",
       "    <tr>\n",
       "      <th>2912</th>\n",
       "      <td>Spacious 3BR!! Elevator building- separate eat...</td>\n",
       "      <td>5395</td>\n",
       "      <td>3</td>\n",
       "      <td>1.0</td>\n",
       "      <td>9</td>\n",
       "    </tr>\n",
       "  </tbody>\n",
       "</table>\n",
       "</div>"
      ],
      "text/plain": [
       "                                            description  price  bedrooms  \\\n",
       "360   2 Bedroom available on the first floor of a pr...   1950         2   \n",
       "2912  Spacious 3BR!! Elevator building- separate eat...   5395         3   \n",
       "\n",
       "      bathrooms  photos_count  \n",
       "360         1.0             5  \n",
       "2912        1.0             9  "
      ]
     },
     "metadata": {},
     "output_type": "display_data"
    },
    {
     "name": "stdout",
     "output_type": "stream",
     "text": [
      "Label was 0, classified as 1\n"
     ]
    },
    {
     "data": {
      "text/html": [
       "<div>\n",
       "<style scoped>\n",
       "    .dataframe tbody tr th:only-of-type {\n",
       "        vertical-align: middle;\n",
       "    }\n",
       "\n",
       "    .dataframe tbody tr th {\n",
       "        vertical-align: top;\n",
       "    }\n",
       "\n",
       "    .dataframe thead th {\n",
       "        text-align: right;\n",
       "    }\n",
       "</style>\n",
       "<table border=\"1\" class=\"dataframe\">\n",
       "  <thead>\n",
       "    <tr style=\"text-align: right;\">\n",
       "      <th></th>\n",
       "      <th>description</th>\n",
       "      <th>price</th>\n",
       "      <th>bedrooms</th>\n",
       "      <th>bathrooms</th>\n",
       "      <th>photos_count</th>\n",
       "    </tr>\n",
       "  </thead>\n",
       "  <tbody>\n",
       "    <tr>\n",
       "      <th>571</th>\n",
       "      <td>*** 100% NO FEE***3 BEDROOM 2BATH CONV. FEATUR...</td>\n",
       "      <td>3900</td>\n",
       "      <td>3</td>\n",
       "      <td>2.0</td>\n",
       "      <td>6</td>\n",
       "    </tr>\n",
       "    <tr>\n",
       "      <th>798</th>\n",
       "      <td>This one bedroom Inwood apartment is located o...</td>\n",
       "      <td>1650</td>\n",
       "      <td>1</td>\n",
       "      <td>1.0</td>\n",
       "      <td>4</td>\n",
       "    </tr>\n",
       "    <tr>\n",
       "      <th>824</th>\n",
       "      <td>** Exclusive - 97 Clinton St ** - Bright, Larg...</td>\n",
       "      <td>3595</td>\n",
       "      <td>3</td>\n",
       "      <td>1.0</td>\n",
       "      <td>10</td>\n",
       "    </tr>\n",
       "    <tr>\n",
       "      <th>1328</th>\n",
       "      <td></td>\n",
       "      <td>2950</td>\n",
       "      <td>3</td>\n",
       "      <td>1.0</td>\n",
       "      <td>13</td>\n",
       "    </tr>\n",
       "    <tr>\n",
       "      <th>2573</th>\n",
       "      <td></td>\n",
       "      <td>1100</td>\n",
       "      <td>2</td>\n",
       "      <td>2.0</td>\n",
       "      <td>0</td>\n",
       "    </tr>\n",
       "  </tbody>\n",
       "</table>\n",
       "</div>"
      ],
      "text/plain": [
       "                                            description  price  bedrooms  \\\n",
       "571   *** 100% NO FEE***3 BEDROOM 2BATH CONV. FEATUR...   3900         3   \n",
       "798   This one bedroom Inwood apartment is located o...   1650         1   \n",
       "824   ** Exclusive - 97 Clinton St ** - Bright, Larg...   3595         3   \n",
       "1328                                                      2950         3   \n",
       "2573                                                      1100         2   \n",
       "\n",
       "      bathrooms  photos_count  \n",
       "571         2.0             6  \n",
       "798         1.0             4  \n",
       "824         1.0            10  \n",
       "1328        1.0            13  \n",
       "2573        2.0             0  "
      ]
     },
     "metadata": {},
     "output_type": "display_data"
    },
    {
     "name": "stdout",
     "output_type": "stream",
     "text": [
      "Label was 0, classified as 2\n"
     ]
    },
    {
     "data": {
      "text/html": [
       "<div>\n",
       "<style scoped>\n",
       "    .dataframe tbody tr th:only-of-type {\n",
       "        vertical-align: middle;\n",
       "    }\n",
       "\n",
       "    .dataframe tbody tr th {\n",
       "        vertical-align: top;\n",
       "    }\n",
       "\n",
       "    .dataframe thead th {\n",
       "        text-align: right;\n",
       "    }\n",
       "</style>\n",
       "<table border=\"1\" class=\"dataframe\">\n",
       "  <thead>\n",
       "    <tr style=\"text-align: right;\">\n",
       "      <th></th>\n",
       "      <th>description</th>\n",
       "      <th>price</th>\n",
       "      <th>bedrooms</th>\n",
       "      <th>bathrooms</th>\n",
       "      <th>photos_count</th>\n",
       "    </tr>\n",
       "  </thead>\n",
       "  <tbody>\n",
       "    <tr>\n",
       "      <th>2</th>\n",
       "      <td>5TH ST/ 2 AVE! RENOVATED 2 BEDROOM IN CHARMING...</td>\n",
       "      <td>3200</td>\n",
       "      <td>2</td>\n",
       "      <td>1.0</td>\n",
       "      <td>6</td>\n",
       "    </tr>\n",
       "    <tr>\n",
       "      <th>9</th>\n",
       "      <td>83RD/ AMSTERDAM! TRUE 2 BED IN NICE WELL KEPT ...</td>\n",
       "      <td>3000</td>\n",
       "      <td>2</td>\n",
       "      <td>1.0</td>\n",
       "      <td>6</td>\n",
       "    </tr>\n",
       "    <tr>\n",
       "      <th>46</th>\n",
       "      <td>Gorgeous Renovated Studio apartment in Kew Gar...</td>\n",
       "      <td>1375</td>\n",
       "      <td>0</td>\n",
       "      <td>1.0</td>\n",
       "      <td>7</td>\n",
       "    </tr>\n",
       "    <tr>\n",
       "      <th>47</th>\n",
       "      <td>Simply amazing!!!! Spacious 3 bedroom apartmen...</td>\n",
       "      <td>1899</td>\n",
       "      <td>3</td>\n",
       "      <td>1.0</td>\n",
       "      <td>8</td>\n",
       "    </tr>\n",
       "    <tr>\n",
       "      <th>69</th>\n",
       "      <td>Spacious studio apartment near Fulton Street M...</td>\n",
       "      <td>2495</td>\n",
       "      <td>0</td>\n",
       "      <td>1.0</td>\n",
       "      <td>5</td>\n",
       "    </tr>\n",
       "  </tbody>\n",
       "</table>\n",
       "</div>"
      ],
      "text/plain": [
       "                                          description  price  bedrooms  \\\n",
       "2   5TH ST/ 2 AVE! RENOVATED 2 BEDROOM IN CHARMING...   3200         2   \n",
       "9   83RD/ AMSTERDAM! TRUE 2 BED IN NICE WELL KEPT ...   3000         2   \n",
       "46  Gorgeous Renovated Studio apartment in Kew Gar...   1375         0   \n",
       "47  Simply amazing!!!! Spacious 3 bedroom apartmen...   1899         3   \n",
       "69  Spacious studio apartment near Fulton Street M...   2495         0   \n",
       "\n",
       "    bathrooms  photos_count  \n",
       "2         1.0             6  \n",
       "9         1.0             6  \n",
       "46        1.0             7  \n",
       "47        1.0             8  \n",
       "69        1.0             5  "
      ]
     },
     "metadata": {},
     "output_type": "display_data"
    },
    {
     "name": "stdout",
     "output_type": "stream",
     "text": [
      "Label was 1, classified as 0\n"
     ]
    },
    {
     "data": {
      "text/html": [
       "<div>\n",
       "<style scoped>\n",
       "    .dataframe tbody tr th:only-of-type {\n",
       "        vertical-align: middle;\n",
       "    }\n",
       "\n",
       "    .dataframe tbody tr th {\n",
       "        vertical-align: top;\n",
       "    }\n",
       "\n",
       "    .dataframe thead th {\n",
       "        text-align: right;\n",
       "    }\n",
       "</style>\n",
       "<table border=\"1\" class=\"dataframe\">\n",
       "  <thead>\n",
       "    <tr style=\"text-align: right;\">\n",
       "      <th></th>\n",
       "      <th>description</th>\n",
       "      <th>price</th>\n",
       "      <th>bedrooms</th>\n",
       "      <th>bathrooms</th>\n",
       "      <th>photos_count</th>\n",
       "    </tr>\n",
       "  </thead>\n",
       "  <tbody>\n",
       "  </tbody>\n",
       "</table>\n",
       "</div>"
      ],
      "text/plain": [
       "Empty DataFrame\n",
       "Columns: [description, price, bedrooms, bathrooms, photos_count]\n",
       "Index: []"
      ]
     },
     "metadata": {},
     "output_type": "display_data"
    },
    {
     "name": "stdout",
     "output_type": "stream",
     "text": [
      "Label was 1, classified as 1\n"
     ]
    },
    {
     "data": {
      "text/html": [
       "<div>\n",
       "<style scoped>\n",
       "    .dataframe tbody tr th:only-of-type {\n",
       "        vertical-align: middle;\n",
       "    }\n",
       "\n",
       "    .dataframe tbody tr th {\n",
       "        vertical-align: top;\n",
       "    }\n",
       "\n",
       "    .dataframe thead th {\n",
       "        text-align: right;\n",
       "    }\n",
       "</style>\n",
       "<table border=\"1\" class=\"dataframe\">\n",
       "  <thead>\n",
       "    <tr style=\"text-align: right;\">\n",
       "      <th></th>\n",
       "      <th>description</th>\n",
       "      <th>price</th>\n",
       "      <th>bedrooms</th>\n",
       "      <th>bathrooms</th>\n",
       "      <th>photos_count</th>\n",
       "    </tr>\n",
       "  </thead>\n",
       "  <tbody>\n",
       "    <tr>\n",
       "      <th>23</th>\n",
       "      <td>Charming 1 Bedroom Apartment for Rent in Boeru...</td>\n",
       "      <td>2500</td>\n",
       "      <td>1</td>\n",
       "      <td>1.0</td>\n",
       "      <td>12</td>\n",
       "    </tr>\n",
       "    <tr>\n",
       "      <th>52</th>\n",
       "      <td>AS YOU ENTER THIS ULTRA LUXURY BUILDING, YOU W...</td>\n",
       "      <td>2865</td>\n",
       "      <td>2</td>\n",
       "      <td>1.0</td>\n",
       "      <td>6</td>\n",
       "    </tr>\n",
       "    <tr>\n",
       "      <th>329</th>\n",
       "      <td>Comfortable spacious renovated apartment, with...</td>\n",
       "      <td>1900</td>\n",
       "      <td>2</td>\n",
       "      <td>1.0</td>\n",
       "      <td>9</td>\n",
       "    </tr>\n",
       "    <tr>\n",
       "      <th>543</th>\n",
       "      <td>NESTLED IN THE HEART OF THE FINANCIAL DISTRICT...</td>\n",
       "      <td>2750</td>\n",
       "      <td>1</td>\n",
       "      <td>1.0</td>\n",
       "      <td>6</td>\n",
       "    </tr>\n",
       "    <tr>\n",
       "      <th>573</th>\n",
       "      <td>***ENORMOUS ENTRANCE REMEMBERING AN ENTRANCE O...</td>\n",
       "      <td>4700</td>\n",
       "      <td>2</td>\n",
       "      <td>2.0</td>\n",
       "      <td>7</td>\n",
       "    </tr>\n",
       "  </tbody>\n",
       "</table>\n",
       "</div>"
      ],
      "text/plain": [
       "                                           description  price  bedrooms  \\\n",
       "23   Charming 1 Bedroom Apartment for Rent in Boeru...   2500         1   \n",
       "52   AS YOU ENTER THIS ULTRA LUXURY BUILDING, YOU W...   2865         2   \n",
       "329  Comfortable spacious renovated apartment, with...   1900         2   \n",
       "543  NESTLED IN THE HEART OF THE FINANCIAL DISTRICT...   2750         1   \n",
       "573  ***ENORMOUS ENTRANCE REMEMBERING AN ENTRANCE O...   4700         2   \n",
       "\n",
       "     bathrooms  photos_count  \n",
       "23         1.0            12  \n",
       "52         1.0             6  \n",
       "329        1.0             9  \n",
       "543        1.0             6  \n",
       "573        2.0             7  "
      ]
     },
     "metadata": {},
     "output_type": "display_data"
    },
    {
     "name": "stdout",
     "output_type": "stream",
     "text": [
      "Label was 1, classified as 2\n"
     ]
    },
    {
     "data": {
      "text/html": [
       "<div>\n",
       "<style scoped>\n",
       "    .dataframe tbody tr th:only-of-type {\n",
       "        vertical-align: middle;\n",
       "    }\n",
       "\n",
       "    .dataframe tbody tr th {\n",
       "        vertical-align: top;\n",
       "    }\n",
       "\n",
       "    .dataframe thead th {\n",
       "        text-align: right;\n",
       "    }\n",
       "</style>\n",
       "<table border=\"1\" class=\"dataframe\">\n",
       "  <thead>\n",
       "    <tr style=\"text-align: right;\">\n",
       "      <th></th>\n",
       "      <th>description</th>\n",
       "      <th>price</th>\n",
       "      <th>bedrooms</th>\n",
       "      <th>bathrooms</th>\n",
       "      <th>photos_count</th>\n",
       "    </tr>\n",
       "  </thead>\n",
       "  <tbody>\n",
       "    <tr>\n",
       "      <th>17</th>\n",
       "      <td>Residential Prewar Building With Art Deco Flai...</td>\n",
       "      <td>2995</td>\n",
       "      <td>2</td>\n",
       "      <td>1.0</td>\n",
       "      <td>4</td>\n",
       "    </tr>\n",
       "    <tr>\n",
       "      <th>24</th>\n",
       "      <td>LISTING ID: 150804\\rSunny apartment in a quiet...</td>\n",
       "      <td>2050</td>\n",
       "      <td>1</td>\n",
       "      <td>1.0</td>\n",
       "      <td>3</td>\n",
       "    </tr>\n",
       "    <tr>\n",
       "      <th>31</th>\n",
       "      <td>Prime Murray Hill Neighborhood!   Located off ...</td>\n",
       "      <td>2350</td>\n",
       "      <td>0</td>\n",
       "      <td>1.0</td>\n",
       "      <td>2</td>\n",
       "    </tr>\n",
       "    <tr>\n",
       "      <th>34</th>\n",
       "      <td>This bright 1 bedroom apartment is located jus...</td>\n",
       "      <td>2100</td>\n",
       "      <td>1</td>\n",
       "      <td>1.0</td>\n",
       "      <td>5</td>\n",
       "    </tr>\n",
       "    <tr>\n",
       "      <th>43</th>\n",
       "      <td>PRIME Greenwich Village!\\r\\rMASSIVE 2BR!\\r\\rHi...</td>\n",
       "      <td>4350</td>\n",
       "      <td>2</td>\n",
       "      <td>1.0</td>\n",
       "      <td>4</td>\n",
       "    </tr>\n",
       "  </tbody>\n",
       "</table>\n",
       "</div>"
      ],
      "text/plain": [
       "                                          description  price  bedrooms  \\\n",
       "17  Residential Prewar Building With Art Deco Flai...   2995         2   \n",
       "24  LISTING ID: 150804\\rSunny apartment in a quiet...   2050         1   \n",
       "31  Prime Murray Hill Neighborhood!   Located off ...   2350         0   \n",
       "34  This bright 1 bedroom apartment is located jus...   2100         1   \n",
       "43  PRIME Greenwich Village!\\r\\rMASSIVE 2BR!\\r\\rHi...   4350         2   \n",
       "\n",
       "    bathrooms  photos_count  \n",
       "17        1.0             4  \n",
       "24        1.0             3  \n",
       "31        1.0             2  \n",
       "34        1.0             5  \n",
       "43        1.0             4  "
      ]
     },
     "metadata": {},
     "output_type": "display_data"
    },
    {
     "name": "stdout",
     "output_type": "stream",
     "text": [
      "Label was 2, classified as 0\n"
     ]
    },
    {
     "data": {
      "text/html": [
       "<div>\n",
       "<style scoped>\n",
       "    .dataframe tbody tr th:only-of-type {\n",
       "        vertical-align: middle;\n",
       "    }\n",
       "\n",
       "    .dataframe tbody tr th {\n",
       "        vertical-align: top;\n",
       "    }\n",
       "\n",
       "    .dataframe thead th {\n",
       "        text-align: right;\n",
       "    }\n",
       "</style>\n",
       "<table border=\"1\" class=\"dataframe\">\n",
       "  <thead>\n",
       "    <tr style=\"text-align: right;\">\n",
       "      <th></th>\n",
       "      <th>description</th>\n",
       "      <th>price</th>\n",
       "      <th>bedrooms</th>\n",
       "      <th>bathrooms</th>\n",
       "      <th>photos_count</th>\n",
       "    </tr>\n",
       "  </thead>\n",
       "  <tbody>\n",
       "    <tr>\n",
       "      <th>2684</th>\n",
       "      <td></td>\n",
       "      <td>3795</td>\n",
       "      <td>1</td>\n",
       "      <td>1.0</td>\n",
       "      <td>0</td>\n",
       "    </tr>\n",
       "  </tbody>\n",
       "</table>\n",
       "</div>"
      ],
      "text/plain": [
       "     description  price  bedrooms  bathrooms  photos_count\n",
       "2684               3795         1        1.0             0"
      ]
     },
     "metadata": {},
     "output_type": "display_data"
    },
    {
     "name": "stdout",
     "output_type": "stream",
     "text": [
      "Label was 2, classified as 1\n"
     ]
    },
    {
     "data": {
      "text/html": [
       "<div>\n",
       "<style scoped>\n",
       "    .dataframe tbody tr th:only-of-type {\n",
       "        vertical-align: middle;\n",
       "    }\n",
       "\n",
       "    .dataframe tbody tr th {\n",
       "        vertical-align: top;\n",
       "    }\n",
       "\n",
       "    .dataframe thead th {\n",
       "        text-align: right;\n",
       "    }\n",
       "</style>\n",
       "<table border=\"1\" class=\"dataframe\">\n",
       "  <thead>\n",
       "    <tr style=\"text-align: right;\">\n",
       "      <th></th>\n",
       "      <th>description</th>\n",
       "      <th>price</th>\n",
       "      <th>bedrooms</th>\n",
       "      <th>bathrooms</th>\n",
       "      <th>photos_count</th>\n",
       "    </tr>\n",
       "  </thead>\n",
       "  <tbody>\n",
       "    <tr>\n",
       "      <th>26</th>\n",
       "      <td>Spacious, Abundance of Closets, Washer/Dryer i...</td>\n",
       "      <td>5195</td>\n",
       "      <td>1</td>\n",
       "      <td>1.0</td>\n",
       "      <td>14</td>\n",
       "    </tr>\n",
       "    <tr>\n",
       "      <th>98</th>\n",
       "      <td>**2Bd/1BTH/FLEX located in the Heart of it all...</td>\n",
       "      <td>3000</td>\n",
       "      <td>2</td>\n",
       "      <td>1.0</td>\n",
       "      <td>5</td>\n",
       "    </tr>\n",
       "    <tr>\n",
       "      <th>218</th>\n",
       "      <td>Building AmenitiesGarage ParkingGymLaundry in ...</td>\n",
       "      <td>5500</td>\n",
       "      <td>2</td>\n",
       "      <td>3.0</td>\n",
       "      <td>6</td>\n",
       "    </tr>\n",
       "    <tr>\n",
       "      <th>248</th>\n",
       "      <td>Apartment is newly renovated featuring: bleach...</td>\n",
       "      <td>5500</td>\n",
       "      <td>3</td>\n",
       "      <td>2.0</td>\n",
       "      <td>8</td>\n",
       "    </tr>\n",
       "    <tr>\n",
       "      <th>261</th>\n",
       "      <td>BEAUTIFUL CONVERTIBLE 2 BEDROOM / 1 BAFEATURIN...</td>\n",
       "      <td>2700</td>\n",
       "      <td>2</td>\n",
       "      <td>1.0</td>\n",
       "      <td>5</td>\n",
       "    </tr>\n",
       "  </tbody>\n",
       "</table>\n",
       "</div>"
      ],
      "text/plain": [
       "                                           description  price  bedrooms  \\\n",
       "26   Spacious, Abundance of Closets, Washer/Dryer i...   5195         1   \n",
       "98   **2Bd/1BTH/FLEX located in the Heart of it all...   3000         2   \n",
       "218  Building AmenitiesGarage ParkingGymLaundry in ...   5500         2   \n",
       "248  Apartment is newly renovated featuring: bleach...   5500         3   \n",
       "261  BEAUTIFUL CONVERTIBLE 2 BEDROOM / 1 BAFEATURIN...   2700         2   \n",
       "\n",
       "     bathrooms  photos_count  \n",
       "26         1.0            14  \n",
       "98         1.0             5  \n",
       "218        3.0             6  \n",
       "248        2.0             8  \n",
       "261        1.0             5  "
      ]
     },
     "metadata": {},
     "output_type": "display_data"
    },
    {
     "name": "stdout",
     "output_type": "stream",
     "text": [
      "Label was 2, classified as 2\n"
     ]
    },
    {
     "data": {
      "text/html": [
       "<div>\n",
       "<style scoped>\n",
       "    .dataframe tbody tr th:only-of-type {\n",
       "        vertical-align: middle;\n",
       "    }\n",
       "\n",
       "    .dataframe tbody tr th {\n",
       "        vertical-align: top;\n",
       "    }\n",
       "\n",
       "    .dataframe thead th {\n",
       "        text-align: right;\n",
       "    }\n",
       "</style>\n",
       "<table border=\"1\" class=\"dataframe\">\n",
       "  <thead>\n",
       "    <tr style=\"text-align: right;\">\n",
       "      <th></th>\n",
       "      <th>description</th>\n",
       "      <th>price</th>\n",
       "      <th>bedrooms</th>\n",
       "      <th>bathrooms</th>\n",
       "      <th>photos_count</th>\n",
       "    </tr>\n",
       "  </thead>\n",
       "  <tbody>\n",
       "    <tr>\n",
       "      <th>0</th>\n",
       "      <td>THE PRICE IS NET EFFECTIVE - One month Free on...</td>\n",
       "      <td>2900</td>\n",
       "      <td>1</td>\n",
       "      <td>1.0</td>\n",
       "      <td>4</td>\n",
       "    </tr>\n",
       "    <tr>\n",
       "      <th>1</th>\n",
       "      <td>Spacious and contemporary alcove studio with h...</td>\n",
       "      <td>4000</td>\n",
       "      <td>0</td>\n",
       "      <td>1.0</td>\n",
       "      <td>4</td>\n",
       "    </tr>\n",
       "    <tr>\n",
       "      <th>3</th>\n",
       "      <td>85TH/ 3 AVE! UNIQUE 800 SQFT PENTHOUSE DUPLEX ...</td>\n",
       "      <td>2850</td>\n",
       "      <td>1</td>\n",
       "      <td>2.0</td>\n",
       "      <td>6</td>\n",
       "    </tr>\n",
       "    <tr>\n",
       "      <th>4</th>\n",
       "      <td>This HUGE STUDIO LOFT apartment HAS AN AMAZING...</td>\n",
       "      <td>3100</td>\n",
       "      <td>0</td>\n",
       "      <td>1.0</td>\n",
       "      <td>5</td>\n",
       "    </tr>\n",
       "    <tr>\n",
       "      <th>5</th>\n",
       "      <td>Located on west 57th st , short walk from Colu...</td>\n",
       "      <td>4000</td>\n",
       "      <td>2</td>\n",
       "      <td>1.0</td>\n",
       "      <td>6</td>\n",
       "    </tr>\n",
       "  </tbody>\n",
       "</table>\n",
       "</div>"
      ],
      "text/plain": [
       "                                         description  price  bedrooms  \\\n",
       "0  THE PRICE IS NET EFFECTIVE - One month Free on...   2900         1   \n",
       "1  Spacious and contemporary alcove studio with h...   4000         0   \n",
       "3  85TH/ 3 AVE! UNIQUE 800 SQFT PENTHOUSE DUPLEX ...   2850         1   \n",
       "4  This HUGE STUDIO LOFT apartment HAS AN AMAZING...   3100         0   \n",
       "5  Located on west 57th st , short walk from Colu...   4000         2   \n",
       "\n",
       "   bathrooms  photos_count  \n",
       "0        1.0             4  \n",
       "1        1.0             4  \n",
       "3        2.0             6  \n",
       "4        1.0             5  \n",
       "5        1.0             6  "
      ]
     },
     "metadata": {},
     "output_type": "display_data"
    },
    {
     "data": {
      "text/plain": [
       "<matplotlib.axes._subplots.AxesSubplot at 0x7efe17d83cf8>"
      ]
     },
     "metadata": {},
     "output_type": "display_data"
    },
    {
     "name": "stdout",
     "output_type": "stream",
     "text": [
      "              precision    recall  f1-score   support\n",
      "\n",
      "           0       0.01      0.67      0.01         3\n",
      "           1       0.03      0.23      0.05       127\n",
      "           2       0.97      0.70      0.81      4806\n",
      "\n",
      "   micro avg       0.69      0.69      0.69      4936\n",
      "   macro avg       0.33      0.53      0.29      4936\n",
      "weighted avg       0.95      0.69      0.79      4936\n",
      "\n",
      "Logistic loss 0.83758\n"
     ]
    },
    {
     "data": {
      "image/png": "[encoded data removed]",
      "text/plain": [
       "<Figure size 432x288 with 2 Axes>"
      ]
     },
     "metadata": {
      "needs_background": "light"
     },
     "output_type": "display_data"
    }
   ],
   "source": [
    "generate_classification_report(SIMPLE_RNN_MODEL,\n",
    "                               VALIDATION_DATAFRAME,\n",
    "                               (VALIDATION_WORD_DESCRIPTION_SEQUENCES,\n",
    "                                VALIDATION_WORD_SEQUENCES_LENGTHS),\n",
    "                               VALIDATION_LABELS.values,\n",
    "                               [0, 1, 2])"
   ]
  },
  {
   "cell_type": "code",
   "execution_count": 44,
   "metadata": {},
   "outputs": [],
   "source": [
    "write_predictions_table_to_csv(\n",
    "    get_prediction_probabilities_with_columns(\n",
    "        SIMPLE_RNN_MODEL,\n",
    "        FEATURES_TEST_DATAFRAME['listing_id'],\n",
    "        (TEST_WORD_DESCRIPTION_SEQUENCES,\n",
    "         TEST_WORD_SEQUENCES_LENGTHS),\n",
    "        \n",
    "    ),\n",
    "    'simple_rnn_model_submissions.csv'\n",
    ")"
   ]
  },
  {
   "cell_type": "code",
   "execution_count": 45,
   "metadata": {},
   "outputs": [],
   "source": [
    "SIMPLE_RNN_MODEL_WITH_TABULAR_DATA = NoToTensorInLossClassifier(\n",
    "    SimpleRNNTabularDataPredictor,\n",
    "    lr=0.01,\n",
    "    batch_size=256,\n",
    "    optimizer=optim.Adam,\n",
    "    callbacks=[\n",
    "        EpochScoring(scoring='accuracy'),\n",
    "        LRAnnealing(),\n",
    "        LRScheduler(),\n",
    "        ProgressBar(),\n",
    "        CheckpointAndKeepBest(dirname='rnn_tabular_checkpoint'),\n",
    "        TrainEndCheckpoint(dirname='rnn_tabular_checkpoint',\n",
    "                           fn_prefix='rnn_train_end_')\n",
    "    ],\n",
    "    max_epochs=10,\n",
    "    module__layers=2,\n",
    "    train_split=simple_train_test_split_without_shuffle_func(0.3),\n",
    "    device='cuda' if torch.cuda.is_available() else 'cpu',\n",
    "    module__encoder_dimension=100, # Number of encoder features\n",
    "    module__hidden_dimension=50, # Number of hidden features\n",
    "    module__dictionary_dimension=len(ONE_HOT_TO_WORD), # Dictionary dimension\n",
    "    module__continuous_features_dimension=TRAIN_FEATURES_CONTINUOUS.shape[1],\n",
    "    module__categorical_feature_embedding_dimensions=[\n",
    "        (CATEGORICAL_FEATURES[c], 80) for c in CATEGORICAL_FEATURES\n",
    "    ],\n",
    "    module__output_dimension=3,\n",
    "    module__dropout=0.1\n",
    ")"
   ]
  },
  {
   "cell_type": "code",
   "execution_count": 46,
   "metadata": {
    "scrolled": true
   },
   "outputs": [
    {
     "data": {
      "application/vnd.jupyter.widget-view+json": {
       "model_id": "",
       "version_major": 2,
       "version_minor": 0
      },
      "text/plain": [
       "HBox(children=(IntProgress(value=0, max=174), HTML(value='')))"
      ]
     },
     "metadata": {},
     "output_type": "display_data"
    },
    {
     "name": "stdout",
     "output_type": "stream",
     "text": [
      "  epoch    accuracy    train_loss    valid_acc    valid_loss    cp      dur\n",
      "-------  ----------  ------------  -----------  ------------  ----  -------\n",
      "      1      \u001b[36m0.6961\u001b[0m        \u001b[32m0.8032\u001b[0m       \u001b[35m0.6961\u001b[0m        \u001b[31m0.6847\u001b[0m     +  87.5549\n"
     ]
    },
    {
     "data": {
      "application/vnd.jupyter.widget-view+json": {
       "model_id": "",
       "version_major": 2,
       "version_minor": 0
      },
      "text/plain": [
       "HBox(children=(IntProgress(value=0, max=174), HTML(value='')))"
      ]
     },
     "metadata": {},
     "output_type": "display_data"
    },
    {
     "name": "stdout",
     "output_type": "stream",
     "text": [
      "      2      0.7081        \u001b[32m0.6631\u001b[0m       \u001b[35m0.7081\u001b[0m        \u001b[31m0.6708\u001b[0m     +  87.6228\n"
     ]
    },
    {
     "data": {
      "application/vnd.jupyter.widget-view+json": {
       "model_id": "",
       "version_major": 2,
       "version_minor": 0
      },
      "text/plain": [
       "HBox(children=(IntProgress(value=0, max=174), HTML(value='')))"
      ]
     },
     "metadata": {},
     "output_type": "display_data"
    },
    {
     "name": "stdout",
     "output_type": "stream",
     "text": [
      "      3      0.7112        \u001b[32m0.6419\u001b[0m       \u001b[35m0.7112\u001b[0m        \u001b[31m0.6644\u001b[0m     +  87.6264\n"
     ]
    },
    {
     "data": {
      "application/vnd.jupyter.widget-view+json": {
       "model_id": "",
       "version_major": 2,
       "version_minor": 0
      },
      "text/plain": [
       "HBox(children=(IntProgress(value=0, max=174), HTML(value='')))"
      ]
     },
     "metadata": {},
     "output_type": "display_data"
    },
    {
     "name": "stdout",
     "output_type": "stream",
     "text": [
      "\r",
      "      4      0.7070        \u001b[32m0.6302\u001b[0m       0.7070        0.6668        87.6277\n"
     ]
    },
    {
     "data": {
      "application/vnd.jupyter.widget-view+json": {
       "model_id": "",
       "version_major": 2,
       "version_minor": 0
      },
      "text/plain": [
       "HBox(children=(IntProgress(value=0, max=174), HTML(value='')))"
      ]
     },
     "metadata": {},
     "output_type": "display_data"
    },
    {
     "name": "stdout",
     "output_type": "stream",
     "text": [
      "\r",
      "      5      0.7018        \u001b[32m0.6194\u001b[0m       0.7018        0.6655        87.5124\n"
     ]
    },
    {
     "data": {
      "application/vnd.jupyter.widget-view+json": {
       "model_id": "",
       "version_major": 2,
       "version_minor": 0
      },
      "text/plain": [
       "HBox(children=(IntProgress(value=0, max=174), HTML(value='')))"
      ]
     },
     "metadata": {},
     "output_type": "display_data"
    },
    {
     "name": "stdout",
     "output_type": "stream",
     "text": [
      "\r",
      "      6      0.7019        \u001b[32m0.6067\u001b[0m       0.7019        0.6687        87.5750\n"
     ]
    },
    {
     "data": {
      "application/vnd.jupyter.widget-view+json": {
       "model_id": "",
       "version_major": 2,
       "version_minor": 0
      },
      "text/plain": [
       "HBox(children=(IntProgress(value=0, max=174), HTML(value='')))"
      ]
     },
     "metadata": {},
     "output_type": "display_data"
    },
    {
     "name": "stdout",
     "output_type": "stream",
     "text": [
      "\r",
      "      7      0.7032        \u001b[32m0.5943\u001b[0m       0.7032        0.6691        87.5323\n"
     ]
    },
    {
     "data": {
      "application/vnd.jupyter.widget-view+json": {
       "model_id": "",
       "version_major": 2,
       "version_minor": 0
      },
      "text/plain": [
       "HBox(children=(IntProgress(value=0, max=174), HTML(value='')))"
      ]
     },
     "metadata": {},
     "output_type": "display_data"
    },
    {
     "name": "stdout",
     "output_type": "stream",
     "text": [
      "\r",
      "      8      0.7026        \u001b[32m0.5803\u001b[0m       0.7026        0.6804        87.6530\n"
     ]
    },
    {
     "data": {
      "application/vnd.jupyter.widget-view+json": {
       "model_id": "",
       "version_major": 2,
       "version_minor": 0
      },
      "text/plain": [
       "HBox(children=(IntProgress(value=0, max=174), HTML(value='')))"
      ]
     },
     "metadata": {},
     "output_type": "display_data"
    },
    {
     "name": "stdout",
     "output_type": "stream",
     "text": [
      "\r",
      "      9      0.7026        \u001b[32m0.5637\u001b[0m       0.7026        0.6796        87.4699\n"
     ]
    },
    {
     "data": {
      "application/vnd.jupyter.widget-view+json": {
       "model_id": "",
       "version_major": 2,
       "version_minor": 0
      },
      "text/plain": [
       "HBox(children=(IntProgress(value=0, max=174), HTML(value='')))"
      ]
     },
     "metadata": {},
     "output_type": "display_data"
    },
    {
     "name": "stdout",
     "output_type": "stream",
     "text": [
      "     10      0.7012        \u001b[32m0.5495\u001b[0m       0.7012        0.6815        87.6119\n",
      "Loading parameters from checkpoint 2\n"
     ]
    },
    {
     "data": {
      "text/plain": [
       "<class 'utils.language_models.simple_rnn.NoToTensorInLossClassifier'>[initialized](\n",
       "  module_=SimpleRNNTabularDataPredictor(\n",
       "    (word_encoder): Embedding(94388, 100)\n",
       "    (emb_0): Embedding(540, 80)\n",
       "    (emb_1): Embedding(718, 80)\n",
       "    (emb_2): Embedding(581, 80)\n",
       "    (rnn): LSTM(100, 50, num_layers=2, batch_first=True, dropout=0.1, bidirectional=True)\n",
       "    (class_decoder1): Linear(in_features=547, out_features=128, bias=True)\n",
       "    (class_decoder2): Linear(in_features=128, out_features=128, bias=True)\n",
       "    (class_decoder3): Linear(in_features=128, out_features=3, bias=True)\n",
       "  ),\n",
       ")"
      ]
     },
     "execution_count": 46,
     "metadata": {},
     "output_type": "execute_result"
    }
   ],
   "source": [
    "SIMPLE_RNN_MODEL_WITH_TABULAR_DATA.fit((TRAIN_WORD_DESCRIPTION_SEQUENCES,\n",
    "                                        TRAIN_WORD_SEQUENCES_LENGTHS,\n",
    "                                        TRAIN_FEATURES_CONTINUOUS_TENSOR,\n",
    "                                        TRAIN_FEATURES_CATEGORICAL_TENSOR),\n",
    "                                       TRAIN_LABELS_TENSOR)"
   ]
  },
  {
   "cell_type": "code",
   "execution_count": 47,
   "metadata": {},
   "outputs": [
    {
     "name": "stdout",
     "output_type": "stream",
     "text": [
      "Label was 0, classified as 0\n"
     ]
    },
    {
     "data": {
      "text/html": [
       "<div>\n",
       "<style scoped>\n",
       "    .dataframe tbody tr th:only-of-type {\n",
       "        vertical-align: middle;\n",
       "    }\n",
       "\n",
       "    .dataframe tbody tr th {\n",
       "        vertical-align: top;\n",
       "    }\n",
       "\n",
       "    .dataframe thead th {\n",
       "        text-align: right;\n",
       "    }\n",
       "</style>\n",
       "<table border=\"1\" class=\"dataframe\">\n",
       "  <thead>\n",
       "    <tr style=\"text-align: right;\">\n",
       "      <th></th>\n",
       "      <th>description</th>\n",
       "      <th>price</th>\n",
       "      <th>bedrooms</th>\n",
       "      <th>bathrooms</th>\n",
       "      <th>photos_count</th>\n",
       "    </tr>\n",
       "  </thead>\n",
       "  <tbody>\n",
       "  </tbody>\n",
       "</table>\n",
       "</div>"
      ],
      "text/plain": [
       "Empty DataFrame\n",
       "Columns: [description, price, bedrooms, bathrooms, photos_count]\n",
       "Index: []"
      ]
     },
     "metadata": {},
     "output_type": "display_data"
    },
    {
     "name": "stdout",
     "output_type": "stream",
     "text": [
      "Label was 0, classified as 1\n"
     ]
    },
    {
     "data": {
      "text/html": [
       "<div>\n",
       "<style scoped>\n",
       "    .dataframe tbody tr th:only-of-type {\n",
       "        vertical-align: middle;\n",
       "    }\n",
       "\n",
       "    .dataframe tbody tr th {\n",
       "        vertical-align: top;\n",
       "    }\n",
       "\n",
       "    .dataframe thead th {\n",
       "        text-align: right;\n",
       "    }\n",
       "</style>\n",
       "<table border=\"1\" class=\"dataframe\">\n",
       "  <thead>\n",
       "    <tr style=\"text-align: right;\">\n",
       "      <th></th>\n",
       "      <th>description</th>\n",
       "      <th>price</th>\n",
       "      <th>bedrooms</th>\n",
       "      <th>bathrooms</th>\n",
       "      <th>photos_count</th>\n",
       "    </tr>\n",
       "  </thead>\n",
       "  <tbody>\n",
       "    <tr>\n",
       "      <th>2</th>\n",
       "      <td>5TH ST/ 2 AVE! RENOVATED 2 BEDROOM IN CHARMING...</td>\n",
       "      <td>3200</td>\n",
       "      <td>2</td>\n",
       "      <td>1.0</td>\n",
       "      <td>6</td>\n",
       "    </tr>\n",
       "    <tr>\n",
       "      <th>9</th>\n",
       "      <td>83RD/ AMSTERDAM! TRUE 2 BED IN NICE WELL KEPT ...</td>\n",
       "      <td>3000</td>\n",
       "      <td>2</td>\n",
       "      <td>1.0</td>\n",
       "      <td>6</td>\n",
       "    </tr>\n",
       "    <tr>\n",
       "      <th>107</th>\n",
       "      <td>Lexington AVE on 88th ST ~ Just LISTED 2 BED !...</td>\n",
       "      <td>2600</td>\n",
       "      <td>2</td>\n",
       "      <td>1.0</td>\n",
       "      <td>5</td>\n",
       "    </tr>\n",
       "    <tr>\n",
       "      <th>186</th>\n",
       "      <td>ELEVATOR - LAUNDRY - SS APPLIANCES - RECESSED ...</td>\n",
       "      <td>2100</td>\n",
       "      <td>2</td>\n",
       "      <td>1.0</td>\n",
       "      <td>9</td>\n",
       "    </tr>\n",
       "    <tr>\n",
       "      <th>188</th>\n",
       "      <td>Gramercy Park/Union Square! Huge 3 bedroom apa...</td>\n",
       "      <td>4553</td>\n",
       "      <td>3</td>\n",
       "      <td>1.0</td>\n",
       "      <td>5</td>\n",
       "    </tr>\n",
       "  </tbody>\n",
       "</table>\n",
       "</div>"
      ],
      "text/plain": [
       "                                           description  price  bedrooms  \\\n",
       "2    5TH ST/ 2 AVE! RENOVATED 2 BEDROOM IN CHARMING...   3200         2   \n",
       "9    83RD/ AMSTERDAM! TRUE 2 BED IN NICE WELL KEPT ...   3000         2   \n",
       "107  Lexington AVE on 88th ST ~ Just LISTED 2 BED !...   2600         2   \n",
       "186  ELEVATOR - LAUNDRY - SS APPLIANCES - RECESSED ...   2100         2   \n",
       "188  Gramercy Park/Union Square! Huge 3 bedroom apa...   4553         3   \n",
       "\n",
       "     bathrooms  photos_count  \n",
       "2          1.0             6  \n",
       "9          1.0             6  \n",
       "107        1.0             5  \n",
       "186        1.0             9  \n",
       "188        1.0             5  "
      ]
     },
     "metadata": {},
     "output_type": "display_data"
    },
    {
     "name": "stdout",
     "output_type": "stream",
     "text": [
      "Label was 0, classified as 2\n"
     ]
    },
    {
     "data": {
      "text/html": [
       "<div>\n",
       "<style scoped>\n",
       "    .dataframe tbody tr th:only-of-type {\n",
       "        vertical-align: middle;\n",
       "    }\n",
       "\n",
       "    .dataframe tbody tr th {\n",
       "        vertical-align: top;\n",
       "    }\n",
       "\n",
       "    .dataframe thead th {\n",
       "        text-align: right;\n",
       "    }\n",
       "</style>\n",
       "<table border=\"1\" class=\"dataframe\">\n",
       "  <thead>\n",
       "    <tr style=\"text-align: right;\">\n",
       "      <th></th>\n",
       "      <th>description</th>\n",
       "      <th>price</th>\n",
       "      <th>bedrooms</th>\n",
       "      <th>bathrooms</th>\n",
       "      <th>photos_count</th>\n",
       "    </tr>\n",
       "  </thead>\n",
       "  <tbody>\n",
       "    <tr>\n",
       "      <th>46</th>\n",
       "      <td>Gorgeous Renovated Studio apartment in Kew Gar...</td>\n",
       "      <td>1375</td>\n",
       "      <td>0</td>\n",
       "      <td>1.0</td>\n",
       "      <td>7</td>\n",
       "    </tr>\n",
       "    <tr>\n",
       "      <th>47</th>\n",
       "      <td>Simply amazing!!!! Spacious 3 bedroom apartmen...</td>\n",
       "      <td>1899</td>\n",
       "      <td>3</td>\n",
       "      <td>1.0</td>\n",
       "      <td>8</td>\n",
       "    </tr>\n",
       "    <tr>\n",
       "      <th>69</th>\n",
       "      <td>Spacious studio apartment near Fulton Street M...</td>\n",
       "      <td>2495</td>\n",
       "      <td>0</td>\n",
       "      <td>1.0</td>\n",
       "      <td>5</td>\n",
       "    </tr>\n",
       "    <tr>\n",
       "      <th>71</th>\n",
       "      <td>Well maintained elevator building, offers a th...</td>\n",
       "      <td>1450</td>\n",
       "      <td>0</td>\n",
       "      <td>1.0</td>\n",
       "      <td>7</td>\n",
       "    </tr>\n",
       "    <tr>\n",
       "      <th>79</th>\n",
       "      <td>Large studio located on the 2nd floor in Prime...</td>\n",
       "      <td>1795</td>\n",
       "      <td>0</td>\n",
       "      <td>1.0</td>\n",
       "      <td>4</td>\n",
       "    </tr>\n",
       "  </tbody>\n",
       "</table>\n",
       "</div>"
      ],
      "text/plain": [
       "                                          description  price  bedrooms  \\\n",
       "46  Gorgeous Renovated Studio apartment in Kew Gar...   1375         0   \n",
       "47  Simply amazing!!!! Spacious 3 bedroom apartmen...   1899         3   \n",
       "69  Spacious studio apartment near Fulton Street M...   2495         0   \n",
       "71  Well maintained elevator building, offers a th...   1450         0   \n",
       "79  Large studio located on the 2nd floor in Prime...   1795         0   \n",
       "\n",
       "    bathrooms  photos_count  \n",
       "46        1.0             7  \n",
       "47        1.0             8  \n",
       "69        1.0             5  \n",
       "71        1.0             7  \n",
       "79        1.0             4  "
      ]
     },
     "metadata": {},
     "output_type": "display_data"
    },
    {
     "name": "stdout",
     "output_type": "stream",
     "text": [
      "Label was 1, classified as 0\n"
     ]
    },
    {
     "data": {
      "text/html": [
       "<div>\n",
       "<style scoped>\n",
       "    .dataframe tbody tr th:only-of-type {\n",
       "        vertical-align: middle;\n",
       "    }\n",
       "\n",
       "    .dataframe tbody tr th {\n",
       "        vertical-align: top;\n",
       "    }\n",
       "\n",
       "    .dataframe thead th {\n",
       "        text-align: right;\n",
       "    }\n",
       "</style>\n",
       "<table border=\"1\" class=\"dataframe\">\n",
       "  <thead>\n",
       "    <tr style=\"text-align: right;\">\n",
       "      <th></th>\n",
       "      <th>description</th>\n",
       "      <th>price</th>\n",
       "      <th>bedrooms</th>\n",
       "      <th>bathrooms</th>\n",
       "      <th>photos_count</th>\n",
       "    </tr>\n",
       "  </thead>\n",
       "  <tbody>\n",
       "  </tbody>\n",
       "</table>\n",
       "</div>"
      ],
      "text/plain": [
       "Empty DataFrame\n",
       "Columns: [description, price, bedrooms, bathrooms, photos_count]\n",
       "Index: []"
      ]
     },
     "metadata": {},
     "output_type": "display_data"
    },
    {
     "name": "stdout",
     "output_type": "stream",
     "text": [
      "Label was 1, classified as 1\n"
     ]
    },
    {
     "data": {
      "text/html": [
       "<div>\n",
       "<style scoped>\n",
       "    .dataframe tbody tr th:only-of-type {\n",
       "        vertical-align: middle;\n",
       "    }\n",
       "\n",
       "    .dataframe tbody tr th {\n",
       "        vertical-align: top;\n",
       "    }\n",
       "\n",
       "    .dataframe thead th {\n",
       "        text-align: right;\n",
       "    }\n",
       "</style>\n",
       "<table border=\"1\" class=\"dataframe\">\n",
       "  <thead>\n",
       "    <tr style=\"text-align: right;\">\n",
       "      <th></th>\n",
       "      <th>description</th>\n",
       "      <th>price</th>\n",
       "      <th>bedrooms</th>\n",
       "      <th>bathrooms</th>\n",
       "      <th>photos_count</th>\n",
       "    </tr>\n",
       "  </thead>\n",
       "  <tbody>\n",
       "    <tr>\n",
       "      <th>31</th>\n",
       "      <td>Prime Murray Hill Neighborhood!   Located off ...</td>\n",
       "      <td>2350</td>\n",
       "      <td>0</td>\n",
       "      <td>1.0</td>\n",
       "      <td>2</td>\n",
       "    </tr>\n",
       "    <tr>\n",
       "      <th>48</th>\n",
       "      <td>Prewar Charm !! East 80s &amp; 1st AVE ~ Gorgeous ...</td>\n",
       "      <td>1775</td>\n",
       "      <td>0</td>\n",
       "      <td>1.0</td>\n",
       "      <td>3</td>\n",
       "    </tr>\n",
       "    <tr>\n",
       "      <th>59</th>\n",
       "      <td>This 1 Bedroom Apartment is Located Just 5 BLO...</td>\n",
       "      <td>1800</td>\n",
       "      <td>1</td>\n",
       "      <td>1.0</td>\n",
       "      <td>7</td>\n",
       "    </tr>\n",
       "    <tr>\n",
       "      <th>73</th>\n",
       "      <td>Building Features: Doorman &amp; concierge, Bike R...</td>\n",
       "      <td>3100</td>\n",
       "      <td>2</td>\n",
       "      <td>1.0</td>\n",
       "      <td>9</td>\n",
       "    </tr>\n",
       "    <tr>\n",
       "      <th>74</th>\n",
       "      <td>Four bedroom (flex) apartment comes with 2 ful...</td>\n",
       "      <td>6195</td>\n",
       "      <td>4</td>\n",
       "      <td>2.0</td>\n",
       "      <td>5</td>\n",
       "    </tr>\n",
       "  </tbody>\n",
       "</table>\n",
       "</div>"
      ],
      "text/plain": [
       "                                          description  price  bedrooms  \\\n",
       "31  Prime Murray Hill Neighborhood!   Located off ...   2350         0   \n",
       "48  Prewar Charm !! East 80s & 1st AVE ~ Gorgeous ...   1775         0   \n",
       "59  This 1 Bedroom Apartment is Located Just 5 BLO...   1800         1   \n",
       "73  Building Features: Doorman & concierge, Bike R...   3100         2   \n",
       "74  Four bedroom (flex) apartment comes with 2 ful...   6195         4   \n",
       "\n",
       "    bathrooms  photos_count  \n",
       "31        1.0             2  \n",
       "48        1.0             3  \n",
       "59        1.0             7  \n",
       "73        1.0             9  \n",
       "74        2.0             5  "
      ]
     },
     "metadata": {},
     "output_type": "display_data"
    },
    {
     "name": "stdout",
     "output_type": "stream",
     "text": [
      "Label was 1, classified as 2\n"
     ]
    },
    {
     "data": {
      "text/html": [
       "<div>\n",
       "<style scoped>\n",
       "    .dataframe tbody tr th:only-of-type {\n",
       "        vertical-align: middle;\n",
       "    }\n",
       "\n",
       "    .dataframe tbody tr th {\n",
       "        vertical-align: top;\n",
       "    }\n",
       "\n",
       "    .dataframe thead th {\n",
       "        text-align: right;\n",
       "    }\n",
       "</style>\n",
       "<table border=\"1\" class=\"dataframe\">\n",
       "  <thead>\n",
       "    <tr style=\"text-align: right;\">\n",
       "      <th></th>\n",
       "      <th>description</th>\n",
       "      <th>price</th>\n",
       "      <th>bedrooms</th>\n",
       "      <th>bathrooms</th>\n",
       "      <th>photos_count</th>\n",
       "    </tr>\n",
       "  </thead>\n",
       "  <tbody>\n",
       "    <tr>\n",
       "      <th>17</th>\n",
       "      <td>Residential Prewar Building With Art Deco Flai...</td>\n",
       "      <td>2995</td>\n",
       "      <td>2</td>\n",
       "      <td>1.0</td>\n",
       "      <td>4</td>\n",
       "    </tr>\n",
       "    <tr>\n",
       "      <th>23</th>\n",
       "      <td>Charming 1 Bedroom Apartment for Rent in Boeru...</td>\n",
       "      <td>2500</td>\n",
       "      <td>1</td>\n",
       "      <td>1.0</td>\n",
       "      <td>12</td>\n",
       "    </tr>\n",
       "    <tr>\n",
       "      <th>24</th>\n",
       "      <td>LISTING ID: 150804\\rSunny apartment in a quiet...</td>\n",
       "      <td>2050</td>\n",
       "      <td>1</td>\n",
       "      <td>1.0</td>\n",
       "      <td>3</td>\n",
       "    </tr>\n",
       "    <tr>\n",
       "      <th>34</th>\n",
       "      <td>This bright 1 bedroom apartment is located jus...</td>\n",
       "      <td>2100</td>\n",
       "      <td>1</td>\n",
       "      <td>1.0</td>\n",
       "      <td>5</td>\n",
       "    </tr>\n",
       "    <tr>\n",
       "      <th>43</th>\n",
       "      <td>PRIME Greenwich Village!\\r\\rMASSIVE 2BR!\\r\\rHi...</td>\n",
       "      <td>4350</td>\n",
       "      <td>2</td>\n",
       "      <td>1.0</td>\n",
       "      <td>4</td>\n",
       "    </tr>\n",
       "  </tbody>\n",
       "</table>\n",
       "</div>"
      ],
      "text/plain": [
       "                                          description  price  bedrooms  \\\n",
       "17  Residential Prewar Building With Art Deco Flai...   2995         2   \n",
       "23  Charming 1 Bedroom Apartment for Rent in Boeru...   2500         1   \n",
       "24  LISTING ID: 150804\\rSunny apartment in a quiet...   2050         1   \n",
       "34  This bright 1 bedroom apartment is located jus...   2100         1   \n",
       "43  PRIME Greenwich Village!\\r\\rMASSIVE 2BR!\\r\\rHi...   4350         2   \n",
       "\n",
       "    bathrooms  photos_count  \n",
       "17        1.0             4  \n",
       "23        1.0            12  \n",
       "24        1.0             3  \n",
       "34        1.0             5  \n",
       "43        1.0             4  "
      ]
     },
     "metadata": {},
     "output_type": "display_data"
    },
    {
     "name": "stdout",
     "output_type": "stream",
     "text": [
      "Label was 2, classified as 0\n"
     ]
    },
    {
     "data": {
      "text/html": [
       "<div>\n",
       "<style scoped>\n",
       "    .dataframe tbody tr th:only-of-type {\n",
       "        vertical-align: middle;\n",
       "    }\n",
       "\n",
       "    .dataframe tbody tr th {\n",
       "        vertical-align: top;\n",
       "    }\n",
       "\n",
       "    .dataframe thead th {\n",
       "        text-align: right;\n",
       "    }\n",
       "</style>\n",
       "<table border=\"1\" class=\"dataframe\">\n",
       "  <thead>\n",
       "    <tr style=\"text-align: right;\">\n",
       "      <th></th>\n",
       "      <th>description</th>\n",
       "      <th>price</th>\n",
       "      <th>bedrooms</th>\n",
       "      <th>bathrooms</th>\n",
       "      <th>photos_count</th>\n",
       "    </tr>\n",
       "  </thead>\n",
       "  <tbody>\n",
       "  </tbody>\n",
       "</table>\n",
       "</div>"
      ],
      "text/plain": [
       "Empty DataFrame\n",
       "Columns: [description, price, bedrooms, bathrooms, photos_count]\n",
       "Index: []"
      ]
     },
     "metadata": {},
     "output_type": "display_data"
    },
    {
     "name": "stdout",
     "output_type": "stream",
     "text": [
      "Label was 2, classified as 1\n"
     ]
    },
    {
     "data": {
      "text/html": [
       "<div>\n",
       "<style scoped>\n",
       "    .dataframe tbody tr th:only-of-type {\n",
       "        vertical-align: middle;\n",
       "    }\n",
       "\n",
       "    .dataframe tbody tr th {\n",
       "        vertical-align: top;\n",
       "    }\n",
       "\n",
       "    .dataframe thead th {\n",
       "        text-align: right;\n",
       "    }\n",
       "</style>\n",
       "<table border=\"1\" class=\"dataframe\">\n",
       "  <thead>\n",
       "    <tr style=\"text-align: right;\">\n",
       "      <th></th>\n",
       "      <th>description</th>\n",
       "      <th>price</th>\n",
       "      <th>bedrooms</th>\n",
       "      <th>bathrooms</th>\n",
       "      <th>photos_count</th>\n",
       "    </tr>\n",
       "  </thead>\n",
       "  <tbody>\n",
       "    <tr>\n",
       "      <th>10</th>\n",
       "      <td>Alcove studio\\r\\rRenovated kitchen and bathroo...</td>\n",
       "      <td>2550</td>\n",
       "      <td>1</td>\n",
       "      <td>1.0</td>\n",
       "      <td>2</td>\n",
       "    </tr>\n",
       "    <tr>\n",
       "      <th>19</th>\n",
       "      <td>ACTUAL APT. PHOTOS - Doorman - Elevator - Laun...</td>\n",
       "      <td>2500</td>\n",
       "      <td>0</td>\n",
       "      <td>1.0</td>\n",
       "      <td>6</td>\n",
       "    </tr>\n",
       "    <tr>\n",
       "      <th>30</th>\n",
       "      <td>***MASSIVE 1 BR GEM******PRIME UPPER EAST SIDE...</td>\n",
       "      <td>2325</td>\n",
       "      <td>1</td>\n",
       "      <td>1.0</td>\n",
       "      <td>4</td>\n",
       "    </tr>\n",
       "    <tr>\n",
       "      <th>76</th>\n",
       "      <td>NO Brokers fees!!! ONE Month Free!! Limited ti...</td>\n",
       "      <td>3050</td>\n",
       "      <td>2</td>\n",
       "      <td>1.0</td>\n",
       "      <td>4</td>\n",
       "    </tr>\n",
       "    <tr>\n",
       "      <th>111</th>\n",
       "      <td>Beautiful, large one bedroom in a 24 hour door...</td>\n",
       "      <td>4400</td>\n",
       "      <td>1</td>\n",
       "      <td>1.0</td>\n",
       "      <td>9</td>\n",
       "    </tr>\n",
       "  </tbody>\n",
       "</table>\n",
       "</div>"
      ],
      "text/plain": [
       "                                           description  price  bedrooms  \\\n",
       "10   Alcove studio\\r\\rRenovated kitchen and bathroo...   2550         1   \n",
       "19   ACTUAL APT. PHOTOS - Doorman - Elevator - Laun...   2500         0   \n",
       "30   ***MASSIVE 1 BR GEM******PRIME UPPER EAST SIDE...   2325         1   \n",
       "76   NO Brokers fees!!! ONE Month Free!! Limited ti...   3050         2   \n",
       "111  Beautiful, large one bedroom in a 24 hour door...   4400         1   \n",
       "\n",
       "     bathrooms  photos_count  \n",
       "10         1.0             2  \n",
       "19         1.0             6  \n",
       "30         1.0             4  \n",
       "76         1.0             4  \n",
       "111        1.0             9  "
      ]
     },
     "metadata": {},
     "output_type": "display_data"
    },
    {
     "name": "stdout",
     "output_type": "stream",
     "text": [
      "Label was 2, classified as 2\n"
     ]
    },
    {
     "data": {
      "text/html": [
       "<div>\n",
       "<style scoped>\n",
       "    .dataframe tbody tr th:only-of-type {\n",
       "        vertical-align: middle;\n",
       "    }\n",
       "\n",
       "    .dataframe tbody tr th {\n",
       "        vertical-align: top;\n",
       "    }\n",
       "\n",
       "    .dataframe thead th {\n",
       "        text-align: right;\n",
       "    }\n",
       "</style>\n",
       "<table border=\"1\" class=\"dataframe\">\n",
       "  <thead>\n",
       "    <tr style=\"text-align: right;\">\n",
       "      <th></th>\n",
       "      <th>description</th>\n",
       "      <th>price</th>\n",
       "      <th>bedrooms</th>\n",
       "      <th>bathrooms</th>\n",
       "      <th>photos_count</th>\n",
       "    </tr>\n",
       "  </thead>\n",
       "  <tbody>\n",
       "    <tr>\n",
       "      <th>0</th>\n",
       "      <td>THE PRICE IS NET EFFECTIVE - One month Free on...</td>\n",
       "      <td>2900</td>\n",
       "      <td>1</td>\n",
       "      <td>1.0</td>\n",
       "      <td>4</td>\n",
       "    </tr>\n",
       "    <tr>\n",
       "      <th>1</th>\n",
       "      <td>Spacious and contemporary alcove studio with h...</td>\n",
       "      <td>4000</td>\n",
       "      <td>0</td>\n",
       "      <td>1.0</td>\n",
       "      <td>4</td>\n",
       "    </tr>\n",
       "    <tr>\n",
       "      <th>3</th>\n",
       "      <td>85TH/ 3 AVE! UNIQUE 800 SQFT PENTHOUSE DUPLEX ...</td>\n",
       "      <td>2850</td>\n",
       "      <td>1</td>\n",
       "      <td>2.0</td>\n",
       "      <td>6</td>\n",
       "    </tr>\n",
       "    <tr>\n",
       "      <th>4</th>\n",
       "      <td>This HUGE STUDIO LOFT apartment HAS AN AMAZING...</td>\n",
       "      <td>3100</td>\n",
       "      <td>0</td>\n",
       "      <td>1.0</td>\n",
       "      <td>5</td>\n",
       "    </tr>\n",
       "    <tr>\n",
       "      <th>5</th>\n",
       "      <td>Located on west 57th st , short walk from Colu...</td>\n",
       "      <td>4000</td>\n",
       "      <td>2</td>\n",
       "      <td>1.0</td>\n",
       "      <td>6</td>\n",
       "    </tr>\n",
       "  </tbody>\n",
       "</table>\n",
       "</div>"
      ],
      "text/plain": [
       "                                         description  price  bedrooms  \\\n",
       "0  THE PRICE IS NET EFFECTIVE - One month Free on...   2900         1   \n",
       "1  Spacious and contemporary alcove studio with h...   4000         0   \n",
       "3  85TH/ 3 AVE! UNIQUE 800 SQFT PENTHOUSE DUPLEX ...   2850         1   \n",
       "4  This HUGE STUDIO LOFT apartment HAS AN AMAZING...   3100         0   \n",
       "5  Located on west 57th st , short walk from Colu...   4000         2   \n",
       "\n",
       "   bathrooms  photos_count  \n",
       "0        1.0             4  \n",
       "1        1.0             4  \n",
       "3        2.0             6  \n",
       "4        1.0             5  \n",
       "5        1.0             6  "
      ]
     },
     "metadata": {},
     "output_type": "display_data"
    },
    {
     "data": {
      "text/plain": [
       "<matplotlib.axes._subplots.AxesSubplot at 0x7efe17d90438>"
      ]
     },
     "metadata": {},
     "output_type": "display_data"
    },
    {
     "name": "stdout",
     "output_type": "stream",
     "text": [
      "              precision    recall  f1-score   support\n",
      "\n",
      "           0       0.00      0.00      0.00         0\n",
      "           1       0.23      0.45      0.31       573\n",
      "           2       0.94      0.74      0.83      4363\n",
      "\n",
      "   micro avg       0.71      0.71      0.71      4936\n",
      "   macro avg       0.39      0.40      0.38      4936\n",
      "weighted avg       0.86      0.71      0.77      4936\n",
      "\n",
      "Logistic loss 0.66568\n"
     ]
    },
    {
     "name": "stderr",
     "output_type": "stream",
     "text": [
      "/u/77/spilsbt1/unix/miniconda3/lib/python3.6/site-packages/sklearn/metrics/classification.py:1145: UndefinedMetricWarning: Recall and F-score are ill-defined and being set to 0.0 in labels with no true samples.\n",
      "  'recall', 'true', average, warn_for)\n",
      "/u/77/spilsbt1/unix/miniconda3/lib/python3.6/site-packages/sklearn/metrics/classification.py:1145: UndefinedMetricWarning: Recall and F-score are ill-defined and being set to 0.0 in labels with no true samples.\n",
      "  'recall', 'true', average, warn_for)\n",
      "/u/77/spilsbt1/unix/miniconda3/lib/python3.6/site-packages/sklearn/metrics/classification.py:1145: UndefinedMetricWarning: Recall and F-score are ill-defined and being set to 0.0 in labels with no true samples.\n",
      "  'recall', 'true', average, warn_for)\n"
     ]
    },
    {
     "data": {
      "image/png": "[encoded data removed]",
      "text/plain": [
       "<Figure size 432x288 with 2 Axes>"
      ]
     },
     "metadata": {
      "needs_background": "light"
     },
     "output_type": "display_data"
    }
   ],
   "source": [
    "generate_classification_report(SIMPLE_RNN_MODEL_WITH_TABULAR_DATA,\n",
    "                               VALIDATION_DATAFRAME,\n",
    "                               (VALIDATION_WORD_DESCRIPTION_SEQUENCES,\n",
    "                                VALIDATION_WORD_SEQUENCES_LENGTHS,\n",
    "                                VALIDATION_FEATURES_CONTINUOUS_TENSOR,\n",
    "                                VALIDATION_FEATURES_CATEGORICAL_TENSOR),\n",
    "                               VALIDATION_LABELS.values,\n",
    "                               [0, 1, 2])"
   ]
  },
  {
   "cell_type": "code",
   "execution_count": 48,
   "metadata": {},
   "outputs": [],
   "source": [
    "write_predictions_table_to_csv(\n",
    "    get_prediction_probabilities_with_columns(\n",
    "        SIMPLE_RNN_MODEL_WITH_TABULAR_DATA,\n",
    "        FEATURES_TEST_DATAFRAME['listing_id'],\n",
    "        (TEST_WORD_DESCRIPTION_SEQUENCES,\n",
    "         TEST_WORD_SEQUENCES_LENGTHS,\n",
    "         TEST_FEATURES_CONTINUOUS_TENSOR,\n",
    "         TEST_FEATURES_CATEGORICAL_TENSOR),\n",
    "        \n",
    "    ),\n",
    "    'simple_rnn_model_tabular_data_submissions.csv'\n",
    ")"
   ]
  },
  {
   "cell_type": "markdown",
   "metadata": {},
   "source": [
    "### 3.3.2) FastText"
   ]
  },
  {
   "cell_type": "markdown",
   "metadata": {},
   "source": [
    "A key concept here is that we compute the bigrams of a sentence and then apply them to the end of the sentence.\n",
    "\n",
    "Then we just put the whole thing through linear layers after average pooling, the average pooling takes into account the big-grams."
   ]
  },
  {
   "cell_type": "code",
   "execution_count": 49,
   "metadata": {},
   "outputs": [],
   "source": [
    "(TRAIN_DATAFRAME_TOKEN_SEQUENCES,\n",
    " VALIDATION_DATAFRAME_TOKEN_SEQUENCES,\n",
    " TEST_DATAFRAME_TOKEN_SEQUENCES) = tokenize_sequences(\n",
    "    list(TRAIN_DATAFRAME['clean_description']),\n",
    "    list(VALIDATION_DATAFRAME['clean_description']),\n",
    "    list(TEST_DATAFRAME['clean_description'])\n",
    ")\n",
    "\n",
    "(TRAIN_DATAFRAME_TOKEN_SEQUENCES_WITH_BIGRAMS,\n",
    " VALIDATION_DATAFRAME_TOKEN_SEQUENCES_WITH_BIGRAMS,\n",
    " TEST_DATAFRAME_TOKEN_SEQUENCES_WITH_BIGRAMS) = postprocess_sequences(\n",
    "    TRAIN_DATAFRAME_TOKEN_SEQUENCES,\n",
    "    VALIDATION_DATAFRAME_TOKEN_SEQUENCES,\n",
    "    TEST_DATAFRAME_TOKEN_SEQUENCES,\n",
    "    postprocessing=generate_bigrams\n",
    ")"
   ]
  },
  {
   "cell_type": "code",
   "execution_count": 50,
   "metadata": {},
   "outputs": [
    {
     "name": "stderr",
     "output_type": "stream",
     "text": [
      "01/20/2019 23:45:08 - INFO - torchtext.vocab -   Loading vectors from .vector_cache/glove.6B.100d.txt.pt\n"
     ]
    }
   ],
   "source": [
    "TEXT = torchtext_create_text_vocab(TRAIN_DATAFRAME_TOKEN_SEQUENCES,\n",
    "                                   VALIDATION_DATAFRAME_TOKEN_SEQUENCES,\n",
    "                                   TEST_DATAFRAME_TOKEN_SEQUENCES,\n",
    "                                   vectors='glove.6B.100d')"
   ]
  },
  {
   "cell_type": "code",
   "execution_count": 51,
   "metadata": {},
   "outputs": [],
   "source": [
    "(TRAIN_DESCRIPTIONS_WITH_BIGRAMS,\n",
    " VALIDATION_DESCRIPTIONS_WITH_BIGRAMS,\n",
    " TEST_DESCRIPTIONS_WITH_BIGRAMS) = torchtext_process_texts(\n",
    "    TRAIN_DATAFRAME_TOKEN_SEQUENCES,\n",
    "    VALIDATION_DATAFRAME_TOKEN_SEQUENCES,\n",
    "    TEST_DATAFRAME_TOKEN_SEQUENCES,\n",
    "    text=TEXT\n",
    ")"
   ]
  },
  {
   "cell_type": "code",
   "execution_count": 52,
   "metadata": {},
   "outputs": [],
   "source": [
    "EMBEDDING_DIM = 100\n",
    "FASTTEXT_MODEL = NoToTensorInLossClassifier(\n",
    "    FastText,\n",
    "    lr=0.001,\n",
    "    batch_size=256,\n",
    "    optimizer=optim.Adam,\n",
    "    callbacks=[\n",
    "        EpochScoring(scoring='accuracy'),\n",
    "        LRAnnealing(),\n",
    "        LRScheduler(),\n",
    "        ProgressBar(),\n",
    "        CheckpointAndKeepBest(dirname='fasttext_checkpoint'),\n",
    "        TrainEndCheckpoint(dirname='fasttext_tabular_checkpoint',\n",
    "                           fn_prefix='fasttext_train_end_')\n",
    "    ],\n",
    "    max_epochs=15,\n",
    "    train_split=shuffled_train_test_split_by_indices(0.3),\n",
    "    device='cuda' if torch.cuda.is_available() else 'cpu',\n",
    "    module__encoder_dimension=EMBEDDING_DIM, # Number of encoder features\n",
    "    module__dictionary_dimension=len(TEXT.vocab.itos), # Dictionary dimension\n",
    "    module__output_dimension=3,\n",
    "    module__dropout=0.8,\n",
    "    module__pretrained=TEXT.vocab.vectors\n",
    ")"
   ]
  },
  {
   "cell_type": "code",
   "execution_count": 53,
   "metadata": {},
   "outputs": [
    {
     "data": {
      "application/vnd.jupyter.widget-view+json": {
       "model_id": "",
       "version_major": 2,
       "version_minor": 0
      },
      "text/plain": [
       "HBox(children=(IntProgress(value=0, max=175), HTML(value='')))"
      ]
     },
     "metadata": {},
     "output_type": "display_data"
    },
    {
     "name": "stdout",
     "output_type": "stream",
     "text": [
      "  epoch    accuracy    train_loss    valid_acc    valid_loss    cp      dur\n",
      "-------  ----------  ------------  -----------  ------------  ----  -------\n",
      "      1      \u001b[36m0.6949\u001b[0m        \u001b[32m0.7956\u001b[0m       \u001b[35m0.6949\u001b[0m        \u001b[31m0.7780\u001b[0m     +  30.9680\n"
     ]
    },
    {
     "data": {
      "application/vnd.jupyter.widget-view+json": {
       "model_id": "",
       "version_major": 2,
       "version_minor": 0
      },
      "text/plain": [
       "HBox(children=(IntProgress(value=0, max=175), HTML(value='')))"
      ]
     },
     "metadata": {},
     "output_type": "display_data"
    },
    {
     "name": "stdout",
     "output_type": "stream",
     "text": [
      "      2      0.6949        \u001b[32m0.7402\u001b[0m       0.6949        \u001b[31m0.7536\u001b[0m     +  31.0583\n"
     ]
    },
    {
     "data": {
      "application/vnd.jupyter.widget-view+json": {
       "model_id": "",
       "version_major": 2,
       "version_minor": 0
      },
      "text/plain": [
       "HBox(children=(IntProgress(value=0, max=175), HTML(value='')))"
      ]
     },
     "metadata": {},
     "output_type": "display_data"
    },
    {
     "name": "stdout",
     "output_type": "stream",
     "text": [
      "      3      0.6962        \u001b[32m0.6919\u001b[0m       \u001b[35m0.6962\u001b[0m        \u001b[31m0.7452\u001b[0m     +  31.4546\n"
     ]
    },
    {
     "data": {
      "application/vnd.jupyter.widget-view+json": {
       "model_id": "",
       "version_major": 2,
       "version_minor": 0
      },
      "text/plain": [
       "HBox(children=(IntProgress(value=0, max=175), HTML(value='')))"
      ]
     },
     "metadata": {},
     "output_type": "display_data"
    },
    {
     "name": "stdout",
     "output_type": "stream",
     "text": [
      "\r",
      "      4      \u001b[36m0.6709\u001b[0m        \u001b[32m0.6481\u001b[0m       0.6709        0.7750        31.0182\n"
     ]
    },
    {
     "data": {
      "application/vnd.jupyter.widget-view+json": {
       "model_id": "",
       "version_major": 2,
       "version_minor": 0
      },
      "text/plain": [
       "HBox(children=(IntProgress(value=0, max=175), HTML(value='')))"
      ]
     },
     "metadata": {},
     "output_type": "display_data"
    },
    {
     "name": "stdout",
     "output_type": "stream",
     "text": [
      "\r",
      "      5      0.7024        \u001b[32m0.6040\u001b[0m       \u001b[35m0.7024\u001b[0m        0.8007        30.9874\n"
     ]
    },
    {
     "data": {
      "application/vnd.jupyter.widget-view+json": {
       "model_id": "",
       "version_major": 2,
       "version_minor": 0
      },
      "text/plain": [
       "HBox(children=(IntProgress(value=0, max=175), HTML(value='')))"
      ]
     },
     "metadata": {},
     "output_type": "display_data"
    },
    {
     "name": "stdout",
     "output_type": "stream",
     "text": [
      "\r",
      "      6      0.6903        \u001b[32m0.5615\u001b[0m       0.6903        0.7931        31.0842\n"
     ]
    },
    {
     "data": {
      "application/vnd.jupyter.widget-view+json": {
       "model_id": "",
       "version_major": 2,
       "version_minor": 0
      },
      "text/plain": [
       "HBox(children=(IntProgress(value=0, max=175), HTML(value='')))"
      ]
     },
     "metadata": {},
     "output_type": "display_data"
    },
    {
     "name": "stdout",
     "output_type": "stream",
     "text": [
      "\r",
      "      7      0.6717        \u001b[32m0.5126\u001b[0m       0.6717        0.8187        30.9579\n"
     ]
    },
    {
     "data": {
      "application/vnd.jupyter.widget-view+json": {
       "model_id": "",
       "version_major": 2,
       "version_minor": 0
      },
      "text/plain": [
       "HBox(children=(IntProgress(value=0, max=175), HTML(value='')))"
      ]
     },
     "metadata": {},
     "output_type": "display_data"
    },
    {
     "name": "stdout",
     "output_type": "stream",
     "text": [
      "\r",
      "      8      0.6974        \u001b[32m0.4788\u001b[0m       0.6974        0.8304        30.9650\n"
     ]
    },
    {
     "data": {
      "application/vnd.jupyter.widget-view+json": {
       "model_id": "",
       "version_major": 2,
       "version_minor": 0
      },
      "text/plain": [
       "HBox(children=(IntProgress(value=0, max=175), HTML(value='')))"
      ]
     },
     "metadata": {},
     "output_type": "display_data"
    },
    {
     "name": "stdout",
     "output_type": "stream",
     "text": [
      "\r",
      "      9      0.6916        \u001b[32m0.4528\u001b[0m       0.6916        0.8143        31.4024\n"
     ]
    },
    {
     "data": {
      "application/vnd.jupyter.widget-view+json": {
       "model_id": "",
       "version_major": 2,
       "version_minor": 0
      },
      "text/plain": [
       "HBox(children=(IntProgress(value=0, max=175), HTML(value='')))"
      ]
     },
     "metadata": {},
     "output_type": "display_data"
    },
    {
     "name": "stdout",
     "output_type": "stream",
     "text": [
      "\r",
      "     10      0.6954        \u001b[32m0.4388\u001b[0m       0.6954        0.8194        30.9510\n"
     ]
    },
    {
     "data": {
      "application/vnd.jupyter.widget-view+json": {
       "model_id": "",
       "version_major": 2,
       "version_minor": 0
      },
      "text/plain": [
       "HBox(children=(IntProgress(value=0, max=175), HTML(value='')))"
      ]
     },
     "metadata": {},
     "output_type": "display_data"
    },
    {
     "name": "stdout",
     "output_type": "stream",
     "text": [
      "\r",
      "     11      0.6983        \u001b[32m0.4342\u001b[0m       0.6983        0.8156        30.9490\n"
     ]
    },
    {
     "data": {
      "application/vnd.jupyter.widget-view+json": {
       "model_id": "",
       "version_major": 2,
       "version_minor": 0
      },
      "text/plain": [
       "HBox(children=(IntProgress(value=0, max=175), HTML(value='')))"
      ]
     },
     "metadata": {},
     "output_type": "display_data"
    },
    {
     "name": "stdout",
     "output_type": "stream",
     "text": [
      "\r",
      "     12      \u001b[36m0.6555\u001b[0m        0.5329       0.6555        0.8645        30.9532\n"
     ]
    },
    {
     "data": {
      "application/vnd.jupyter.widget-view+json": {
       "model_id": "",
       "version_major": 2,
       "version_minor": 0
      },
      "text/plain": [
       "HBox(children=(IntProgress(value=0, max=175), HTML(value='')))"
      ]
     },
     "metadata": {},
     "output_type": "display_data"
    },
    {
     "name": "stdout",
     "output_type": "stream",
     "text": [
      "\r",
      "     13      \u001b[36m0.6101\u001b[0m        0.4990       0.6101        0.9501        30.9581\n"
     ]
    },
    {
     "data": {
      "application/vnd.jupyter.widget-view+json": {
       "model_id": "",
       "version_major": 2,
       "version_minor": 0
      },
      "text/plain": [
       "HBox(children=(IntProgress(value=0, max=175), HTML(value='')))"
      ]
     },
     "metadata": {},
     "output_type": "display_data"
    },
    {
     "name": "stdout",
     "output_type": "stream",
     "text": [
      "\r",
      "     14      0.6858        0.4852       0.6858        0.8691        30.9651\n"
     ]
    },
    {
     "data": {
      "application/vnd.jupyter.widget-view+json": {
       "model_id": "",
       "version_major": 2,
       "version_minor": 0
      },
      "text/plain": [
       "HBox(children=(IntProgress(value=0, max=175), HTML(value='')))"
      ]
     },
     "metadata": {},
     "output_type": "display_data"
    },
    {
     "name": "stdout",
     "output_type": "stream",
     "text": [
      "     15      0.6690        0.4506       0.6690        0.9216        30.9556\n",
      "Loading parameters from checkpoint 2\n"
     ]
    },
    {
     "data": {
      "text/plain": [
       "<class 'utils.language_models.simple_rnn.NoToTensorInLossClassifier'>[initialized](\n",
       "  module_=FastText(\n",
       "    (embedding): Embedding(504022, 100)\n",
       "    (fc): Linear(in_features=100, out_features=3, bias=True)\n",
       "  ),\n",
       ")"
      ]
     },
     "execution_count": 53,
     "metadata": {},
     "output_type": "execute_result"
    }
   ],
   "source": [
    "FASTTEXT_MODEL.fit(TRAIN_DESCRIPTIONS_WITH_BIGRAMS,\n",
    "                   TRAIN_LABELS_TENSOR)"
   ]
  },
  {
   "cell_type": "code",
   "execution_count": 54,
   "metadata": {},
   "outputs": [
    {
     "name": "stdout",
     "output_type": "stream",
     "text": [
      "Label was 0, classified as 0\n"
     ]
    },
    {
     "data": {
      "text/html": [
       "<div>\n",
       "<style scoped>\n",
       "    .dataframe tbody tr th:only-of-type {\n",
       "        vertical-align: middle;\n",
       "    }\n",
       "\n",
       "    .dataframe tbody tr th {\n",
       "        vertical-align: top;\n",
       "    }\n",
       "\n",
       "    .dataframe thead th {\n",
       "        text-align: right;\n",
       "    }\n",
       "</style>\n",
       "<table border=\"1\" class=\"dataframe\">\n",
       "  <thead>\n",
       "    <tr style=\"text-align: right;\">\n",
       "      <th></th>\n",
       "      <th>description</th>\n",
       "      <th>price</th>\n",
       "      <th>bedrooms</th>\n",
       "      <th>bathrooms</th>\n",
       "      <th>photos_count</th>\n",
       "    </tr>\n",
       "  </thead>\n",
       "  <tbody>\n",
       "    <tr>\n",
       "      <th>2</th>\n",
       "      <td>5TH ST/ 2 AVE! RENOVATED 2 BEDROOM IN CHARMING...</td>\n",
       "      <td>3200</td>\n",
       "      <td>2</td>\n",
       "      <td>1.0</td>\n",
       "      <td>6</td>\n",
       "    </tr>\n",
       "    <tr>\n",
       "      <th>46</th>\n",
       "      <td>Gorgeous Renovated Studio apartment in Kew Gar...</td>\n",
       "      <td>1375</td>\n",
       "      <td>0</td>\n",
       "      <td>1.0</td>\n",
       "      <td>7</td>\n",
       "    </tr>\n",
       "    <tr>\n",
       "      <th>107</th>\n",
       "      <td>Lexington AVE on 88th ST ~ Just LISTED 2 BED !...</td>\n",
       "      <td>2600</td>\n",
       "      <td>2</td>\n",
       "      <td>1.0</td>\n",
       "      <td>5</td>\n",
       "    </tr>\n",
       "    <tr>\n",
       "      <th>139</th>\n",
       "      <td>The Apartment:&lt;br /&gt;This is a beautifu...</td>\n",
       "      <td>1800</td>\n",
       "      <td>2</td>\n",
       "      <td>1.0</td>\n",
       "      <td>7</td>\n",
       "    </tr>\n",
       "    <tr>\n",
       "      <th>247</th>\n",
       "      <td>Live in Brooklyn Heights Historic District on ...</td>\n",
       "      <td>2550</td>\n",
       "      <td>2</td>\n",
       "      <td>1.0</td>\n",
       "      <td>5</td>\n",
       "    </tr>\n",
       "  </tbody>\n",
       "</table>\n",
       "</div>"
      ],
      "text/plain": [
       "                                           description  price  bedrooms  \\\n",
       "2    5TH ST/ 2 AVE! RENOVATED 2 BEDROOM IN CHARMING...   3200         2   \n",
       "46   Gorgeous Renovated Studio apartment in Kew Gar...   1375         0   \n",
       "107  Lexington AVE on 88th ST ~ Just LISTED 2 BED !...   2600         2   \n",
       "139          The Apartment:<br />This is a beautifu...   1800         2   \n",
       "247  Live in Brooklyn Heights Historic District on ...   2550         2   \n",
       "\n",
       "     bathrooms  photos_count  \n",
       "2          1.0             6  \n",
       "46         1.0             7  \n",
       "107        1.0             5  \n",
       "139        1.0             7  \n",
       "247        1.0             5  "
      ]
     },
     "metadata": {},
     "output_type": "display_data"
    },
    {
     "name": "stdout",
     "output_type": "stream",
     "text": [
      "Label was 0, classified as 1\n"
     ]
    },
    {
     "data": {
      "text/html": [
       "<div>\n",
       "<style scoped>\n",
       "    .dataframe tbody tr th:only-of-type {\n",
       "        vertical-align: middle;\n",
       "    }\n",
       "\n",
       "    .dataframe tbody tr th {\n",
       "        vertical-align: top;\n",
       "    }\n",
       "\n",
       "    .dataframe thead th {\n",
       "        text-align: right;\n",
       "    }\n",
       "</style>\n",
       "<table border=\"1\" class=\"dataframe\">\n",
       "  <thead>\n",
       "    <tr style=\"text-align: right;\">\n",
       "      <th></th>\n",
       "      <th>description</th>\n",
       "      <th>price</th>\n",
       "      <th>bedrooms</th>\n",
       "      <th>bathrooms</th>\n",
       "      <th>photos_count</th>\n",
       "    </tr>\n",
       "  </thead>\n",
       "  <tbody>\n",
       "    <tr>\n",
       "      <th>9</th>\n",
       "      <td>83RD/ AMSTERDAM! TRUE 2 BED IN NICE WELL KEPT ...</td>\n",
       "      <td>3000</td>\n",
       "      <td>2</td>\n",
       "      <td>1.0</td>\n",
       "      <td>6</td>\n",
       "    </tr>\n",
       "    <tr>\n",
       "      <th>69</th>\n",
       "      <td>Spacious studio apartment near Fulton Street M...</td>\n",
       "      <td>2495</td>\n",
       "      <td>0</td>\n",
       "      <td>1.0</td>\n",
       "      <td>5</td>\n",
       "    </tr>\n",
       "    <tr>\n",
       "      <th>71</th>\n",
       "      <td>Well maintained elevator building, offers a th...</td>\n",
       "      <td>1450</td>\n",
       "      <td>0</td>\n",
       "      <td>1.0</td>\n",
       "      <td>7</td>\n",
       "    </tr>\n",
       "    <tr>\n",
       "      <th>79</th>\n",
       "      <td>Large studio located on the 2nd floor in Prime...</td>\n",
       "      <td>1795</td>\n",
       "      <td>0</td>\n",
       "      <td>1.0</td>\n",
       "      <td>4</td>\n",
       "    </tr>\n",
       "    <tr>\n",
       "      <th>140</th>\n",
       "      <td>This luxury studio has an open -space layout w...</td>\n",
       "      <td>2500</td>\n",
       "      <td>0</td>\n",
       "      <td>1.0</td>\n",
       "      <td>7</td>\n",
       "    </tr>\n",
       "  </tbody>\n",
       "</table>\n",
       "</div>"
      ],
      "text/plain": [
       "                                           description  price  bedrooms  \\\n",
       "9    83RD/ AMSTERDAM! TRUE 2 BED IN NICE WELL KEPT ...   3000         2   \n",
       "69   Spacious studio apartment near Fulton Street M...   2495         0   \n",
       "71   Well maintained elevator building, offers a th...   1450         0   \n",
       "79   Large studio located on the 2nd floor in Prime...   1795         0   \n",
       "140  This luxury studio has an open -space layout w...   2500         0   \n",
       "\n",
       "     bathrooms  photos_count  \n",
       "9          1.0             6  \n",
       "69         1.0             5  \n",
       "71         1.0             7  \n",
       "79         1.0             4  \n",
       "140        1.0             7  "
      ]
     },
     "metadata": {},
     "output_type": "display_data"
    },
    {
     "name": "stdout",
     "output_type": "stream",
     "text": [
      "Label was 0, classified as 2\n"
     ]
    },
    {
     "data": {
      "text/html": [
       "<div>\n",
       "<style scoped>\n",
       "    .dataframe tbody tr th:only-of-type {\n",
       "        vertical-align: middle;\n",
       "    }\n",
       "\n",
       "    .dataframe tbody tr th {\n",
       "        vertical-align: top;\n",
       "    }\n",
       "\n",
       "    .dataframe thead th {\n",
       "        text-align: right;\n",
       "    }\n",
       "</style>\n",
       "<table border=\"1\" class=\"dataframe\">\n",
       "  <thead>\n",
       "    <tr style=\"text-align: right;\">\n",
       "      <th></th>\n",
       "      <th>description</th>\n",
       "      <th>price</th>\n",
       "      <th>bedrooms</th>\n",
       "      <th>bathrooms</th>\n",
       "      <th>photos_count</th>\n",
       "    </tr>\n",
       "  </thead>\n",
       "  <tbody>\n",
       "    <tr>\n",
       "      <th>47</th>\n",
       "      <td>Simply amazing!!!! Spacious 3 bedroom apartmen...</td>\n",
       "      <td>1899</td>\n",
       "      <td>3</td>\n",
       "      <td>1.0</td>\n",
       "      <td>8</td>\n",
       "    </tr>\n",
       "    <tr>\n",
       "      <th>81</th>\n",
       "      <td>These pictures are from a similarlisting.</td>\n",
       "      <td>2295</td>\n",
       "      <td>2</td>\n",
       "      <td>1.0</td>\n",
       "      <td>6</td>\n",
       "    </tr>\n",
       "    <tr>\n",
       "      <th>186</th>\n",
       "      <td>ELEVATOR - LAUNDRY - SS APPLIANCES - RECESSED ...</td>\n",
       "      <td>2100</td>\n",
       "      <td>2</td>\n",
       "      <td>1.0</td>\n",
       "      <td>9</td>\n",
       "    </tr>\n",
       "    <tr>\n",
       "      <th>188</th>\n",
       "      <td>Gramercy Park/Union Square! Huge 3 bedroom apa...</td>\n",
       "      <td>4553</td>\n",
       "      <td>3</td>\n",
       "      <td>1.0</td>\n",
       "      <td>5</td>\n",
       "    </tr>\n",
       "    <tr>\n",
       "      <th>212</th>\n",
       "      <td>RIVERDALE 1 BEDROOM .238 ST AREA. WALK TO 1 TR...</td>\n",
       "      <td>1450</td>\n",
       "      <td>1</td>\n",
       "      <td>1.0</td>\n",
       "      <td>3</td>\n",
       "    </tr>\n",
       "  </tbody>\n",
       "</table>\n",
       "</div>"
      ],
      "text/plain": [
       "                                           description  price  bedrooms  \\\n",
       "47   Simply amazing!!!! Spacious 3 bedroom apartmen...   1899         3   \n",
       "81           These pictures are from a similarlisting.   2295         2   \n",
       "186  ELEVATOR - LAUNDRY - SS APPLIANCES - RECESSED ...   2100         2   \n",
       "188  Gramercy Park/Union Square! Huge 3 bedroom apa...   4553         3   \n",
       "212  RIVERDALE 1 BEDROOM .238 ST AREA. WALK TO 1 TR...   1450         1   \n",
       "\n",
       "     bathrooms  photos_count  \n",
       "47         1.0             8  \n",
       "81         1.0             6  \n",
       "186        1.0             9  \n",
       "188        1.0             5  \n",
       "212        1.0             3  "
      ]
     },
     "metadata": {},
     "output_type": "display_data"
    },
    {
     "name": "stdout",
     "output_type": "stream",
     "text": [
      "Label was 1, classified as 0\n"
     ]
    },
    {
     "data": {
      "text/html": [
       "<div>\n",
       "<style scoped>\n",
       "    .dataframe tbody tr th:only-of-type {\n",
       "        vertical-align: middle;\n",
       "    }\n",
       "\n",
       "    .dataframe tbody tr th {\n",
       "        vertical-align: top;\n",
       "    }\n",
       "\n",
       "    .dataframe thead th {\n",
       "        text-align: right;\n",
       "    }\n",
       "</style>\n",
       "<table border=\"1\" class=\"dataframe\">\n",
       "  <thead>\n",
       "    <tr style=\"text-align: right;\">\n",
       "      <th></th>\n",
       "      <th>description</th>\n",
       "      <th>price</th>\n",
       "      <th>bedrooms</th>\n",
       "      <th>bathrooms</th>\n",
       "      <th>photos_count</th>\n",
       "    </tr>\n",
       "  </thead>\n",
       "  <tbody>\n",
       "    <tr>\n",
       "      <th>48</th>\n",
       "      <td>Prewar Charm !! East 80s &amp; 1st AVE ~ Gorgeous ...</td>\n",
       "      <td>1775</td>\n",
       "      <td>0</td>\n",
       "      <td>1.0</td>\n",
       "      <td>3</td>\n",
       "    </tr>\n",
       "    <tr>\n",
       "      <th>264</th>\n",
       "      <td>TRUE 2 BEDROOM W/ STAINLESS STEEL APPLIANCES -...</td>\n",
       "      <td>2800</td>\n",
       "      <td>2</td>\n",
       "      <td>1.0</td>\n",
       "      <td>5</td>\n",
       "    </tr>\n",
       "    <tr>\n",
       "      <th>312</th>\n",
       "      <td>The apartment is located in the desired Upper ...</td>\n",
       "      <td>2100</td>\n",
       "      <td>2</td>\n",
       "      <td>1.0</td>\n",
       "      <td>6</td>\n",
       "    </tr>\n",
       "    <tr>\n",
       "      <th>317</th>\n",
       "      <td>Currently under renovation, this two b...</td>\n",
       "      <td>1550</td>\n",
       "      <td>2</td>\n",
       "      <td>1.0</td>\n",
       "      <td>1</td>\n",
       "    </tr>\n",
       "    <tr>\n",
       "      <th>321</th>\n",
       "      <td>This apartment, building and neighborhood have...</td>\n",
       "      <td>2800</td>\n",
       "      <td>0</td>\n",
       "      <td>1.0</td>\n",
       "      <td>3</td>\n",
       "    </tr>\n",
       "  </tbody>\n",
       "</table>\n",
       "</div>"
      ],
      "text/plain": [
       "                                           description  price  bedrooms  \\\n",
       "48   Prewar Charm !! East 80s & 1st AVE ~ Gorgeous ...   1775         0   \n",
       "264  TRUE 2 BEDROOM W/ STAINLESS STEEL APPLIANCES -...   2800         2   \n",
       "312  The apartment is located in the desired Upper ...   2100         2   \n",
       "317          Currently under renovation, this two b...   1550         2   \n",
       "321  This apartment, building and neighborhood have...   2800         0   \n",
       "\n",
       "     bathrooms  photos_count  \n",
       "48         1.0             3  \n",
       "264        1.0             5  \n",
       "312        1.0             6  \n",
       "317        1.0             1  \n",
       "321        1.0             3  "
      ]
     },
     "metadata": {},
     "output_type": "display_data"
    },
    {
     "name": "stdout",
     "output_type": "stream",
     "text": [
      "Label was 1, classified as 1\n"
     ]
    },
    {
     "data": {
      "text/html": [
       "<div>\n",
       "<style scoped>\n",
       "    .dataframe tbody tr th:only-of-type {\n",
       "        vertical-align: middle;\n",
       "    }\n",
       "\n",
       "    .dataframe tbody tr th {\n",
       "        vertical-align: top;\n",
       "    }\n",
       "\n",
       "    .dataframe thead th {\n",
       "        text-align: right;\n",
       "    }\n",
       "</style>\n",
       "<table border=\"1\" class=\"dataframe\">\n",
       "  <thead>\n",
       "    <tr style=\"text-align: right;\">\n",
       "      <th></th>\n",
       "      <th>description</th>\n",
       "      <th>price</th>\n",
       "      <th>bedrooms</th>\n",
       "      <th>bathrooms</th>\n",
       "      <th>photos_count</th>\n",
       "    </tr>\n",
       "  </thead>\n",
       "  <tbody>\n",
       "    <tr>\n",
       "      <th>24</th>\n",
       "      <td>LISTING ID: 150804\\rSunny apartment in a quiet...</td>\n",
       "      <td>2050</td>\n",
       "      <td>1</td>\n",
       "      <td>1.0</td>\n",
       "      <td>3</td>\n",
       "    </tr>\n",
       "    <tr>\n",
       "      <th>74</th>\n",
       "      <td>Four bedroom (flex) apartment comes with 2 ful...</td>\n",
       "      <td>6195</td>\n",
       "      <td>4</td>\n",
       "      <td>2.0</td>\n",
       "      <td>5</td>\n",
       "    </tr>\n",
       "    <tr>\n",
       "      <th>99</th>\n",
       "      <td>High Floor, Bright And Spacious Two Be...</td>\n",
       "      <td>2150</td>\n",
       "      <td>2</td>\n",
       "      <td>1.0</td>\n",
       "      <td>10</td>\n",
       "    </tr>\n",
       "    <tr>\n",
       "      <th>123</th>\n",
       "      <td>89TH/ 2 AVE!  DUPLEX 1 BEDROOM  750 SQF W/ 1.5...</td>\n",
       "      <td>2700</td>\n",
       "      <td>1</td>\n",
       "      <td>2.0</td>\n",
       "      <td>8</td>\n",
       "    </tr>\n",
       "    <tr>\n",
       "      <th>128</th>\n",
       "      <td>NO FEE !! STUNNING BUILDING LOCATED IN PRIME L...</td>\n",
       "      <td>4900</td>\n",
       "      <td>3</td>\n",
       "      <td>2.0</td>\n",
       "      <td>8</td>\n",
       "    </tr>\n",
       "  </tbody>\n",
       "</table>\n",
       "</div>"
      ],
      "text/plain": [
       "                                           description  price  bedrooms  \\\n",
       "24   LISTING ID: 150804\\rSunny apartment in a quiet...   2050         1   \n",
       "74   Four bedroom (flex) apartment comes with 2 ful...   6195         4   \n",
       "99           High Floor, Bright And Spacious Two Be...   2150         2   \n",
       "123  89TH/ 2 AVE!  DUPLEX 1 BEDROOM  750 SQF W/ 1.5...   2700         1   \n",
       "128  NO FEE !! STUNNING BUILDING LOCATED IN PRIME L...   4900         3   \n",
       "\n",
       "     bathrooms  photos_count  \n",
       "24         1.0             3  \n",
       "74         2.0             5  \n",
       "99         1.0            10  \n",
       "123        2.0             8  \n",
       "128        2.0             8  "
      ]
     },
     "metadata": {},
     "output_type": "display_data"
    },
    {
     "name": "stdout",
     "output_type": "stream",
     "text": [
      "Label was 1, classified as 2\n"
     ]
    },
    {
     "data": {
      "text/html": [
       "<div>\n",
       "<style scoped>\n",
       "    .dataframe tbody tr th:only-of-type {\n",
       "        vertical-align: middle;\n",
       "    }\n",
       "\n",
       "    .dataframe tbody tr th {\n",
       "        vertical-align: top;\n",
       "    }\n",
       "\n",
       "    .dataframe thead th {\n",
       "        text-align: right;\n",
       "    }\n",
       "</style>\n",
       "<table border=\"1\" class=\"dataframe\">\n",
       "  <thead>\n",
       "    <tr style=\"text-align: right;\">\n",
       "      <th></th>\n",
       "      <th>description</th>\n",
       "      <th>price</th>\n",
       "      <th>bedrooms</th>\n",
       "      <th>bathrooms</th>\n",
       "      <th>photos_count</th>\n",
       "    </tr>\n",
       "  </thead>\n",
       "  <tbody>\n",
       "    <tr>\n",
       "      <th>17</th>\n",
       "      <td>Residential Prewar Building With Art Deco Flai...</td>\n",
       "      <td>2995</td>\n",
       "      <td>2</td>\n",
       "      <td>1.0</td>\n",
       "      <td>4</td>\n",
       "    </tr>\n",
       "    <tr>\n",
       "      <th>23</th>\n",
       "      <td>Charming 1 Bedroom Apartment for Rent in Boeru...</td>\n",
       "      <td>2500</td>\n",
       "      <td>1</td>\n",
       "      <td>1.0</td>\n",
       "      <td>12</td>\n",
       "    </tr>\n",
       "    <tr>\n",
       "      <th>31</th>\n",
       "      <td>Prime Murray Hill Neighborhood!   Located off ...</td>\n",
       "      <td>2350</td>\n",
       "      <td>0</td>\n",
       "      <td>1.0</td>\n",
       "      <td>2</td>\n",
       "    </tr>\n",
       "    <tr>\n",
       "      <th>34</th>\n",
       "      <td>This bright 1 bedroom apartment is located jus...</td>\n",
       "      <td>2100</td>\n",
       "      <td>1</td>\n",
       "      <td>1.0</td>\n",
       "      <td>5</td>\n",
       "    </tr>\n",
       "    <tr>\n",
       "      <th>43</th>\n",
       "      <td>PRIME Greenwich Village!\\r\\rMASSIVE 2BR!\\r\\rHi...</td>\n",
       "      <td>4350</td>\n",
       "      <td>2</td>\n",
       "      <td>1.0</td>\n",
       "      <td>4</td>\n",
       "    </tr>\n",
       "  </tbody>\n",
       "</table>\n",
       "</div>"
      ],
      "text/plain": [
       "                                          description  price  bedrooms  \\\n",
       "17  Residential Prewar Building With Art Deco Flai...   2995         2   \n",
       "23  Charming 1 Bedroom Apartment for Rent in Boeru...   2500         1   \n",
       "31  Prime Murray Hill Neighborhood!   Located off ...   2350         0   \n",
       "34  This bright 1 bedroom apartment is located jus...   2100         1   \n",
       "43  PRIME Greenwich Village!\\r\\rMASSIVE 2BR!\\r\\rHi...   4350         2   \n",
       "\n",
       "    bathrooms  photos_count  \n",
       "17        1.0             4  \n",
       "23        1.0            12  \n",
       "31        1.0             2  \n",
       "34        1.0             5  \n",
       "43        1.0             4  "
      ]
     },
     "metadata": {},
     "output_type": "display_data"
    },
    {
     "name": "stdout",
     "output_type": "stream",
     "text": [
      "Label was 2, classified as 0\n"
     ]
    },
    {
     "data": {
      "text/html": [
       "<div>\n",
       "<style scoped>\n",
       "    .dataframe tbody tr th:only-of-type {\n",
       "        vertical-align: middle;\n",
       "    }\n",
       "\n",
       "    .dataframe tbody tr th {\n",
       "        vertical-align: top;\n",
       "    }\n",
       "\n",
       "    .dataframe thead th {\n",
       "        text-align: right;\n",
       "    }\n",
       "</style>\n",
       "<table border=\"1\" class=\"dataframe\">\n",
       "  <thead>\n",
       "    <tr style=\"text-align: right;\">\n",
       "      <th></th>\n",
       "      <th>description</th>\n",
       "      <th>price</th>\n",
       "      <th>bedrooms</th>\n",
       "      <th>bathrooms</th>\n",
       "      <th>photos_count</th>\n",
       "    </tr>\n",
       "  </thead>\n",
       "  <tbody>\n",
       "    <tr>\n",
       "      <th>131</th>\n",
       "      <td>Beautiful JR4 in Prime Riverdale Location.  Us...</td>\n",
       "      <td>2150</td>\n",
       "      <td>2</td>\n",
       "      <td>1.0</td>\n",
       "      <td>3</td>\n",
       "    </tr>\n",
       "    <tr>\n",
       "      <th>175</th>\n",
       "      <td>One of a kind 2 flex bedroom in the heart of C...</td>\n",
       "      <td>3200</td>\n",
       "      <td>2</td>\n",
       "      <td>1.5</td>\n",
       "      <td>5</td>\n",
       "    </tr>\n",
       "    <tr>\n",
       "      <th>283</th>\n",
       "      <td>This stunning recently renovated one bedroom a...</td>\n",
       "      <td>1940</td>\n",
       "      <td>1</td>\n",
       "      <td>1.0</td>\n",
       "      <td>8</td>\n",
       "    </tr>\n",
       "    <tr>\n",
       "      <th>290</th>\n",
       "      <td>AMAZING RENOVATED 2BR APT WITH ALL NEW KITCHEN...</td>\n",
       "      <td>3400</td>\n",
       "      <td>2</td>\n",
       "      <td>1.0</td>\n",
       "      <td>5</td>\n",
       "    </tr>\n",
       "    <tr>\n",
       "      <th>408</th>\n",
       "      <td>NO FEE/FLEX1BED/BROADWAY/24DOORMAN/POOL/GYM&lt;br...</td>\n",
       "      <td>3650</td>\n",
       "      <td>1</td>\n",
       "      <td>1.0</td>\n",
       "      <td>3</td>\n",
       "    </tr>\n",
       "  </tbody>\n",
       "</table>\n",
       "</div>"
      ],
      "text/plain": [
       "                                           description  price  bedrooms  \\\n",
       "131  Beautiful JR4 in Prime Riverdale Location.  Us...   2150         2   \n",
       "175  One of a kind 2 flex bedroom in the heart of C...   3200         2   \n",
       "283  This stunning recently renovated one bedroom a...   1940         1   \n",
       "290  AMAZING RENOVATED 2BR APT WITH ALL NEW KITCHEN...   3400         2   \n",
       "408  NO FEE/FLEX1BED/BROADWAY/24DOORMAN/POOL/GYM<br...   3650         1   \n",
       "\n",
       "     bathrooms  photos_count  \n",
       "131        1.0             3  \n",
       "175        1.5             5  \n",
       "283        1.0             8  \n",
       "290        1.0             5  \n",
       "408        1.0             3  "
      ]
     },
     "metadata": {},
     "output_type": "display_data"
    },
    {
     "name": "stdout",
     "output_type": "stream",
     "text": [
      "Label was 2, classified as 1\n"
     ]
    },
    {
     "data": {
      "text/html": [
       "<div>\n",
       "<style scoped>\n",
       "    .dataframe tbody tr th:only-of-type {\n",
       "        vertical-align: middle;\n",
       "    }\n",
       "\n",
       "    .dataframe tbody tr th {\n",
       "        vertical-align: top;\n",
       "    }\n",
       "\n",
       "    .dataframe thead th {\n",
       "        text-align: right;\n",
       "    }\n",
       "</style>\n",
       "<table border=\"1\" class=\"dataframe\">\n",
       "  <thead>\n",
       "    <tr style=\"text-align: right;\">\n",
       "      <th></th>\n",
       "      <th>description</th>\n",
       "      <th>price</th>\n",
       "      <th>bedrooms</th>\n",
       "      <th>bathrooms</th>\n",
       "      <th>photos_count</th>\n",
       "    </tr>\n",
       "  </thead>\n",
       "  <tbody>\n",
       "    <tr>\n",
       "      <th>3</th>\n",
       "      <td>85TH/ 3 AVE! UNIQUE 800 SQFT PENTHOUSE DUPLEX ...</td>\n",
       "      <td>2850</td>\n",
       "      <td>1</td>\n",
       "      <td>2.0</td>\n",
       "      <td>6</td>\n",
       "    </tr>\n",
       "    <tr>\n",
       "      <th>70</th>\n",
       "      <td>Located in prime KIPS BAY / MURRAY HILL.  24 h...</td>\n",
       "      <td>2999</td>\n",
       "      <td>1</td>\n",
       "      <td>1.0</td>\n",
       "      <td>8</td>\n",
       "    </tr>\n",
       "    <tr>\n",
       "      <th>76</th>\n",
       "      <td>NO Brokers fees!!! ONE Month Free!! Limited ti...</td>\n",
       "      <td>3050</td>\n",
       "      <td>2</td>\n",
       "      <td>1.0</td>\n",
       "      <td>4</td>\n",
       "    </tr>\n",
       "    <tr>\n",
       "      <th>84</th>\n",
       "      <td>On the 26th floor of this luxury building in t...</td>\n",
       "      <td>2871</td>\n",
       "      <td>2</td>\n",
       "      <td>1.0</td>\n",
       "      <td>5</td>\n",
       "    </tr>\n",
       "    <tr>\n",
       "      <th>98</th>\n",
       "      <td>**2Bd/1BTH/FLEX located in the Heart of it all...</td>\n",
       "      <td>3000</td>\n",
       "      <td>2</td>\n",
       "      <td>1.0</td>\n",
       "      <td>5</td>\n",
       "    </tr>\n",
       "  </tbody>\n",
       "</table>\n",
       "</div>"
      ],
      "text/plain": [
       "                                          description  price  bedrooms  \\\n",
       "3   85TH/ 3 AVE! UNIQUE 800 SQFT PENTHOUSE DUPLEX ...   2850         1   \n",
       "70  Located in prime KIPS BAY / MURRAY HILL.  24 h...   2999         1   \n",
       "76  NO Brokers fees!!! ONE Month Free!! Limited ti...   3050         2   \n",
       "84  On the 26th floor of this luxury building in t...   2871         2   \n",
       "98  **2Bd/1BTH/FLEX located in the Heart of it all...   3000         2   \n",
       "\n",
       "    bathrooms  photos_count  \n",
       "3         2.0             6  \n",
       "70        1.0             8  \n",
       "76        1.0             4  \n",
       "84        1.0             5  \n",
       "98        1.0             5  "
      ]
     },
     "metadata": {},
     "output_type": "display_data"
    },
    {
     "name": "stdout",
     "output_type": "stream",
     "text": [
      "Label was 2, classified as 2\n"
     ]
    },
    {
     "data": {
      "text/html": [
       "<div>\n",
       "<style scoped>\n",
       "    .dataframe tbody tr th:only-of-type {\n",
       "        vertical-align: middle;\n",
       "    }\n",
       "\n",
       "    .dataframe tbody tr th {\n",
       "        vertical-align: top;\n",
       "    }\n",
       "\n",
       "    .dataframe thead th {\n",
       "        text-align: right;\n",
       "    }\n",
       "</style>\n",
       "<table border=\"1\" class=\"dataframe\">\n",
       "  <thead>\n",
       "    <tr style=\"text-align: right;\">\n",
       "      <th></th>\n",
       "      <th>description</th>\n",
       "      <th>price</th>\n",
       "      <th>bedrooms</th>\n",
       "      <th>bathrooms</th>\n",
       "      <th>photos_count</th>\n",
       "    </tr>\n",
       "  </thead>\n",
       "  <tbody>\n",
       "    <tr>\n",
       "      <th>0</th>\n",
       "      <td>THE PRICE IS NET EFFECTIVE - One month Free on...</td>\n",
       "      <td>2900</td>\n",
       "      <td>1</td>\n",
       "      <td>1.0</td>\n",
       "      <td>4</td>\n",
       "    </tr>\n",
       "    <tr>\n",
       "      <th>1</th>\n",
       "      <td>Spacious and contemporary alcove studio with h...</td>\n",
       "      <td>4000</td>\n",
       "      <td>0</td>\n",
       "      <td>1.0</td>\n",
       "      <td>4</td>\n",
       "    </tr>\n",
       "    <tr>\n",
       "      <th>4</th>\n",
       "      <td>This HUGE STUDIO LOFT apartment HAS AN AMAZING...</td>\n",
       "      <td>3100</td>\n",
       "      <td>0</td>\n",
       "      <td>1.0</td>\n",
       "      <td>5</td>\n",
       "    </tr>\n",
       "    <tr>\n",
       "      <th>5</th>\n",
       "      <td>Located on west 57th st , short walk from Colu...</td>\n",
       "      <td>4000</td>\n",
       "      <td>2</td>\n",
       "      <td>1.0</td>\n",
       "      <td>6</td>\n",
       "    </tr>\n",
       "    <tr>\n",
       "      <th>6</th>\n",
       "      <td>AMAZING TWO BEDROOM UNIT!HUGE LIVING AREA WITH...</td>\n",
       "      <td>5125</td>\n",
       "      <td>2</td>\n",
       "      <td>2.0</td>\n",
       "      <td>14</td>\n",
       "    </tr>\n",
       "  </tbody>\n",
       "</table>\n",
       "</div>"
      ],
      "text/plain": [
       "                                         description  price  bedrooms  \\\n",
       "0  THE PRICE IS NET EFFECTIVE - One month Free on...   2900         1   \n",
       "1  Spacious and contemporary alcove studio with h...   4000         0   \n",
       "4  This HUGE STUDIO LOFT apartment HAS AN AMAZING...   3100         0   \n",
       "5  Located on west 57th st , short walk from Colu...   4000         2   \n",
       "6  AMAZING TWO BEDROOM UNIT!HUGE LIVING AREA WITH...   5125         2   \n",
       "\n",
       "   bathrooms  photos_count  \n",
       "0        1.0             4  \n",
       "1        1.0             4  \n",
       "4        1.0             5  \n",
       "5        1.0             6  \n",
       "6        2.0            14  "
      ]
     },
     "metadata": {},
     "output_type": "display_data"
    },
    {
     "data": {
      "text/plain": [
       "<matplotlib.axes._subplots.AxesSubplot at 0x7efc7c4041d0>"
      ]
     },
     "metadata": {},
     "output_type": "display_data"
    },
    {
     "name": "stdout",
     "output_type": "stream",
     "text": [
      "              precision    recall  f1-score   support\n",
      "\n",
      "           0       0.12      0.26      0.17       174\n",
      "           1       0.24      0.42      0.30       631\n",
      "           2       0.91      0.76      0.83      4131\n",
      "\n",
      "   micro avg       0.70      0.70      0.70      4936\n",
      "   macro avg       0.42      0.48      0.43      4936\n",
      "weighted avg       0.80      0.70      0.74      4936\n",
      "\n",
      "Logistic loss 0.75024\n"
     ]
    },
    {
     "data": {
      "image/png": "[encoded data removed]",
      "text/plain": [
       "<Figure size 432x288 with 2 Axes>"
      ]
     },
     "metadata": {
      "needs_background": "light"
     },
     "output_type": "display_data"
    }
   ],
   "source": [
    "generate_classification_report(FASTTEXT_MODEL,\n",
    "                               VALIDATION_DATAFRAME,\n",
    "                               VALIDATION_DESCRIPTIONS_WITH_BIGRAMS,\n",
    "                               VALIDATION_LABELS.values,\n",
    "                               [0, 1, 2])"
   ]
  },
  {
   "cell_type": "code",
   "execution_count": 55,
   "metadata": {},
   "outputs": [],
   "source": [
    "write_predictions_table_to_csv(\n",
    "    get_prediction_probabilities_with_columns(\n",
    "        FASTTEXT_MODEL,\n",
    "        FEATURES_TEST_DATAFRAME['listing_id'],\n",
    "        TEST_DESCRIPTIONS_WITH_BIGRAMS,\n",
    "        \n",
    "    ),\n",
    "    'fasttext_model_submissions.csv'\n",
    ")"
   ]
  },
  {
   "cell_type": "code",
   "execution_count": 56,
   "metadata": {},
   "outputs": [],
   "source": [
    "FASTTEXT_WITH_TABULAR_MODEL = NoToTensorInLossClassifier(\n",
    "    FastTextWithTabularData,\n",
    "    lr=0.001,\n",
    "    batch_size=256,\n",
    "    optimizer=optim.Adam,\n",
    "    callbacks=[\n",
    "        EpochScoring(scoring='accuracy'),\n",
    "        LRAnnealing(),\n",
    "        LRScheduler(),\n",
    "        ProgressBar(),\n",
    "        CheckpointAndKeepBest(dirname='fasttext_tabular_checkpoint'),\n",
    "        TrainEndCheckpoint(dirname='fasttext_tabular_checkpoint',\n",
    "                           fn_prefix='fasttext_tabular_train_end_')\n",
    "    ],\n",
    "    max_epochs=20,\n",
    "    train_split=shuffled_train_test_split_by_indices(0.3),\n",
    "    device='cuda' if torch.cuda.is_available() else 'cpu',\n",
    "    module__encoder_dimension=EMBEDDING_DIM, # Number of encoder features\n",
    "    module__dictionary_dimension=len(TEXT.vocab.itos), # Dictionary dimension\n",
    "    module__output_dimension=3,\n",
    "    module__dropout=0.8,\n",
    "    module__pretrained=TEXT.vocab.vectors,\n",
    "    module__continuous_features_dimension=TRAIN_FEATURES_CONTINUOUS.shape[1],\n",
    "    module__categorical_feature_embedding_dimensions=[\n",
    "        (CATEGORICAL_FEATURES[c], 80) for c in CATEGORICAL_FEATURES\n",
    "    ],\n",
    ")"
   ]
  },
  {
   "cell_type": "code",
   "execution_count": 57,
   "metadata": {},
   "outputs": [
    {
     "data": {
      "application/vnd.jupyter.widget-view+json": {
       "model_id": "",
       "version_major": 2,
       "version_minor": 0
      },
      "text/plain": [
       "HBox(children=(IntProgress(value=0, max=174), HTML(value='')))"
      ]
     },
     "metadata": {},
     "output_type": "display_data"
    },
    {
     "name": "stdout",
     "output_type": "stream",
     "text": [
      "  epoch    accuracy    train_loss    valid_acc    valid_loss    cp      dur\n",
      "-------  ----------  ------------  -----------  ------------  ----  -------\n",
      "      1      \u001b[36m0.6630\u001b[0m        \u001b[32m1.0991\u001b[0m       \u001b[35m0.6630\u001b[0m        \u001b[31m1.0558\u001b[0m     +  31.5073\n"
     ]
    },
    {
     "data": {
      "application/vnd.jupyter.widget-view+json": {
       "model_id": "",
       "version_major": 2,
       "version_minor": 0
      },
      "text/plain": [
       "HBox(children=(IntProgress(value=0, max=174), HTML(value='')))"
      ]
     },
     "metadata": {},
     "output_type": "display_data"
    },
    {
     "name": "stdout",
     "output_type": "stream",
     "text": [
      "\r",
      "      2      \u001b[36m0.6217\u001b[0m        \u001b[32m1.0958\u001b[0m       0.6217        1.5399        31.5160\n"
     ]
    },
    {
     "data": {
      "application/vnd.jupyter.widget-view+json": {
       "model_id": "",
       "version_major": 2,
       "version_minor": 0
      },
      "text/plain": [
       "HBox(children=(IntProgress(value=0, max=174), HTML(value='')))"
      ]
     },
     "metadata": {},
     "output_type": "display_data"
    },
    {
     "name": "stdout",
     "output_type": "stream",
     "text": [
      "\r",
      "      3      0.6349        \u001b[32m1.0583\u001b[0m       0.6349        1.5816        31.9257\n"
     ]
    },
    {
     "data": {
      "application/vnd.jupyter.widget-view+json": {
       "model_id": "",
       "version_major": 2,
       "version_minor": 0
      },
      "text/plain": [
       "HBox(children=(IntProgress(value=0, max=174), HTML(value='')))"
      ]
     },
     "metadata": {},
     "output_type": "display_data"
    },
    {
     "name": "stdout",
     "output_type": "stream",
     "text": [
      "\r",
      "      4      0.6583        \u001b[32m0.9008\u001b[0m       0.6583        1.3953        31.6990\n"
     ]
    },
    {
     "data": {
      "application/vnd.jupyter.widget-view+json": {
       "model_id": "",
       "version_major": 2,
       "version_minor": 0
      },
      "text/plain": [
       "HBox(children=(IntProgress(value=0, max=174), HTML(value='')))"
      ]
     },
     "metadata": {},
     "output_type": "display_data"
    },
    {
     "name": "stdout",
     "output_type": "stream",
     "text": [
      "\r",
      "      5      0.6733        \u001b[32m0.7833\u001b[0m       \u001b[35m0.6733\u001b[0m        1.5682        32.0831\n"
     ]
    },
    {
     "data": {
      "application/vnd.jupyter.widget-view+json": {
       "model_id": "",
       "version_major": 2,
       "version_minor": 0
      },
      "text/plain": [
       "HBox(children=(IntProgress(value=0, max=174), HTML(value='')))"
      ]
     },
     "metadata": {},
     "output_type": "display_data"
    },
    {
     "name": "stdout",
     "output_type": "stream",
     "text": [
      "\r",
      "      6      0.6708        \u001b[32m0.7400\u001b[0m       0.6708        1.3864        31.5090\n"
     ]
    },
    {
     "data": {
      "application/vnd.jupyter.widget-view+json": {
       "model_id": "",
       "version_major": 2,
       "version_minor": 0
      },
      "text/plain": [
       "HBox(children=(IntProgress(value=0, max=174), HTML(value='')))"
      ]
     },
     "metadata": {},
     "output_type": "display_data"
    },
    {
     "name": "stdout",
     "output_type": "stream",
     "text": [
      "\r",
      "      7      0.6736        \u001b[32m0.6383\u001b[0m       \u001b[35m0.6736\u001b[0m        1.0979        32.1366\n"
     ]
    },
    {
     "data": {
      "application/vnd.jupyter.widget-view+json": {
       "model_id": "",
       "version_major": 2,
       "version_minor": 0
      },
      "text/plain": [
       "HBox(children=(IntProgress(value=0, max=174), HTML(value='')))"
      ]
     },
     "metadata": {},
     "output_type": "display_data"
    },
    {
     "name": "stdout",
     "output_type": "stream",
     "text": [
      "      8      0.6788        \u001b[32m0.5315\u001b[0m       \u001b[35m0.6788\u001b[0m        \u001b[31m0.9897\u001b[0m     +  31.5204\n"
     ]
    },
    {
     "data": {
      "application/vnd.jupyter.widget-view+json": {
       "model_id": "",
       "version_major": 2,
       "version_minor": 0
      },
      "text/plain": [
       "HBox(children=(IntProgress(value=0, max=174), HTML(value='')))"
      ]
     },
     "metadata": {},
     "output_type": "display_data"
    },
    {
     "name": "stdout",
     "output_type": "stream",
     "text": [
      "      9      0.6974        \u001b[32m0.4866\u001b[0m       \u001b[35m0.6974\u001b[0m        \u001b[31m0.8929\u001b[0m     +  31.5725\n"
     ]
    },
    {
     "data": {
      "application/vnd.jupyter.widget-view+json": {
       "model_id": "",
       "version_major": 2,
       "version_minor": 0
      },
      "text/plain": [
       "HBox(children=(IntProgress(value=0, max=174), HTML(value='')))"
      ]
     },
     "metadata": {},
     "output_type": "display_data"
    },
    {
     "name": "stdout",
     "output_type": "stream",
     "text": [
      "     10      0.7098        \u001b[32m0.4861\u001b[0m       \u001b[35m0.7098\u001b[0m        \u001b[31m0.7870\u001b[0m     +  31.9735\n"
     ]
    },
    {
     "data": {
      "application/vnd.jupyter.widget-view+json": {
       "model_id": "",
       "version_major": 2,
       "version_minor": 0
      },
      "text/plain": [
       "HBox(children=(IntProgress(value=0, max=174), HTML(value='')))"
      ]
     },
     "metadata": {},
     "output_type": "display_data"
    },
    {
     "name": "stdout",
     "output_type": "stream",
     "text": [
      "\r",
      "     11      0.7059        \u001b[32m0.4474\u001b[0m       0.7059        0.7880        31.7501\n"
     ]
    },
    {
     "data": {
      "application/vnd.jupyter.widget-view+json": {
       "model_id": "",
       "version_major": 2,
       "version_minor": 0
      },
      "text/plain": [
       "HBox(children=(IntProgress(value=0, max=174), HTML(value='')))"
      ]
     },
     "metadata": {},
     "output_type": "display_data"
    },
    {
     "name": "stdout",
     "output_type": "stream",
     "text": [
      "\r",
      "     12      0.6429        0.8770       0.6429        1.4427        32.1693\n"
     ]
    },
    {
     "data": {
      "application/vnd.jupyter.widget-view+json": {
       "model_id": "",
       "version_major": 2,
       "version_minor": 0
      },
      "text/plain": [
       "HBox(children=(IntProgress(value=0, max=174), HTML(value='')))"
      ]
     },
     "metadata": {},
     "output_type": "display_data"
    },
    {
     "name": "stdout",
     "output_type": "stream",
     "text": [
      "\r",
      "     13      \u001b[36m0.6048\u001b[0m        0.9844       0.6048        2.2852        31.4916\n"
     ]
    },
    {
     "data": {
      "application/vnd.jupyter.widget-view+json": {
       "model_id": "",
       "version_major": 2,
       "version_minor": 0
      },
      "text/plain": [
       "HBox(children=(IntProgress(value=0, max=174), HTML(value='')))"
      ]
     },
     "metadata": {},
     "output_type": "display_data"
    },
    {
     "name": "stdout",
     "output_type": "stream",
     "text": [
      "\r",
      "     14      0.6675        1.0616       0.6675        2.3452        31.9651\n"
     ]
    },
    {
     "data": {
      "application/vnd.jupyter.widget-view+json": {
       "model_id": "",
       "version_major": 2,
       "version_minor": 0
      },
      "text/plain": [
       "HBox(children=(IntProgress(value=0, max=174), HTML(value='')))"
      ]
     },
     "metadata": {},
     "output_type": "display_data"
    },
    {
     "name": "stdout",
     "output_type": "stream",
     "text": [
      "\r",
      "     15      0.6565        1.0596       0.6565        2.5716        31.4936\n"
     ]
    },
    {
     "data": {
      "application/vnd.jupyter.widget-view+json": {
       "model_id": "",
       "version_major": 2,
       "version_minor": 0
      },
      "text/plain": [
       "HBox(children=(IntProgress(value=0, max=174), HTML(value='')))"
      ]
     },
     "metadata": {},
     "output_type": "display_data"
    },
    {
     "name": "stdout",
     "output_type": "stream",
     "text": [
      "\r",
      "     16      0.6419        0.9804       0.6419        2.4688        31.9562\n"
     ]
    },
    {
     "data": {
      "application/vnd.jupyter.widget-view+json": {
       "model_id": "",
       "version_major": 2,
       "version_minor": 0
      },
      "text/plain": [
       "HBox(children=(IntProgress(value=0, max=174), HTML(value='')))"
      ]
     },
     "metadata": {},
     "output_type": "display_data"
    },
    {
     "name": "stdout",
     "output_type": "stream",
     "text": [
      "\r",
      "     17      0.6449        0.7932       0.6449        2.4790        31.4706\n"
     ]
    },
    {
     "data": {
      "application/vnd.jupyter.widget-view+json": {
       "model_id": "",
       "version_major": 2,
       "version_minor": 0
      },
      "text/plain": [
       "HBox(children=(IntProgress(value=0, max=174), HTML(value='')))"
      ]
     },
     "metadata": {},
     "output_type": "display_data"
    },
    {
     "name": "stdout",
     "output_type": "stream",
     "text": [
      "\r",
      "     18      0.6609        0.7370       0.6609        2.5919        31.9657\n"
     ]
    },
    {
     "data": {
      "application/vnd.jupyter.widget-view+json": {
       "model_id": "",
       "version_major": 2,
       "version_minor": 0
      },
      "text/plain": [
       "HBox(children=(IntProgress(value=0, max=174), HTML(value='')))"
      ]
     },
     "metadata": {},
     "output_type": "display_data"
    },
    {
     "name": "stdout",
     "output_type": "stream",
     "text": [
      "\r",
      "     19      0.6654        0.7853       0.6654        3.0237        31.5126\n"
     ]
    },
    {
     "data": {
      "application/vnd.jupyter.widget-view+json": {
       "model_id": "",
       "version_major": 2,
       "version_minor": 0
      },
      "text/plain": [
       "HBox(children=(IntProgress(value=0, max=174), HTML(value='')))"
      ]
     },
     "metadata": {},
     "output_type": "display_data"
    },
    {
     "name": "stdout",
     "output_type": "stream",
     "text": [
      "     20      0.6629        0.8154       0.6629        2.7814        31.4943\n",
      "Loading parameters from checkpoint 9\n"
     ]
    },
    {
     "data": {
      "text/plain": [
       "<class 'utils.language_models.simple_rnn.NoToTensorInLossClassifier'>[initialized](\n",
       "  module_=FastTextWithTabularData(\n",
       "    (embedding): Embedding(504022, 100)\n",
       "    (fc): Linear(in_features=447, out_features=3, bias=True)\n",
       "    (emb_0): Embedding(540, 80)\n",
       "    (emb_1): Embedding(718, 80)\n",
       "    (emb_2): Embedding(581, 80)\n",
       "  ),\n",
       ")"
      ]
     },
     "execution_count": 57,
     "metadata": {},
     "output_type": "execute_result"
    }
   ],
   "source": [
    "FASTTEXT_WITH_TABULAR_MODEL.fit((TRAIN_DESCRIPTIONS_WITH_BIGRAMS,\n",
    "                                 TRAIN_FEATURES_CONTINUOUS_TENSOR,\n",
    "                                 TRAIN_FEATURES_CATEGORICAL_TENSOR),\n",
    "                                TRAIN_LABELS_TENSOR)"
   ]
  },
  {
   "cell_type": "code",
   "execution_count": 58,
   "metadata": {},
   "outputs": [
    {
     "name": "stdout",
     "output_type": "stream",
     "text": [
      "Label was 0, classified as 0\n"
     ]
    },
    {
     "data": {
      "text/html": [
       "<div>\n",
       "<style scoped>\n",
       "    .dataframe tbody tr th:only-of-type {\n",
       "        vertical-align: middle;\n",
       "    }\n",
       "\n",
       "    .dataframe tbody tr th {\n",
       "        vertical-align: top;\n",
       "    }\n",
       "\n",
       "    .dataframe thead th {\n",
       "        text-align: right;\n",
       "    }\n",
       "</style>\n",
       "<table border=\"1\" class=\"dataframe\">\n",
       "  <thead>\n",
       "    <tr style=\"text-align: right;\">\n",
       "      <th></th>\n",
       "      <th>description</th>\n",
       "      <th>price</th>\n",
       "      <th>bedrooms</th>\n",
       "      <th>bathrooms</th>\n",
       "      <th>photos_count</th>\n",
       "    </tr>\n",
       "  </thead>\n",
       "  <tbody>\n",
       "    <tr>\n",
       "      <th>2</th>\n",
       "      <td>5TH ST/ 2 AVE! RENOVATED 2 BEDROOM IN CHARMING...</td>\n",
       "      <td>3200</td>\n",
       "      <td>2</td>\n",
       "      <td>1.0</td>\n",
       "      <td>6</td>\n",
       "    </tr>\n",
       "    <tr>\n",
       "      <th>139</th>\n",
       "      <td>The Apartment:&lt;br /&gt;This is a beautifu...</td>\n",
       "      <td>1800</td>\n",
       "      <td>2</td>\n",
       "      <td>1.0</td>\n",
       "      <td>7</td>\n",
       "    </tr>\n",
       "    <tr>\n",
       "      <th>247</th>\n",
       "      <td>Live in Brooklyn Heights Historic District on ...</td>\n",
       "      <td>2550</td>\n",
       "      <td>2</td>\n",
       "      <td>1.0</td>\n",
       "      <td>5</td>\n",
       "    </tr>\n",
       "    <tr>\n",
       "      <th>332</th>\n",
       "      <td>Check Out This Lovely Studio Apartment...</td>\n",
       "      <td>1400</td>\n",
       "      <td>0</td>\n",
       "      <td>1.0</td>\n",
       "      <td>3</td>\n",
       "    </tr>\n",
       "    <tr>\n",
       "      <th>360</th>\n",
       "      <td>2 Bedroom available on the first floor of a pr...</td>\n",
       "      <td>1950</td>\n",
       "      <td>2</td>\n",
       "      <td>1.0</td>\n",
       "      <td>5</td>\n",
       "    </tr>\n",
       "  </tbody>\n",
       "</table>\n",
       "</div>"
      ],
      "text/plain": [
       "                                           description  price  bedrooms  \\\n",
       "2    5TH ST/ 2 AVE! RENOVATED 2 BEDROOM IN CHARMING...   3200         2   \n",
       "139          The Apartment:<br />This is a beautifu...   1800         2   \n",
       "247  Live in Brooklyn Heights Historic District on ...   2550         2   \n",
       "332          Check Out This Lovely Studio Apartment...   1400         0   \n",
       "360  2 Bedroom available on the first floor of a pr...   1950         2   \n",
       "\n",
       "     bathrooms  photos_count  \n",
       "2          1.0             6  \n",
       "139        1.0             7  \n",
       "247        1.0             5  \n",
       "332        1.0             3  \n",
       "360        1.0             5  "
      ]
     },
     "metadata": {},
     "output_type": "display_data"
    },
    {
     "name": "stdout",
     "output_type": "stream",
     "text": [
      "Label was 0, classified as 1\n"
     ]
    },
    {
     "data": {
      "text/html": [
       "<div>\n",
       "<style scoped>\n",
       "    .dataframe tbody tr th:only-of-type {\n",
       "        vertical-align: middle;\n",
       "    }\n",
       "\n",
       "    .dataframe tbody tr th {\n",
       "        vertical-align: top;\n",
       "    }\n",
       "\n",
       "    .dataframe thead th {\n",
       "        text-align: right;\n",
       "    }\n",
       "</style>\n",
       "<table border=\"1\" class=\"dataframe\">\n",
       "  <thead>\n",
       "    <tr style=\"text-align: right;\">\n",
       "      <th></th>\n",
       "      <th>description</th>\n",
       "      <th>price</th>\n",
       "      <th>bedrooms</th>\n",
       "      <th>bathrooms</th>\n",
       "      <th>photos_count</th>\n",
       "    </tr>\n",
       "  </thead>\n",
       "  <tbody>\n",
       "    <tr>\n",
       "      <th>9</th>\n",
       "      <td>83RD/ AMSTERDAM! TRUE 2 BED IN NICE WELL KEPT ...</td>\n",
       "      <td>3000</td>\n",
       "      <td>2</td>\n",
       "      <td>1.0</td>\n",
       "      <td>6</td>\n",
       "    </tr>\n",
       "    <tr>\n",
       "      <th>46</th>\n",
       "      <td>Gorgeous Renovated Studio apartment in Kew Gar...</td>\n",
       "      <td>1375</td>\n",
       "      <td>0</td>\n",
       "      <td>1.0</td>\n",
       "      <td>7</td>\n",
       "    </tr>\n",
       "    <tr>\n",
       "      <th>47</th>\n",
       "      <td>Simply amazing!!!! Spacious 3 bedroom apartmen...</td>\n",
       "      <td>1899</td>\n",
       "      <td>3</td>\n",
       "      <td>1.0</td>\n",
       "      <td>8</td>\n",
       "    </tr>\n",
       "    <tr>\n",
       "      <th>69</th>\n",
       "      <td>Spacious studio apartment near Fulton Street M...</td>\n",
       "      <td>2495</td>\n",
       "      <td>0</td>\n",
       "      <td>1.0</td>\n",
       "      <td>5</td>\n",
       "    </tr>\n",
       "    <tr>\n",
       "      <th>71</th>\n",
       "      <td>Well maintained elevator building, offers a th...</td>\n",
       "      <td>1450</td>\n",
       "      <td>0</td>\n",
       "      <td>1.0</td>\n",
       "      <td>7</td>\n",
       "    </tr>\n",
       "  </tbody>\n",
       "</table>\n",
       "</div>"
      ],
      "text/plain": [
       "                                          description  price  bedrooms  \\\n",
       "9   83RD/ AMSTERDAM! TRUE 2 BED IN NICE WELL KEPT ...   3000         2   \n",
       "46  Gorgeous Renovated Studio apartment in Kew Gar...   1375         0   \n",
       "47  Simply amazing!!!! Spacious 3 bedroom apartmen...   1899         3   \n",
       "69  Spacious studio apartment near Fulton Street M...   2495         0   \n",
       "71  Well maintained elevator building, offers a th...   1450         0   \n",
       "\n",
       "    bathrooms  photos_count  \n",
       "9         1.0             6  \n",
       "46        1.0             7  \n",
       "47        1.0             8  \n",
       "69        1.0             5  \n",
       "71        1.0             7  "
      ]
     },
     "metadata": {},
     "output_type": "display_data"
    },
    {
     "name": "stdout",
     "output_type": "stream",
     "text": [
      "Label was 0, classified as 2\n"
     ]
    },
    {
     "data": {
      "text/html": [
       "<div>\n",
       "<style scoped>\n",
       "    .dataframe tbody tr th:only-of-type {\n",
       "        vertical-align: middle;\n",
       "    }\n",
       "\n",
       "    .dataframe tbody tr th {\n",
       "        vertical-align: top;\n",
       "    }\n",
       "\n",
       "    .dataframe thead th {\n",
       "        text-align: right;\n",
       "    }\n",
       "</style>\n",
       "<table border=\"1\" class=\"dataframe\">\n",
       "  <thead>\n",
       "    <tr style=\"text-align: right;\">\n",
       "      <th></th>\n",
       "      <th>description</th>\n",
       "      <th>price</th>\n",
       "      <th>bedrooms</th>\n",
       "      <th>bathrooms</th>\n",
       "      <th>photos_count</th>\n",
       "    </tr>\n",
       "  </thead>\n",
       "  <tbody>\n",
       "    <tr>\n",
       "      <th>188</th>\n",
       "      <td>Gramercy Park/Union Square! Huge 3 bedroom apa...</td>\n",
       "      <td>4553</td>\n",
       "      <td>3</td>\n",
       "      <td>1.0</td>\n",
       "      <td>5</td>\n",
       "    </tr>\n",
       "    <tr>\n",
       "      <th>270</th>\n",
       "      <td>Super spacious 4 bedroom apartment located in ...</td>\n",
       "      <td>3900</td>\n",
       "      <td>4</td>\n",
       "      <td>2.0</td>\n",
       "      <td>7</td>\n",
       "    </tr>\n",
       "    <tr>\n",
       "      <th>279</th>\n",
       "      <td>IN THE HEART OF MIDTOWN EAST, THIS LUXURY BUIL...</td>\n",
       "      <td>6000</td>\n",
       "      <td>4</td>\n",
       "      <td>2.0</td>\n",
       "      <td>8</td>\n",
       "    </tr>\n",
       "    <tr>\n",
       "      <th>571</th>\n",
       "      <td>*** 100% NO FEE***3 BEDROOM 2BATH CONV. FEATUR...</td>\n",
       "      <td>3900</td>\n",
       "      <td>3</td>\n",
       "      <td>2.0</td>\n",
       "      <td>6</td>\n",
       "    </tr>\n",
       "    <tr>\n",
       "      <th>691</th>\n",
       "      <td>LUXURIOUS apartments with SPACIOUS rooms and a...</td>\n",
       "      <td>4690</td>\n",
       "      <td>4</td>\n",
       "      <td>2.0</td>\n",
       "      <td>5</td>\n",
       "    </tr>\n",
       "  </tbody>\n",
       "</table>\n",
       "</div>"
      ],
      "text/plain": [
       "                                           description  price  bedrooms  \\\n",
       "188  Gramercy Park/Union Square! Huge 3 bedroom apa...   4553         3   \n",
       "270  Super spacious 4 bedroom apartment located in ...   3900         4   \n",
       "279  IN THE HEART OF MIDTOWN EAST, THIS LUXURY BUIL...   6000         4   \n",
       "571  *** 100% NO FEE***3 BEDROOM 2BATH CONV. FEATUR...   3900         3   \n",
       "691  LUXURIOUS apartments with SPACIOUS rooms and a...   4690         4   \n",
       "\n",
       "     bathrooms  photos_count  \n",
       "188        1.0             5  \n",
       "270        2.0             7  \n",
       "279        2.0             8  \n",
       "571        2.0             6  \n",
       "691        2.0             5  "
      ]
     },
     "metadata": {},
     "output_type": "display_data"
    },
    {
     "name": "stdout",
     "output_type": "stream",
     "text": [
      "Label was 1, classified as 0\n"
     ]
    },
    {
     "data": {
      "text/html": [
       "<div>\n",
       "<style scoped>\n",
       "    .dataframe tbody tr th:only-of-type {\n",
       "        vertical-align: middle;\n",
       "    }\n",
       "\n",
       "    .dataframe tbody tr th {\n",
       "        vertical-align: top;\n",
       "    }\n",
       "\n",
       "    .dataframe thead th {\n",
       "        text-align: right;\n",
       "    }\n",
       "</style>\n",
       "<table border=\"1\" class=\"dataframe\">\n",
       "  <thead>\n",
       "    <tr style=\"text-align: right;\">\n",
       "      <th></th>\n",
       "      <th>description</th>\n",
       "      <th>price</th>\n",
       "      <th>bedrooms</th>\n",
       "      <th>bathrooms</th>\n",
       "      <th>photos_count</th>\n",
       "    </tr>\n",
       "  </thead>\n",
       "  <tbody>\n",
       "    <tr>\n",
       "      <th>24</th>\n",
       "      <td>LISTING ID: 150804\\rSunny apartment in a quiet...</td>\n",
       "      <td>2050</td>\n",
       "      <td>1</td>\n",
       "      <td>1.0</td>\n",
       "      <td>3</td>\n",
       "    </tr>\n",
       "    <tr>\n",
       "      <th>31</th>\n",
       "      <td>Prime Murray Hill Neighborhood!   Located off ...</td>\n",
       "      <td>2350</td>\n",
       "      <td>0</td>\n",
       "      <td>1.0</td>\n",
       "      <td>2</td>\n",
       "    </tr>\n",
       "    <tr>\n",
       "      <th>48</th>\n",
       "      <td>Prewar Charm !! East 80s &amp; 1st AVE ~ Gorgeous ...</td>\n",
       "      <td>1775</td>\n",
       "      <td>0</td>\n",
       "      <td>1.0</td>\n",
       "      <td>3</td>\n",
       "    </tr>\n",
       "    <tr>\n",
       "      <th>59</th>\n",
       "      <td>This 1 Bedroom Apartment is Located Just 5 BLO...</td>\n",
       "      <td>1800</td>\n",
       "      <td>1</td>\n",
       "      <td>1.0</td>\n",
       "      <td>7</td>\n",
       "    </tr>\n",
       "    <tr>\n",
       "      <th>113</th>\n",
       "      <td>Building features: Elevator/Laundry/Fitness ro...</td>\n",
       "      <td>1950</td>\n",
       "      <td>2</td>\n",
       "      <td>2.0</td>\n",
       "      <td>5</td>\n",
       "    </tr>\n",
       "  </tbody>\n",
       "</table>\n",
       "</div>"
      ],
      "text/plain": [
       "                                           description  price  bedrooms  \\\n",
       "24   LISTING ID: 150804\\rSunny apartment in a quiet...   2050         1   \n",
       "31   Prime Murray Hill Neighborhood!   Located off ...   2350         0   \n",
       "48   Prewar Charm !! East 80s & 1st AVE ~ Gorgeous ...   1775         0   \n",
       "59   This 1 Bedroom Apartment is Located Just 5 BLO...   1800         1   \n",
       "113  Building features: Elevator/Laundry/Fitness ro...   1950         2   \n",
       "\n",
       "     bathrooms  photos_count  \n",
       "24         1.0             3  \n",
       "31         1.0             2  \n",
       "48         1.0             3  \n",
       "59         1.0             7  \n",
       "113        2.0             5  "
      ]
     },
     "metadata": {},
     "output_type": "display_data"
    },
    {
     "name": "stdout",
     "output_type": "stream",
     "text": [
      "Label was 1, classified as 1\n"
     ]
    },
    {
     "data": {
      "text/html": [
       "<div>\n",
       "<style scoped>\n",
       "    .dataframe tbody tr th:only-of-type {\n",
       "        vertical-align: middle;\n",
       "    }\n",
       "\n",
       "    .dataframe tbody tr th {\n",
       "        vertical-align: top;\n",
       "    }\n",
       "\n",
       "    .dataframe thead th {\n",
       "        text-align: right;\n",
       "    }\n",
       "</style>\n",
       "<table border=\"1\" class=\"dataframe\">\n",
       "  <thead>\n",
       "    <tr style=\"text-align: right;\">\n",
       "      <th></th>\n",
       "      <th>description</th>\n",
       "      <th>price</th>\n",
       "      <th>bedrooms</th>\n",
       "      <th>bathrooms</th>\n",
       "      <th>photos_count</th>\n",
       "    </tr>\n",
       "  </thead>\n",
       "  <tbody>\n",
       "    <tr>\n",
       "      <th>17</th>\n",
       "      <td>Residential Prewar Building With Art Deco Flai...</td>\n",
       "      <td>2995</td>\n",
       "      <td>2</td>\n",
       "      <td>1.0</td>\n",
       "      <td>4</td>\n",
       "    </tr>\n",
       "    <tr>\n",
       "      <th>23</th>\n",
       "      <td>Charming 1 Bedroom Apartment for Rent in Boeru...</td>\n",
       "      <td>2500</td>\n",
       "      <td>1</td>\n",
       "      <td>1.0</td>\n",
       "      <td>12</td>\n",
       "    </tr>\n",
       "    <tr>\n",
       "      <th>34</th>\n",
       "      <td>This bright 1 bedroom apartment is located jus...</td>\n",
       "      <td>2100</td>\n",
       "      <td>1</td>\n",
       "      <td>1.0</td>\n",
       "      <td>5</td>\n",
       "    </tr>\n",
       "    <tr>\n",
       "      <th>45</th>\n",
       "      <td>Move in to this great spacious studio, will no...</td>\n",
       "      <td>2550</td>\n",
       "      <td>0</td>\n",
       "      <td>1.0</td>\n",
       "      <td>3</td>\n",
       "    </tr>\n",
       "    <tr>\n",
       "      <th>52</th>\n",
       "      <td>AS YOU ENTER THIS ULTRA LUXURY BUILDING, YOU W...</td>\n",
       "      <td>2865</td>\n",
       "      <td>2</td>\n",
       "      <td>1.0</td>\n",
       "      <td>6</td>\n",
       "    </tr>\n",
       "  </tbody>\n",
       "</table>\n",
       "</div>"
      ],
      "text/plain": [
       "                                          description  price  bedrooms  \\\n",
       "17  Residential Prewar Building With Art Deco Flai...   2995         2   \n",
       "23  Charming 1 Bedroom Apartment for Rent in Boeru...   2500         1   \n",
       "34  This bright 1 bedroom apartment is located jus...   2100         1   \n",
       "45  Move in to this great spacious studio, will no...   2550         0   \n",
       "52  AS YOU ENTER THIS ULTRA LUXURY BUILDING, YOU W...   2865         2   \n",
       "\n",
       "    bathrooms  photos_count  \n",
       "17        1.0             4  \n",
       "23        1.0            12  \n",
       "34        1.0             5  \n",
       "45        1.0             3  \n",
       "52        1.0             6  "
      ]
     },
     "metadata": {},
     "output_type": "display_data"
    },
    {
     "name": "stdout",
     "output_type": "stream",
     "text": [
      "Label was 1, classified as 2\n"
     ]
    },
    {
     "data": {
      "text/html": [
       "<div>\n",
       "<style scoped>\n",
       "    .dataframe tbody tr th:only-of-type {\n",
       "        vertical-align: middle;\n",
       "    }\n",
       "\n",
       "    .dataframe tbody tr th {\n",
       "        vertical-align: top;\n",
       "    }\n",
       "\n",
       "    .dataframe thead th {\n",
       "        text-align: right;\n",
       "    }\n",
       "</style>\n",
       "<table border=\"1\" class=\"dataframe\">\n",
       "  <thead>\n",
       "    <tr style=\"text-align: right;\">\n",
       "      <th></th>\n",
       "      <th>description</th>\n",
       "      <th>price</th>\n",
       "      <th>bedrooms</th>\n",
       "      <th>bathrooms</th>\n",
       "      <th>photos_count</th>\n",
       "    </tr>\n",
       "  </thead>\n",
       "  <tbody>\n",
       "    <tr>\n",
       "      <th>43</th>\n",
       "      <td>PRIME Greenwich Village!\\r\\rMASSIVE 2BR!\\r\\rHi...</td>\n",
       "      <td>4350</td>\n",
       "      <td>2</td>\n",
       "      <td>1.0</td>\n",
       "      <td>4</td>\n",
       "    </tr>\n",
       "    <tr>\n",
       "      <th>58</th>\n",
       "      <td>This is a Gut Renovated 3 Bedroom w/ Washer &amp; ...</td>\n",
       "      <td>5200</td>\n",
       "      <td>3</td>\n",
       "      <td>3.0</td>\n",
       "      <td>14</td>\n",
       "    </tr>\n",
       "    <tr>\n",
       "      <th>74</th>\n",
       "      <td>Four bedroom (flex) apartment comes with 2 ful...</td>\n",
       "      <td>6195</td>\n",
       "      <td>4</td>\n",
       "      <td>2.0</td>\n",
       "      <td>5</td>\n",
       "    </tr>\n",
       "    <tr>\n",
       "      <th>77</th>\n",
       "      <td>THIS IS THE ONE THAT WILL END YOUR SEARCH!!!  ...</td>\n",
       "      <td>2150</td>\n",
       "      <td>1</td>\n",
       "      <td>1.0</td>\n",
       "      <td>7</td>\n",
       "    </tr>\n",
       "    <tr>\n",
       "      <th>122</th>\n",
       "      <td>**NO BROKER FEE FOR IMMEDIATE MOVE IN****LANDL...</td>\n",
       "      <td>3680</td>\n",
       "      <td>2</td>\n",
       "      <td>1.0</td>\n",
       "      <td>4</td>\n",
       "    </tr>\n",
       "  </tbody>\n",
       "</table>\n",
       "</div>"
      ],
      "text/plain": [
       "                                           description  price  bedrooms  \\\n",
       "43   PRIME Greenwich Village!\\r\\rMASSIVE 2BR!\\r\\rHi...   4350         2   \n",
       "58   This is a Gut Renovated 3 Bedroom w/ Washer & ...   5200         3   \n",
       "74   Four bedroom (flex) apartment comes with 2 ful...   6195         4   \n",
       "77   THIS IS THE ONE THAT WILL END YOUR SEARCH!!!  ...   2150         1   \n",
       "122  **NO BROKER FEE FOR IMMEDIATE MOVE IN****LANDL...   3680         2   \n",
       "\n",
       "     bathrooms  photos_count  \n",
       "43         1.0             4  \n",
       "58         3.0            14  \n",
       "74         2.0             5  \n",
       "77         1.0             7  \n",
       "122        1.0             4  "
      ]
     },
     "metadata": {},
     "output_type": "display_data"
    },
    {
     "name": "stdout",
     "output_type": "stream",
     "text": [
      "Label was 2, classified as 0\n"
     ]
    },
    {
     "data": {
      "text/html": [
       "<div>\n",
       "<style scoped>\n",
       "    .dataframe tbody tr th:only-of-type {\n",
       "        vertical-align: middle;\n",
       "    }\n",
       "\n",
       "    .dataframe tbody tr th {\n",
       "        vertical-align: top;\n",
       "    }\n",
       "\n",
       "    .dataframe thead th {\n",
       "        text-align: right;\n",
       "    }\n",
       "</style>\n",
       "<table border=\"1\" class=\"dataframe\">\n",
       "  <thead>\n",
       "    <tr style=\"text-align: right;\">\n",
       "      <th></th>\n",
       "      <th>description</th>\n",
       "      <th>price</th>\n",
       "      <th>bedrooms</th>\n",
       "      <th>bathrooms</th>\n",
       "      <th>photos_count</th>\n",
       "    </tr>\n",
       "  </thead>\n",
       "  <tbody>\n",
       "    <tr>\n",
       "      <th>7</th>\n",
       "      <td>Stunning one bedroom apartment in Upper West S...</td>\n",
       "      <td>2595</td>\n",
       "      <td>1</td>\n",
       "      <td>1.0</td>\n",
       "      <td>3</td>\n",
       "    </tr>\n",
       "    <tr>\n",
       "      <th>11</th>\n",
       "      <td>For the best apartment match up, kindly email ...</td>\n",
       "      <td>2775</td>\n",
       "      <td>1</td>\n",
       "      <td>1.0</td>\n",
       "      <td>5</td>\n",
       "    </tr>\n",
       "    <tr>\n",
       "      <th>32</th>\n",
       "      <td>Bright Renovated Studio Lot of Light Renovated...</td>\n",
       "      <td>2000</td>\n",
       "      <td>0</td>\n",
       "      <td>1.0</td>\n",
       "      <td>3</td>\n",
       "    </tr>\n",
       "    <tr>\n",
       "      <th>116</th>\n",
       "      <td>NO FEE! The advertised rent is the average or ...</td>\n",
       "      <td>2890</td>\n",
       "      <td>3</td>\n",
       "      <td>1.0</td>\n",
       "      <td>1</td>\n",
       "    </tr>\n",
       "    <tr>\n",
       "      <th>131</th>\n",
       "      <td>Beautiful JR4 in Prime Riverdale Location.  Us...</td>\n",
       "      <td>2150</td>\n",
       "      <td>2</td>\n",
       "      <td>1.0</td>\n",
       "      <td>3</td>\n",
       "    </tr>\n",
       "  </tbody>\n",
       "</table>\n",
       "</div>"
      ],
      "text/plain": [
       "                                           description  price  bedrooms  \\\n",
       "7    Stunning one bedroom apartment in Upper West S...   2595         1   \n",
       "11   For the best apartment match up, kindly email ...   2775         1   \n",
       "32   Bright Renovated Studio Lot of Light Renovated...   2000         0   \n",
       "116  NO FEE! The advertised rent is the average or ...   2890         3   \n",
       "131  Beautiful JR4 in Prime Riverdale Location.  Us...   2150         2   \n",
       "\n",
       "     bathrooms  photos_count  \n",
       "7          1.0             3  \n",
       "11         1.0             5  \n",
       "32         1.0             3  \n",
       "116        1.0             1  \n",
       "131        1.0             3  "
      ]
     },
     "metadata": {},
     "output_type": "display_data"
    },
    {
     "name": "stdout",
     "output_type": "stream",
     "text": [
      "Label was 2, classified as 1\n"
     ]
    },
    {
     "data": {
      "text/html": [
       "<div>\n",
       "<style scoped>\n",
       "    .dataframe tbody tr th:only-of-type {\n",
       "        vertical-align: middle;\n",
       "    }\n",
       "\n",
       "    .dataframe tbody tr th {\n",
       "        vertical-align: top;\n",
       "    }\n",
       "\n",
       "    .dataframe thead th {\n",
       "        text-align: right;\n",
       "    }\n",
       "</style>\n",
       "<table border=\"1\" class=\"dataframe\">\n",
       "  <thead>\n",
       "    <tr style=\"text-align: right;\">\n",
       "      <th></th>\n",
       "      <th>description</th>\n",
       "      <th>price</th>\n",
       "      <th>bedrooms</th>\n",
       "      <th>bathrooms</th>\n",
       "      <th>photos_count</th>\n",
       "    </tr>\n",
       "  </thead>\n",
       "  <tbody>\n",
       "    <tr>\n",
       "      <th>0</th>\n",
       "      <td>THE PRICE IS NET EFFECTIVE - One month Free on...</td>\n",
       "      <td>2900</td>\n",
       "      <td>1</td>\n",
       "      <td>1.0</td>\n",
       "      <td>4</td>\n",
       "    </tr>\n",
       "    <tr>\n",
       "      <th>3</th>\n",
       "      <td>85TH/ 3 AVE! UNIQUE 800 SQFT PENTHOUSE DUPLEX ...</td>\n",
       "      <td>2850</td>\n",
       "      <td>1</td>\n",
       "      <td>2.0</td>\n",
       "      <td>6</td>\n",
       "    </tr>\n",
       "    <tr>\n",
       "      <th>4</th>\n",
       "      <td>This HUGE STUDIO LOFT apartment HAS AN AMAZING...</td>\n",
       "      <td>3100</td>\n",
       "      <td>0</td>\n",
       "      <td>1.0</td>\n",
       "      <td>5</td>\n",
       "    </tr>\n",
       "    <tr>\n",
       "      <th>8</th>\n",
       "      <td></td>\n",
       "      <td>2200</td>\n",
       "      <td>2</td>\n",
       "      <td>1.0</td>\n",
       "      <td>20</td>\n",
       "    </tr>\n",
       "    <tr>\n",
       "      <th>10</th>\n",
       "      <td>Alcove studio\\r\\rRenovated kitchen and bathroo...</td>\n",
       "      <td>2550</td>\n",
       "      <td>1</td>\n",
       "      <td>1.0</td>\n",
       "      <td>2</td>\n",
       "    </tr>\n",
       "  </tbody>\n",
       "</table>\n",
       "</div>"
      ],
      "text/plain": [
       "                                          description  price  bedrooms  \\\n",
       "0   THE PRICE IS NET EFFECTIVE - One month Free on...   2900         1   \n",
       "3   85TH/ 3 AVE! UNIQUE 800 SQFT PENTHOUSE DUPLEX ...   2850         1   \n",
       "4   This HUGE STUDIO LOFT apartment HAS AN AMAZING...   3100         0   \n",
       "8                                                       2200         2   \n",
       "10  Alcove studio\\r\\rRenovated kitchen and bathroo...   2550         1   \n",
       "\n",
       "    bathrooms  photos_count  \n",
       "0         1.0             4  \n",
       "3         2.0             6  \n",
       "4         1.0             5  \n",
       "8         1.0            20  \n",
       "10        1.0             2  "
      ]
     },
     "metadata": {},
     "output_type": "display_data"
    },
    {
     "name": "stdout",
     "output_type": "stream",
     "text": [
      "Label was 2, classified as 2\n"
     ]
    },
    {
     "data": {
      "text/html": [
       "<div>\n",
       "<style scoped>\n",
       "    .dataframe tbody tr th:only-of-type {\n",
       "        vertical-align: middle;\n",
       "    }\n",
       "\n",
       "    .dataframe tbody tr th {\n",
       "        vertical-align: top;\n",
       "    }\n",
       "\n",
       "    .dataframe thead th {\n",
       "        text-align: right;\n",
       "    }\n",
       "</style>\n",
       "<table border=\"1\" class=\"dataframe\">\n",
       "  <thead>\n",
       "    <tr style=\"text-align: right;\">\n",
       "      <th></th>\n",
       "      <th>description</th>\n",
       "      <th>price</th>\n",
       "      <th>bedrooms</th>\n",
       "      <th>bathrooms</th>\n",
       "      <th>photos_count</th>\n",
       "    </tr>\n",
       "  </thead>\n",
       "  <tbody>\n",
       "    <tr>\n",
       "      <th>1</th>\n",
       "      <td>Spacious and contemporary alcove studio with h...</td>\n",
       "      <td>4000</td>\n",
       "      <td>0</td>\n",
       "      <td>1.0</td>\n",
       "      <td>4</td>\n",
       "    </tr>\n",
       "    <tr>\n",
       "      <th>5</th>\n",
       "      <td>Located on west 57th st , short walk from Colu...</td>\n",
       "      <td>4000</td>\n",
       "      <td>2</td>\n",
       "      <td>1.0</td>\n",
       "      <td>6</td>\n",
       "    </tr>\n",
       "    <tr>\n",
       "      <th>6</th>\n",
       "      <td>AMAZING TWO BEDROOM UNIT!HUGE LIVING AREA WITH...</td>\n",
       "      <td>5125</td>\n",
       "      <td>2</td>\n",
       "      <td>2.0</td>\n",
       "      <td>14</td>\n",
       "    </tr>\n",
       "    <tr>\n",
       "      <th>13</th>\n",
       "      <td>COME SEE YOUR FUTURE HOME!!* NO BROKER FEE *BE...</td>\n",
       "      <td>6500</td>\n",
       "      <td>3</td>\n",
       "      <td>1.0</td>\n",
       "      <td>8</td>\n",
       "    </tr>\n",
       "    <tr>\n",
       "      <th>16</th>\n",
       "      <td>Rent listed is net effective after the first m...</td>\n",
       "      <td>4675</td>\n",
       "      <td>3</td>\n",
       "      <td>2.0</td>\n",
       "      <td>6</td>\n",
       "    </tr>\n",
       "  </tbody>\n",
       "</table>\n",
       "</div>"
      ],
      "text/plain": [
       "                                          description  price  bedrooms  \\\n",
       "1   Spacious and contemporary alcove studio with h...   4000         0   \n",
       "5   Located on west 57th st , short walk from Colu...   4000         2   \n",
       "6   AMAZING TWO BEDROOM UNIT!HUGE LIVING AREA WITH...   5125         2   \n",
       "13  COME SEE YOUR FUTURE HOME!!* NO BROKER FEE *BE...   6500         3   \n",
       "16  Rent listed is net effective after the first m...   4675         3   \n",
       "\n",
       "    bathrooms  photos_count  \n",
       "1         1.0             4  \n",
       "5         1.0             6  \n",
       "6         2.0            14  \n",
       "13        1.0             8  \n",
       "16        2.0             6  "
      ]
     },
     "metadata": {},
     "output_type": "display_data"
    },
    {
     "data": {
      "text/plain": [
       "<matplotlib.axes._subplots.AxesSubplot at 0x7efc7c7d6fd0>"
      ]
     },
     "metadata": {},
     "output_type": "display_data"
    },
    {
     "name": "stdout",
     "output_type": "stream",
     "text": [
      "              precision    recall  f1-score   support\n",
      "\n",
      "           0       0.30      0.27      0.29       428\n",
      "           1       0.61      0.28      0.38      2421\n",
      "           2       0.50      0.83      0.62      2087\n",
      "\n",
      "   micro avg       0.51      0.51      0.51      4936\n",
      "   macro avg       0.47      0.46      0.43      4936\n",
      "weighted avg       0.54      0.51      0.48      4936\n",
      "\n",
      "Logistic loss 3.42791\n"
     ]
    },
    {
     "data": {
      "image/png": "[encoded data removed]",
      "text/plain": [
       "<Figure size 432x288 with 2 Axes>"
      ]
     },
     "metadata": {
      "needs_background": "light"
     },
     "output_type": "display_data"
    }
   ],
   "source": [
    "generate_classification_report(FASTTEXT_WITH_TABULAR_MODEL,\n",
    "                               VALIDATION_DATAFRAME,\n",
    "                               (VALIDATION_DESCRIPTIONS_WITH_BIGRAMS,\n",
    "                                VALIDATION_FEATURES_CONTINUOUS_TENSOR,\n",
    "                                VALIDATION_FEATURES_CATEGORICAL_TENSOR),\n",
    "                               VALIDATION_LABELS.values,\n",
    "                               [0, 1, 2])"
   ]
  },
  {
   "cell_type": "code",
   "execution_count": 59,
   "metadata": {},
   "outputs": [],
   "source": [
    "write_predictions_table_to_csv(\n",
    "    get_prediction_probabilities_with_columns(\n",
    "        FASTTEXT_WITH_TABULAR_MODEL,\n",
    "        FEATURES_TEST_DATAFRAME['listing_id'],\n",
    "        (TEST_DESCRIPTIONS_WITH_BIGRAMS,\n",
    "         TEST_FEATURES_CONTINUOUS_TENSOR,\n",
    "         TEST_FEATURES_CATEGORICAL_TENSOR),\n",
    "        \n",
    "    ),\n",
    "    'fasttext_tabular_model_submissions.csv'\n",
    ")"
   ]
  },
  {
   "cell_type": "markdown",
   "metadata": {},
   "source": [
    "### 3.3.3) TextCNN\n",
    "Here we use a convolutional neural network on the text.\n",
    "\n",
    "We kind of have to think of text like an \"image\". The horizontal\n",
    "dimension is just each sentence (of variable length, but they all have\n",
    "padding at the end). Then on the vertical axis, we have the word vectors\n",
    "and we move our window across. Idea here is that similar to images, the\n",
    "order between words and between word vector components probably matters,\n",
    "so we take into account conceptual space and sentence space in the text\n",
    "image domain."
   ]
  },
  {
   "cell_type": "code",
   "execution_count": 60,
   "metadata": {},
   "outputs": [],
   "source": [
    "# We don't want bigrams, so process agian without them.\n",
    "TRAIN_DESCRIPTIONS_NO_BIGRAMS = TEXT.process(TRAIN_DATAFRAME_TOKEN_SEQUENCES).transpose(0, 1)\n",
    "VALIDATION_DESCRIPTIONS_NO_BIGRAMS = TEXT.process(VALIDATION_DATAFRAME_TOKEN_SEQUENCES).transpose(0, 1)\n",
    "TEST_DESCRIPTIONS_NO_BIGRAMS = TEXT.process(TEST_DATAFRAME_TOKEN_SEQUENCES).transpose(0, 1)"
   ]
  },
  {
   "cell_type": "code",
   "execution_count": 62,
   "metadata": {},
   "outputs": [],
   "source": [
    "TEXTCNN_MODEL = NoToTensorInLossClassifier(\n",
    "    TextCNN,\n",
    "    lr=0.001,\n",
    "    batch_size=64,\n",
    "    optimizer=optim.Adam,\n",
    "    callbacks=[\n",
    "        EpochScoring(scoring='accuracy'),\n",
    "        LRAnnealing(),\n",
    "        LRScheduler(),\n",
    "        ProgressBar(),\n",
    "        CheckpointAndKeepBest(dirname='textcnn_checkpoint'),\n",
    "        TrainEndCheckpoint(dirname='textcnn_tabular_checkpoint',\n",
    "                           fn_prefix='textcnn_train_end_')\n",
    "    ],\n",
    "    max_epochs=20,\n",
    "    train_split=shuffled_train_test_split_by_indices(0.3),\n",
    "    device='cuda' if torch.cuda.is_available() else 'cpu',\n",
    "    module__encoder_dimension=EMBEDDING_DIM, # Number of encoder features\n",
    "    module__dictionary_dimension=len(TEXT.vocab.itos), # Dictionary dimension\n",
    "    module__output_dimension=3,\n",
    "    module__n_filters=100,\n",
    "    module__filter_sizes=(3, 4, 5),\n",
    "    module__dropout=0.8,\n",
    "    module__pretrained=TEXT.vocab.vectors\n",
    ")"
   ]
  },
  {
   "cell_type": "code",
   "execution_count": 63,
   "metadata": {},
   "outputs": [
    {
     "data": {
      "application/vnd.jupyter.widget-view+json": {
       "model_id": "",
       "version_major": 2,
       "version_minor": 0
      },
      "text/plain": [
       "HBox(children=(IntProgress(value=0, max=695), HTML(value='')))"
      ]
     },
     "metadata": {},
     "output_type": "display_data"
    },
    {
     "name": "stdout",
     "output_type": "stream",
     "text": [
      "  epoch    accuracy    train_loss    valid_acc    valid_loss    cp      dur\n",
      "-------  ----------  ------------  -----------  ------------  ----  -------\n",
      "      1      \u001b[36m0.6161\u001b[0m       \u001b[32m38.6755\u001b[0m       \u001b[35m0.6161\u001b[0m       \u001b[31m19.5851\u001b[0m     +  54.1213\n"
     ]
    },
    {
     "data": {
      "application/vnd.jupyter.widget-view+json": {
       "model_id": "",
       "version_major": 2,
       "version_minor": 0
      },
      "text/plain": [
       "HBox(children=(IntProgress(value=0, max=695), HTML(value='')))"
      ]
     },
     "metadata": {},
     "output_type": "display_data"
    },
    {
     "name": "stdout",
     "output_type": "stream",
     "text": [
      "\r",
      "      2      0.6180       64.2776       \u001b[35m0.6180\u001b[0m       20.8149        54.1751\n"
     ]
    },
    {
     "data": {
      "application/vnd.jupyter.widget-view+json": {
       "model_id": "",
       "version_major": 2,
       "version_minor": 0
      },
      "text/plain": [
       "HBox(children=(IntProgress(value=0, max=695), HTML(value='')))"
      ]
     },
     "metadata": {},
     "output_type": "display_data"
    },
    {
     "name": "stdout",
     "output_type": "stream",
     "text": [
      "\r",
      "      3      0.6469       66.4635       \u001b[35m0.6469\u001b[0m       33.7897        54.1655\n"
     ]
    },
    {
     "data": {
      "application/vnd.jupyter.widget-view+json": {
       "model_id": "",
       "version_major": 2,
       "version_minor": 0
      },
      "text/plain": [
       "HBox(children=(IntProgress(value=0, max=695), HTML(value='')))"
      ]
     },
     "metadata": {},
     "output_type": "display_data"
    },
    {
     "name": "stdout",
     "output_type": "stream",
     "text": [
      "\r",
      "      4      0.6641       54.0866       \u001b[35m0.6641\u001b[0m       26.3199        54.0409\n"
     ]
    },
    {
     "data": {
      "application/vnd.jupyter.widget-view+json": {
       "model_id": "",
       "version_major": 2,
       "version_minor": 0
      },
      "text/plain": [
       "HBox(children=(IntProgress(value=0, max=695), HTML(value='')))"
      ]
     },
     "metadata": {},
     "output_type": "display_data"
    },
    {
     "name": "stdout",
     "output_type": "stream",
     "text": [
      "\r",
      "      5      0.6860       \u001b[32m29.9768\u001b[0m       \u001b[35m0.6860\u001b[0m       25.3552        54.1885\n"
     ]
    },
    {
     "data": {
      "application/vnd.jupyter.widget-view+json": {
       "model_id": "",
       "version_major": 2,
       "version_minor": 0
      },
      "text/plain": [
       "HBox(children=(IntProgress(value=0, max=695), HTML(value='')))"
      ]
     },
     "metadata": {},
     "output_type": "display_data"
    },
    {
     "name": "stdout",
     "output_type": "stream",
     "text": [
      "      6      0.6845       \u001b[32m15.4055\u001b[0m       0.6845       \u001b[31m16.1615\u001b[0m     +  54.2521\n"
     ]
    },
    {
     "data": {
      "application/vnd.jupyter.widget-view+json": {
       "model_id": "",
       "version_major": 2,
       "version_minor": 0
      },
      "text/plain": [
       "HBox(children=(IntProgress(value=0, max=695), HTML(value='')))"
      ]
     },
     "metadata": {},
     "output_type": "display_data"
    },
    {
     "name": "stdout",
     "output_type": "stream",
     "text": [
      "      7      0.6865        \u001b[32m8.7358\u001b[0m       \u001b[35m0.6865\u001b[0m       \u001b[31m11.2860\u001b[0m     +  54.3778\n"
     ]
    },
    {
     "data": {
      "application/vnd.jupyter.widget-view+json": {
       "model_id": "",
       "version_major": 2,
       "version_minor": 0
      },
      "text/plain": [
       "HBox(children=(IntProgress(value=0, max=695), HTML(value='')))"
      ]
     },
     "metadata": {},
     "output_type": "display_data"
    },
    {
     "name": "stdout",
     "output_type": "stream",
     "text": [
      "\r",
      "      8      0.6922        \u001b[32m4.5391\u001b[0m       \u001b[35m0.6922\u001b[0m       11.5789        54.1752\n"
     ]
    },
    {
     "data": {
      "application/vnd.jupyter.widget-view+json": {
       "model_id": "",
       "version_major": 2,
       "version_minor": 0
      },
      "text/plain": [
       "HBox(children=(IntProgress(value=0, max=695), HTML(value='')))"
      ]
     },
     "metadata": {},
     "output_type": "display_data"
    },
    {
     "name": "stdout",
     "output_type": "stream",
     "text": [
      "      9      0.6946        \u001b[32m3.0808\u001b[0m       \u001b[35m0.6946\u001b[0m       \u001b[31m11.1792\u001b[0m     +  54.2536\n"
     ]
    },
    {
     "data": {
      "application/vnd.jupyter.widget-view+json": {
       "model_id": "",
       "version_major": 2,
       "version_minor": 0
      },
      "text/plain": [
       "HBox(children=(IntProgress(value=0, max=695), HTML(value='')))"
      ]
     },
     "metadata": {},
     "output_type": "display_data"
    },
    {
     "name": "stdout",
     "output_type": "stream",
     "text": [
      "     10      0.6952        \u001b[32m2.4607\u001b[0m       \u001b[35m0.6952\u001b[0m       \u001b[31m11.0131\u001b[0m     +  54.0663\n"
     ]
    },
    {
     "data": {
      "application/vnd.jupyter.widget-view+json": {
       "model_id": "",
       "version_major": 2,
       "version_minor": 0
      },
      "text/plain": [
       "HBox(children=(IntProgress(value=0, max=695), HTML(value='')))"
      ]
     },
     "metadata": {},
     "output_type": "display_data"
    },
    {
     "name": "stdout",
     "output_type": "stream",
     "text": [
      "     11      0.6952        \u001b[32m2.1135\u001b[0m       0.6952       \u001b[31m11.0121\u001b[0m     +  54.1172\n"
     ]
    },
    {
     "data": {
      "application/vnd.jupyter.widget-view+json": {
       "model_id": "",
       "version_major": 2,
       "version_minor": 0
      },
      "text/plain": [
       "HBox(children=(IntProgress(value=0, max=695), HTML(value='')))"
      ]
     },
     "metadata": {},
     "output_type": "display_data"
    },
    {
     "name": "stdout",
     "output_type": "stream",
     "text": [
      "\r",
      "     12      0.6522       42.3978       0.6522      159.2392        54.1188\n"
     ]
    },
    {
     "data": {
      "application/vnd.jupyter.widget-view+json": {
       "model_id": "",
       "version_major": 2,
       "version_minor": 0
      },
      "text/plain": [
       "HBox(children=(IntProgress(value=0, max=695), HTML(value='')))"
      ]
     },
     "metadata": {},
     "output_type": "display_data"
    },
    {
     "name": "stdout",
     "output_type": "stream",
     "text": [
      "\r",
      "     13      0.6600      138.1062       0.6600      174.0651        54.0019\n"
     ]
    },
    {
     "data": {
      "application/vnd.jupyter.widget-view+json": {
       "model_id": "",
       "version_major": 2,
       "version_minor": 0
      },
      "text/plain": [
       "HBox(children=(IntProgress(value=0, max=695), HTML(value='')))"
      ]
     },
     "metadata": {},
     "output_type": "display_data"
    },
    {
     "name": "stdout",
     "output_type": "stream",
     "text": [
      "\r",
      "     14      0.6613      152.3733       0.6613      184.1898        54.0557\n"
     ]
    },
    {
     "data": {
      "application/vnd.jupyter.widget-view+json": {
       "model_id": "",
       "version_major": 2,
       "version_minor": 0
      },
      "text/plain": [
       "HBox(children=(IntProgress(value=0, max=695), HTML(value='')))"
      ]
     },
     "metadata": {},
     "output_type": "display_data"
    },
    {
     "name": "stdout",
     "output_type": "stream",
     "text": [
      "\r",
      "     15      0.6639      105.4700       0.6639      184.5354        53.9705\n"
     ]
    },
    {
     "data": {
      "application/vnd.jupyter.widget-view+json": {
       "model_id": "",
       "version_major": 2,
       "version_minor": 0
      },
      "text/plain": [
       "HBox(children=(IntProgress(value=0, max=695), HTML(value='')))"
      ]
     },
     "metadata": {},
     "output_type": "display_data"
    },
    {
     "name": "stdout",
     "output_type": "stream",
     "text": [
      "\r",
      "     16      0.6734       88.2806       0.6734      196.1663        54.0635\n"
     ]
    },
    {
     "data": {
      "application/vnd.jupyter.widget-view+json": {
       "model_id": "",
       "version_major": 2,
       "version_minor": 0
      },
      "text/plain": [
       "HBox(children=(IntProgress(value=0, max=695), HTML(value='')))"
      ]
     },
     "metadata": {},
     "output_type": "display_data"
    },
    {
     "name": "stdout",
     "output_type": "stream",
     "text": [
      "\r",
      "     17      0.6832       62.2258       0.6832      208.7286        53.9916\n"
     ]
    },
    {
     "data": {
      "application/vnd.jupyter.widget-view+json": {
       "model_id": "",
       "version_major": 2,
       "version_minor": 0
      },
      "text/plain": [
       "HBox(children=(IntProgress(value=0, max=695), HTML(value='')))"
      ]
     },
     "metadata": {},
     "output_type": "display_data"
    },
    {
     "name": "stdout",
     "output_type": "stream",
     "text": [
      "\r",
      "     18      0.6791       53.3989       0.6791      166.7184        53.9509\n"
     ]
    },
    {
     "data": {
      "application/vnd.jupyter.widget-view+json": {
       "model_id": "",
       "version_major": 2,
       "version_minor": 0
      },
      "text/plain": [
       "HBox(children=(IntProgress(value=0, max=695), HTML(value='')))"
      ]
     },
     "metadata": {},
     "output_type": "display_data"
    },
    {
     "name": "stdout",
     "output_type": "stream",
     "text": [
      "\r",
      "     19      0.6881       29.8502       0.6881      247.7513        54.2006\n"
     ]
    },
    {
     "data": {
      "application/vnd.jupyter.widget-view+json": {
       "model_id": "",
       "version_major": 2,
       "version_minor": 0
      },
      "text/plain": [
       "HBox(children=(IntProgress(value=0, max=695), HTML(value='')))"
      ]
     },
     "metadata": {},
     "output_type": "display_data"
    },
    {
     "name": "stdout",
     "output_type": "stream",
     "text": [
      "     20      0.6893       34.7543       0.6893      256.4452        54.1511\n",
      "Loading parameters from checkpoint 10\n"
     ]
    },
    {
     "data": {
      "text/plain": [
       "<class 'utils.language_models.simple_rnn.NoToTensorInLossClassifier'>[initialized](\n",
       "  module_=TextCNN(\n",
       "    (embedding): Embedding(504022, 100)\n",
       "    (conv_0): Conv2d(1, 100, kernel_size=(3, 100), stride=(1, 1))\n",
       "    (conv_1): Conv2d(1, 100, kernel_size=(4, 100), stride=(1, 1))\n",
       "    (conv_2): Conv2d(1, 100, kernel_size=(5, 100), stride=(1, 1))\n",
       "    (fc): Linear(in_features=300, out_features=3, bias=True)\n",
       "    (dropout): Dropout(p=0.8)\n",
       "  ),\n",
       ")"
      ]
     },
     "execution_count": 63,
     "metadata": {},
     "output_type": "execute_result"
    }
   ],
   "source": [
    "TEXTCNN_MODEL.fit(TRAIN_DESCRIPTIONS_NO_BIGRAMS,\n",
    "                  TRAIN_LABELS_TENSOR)"
   ]
  },
  {
   "cell_type": "code",
   "execution_count": 64,
   "metadata": {},
   "outputs": [
    {
     "name": "stdout",
     "output_type": "stream",
     "text": [
      "Label was 0, classified as 0\n"
     ]
    },
    {
     "data": {
      "text/html": [
       "<div>\n",
       "<style scoped>\n",
       "    .dataframe tbody tr th:only-of-type {\n",
       "        vertical-align: middle;\n",
       "    }\n",
       "\n",
       "    .dataframe tbody tr th {\n",
       "        vertical-align: top;\n",
       "    }\n",
       "\n",
       "    .dataframe thead th {\n",
       "        text-align: right;\n",
       "    }\n",
       "</style>\n",
       "<table border=\"1\" class=\"dataframe\">\n",
       "  <thead>\n",
       "    <tr style=\"text-align: right;\">\n",
       "      <th></th>\n",
       "      <th>description</th>\n",
       "      <th>price</th>\n",
       "      <th>bedrooms</th>\n",
       "      <th>bathrooms</th>\n",
       "      <th>photos_count</th>\n",
       "    </tr>\n",
       "  </thead>\n",
       "  <tbody>\n",
       "    <tr>\n",
       "      <th>1033</th>\n",
       "      <td>Massive FLEX 4 extra large bedrooms. This brea...</td>\n",
       "      <td>6000</td>\n",
       "      <td>4</td>\n",
       "      <td>2.0</td>\n",
       "      <td>5</td>\n",
       "    </tr>\n",
       "  </tbody>\n",
       "</table>\n",
       "</div>"
      ],
      "text/plain": [
       "                                            description  price  bedrooms  \\\n",
       "1033  Massive FLEX 4 extra large bedrooms. This brea...   6000         4   \n",
       "\n",
       "      bathrooms  photos_count  \n",
       "1033        2.0             5  "
      ]
     },
     "metadata": {},
     "output_type": "display_data"
    },
    {
     "name": "stdout",
     "output_type": "stream",
     "text": [
      "Label was 0, classified as 1\n"
     ]
    },
    {
     "data": {
      "text/html": [
       "<div>\n",
       "<style scoped>\n",
       "    .dataframe tbody tr th:only-of-type {\n",
       "        vertical-align: middle;\n",
       "    }\n",
       "\n",
       "    .dataframe tbody tr th {\n",
       "        vertical-align: top;\n",
       "    }\n",
       "\n",
       "    .dataframe thead th {\n",
       "        text-align: right;\n",
       "    }\n",
       "</style>\n",
       "<table border=\"1\" class=\"dataframe\">\n",
       "  <thead>\n",
       "    <tr style=\"text-align: right;\">\n",
       "      <th></th>\n",
       "      <th>description</th>\n",
       "      <th>price</th>\n",
       "      <th>bedrooms</th>\n",
       "      <th>bathrooms</th>\n",
       "      <th>photos_count</th>\n",
       "    </tr>\n",
       "  </thead>\n",
       "  <tbody>\n",
       "    <tr>\n",
       "      <th>270</th>\n",
       "      <td>Super spacious 4 bedroom apartment located in ...</td>\n",
       "      <td>3900</td>\n",
       "      <td>4</td>\n",
       "      <td>2.0</td>\n",
       "      <td>7</td>\n",
       "    </tr>\n",
       "    <tr>\n",
       "      <th>402</th>\n",
       "      <td>Super spacious 2 bedroom apartment located in ...</td>\n",
       "      <td>2450</td>\n",
       "      <td>2</td>\n",
       "      <td>1.0</td>\n",
       "      <td>7</td>\n",
       "    </tr>\n",
       "    <tr>\n",
       "      <th>946</th>\n",
       "      <td>Beautiful two bedroom with empire state view l...</td>\n",
       "      <td>3300</td>\n",
       "      <td>2</td>\n",
       "      <td>1.0</td>\n",
       "      <td>10</td>\n",
       "    </tr>\n",
       "    <tr>\n",
       "      <th>1517</th>\n",
       "      <td>In the heart of Brooklyn is a collection of in...</td>\n",
       "      <td>1195</td>\n",
       "      <td>0</td>\n",
       "      <td>1.0</td>\n",
       "      <td>5</td>\n",
       "    </tr>\n",
       "    <tr>\n",
       "      <th>1806</th>\n",
       "      <td>Loft style living with this amazing flex 1 uni...</td>\n",
       "      <td>2425</td>\n",
       "      <td>1</td>\n",
       "      <td>1.0</td>\n",
       "      <td>4</td>\n",
       "    </tr>\n",
       "  </tbody>\n",
       "</table>\n",
       "</div>"
      ],
      "text/plain": [
       "                                            description  price  bedrooms  \\\n",
       "270   Super spacious 4 bedroom apartment located in ...   3900         4   \n",
       "402   Super spacious 2 bedroom apartment located in ...   2450         2   \n",
       "946   Beautiful two bedroom with empire state view l...   3300         2   \n",
       "1517  In the heart of Brooklyn is a collection of in...   1195         0   \n",
       "1806  Loft style living with this amazing flex 1 uni...   2425         1   \n",
       "\n",
       "      bathrooms  photos_count  \n",
       "270         2.0             7  \n",
       "402         1.0             7  \n",
       "946         1.0            10  \n",
       "1517        1.0             5  \n",
       "1806        1.0             4  "
      ]
     },
     "metadata": {},
     "output_type": "display_data"
    },
    {
     "name": "stdout",
     "output_type": "stream",
     "text": [
      "Label was 0, classified as 2\n"
     ]
    },
    {
     "data": {
      "text/html": [
       "<div>\n",
       "<style scoped>\n",
       "    .dataframe tbody tr th:only-of-type {\n",
       "        vertical-align: middle;\n",
       "    }\n",
       "\n",
       "    .dataframe tbody tr th {\n",
       "        vertical-align: top;\n",
       "    }\n",
       "\n",
       "    .dataframe thead th {\n",
       "        text-align: right;\n",
       "    }\n",
       "</style>\n",
       "<table border=\"1\" class=\"dataframe\">\n",
       "  <thead>\n",
       "    <tr style=\"text-align: right;\">\n",
       "      <th></th>\n",
       "      <th>description</th>\n",
       "      <th>price</th>\n",
       "      <th>bedrooms</th>\n",
       "      <th>bathrooms</th>\n",
       "      <th>photos_count</th>\n",
       "    </tr>\n",
       "  </thead>\n",
       "  <tbody>\n",
       "    <tr>\n",
       "      <th>2</th>\n",
       "      <td>5TH ST/ 2 AVE! RENOVATED 2 BEDROOM IN CHARMING...</td>\n",
       "      <td>3200</td>\n",
       "      <td>2</td>\n",
       "      <td>1.0</td>\n",
       "      <td>6</td>\n",
       "    </tr>\n",
       "    <tr>\n",
       "      <th>9</th>\n",
       "      <td>83RD/ AMSTERDAM! TRUE 2 BED IN NICE WELL KEPT ...</td>\n",
       "      <td>3000</td>\n",
       "      <td>2</td>\n",
       "      <td>1.0</td>\n",
       "      <td>6</td>\n",
       "    </tr>\n",
       "    <tr>\n",
       "      <th>46</th>\n",
       "      <td>Gorgeous Renovated Studio apartment in Kew Gar...</td>\n",
       "      <td>1375</td>\n",
       "      <td>0</td>\n",
       "      <td>1.0</td>\n",
       "      <td>7</td>\n",
       "    </tr>\n",
       "    <tr>\n",
       "      <th>47</th>\n",
       "      <td>Simply amazing!!!! Spacious 3 bedroom apartmen...</td>\n",
       "      <td>1899</td>\n",
       "      <td>3</td>\n",
       "      <td>1.0</td>\n",
       "      <td>8</td>\n",
       "    </tr>\n",
       "    <tr>\n",
       "      <th>69</th>\n",
       "      <td>Spacious studio apartment near Fulton Street M...</td>\n",
       "      <td>2495</td>\n",
       "      <td>0</td>\n",
       "      <td>1.0</td>\n",
       "      <td>5</td>\n",
       "    </tr>\n",
       "  </tbody>\n",
       "</table>\n",
       "</div>"
      ],
      "text/plain": [
       "                                          description  price  bedrooms  \\\n",
       "2   5TH ST/ 2 AVE! RENOVATED 2 BEDROOM IN CHARMING...   3200         2   \n",
       "9   83RD/ AMSTERDAM! TRUE 2 BED IN NICE WELL KEPT ...   3000         2   \n",
       "46  Gorgeous Renovated Studio apartment in Kew Gar...   1375         0   \n",
       "47  Simply amazing!!!! Spacious 3 bedroom apartmen...   1899         3   \n",
       "69  Spacious studio apartment near Fulton Street M...   2495         0   \n",
       "\n",
       "    bathrooms  photos_count  \n",
       "2         1.0             6  \n",
       "9         1.0             6  \n",
       "46        1.0             7  \n",
       "47        1.0             8  \n",
       "69        1.0             5  "
      ]
     },
     "metadata": {},
     "output_type": "display_data"
    },
    {
     "name": "stdout",
     "output_type": "stream",
     "text": [
      "Label was 1, classified as 0\n"
     ]
    },
    {
     "data": {
      "text/html": [
       "<div>\n",
       "<style scoped>\n",
       "    .dataframe tbody tr th:only-of-type {\n",
       "        vertical-align: middle;\n",
       "    }\n",
       "\n",
       "    .dataframe tbody tr th {\n",
       "        vertical-align: top;\n",
       "    }\n",
       "\n",
       "    .dataframe thead th {\n",
       "        text-align: right;\n",
       "    }\n",
       "</style>\n",
       "<table border=\"1\" class=\"dataframe\">\n",
       "  <thead>\n",
       "    <tr style=\"text-align: right;\">\n",
       "      <th></th>\n",
       "      <th>description</th>\n",
       "      <th>price</th>\n",
       "      <th>bedrooms</th>\n",
       "      <th>bathrooms</th>\n",
       "      <th>photos_count</th>\n",
       "    </tr>\n",
       "  </thead>\n",
       "  <tbody>\n",
       "    <tr>\n",
       "      <th>3896</th>\n",
       "      <td>Apartment FeaturesDark oak flooring throughout...</td>\n",
       "      <td>3200</td>\n",
       "      <td>2</td>\n",
       "      <td>1.0</td>\n",
       "      <td>14</td>\n",
       "    </tr>\n",
       "  </tbody>\n",
       "</table>\n",
       "</div>"
      ],
      "text/plain": [
       "                                            description  price  bedrooms  \\\n",
       "3896  Apartment FeaturesDark oak flooring throughout...   3200         2   \n",
       "\n",
       "      bathrooms  photos_count  \n",
       "3896        1.0            14  "
      ]
     },
     "metadata": {},
     "output_type": "display_data"
    },
    {
     "name": "stdout",
     "output_type": "stream",
     "text": [
      "Label was 1, classified as 1\n"
     ]
    },
    {
     "data": {
      "text/html": [
       "<div>\n",
       "<style scoped>\n",
       "    .dataframe tbody tr th:only-of-type {\n",
       "        vertical-align: middle;\n",
       "    }\n",
       "\n",
       "    .dataframe tbody tr th {\n",
       "        vertical-align: top;\n",
       "    }\n",
       "\n",
       "    .dataframe thead th {\n",
       "        text-align: right;\n",
       "    }\n",
       "</style>\n",
       "<table border=\"1\" class=\"dataframe\">\n",
       "  <thead>\n",
       "    <tr style=\"text-align: right;\">\n",
       "      <th></th>\n",
       "      <th>description</th>\n",
       "      <th>price</th>\n",
       "      <th>bedrooms</th>\n",
       "      <th>bathrooms</th>\n",
       "      <th>photos_count</th>\n",
       "    </tr>\n",
       "  </thead>\n",
       "  <tbody>\n",
       "    <tr>\n",
       "      <th>214</th>\n",
       "      <td>Amazing concessions - ONE MONTH FREE AND NO BR...</td>\n",
       "      <td>4075</td>\n",
       "      <td>2</td>\n",
       "      <td>2.0</td>\n",
       "      <td>6</td>\n",
       "    </tr>\n",
       "    <tr>\n",
       "      <th>238</th>\n",
       "      <td>Huge studio with alcove (separate sleeping are...</td>\n",
       "      <td>3176</td>\n",
       "      <td>1</td>\n",
       "      <td>1.0</td>\n",
       "      <td>6</td>\n",
       "    </tr>\n",
       "    <tr>\n",
       "      <th>264</th>\n",
       "      <td>TRUE 2 BEDROOM W/ STAINLESS STEEL APPLIANCES -...</td>\n",
       "      <td>2800</td>\n",
       "      <td>2</td>\n",
       "      <td>1.0</td>\n",
       "      <td>5</td>\n",
       "    </tr>\n",
       "    <tr>\n",
       "      <th>304</th>\n",
       "      <td>Studio w/ MASSIVE Private Outdoor Patio - in d...</td>\n",
       "      <td>2895</td>\n",
       "      <td>1</td>\n",
       "      <td>1.0</td>\n",
       "      <td>5</td>\n",
       "    </tr>\n",
       "    <tr>\n",
       "      <th>321</th>\n",
       "      <td>This apartment, building and neighborhood have...</td>\n",
       "      <td>2800</td>\n",
       "      <td>0</td>\n",
       "      <td>1.0</td>\n",
       "      <td>3</td>\n",
       "    </tr>\n",
       "  </tbody>\n",
       "</table>\n",
       "</div>"
      ],
      "text/plain": [
       "                                           description  price  bedrooms  \\\n",
       "214  Amazing concessions - ONE MONTH FREE AND NO BR...   4075         2   \n",
       "238  Huge studio with alcove (separate sleeping are...   3176         1   \n",
       "264  TRUE 2 BEDROOM W/ STAINLESS STEEL APPLIANCES -...   2800         2   \n",
       "304  Studio w/ MASSIVE Private Outdoor Patio - in d...   2895         1   \n",
       "321  This apartment, building and neighborhood have...   2800         0   \n",
       "\n",
       "     bathrooms  photos_count  \n",
       "214        2.0             6  \n",
       "238        1.0             6  \n",
       "264        1.0             5  \n",
       "304        1.0             5  \n",
       "321        1.0             3  "
      ]
     },
     "metadata": {},
     "output_type": "display_data"
    },
    {
     "name": "stdout",
     "output_type": "stream",
     "text": [
      "Label was 1, classified as 2\n"
     ]
    },
    {
     "data": {
      "text/html": [
       "<div>\n",
       "<style scoped>\n",
       "    .dataframe tbody tr th:only-of-type {\n",
       "        vertical-align: middle;\n",
       "    }\n",
       "\n",
       "    .dataframe tbody tr th {\n",
       "        vertical-align: top;\n",
       "    }\n",
       "\n",
       "    .dataframe thead th {\n",
       "        text-align: right;\n",
       "    }\n",
       "</style>\n",
       "<table border=\"1\" class=\"dataframe\">\n",
       "  <thead>\n",
       "    <tr style=\"text-align: right;\">\n",
       "      <th></th>\n",
       "      <th>description</th>\n",
       "      <th>price</th>\n",
       "      <th>bedrooms</th>\n",
       "      <th>bathrooms</th>\n",
       "      <th>photos_count</th>\n",
       "    </tr>\n",
       "  </thead>\n",
       "  <tbody>\n",
       "    <tr>\n",
       "      <th>17</th>\n",
       "      <td>Residential Prewar Building With Art Deco Flai...</td>\n",
       "      <td>2995</td>\n",
       "      <td>2</td>\n",
       "      <td>1.0</td>\n",
       "      <td>4</td>\n",
       "    </tr>\n",
       "    <tr>\n",
       "      <th>23</th>\n",
       "      <td>Charming 1 Bedroom Apartment for Rent in Boeru...</td>\n",
       "      <td>2500</td>\n",
       "      <td>1</td>\n",
       "      <td>1.0</td>\n",
       "      <td>12</td>\n",
       "    </tr>\n",
       "    <tr>\n",
       "      <th>24</th>\n",
       "      <td>LISTING ID: 150804\\rSunny apartment in a quiet...</td>\n",
       "      <td>2050</td>\n",
       "      <td>1</td>\n",
       "      <td>1.0</td>\n",
       "      <td>3</td>\n",
       "    </tr>\n",
       "    <tr>\n",
       "      <th>31</th>\n",
       "      <td>Prime Murray Hill Neighborhood!   Located off ...</td>\n",
       "      <td>2350</td>\n",
       "      <td>0</td>\n",
       "      <td>1.0</td>\n",
       "      <td>2</td>\n",
       "    </tr>\n",
       "    <tr>\n",
       "      <th>34</th>\n",
       "      <td>This bright 1 bedroom apartment is located jus...</td>\n",
       "      <td>2100</td>\n",
       "      <td>1</td>\n",
       "      <td>1.0</td>\n",
       "      <td>5</td>\n",
       "    </tr>\n",
       "  </tbody>\n",
       "</table>\n",
       "</div>"
      ],
      "text/plain": [
       "                                          description  price  bedrooms  \\\n",
       "17  Residential Prewar Building With Art Deco Flai...   2995         2   \n",
       "23  Charming 1 Bedroom Apartment for Rent in Boeru...   2500         1   \n",
       "24  LISTING ID: 150804\\rSunny apartment in a quiet...   2050         1   \n",
       "31  Prime Murray Hill Neighborhood!   Located off ...   2350         0   \n",
       "34  This bright 1 bedroom apartment is located jus...   2100         1   \n",
       "\n",
       "    bathrooms  photos_count  \n",
       "17        1.0             4  \n",
       "23        1.0            12  \n",
       "24        1.0             3  \n",
       "31        1.0             2  \n",
       "34        1.0             5  "
      ]
     },
     "metadata": {},
     "output_type": "display_data"
    },
    {
     "name": "stdout",
     "output_type": "stream",
     "text": [
      "Label was 2, classified as 0\n"
     ]
    },
    {
     "data": {
      "text/html": [
       "<div>\n",
       "<style scoped>\n",
       "    .dataframe tbody tr th:only-of-type {\n",
       "        vertical-align: middle;\n",
       "    }\n",
       "\n",
       "    .dataframe tbody tr th {\n",
       "        vertical-align: top;\n",
       "    }\n",
       "\n",
       "    .dataframe thead th {\n",
       "        text-align: right;\n",
       "    }\n",
       "</style>\n",
       "<table border=\"1\" class=\"dataframe\">\n",
       "  <thead>\n",
       "    <tr style=\"text-align: right;\">\n",
       "      <th></th>\n",
       "      <th>description</th>\n",
       "      <th>price</th>\n",
       "      <th>bedrooms</th>\n",
       "      <th>bathrooms</th>\n",
       "      <th>photos_count</th>\n",
       "    </tr>\n",
       "  </thead>\n",
       "  <tbody>\n",
       "    <tr>\n",
       "      <th>1269</th>\n",
       "      <td>Apartment FeaturesDark oak flooring throughout...</td>\n",
       "      <td>2400</td>\n",
       "      <td>1</td>\n",
       "      <td>1.0</td>\n",
       "      <td>14</td>\n",
       "    </tr>\n",
       "    <tr>\n",
       "      <th>2188</th>\n",
       "      <td>New Renovation! Northern Exposure The ideal ad...</td>\n",
       "      <td>4250</td>\n",
       "      <td>0</td>\n",
       "      <td>1.0</td>\n",
       "      <td>3</td>\n",
       "    </tr>\n",
       "    <tr>\n",
       "      <th>4795</th>\n",
       "      <td>This newly renovated large corner Junior four ...</td>\n",
       "      <td>4200</td>\n",
       "      <td>2</td>\n",
       "      <td>1.0</td>\n",
       "      <td>5</td>\n",
       "    </tr>\n",
       "  </tbody>\n",
       "</table>\n",
       "</div>"
      ],
      "text/plain": [
       "                                            description  price  bedrooms  \\\n",
       "1269  Apartment FeaturesDark oak flooring throughout...   2400         1   \n",
       "2188  New Renovation! Northern Exposure The ideal ad...   4250         0   \n",
       "4795  This newly renovated large corner Junior four ...   4200         2   \n",
       "\n",
       "      bathrooms  photos_count  \n",
       "1269        1.0            14  \n",
       "2188        1.0             3  \n",
       "4795        1.0             5  "
      ]
     },
     "metadata": {},
     "output_type": "display_data"
    },
    {
     "name": "stdout",
     "output_type": "stream",
     "text": [
      "Label was 2, classified as 1\n"
     ]
    },
    {
     "data": {
      "text/html": [
       "<div>\n",
       "<style scoped>\n",
       "    .dataframe tbody tr th:only-of-type {\n",
       "        vertical-align: middle;\n",
       "    }\n",
       "\n",
       "    .dataframe tbody tr th {\n",
       "        vertical-align: top;\n",
       "    }\n",
       "\n",
       "    .dataframe thead th {\n",
       "        text-align: right;\n",
       "    }\n",
       "</style>\n",
       "<table border=\"1\" class=\"dataframe\">\n",
       "  <thead>\n",
       "    <tr style=\"text-align: right;\">\n",
       "      <th></th>\n",
       "      <th>description</th>\n",
       "      <th>price</th>\n",
       "      <th>bedrooms</th>\n",
       "      <th>bathrooms</th>\n",
       "      <th>photos_count</th>\n",
       "    </tr>\n",
       "  </thead>\n",
       "  <tbody>\n",
       "    <tr>\n",
       "      <th>84</th>\n",
       "      <td>On the 26th floor of this luxury building in t...</td>\n",
       "      <td>2871</td>\n",
       "      <td>2</td>\n",
       "      <td>1.0</td>\n",
       "      <td>5</td>\n",
       "    </tr>\n",
       "    <tr>\n",
       "      <th>138</th>\n",
       "      <td>NO FEE ___W37__ over 1000 sq.ft__DINING AREA__...</td>\n",
       "      <td>4950</td>\n",
       "      <td>3</td>\n",
       "      <td>2.0</td>\n",
       "      <td>7</td>\n",
       "    </tr>\n",
       "    <tr>\n",
       "      <th>166</th>\n",
       "      <td>A handsome arched stone tunnel leads you to th...</td>\n",
       "      <td>2325</td>\n",
       "      <td>1</td>\n",
       "      <td>1.0</td>\n",
       "      <td>4</td>\n",
       "    </tr>\n",
       "    <tr>\n",
       "      <th>607</th>\n",
       "      <td>A studio in a luxury pet friendly doorman buil...</td>\n",
       "      <td>2800</td>\n",
       "      <td>0</td>\n",
       "      <td>1.0</td>\n",
       "      <td>7</td>\n",
       "    </tr>\n",
       "    <tr>\n",
       "      <th>671</th>\n",
       "      <td>*****AVAILABLE NOW***MUST SEE***PRIME LOCATION...</td>\n",
       "      <td>3590</td>\n",
       "      <td>1</td>\n",
       "      <td>1.0</td>\n",
       "      <td>6</td>\n",
       "    </tr>\n",
       "  </tbody>\n",
       "</table>\n",
       "</div>"
      ],
      "text/plain": [
       "                                           description  price  bedrooms  \\\n",
       "84   On the 26th floor of this luxury building in t...   2871         2   \n",
       "138  NO FEE ___W37__ over 1000 sq.ft__DINING AREA__...   4950         3   \n",
       "166  A handsome arched stone tunnel leads you to th...   2325         1   \n",
       "607  A studio in a luxury pet friendly doorman buil...   2800         0   \n",
       "671  *****AVAILABLE NOW***MUST SEE***PRIME LOCATION...   3590         1   \n",
       "\n",
       "     bathrooms  photos_count  \n",
       "84         1.0             5  \n",
       "138        2.0             7  \n",
       "166        1.0             4  \n",
       "607        1.0             7  \n",
       "671        1.0             6  "
      ]
     },
     "metadata": {},
     "output_type": "display_data"
    },
    {
     "name": "stdout",
     "output_type": "stream",
     "text": [
      "Label was 2, classified as 2\n"
     ]
    },
    {
     "data": {
      "text/html": [
       "<div>\n",
       "<style scoped>\n",
       "    .dataframe tbody tr th:only-of-type {\n",
       "        vertical-align: middle;\n",
       "    }\n",
       "\n",
       "    .dataframe tbody tr th {\n",
       "        vertical-align: top;\n",
       "    }\n",
       "\n",
       "    .dataframe thead th {\n",
       "        text-align: right;\n",
       "    }\n",
       "</style>\n",
       "<table border=\"1\" class=\"dataframe\">\n",
       "  <thead>\n",
       "    <tr style=\"text-align: right;\">\n",
       "      <th></th>\n",
       "      <th>description</th>\n",
       "      <th>price</th>\n",
       "      <th>bedrooms</th>\n",
       "      <th>bathrooms</th>\n",
       "      <th>photos_count</th>\n",
       "    </tr>\n",
       "  </thead>\n",
       "  <tbody>\n",
       "    <tr>\n",
       "      <th>0</th>\n",
       "      <td>THE PRICE IS NET EFFECTIVE - One month Free on...</td>\n",
       "      <td>2900</td>\n",
       "      <td>1</td>\n",
       "      <td>1.0</td>\n",
       "      <td>4</td>\n",
       "    </tr>\n",
       "    <tr>\n",
       "      <th>1</th>\n",
       "      <td>Spacious and contemporary alcove studio with h...</td>\n",
       "      <td>4000</td>\n",
       "      <td>0</td>\n",
       "      <td>1.0</td>\n",
       "      <td>4</td>\n",
       "    </tr>\n",
       "    <tr>\n",
       "      <th>3</th>\n",
       "      <td>85TH/ 3 AVE! UNIQUE 800 SQFT PENTHOUSE DUPLEX ...</td>\n",
       "      <td>2850</td>\n",
       "      <td>1</td>\n",
       "      <td>2.0</td>\n",
       "      <td>6</td>\n",
       "    </tr>\n",
       "    <tr>\n",
       "      <th>4</th>\n",
       "      <td>This HUGE STUDIO LOFT apartment HAS AN AMAZING...</td>\n",
       "      <td>3100</td>\n",
       "      <td>0</td>\n",
       "      <td>1.0</td>\n",
       "      <td>5</td>\n",
       "    </tr>\n",
       "    <tr>\n",
       "      <th>5</th>\n",
       "      <td>Located on west 57th st , short walk from Colu...</td>\n",
       "      <td>4000</td>\n",
       "      <td>2</td>\n",
       "      <td>1.0</td>\n",
       "      <td>6</td>\n",
       "    </tr>\n",
       "  </tbody>\n",
       "</table>\n",
       "</div>"
      ],
      "text/plain": [
       "                                         description  price  bedrooms  \\\n",
       "0  THE PRICE IS NET EFFECTIVE - One month Free on...   2900         1   \n",
       "1  Spacious and contemporary alcove studio with h...   4000         0   \n",
       "3  85TH/ 3 AVE! UNIQUE 800 SQFT PENTHOUSE DUPLEX ...   2850         1   \n",
       "4  This HUGE STUDIO LOFT apartment HAS AN AMAZING...   3100         0   \n",
       "5  Located on west 57th st , short walk from Colu...   4000         2   \n",
       "\n",
       "   bathrooms  photos_count  \n",
       "0        1.0             4  \n",
       "1        1.0             4  \n",
       "3        2.0             6  \n",
       "4        1.0             5  \n",
       "5        1.0             6  "
      ]
     },
     "metadata": {},
     "output_type": "display_data"
    },
    {
     "data": {
      "text/plain": [
       "<matplotlib.axes._subplots.AxesSubplot at 0x7efc773b9048>"
      ]
     },
     "metadata": {},
     "output_type": "display_data"
    },
    {
     "name": "stdout",
     "output_type": "stream",
     "text": [
      "              precision    recall  f1-score   support\n",
      "\n",
      "           0       0.00      0.20      0.01         5\n",
      "           1       0.04      0.41      0.08       117\n",
      "           2       0.98      0.70      0.82      4814\n",
      "\n",
      "   micro avg       0.70      0.70      0.70      4936\n",
      "   macro avg       0.34      0.44      0.30      4936\n",
      "weighted avg       0.96      0.70      0.80      4936\n",
      "\n",
      "Logistic loss 2.16094\n"
     ]
    },
    {
     "data": {
      "image/png": "[encoded data removed]",
      "text/plain": [
       "<Figure size 432x288 with 2 Axes>"
      ]
     },
     "metadata": {
      "needs_background": "light"
     },
     "output_type": "display_data"
    }
   ],
   "source": [
    "generate_classification_report(TEXTCNN_MODEL,\n",
    "                               VALIDATION_DATAFRAME,\n",
    "                               VALIDATION_DESCRIPTIONS_NO_BIGRAMS,\n",
    "                               VALIDATION_LABELS.values,\n",
    "                               [0, 1, 2])"
   ]
  },
  {
   "cell_type": "code",
   "execution_count": 65,
   "metadata": {},
   "outputs": [],
   "source": [
    "write_predictions_table_to_csv(\n",
    "    get_prediction_probabilities_with_columns(\n",
    "        TEXTCNN_MODEL,\n",
    "        FEATURES_TEST_DATAFRAME['listing_id'],\n",
    "        TEST_DESCRIPTIONS_NO_BIGRAMS,\n",
    "        \n",
    "    ),\n",
    "    'textcnn_model_submissions.csv'\n",
    ")"
   ]
  },
  {
   "cell_type": "code",
   "execution_count": 66,
   "metadata": {},
   "outputs": [],
   "source": [
    "TEXTCNN_WITH_TABULAR_MODEL = NoToTensorInLossClassifier(\n",
    "    TextCNNWithTabularData,\n",
    "    lr=0.001,\n",
    "    batch_size=64,\n",
    "    optimizer=optim.Adam,\n",
    "    callbacks=[\n",
    "        EpochScoring(scoring='accuracy'),\n",
    "        LRAnnealing(),\n",
    "        LRScheduler(),\n",
    "        ProgressBar(),\n",
    "        CheckpointAndKeepBest(dirname='textcnn_tabular_checkpoint'),\n",
    "        TrainEndCheckpoint(dirname='textcnn_tabular_checkpoint',\n",
    "                           fn_prefix='textcnn_tabular_train_end_')\n",
    "    ],\n",
    "    max_epochs=20,\n",
    "    train_split=shuffled_train_test_split_by_indices(0.3),\n",
    "    device='cuda' if torch.cuda.is_available() else 'cpu',\n",
    "    module__encoder_dimension=EMBEDDING_DIM, # Number of encoder features\n",
    "    module__dictionary_dimension=len(TEXT.vocab.itos), # Dictionary dimension\n",
    "    module__output_dimension=3,\n",
    "    module__n_filters=100,\n",
    "    module__filter_sizes=(3, 4, 5),\n",
    "    module__dropout=0.5,\n",
    "    module__continuous_features_dimension=TRAIN_FEATURES_CONTINUOUS.shape[1],\n",
    "    module__categorical_feature_embedding_dimensions=[\n",
    "        (CATEGORICAL_FEATURES[c], 80) for c in CATEGORICAL_FEATURES\n",
    "    ],\n",
    "    module__pretrained=TEXT.vocab.vectors\n",
    ")"
   ]
  },
  {
   "cell_type": "code",
   "execution_count": 68,
   "metadata": {},
   "outputs": [
    {
     "data": {
      "application/vnd.jupyter.widget-view+json": {
       "model_id": "",
       "version_major": 2,
       "version_minor": 0
      },
      "text/plain": [
       "HBox(children=(IntProgress(value=0, max=695), HTML(value='')))"
      ]
     },
     "metadata": {},
     "output_type": "display_data"
    },
    {
     "name": "stdout",
     "output_type": "stream",
     "text": [
      "  epoch    accuracy    train_loss    valid_acc    valid_loss    cp      dur\n",
      "-------  ----------  ------------  -----------  ------------  ----  -------\n",
      "      1      \u001b[36m0.5441\u001b[0m       \u001b[32m24.4650\u001b[0m       \u001b[35m0.5441\u001b[0m       \u001b[31m44.5462\u001b[0m     +  54.6271\n"
     ]
    },
    {
     "data": {
      "application/vnd.jupyter.widget-view+json": {
       "model_id": "",
       "version_major": 2,
       "version_minor": 0
      },
      "text/plain": [
       "HBox(children=(IntProgress(value=0, max=695), HTML(value='')))"
      ]
     },
     "metadata": {},
     "output_type": "display_data"
    },
    {
     "name": "stdout",
     "output_type": "stream",
     "text": [
      "      2      0.6614       38.6762       \u001b[35m0.6614\u001b[0m       \u001b[31m39.0928\u001b[0m     +  54.6661\n"
     ]
    },
    {
     "data": {
      "application/vnd.jupyter.widget-view+json": {
       "model_id": "",
       "version_major": 2,
       "version_minor": 0
      },
      "text/plain": [
       "HBox(children=(IntProgress(value=0, max=695), HTML(value='')))"
      ]
     },
     "metadata": {},
     "output_type": "display_data"
    },
    {
     "name": "stdout",
     "output_type": "stream",
     "text": [
      "      3      0.6396       50.7718       0.6396       \u001b[31m36.6304\u001b[0m     +  54.5844\n"
     ]
    },
    {
     "data": {
      "application/vnd.jupyter.widget-view+json": {
       "model_id": "",
       "version_major": 2,
       "version_minor": 0
      },
      "text/plain": [
       "HBox(children=(IntProgress(value=0, max=695), HTML(value='')))"
      ]
     },
     "metadata": {},
     "output_type": "display_data"
    },
    {
     "name": "stdout",
     "output_type": "stream",
     "text": [
      "\r",
      "      4      0.6097       41.2076       0.6097       49.4209        54.5967\n"
     ]
    },
    {
     "data": {
      "application/vnd.jupyter.widget-view+json": {
       "model_id": "",
       "version_major": 2,
       "version_minor": 0
      },
      "text/plain": [
       "HBox(children=(IntProgress(value=0, max=695), HTML(value='')))"
      ]
     },
     "metadata": {},
     "output_type": "display_data"
    },
    {
     "name": "stdout",
     "output_type": "stream",
     "text": [
      "      5      0.6247       26.6738       0.6247       \u001b[31m36.0051\u001b[0m     +  54.5838\n"
     ]
    },
    {
     "data": {
      "application/vnd.jupyter.widget-view+json": {
       "model_id": "",
       "version_major": 2,
       "version_minor": 0
      },
      "text/plain": [
       "HBox(children=(IntProgress(value=0, max=695), HTML(value='')))"
      ]
     },
     "metadata": {},
     "output_type": "display_data"
    },
    {
     "name": "stdout",
     "output_type": "stream",
     "text": [
      "\r",
      "      6      0.6434       \u001b[32m16.3077\u001b[0m       0.6434       47.4573        54.5988\n"
     ]
    },
    {
     "data": {
      "application/vnd.jupyter.widget-view+json": {
       "model_id": "",
       "version_major": 2,
       "version_minor": 0
      },
      "text/plain": [
       "HBox(children=(IntProgress(value=0, max=695), HTML(value='')))"
      ]
     },
     "metadata": {},
     "output_type": "display_data"
    },
    {
     "name": "stdout",
     "output_type": "stream",
     "text": [
      "\r",
      "      7      0.6453        \u001b[32m8.4700\u001b[0m       0.6453       41.1567        54.5809\n"
     ]
    },
    {
     "data": {
      "application/vnd.jupyter.widget-view+json": {
       "model_id": "",
       "version_major": 2,
       "version_minor": 0
      },
      "text/plain": [
       "HBox(children=(IntProgress(value=0, max=695), HTML(value='')))"
      ]
     },
     "metadata": {},
     "output_type": "display_data"
    },
    {
     "name": "stdout",
     "output_type": "stream",
     "text": [
      "      8      0.6554        \u001b[32m6.0934\u001b[0m       0.6554       \u001b[31m26.9373\u001b[0m     +  54.5499\n"
     ]
    },
    {
     "data": {
      "application/vnd.jupyter.widget-view+json": {
       "model_id": "",
       "version_major": 2,
       "version_minor": 0
      },
      "text/plain": [
       "HBox(children=(IntProgress(value=0, max=695), HTML(value='')))"
      ]
     },
     "metadata": {},
     "output_type": "display_data"
    },
    {
     "name": "stdout",
     "output_type": "stream",
     "text": [
      "      9      0.6634        \u001b[32m3.5504\u001b[0m       \u001b[35m0.6634\u001b[0m       \u001b[31m19.4930\u001b[0m     +  54.6050\n"
     ]
    },
    {
     "data": {
      "application/vnd.jupyter.widget-view+json": {
       "model_id": "",
       "version_major": 2,
       "version_minor": 0
      },
      "text/plain": [
       "HBox(children=(IntProgress(value=0, max=695), HTML(value='')))"
      ]
     },
     "metadata": {},
     "output_type": "display_data"
    },
    {
     "name": "stdout",
     "output_type": "stream",
     "text": [
      "     10      0.6785        \u001b[32m2.4511\u001b[0m       \u001b[35m0.6785\u001b[0m       \u001b[31m17.1192\u001b[0m     +  54.6390\n"
     ]
    },
    {
     "data": {
      "application/vnd.jupyter.widget-view+json": {
       "model_id": "",
       "version_major": 2,
       "version_minor": 0
      },
      "text/plain": [
       "HBox(children=(IntProgress(value=0, max=695), HTML(value='')))"
      ]
     },
     "metadata": {},
     "output_type": "display_data"
    },
    {
     "name": "stdout",
     "output_type": "stream",
     "text": [
      "     11      0.6785        \u001b[32m2.2803\u001b[0m       \u001b[35m0.6785\u001b[0m       \u001b[31m17.1138\u001b[0m     +  54.6855\n"
     ]
    },
    {
     "data": {
      "application/vnd.jupyter.widget-view+json": {
       "model_id": "",
       "version_major": 2,
       "version_minor": 0
      },
      "text/plain": [
       "HBox(children=(IntProgress(value=0, max=695), HTML(value='')))"
      ]
     },
     "metadata": {},
     "output_type": "display_data"
    },
    {
     "name": "stdout",
     "output_type": "stream",
     "text": [
      "\r",
      "     12      0.6183       45.7239       0.6183      170.3480        54.6798\n"
     ]
    },
    {
     "data": {
      "application/vnd.jupyter.widget-view+json": {
       "model_id": "",
       "version_major": 2,
       "version_minor": 0
      },
      "text/plain": [
       "HBox(children=(IntProgress(value=0, max=695), HTML(value='')))"
      ]
     },
     "metadata": {},
     "output_type": "display_data"
    },
    {
     "name": "stdout",
     "output_type": "stream",
     "text": [
      "\r",
      "     13      0.6506      130.2443       0.6506      204.2510        54.3715\n"
     ]
    },
    {
     "data": {
      "application/vnd.jupyter.widget-view+json": {
       "model_id": "",
       "version_major": 2,
       "version_minor": 0
      },
      "text/plain": [
       "HBox(children=(IntProgress(value=0, max=695), HTML(value='')))"
      ]
     },
     "metadata": {},
     "output_type": "display_data"
    },
    {
     "name": "stdout",
     "output_type": "stream",
     "text": [
      "\r",
      "     14      0.6395      129.4552       0.6395      259.7862        54.2610\n"
     ]
    },
    {
     "data": {
      "application/vnd.jupyter.widget-view+json": {
       "model_id": "",
       "version_major": 2,
       "version_minor": 0
      },
      "text/plain": [
       "HBox(children=(IntProgress(value=0, max=695), HTML(value='')))"
      ]
     },
     "metadata": {},
     "output_type": "display_data"
    },
    {
     "name": "stdout",
     "output_type": "stream",
     "text": [
      "\r",
      "     15      0.6486      108.7577       0.6486      309.8055        54.7887\n"
     ]
    },
    {
     "data": {
      "application/vnd.jupyter.widget-view+json": {
       "model_id": "",
       "version_major": 2,
       "version_minor": 0
      },
      "text/plain": [
       "HBox(children=(IntProgress(value=0, max=695), HTML(value='')))"
      ]
     },
     "metadata": {},
     "output_type": "display_data"
    },
    {
     "name": "stdout",
     "output_type": "stream",
     "text": [
      "\r",
      "     16      0.6473       70.9017       0.6473      241.2574        54.3042\n"
     ]
    },
    {
     "data": {
      "application/vnd.jupyter.widget-view+json": {
       "model_id": "",
       "version_major": 2,
       "version_minor": 0
      },
      "text/plain": [
       "HBox(children=(IntProgress(value=0, max=695), HTML(value='')))"
      ]
     },
     "metadata": {},
     "output_type": "display_data"
    },
    {
     "name": "stdout",
     "output_type": "stream",
     "text": [
      "\r",
      "     17      0.6438       51.4701       0.6438      325.3991        54.5866\n"
     ]
    },
    {
     "data": {
      "application/vnd.jupyter.widget-view+json": {
       "model_id": "",
       "version_major": 2,
       "version_minor": 0
      },
      "text/plain": [
       "HBox(children=(IntProgress(value=0, max=695), HTML(value='')))"
      ]
     },
     "metadata": {},
     "output_type": "display_data"
    },
    {
     "name": "stdout",
     "output_type": "stream",
     "text": [
      "\r",
      "     18      0.6420       46.6428       0.6420      271.7825        54.6188\n"
     ]
    },
    {
     "data": {
      "application/vnd.jupyter.widget-view+json": {
       "model_id": "",
       "version_major": 2,
       "version_minor": 0
      },
      "text/plain": [
       "HBox(children=(IntProgress(value=0, max=695), HTML(value='')))"
      ]
     },
     "metadata": {},
     "output_type": "display_data"
    },
    {
     "name": "stdout",
     "output_type": "stream",
     "text": [
      "\r",
      "     19      0.6400       45.0623       0.6400      390.0557        54.5757\n"
     ]
    },
    {
     "data": {
      "application/vnd.jupyter.widget-view+json": {
       "model_id": "",
       "version_major": 2,
       "version_minor": 0
      },
      "text/plain": [
       "HBox(children=(IntProgress(value=0, max=695), HTML(value='')))"
      ]
     },
     "metadata": {},
     "output_type": "display_data"
    },
    {
     "name": "stdout",
     "output_type": "stream",
     "text": [
      "     20      0.6534       40.3203       0.6534      386.6733        54.6004\n",
      "Loading parameters from checkpoint 10\n"
     ]
    },
    {
     "data": {
      "text/plain": [
       "<class 'utils.language_models.simple_rnn.NoToTensorInLossClassifier'>[initialized](\n",
       "  module_=TextCNNWithTabularData(\n",
       "    (embedding): Embedding(504022, 100)\n",
       "    (emb_0): Embedding(540, 80)\n",
       "    (emb_1): Embedding(718, 80)\n",
       "    (emb_2): Embedding(581, 80)\n",
       "    (conv_0): Conv2d(1, 100, kernel_size=(3, 100), stride=(1, 1))\n",
       "    (conv_1): Conv2d(1, 100, kernel_size=(4, 100), stride=(1, 1))\n",
       "    (conv_2): Conv2d(1, 100, kernel_size=(5, 100), stride=(1, 1))\n",
       "    (fc): Linear(in_features=647, out_features=3, bias=True)\n",
       "    (dropout): Dropout(p=0.5)\n",
       "  ),\n",
       ")"
      ]
     },
     "execution_count": 68,
     "metadata": {},
     "output_type": "execute_result"
    }
   ],
   "source": [
    "TEXTCNN_WITH_TABULAR_MODEL.fit((TRAIN_DESCRIPTIONS_NO_BIGRAMS,\n",
    "                                TRAIN_FEATURES_CONTINUOUS_TENSOR,\n",
    "                                TRAIN_FEATURES_CATEGORICAL_TENSOR),\n",
    "                               TRAIN_LABELS_TENSOR)"
   ]
  },
  {
   "cell_type": "code",
   "execution_count": 69,
   "metadata": {},
   "outputs": [
    {
     "name": "stdout",
     "output_type": "stream",
     "text": [
      "Label was 0, classified as 0\n"
     ]
    },
    {
     "data": {
      "text/html": [
       "<div>\n",
       "<style scoped>\n",
       "    .dataframe tbody tr th:only-of-type {\n",
       "        vertical-align: middle;\n",
       "    }\n",
       "\n",
       "    .dataframe tbody tr th {\n",
       "        vertical-align: top;\n",
       "    }\n",
       "\n",
       "    .dataframe thead th {\n",
       "        text-align: right;\n",
       "    }\n",
       "</style>\n",
       "<table border=\"1\" class=\"dataframe\">\n",
       "  <thead>\n",
       "    <tr style=\"text-align: right;\">\n",
       "      <th></th>\n",
       "      <th>description</th>\n",
       "      <th>price</th>\n",
       "      <th>bedrooms</th>\n",
       "      <th>bathrooms</th>\n",
       "      <th>photos_count</th>\n",
       "    </tr>\n",
       "  </thead>\n",
       "  <tbody>\n",
       "    <tr>\n",
       "      <th>401</th>\n",
       "      <td>Amazing Location! 24 Hour Doorman/Concierge! N...</td>\n",
       "      <td>3295</td>\n",
       "      <td>2</td>\n",
       "      <td>1.0</td>\n",
       "      <td>2</td>\n",
       "    </tr>\n",
       "    <tr>\n",
       "      <th>564</th>\n",
       "      <td>NO BROKERS FEE\\r\\rAmazing location and Amazing...</td>\n",
       "      <td>2900</td>\n",
       "      <td>3</td>\n",
       "      <td>1.0</td>\n",
       "      <td>8</td>\n",
       "    </tr>\n",
       "    <tr>\n",
       "      <th>574</th>\n",
       "      <td>This beautiful newly renovated 1 bedroom, 1 ba...</td>\n",
       "      <td>1200</td>\n",
       "      <td>1</td>\n",
       "      <td>1.0</td>\n",
       "      <td>11</td>\n",
       "    </tr>\n",
       "    <tr>\n",
       "      <th>609</th>\n",
       "      <td>Check out this lovely new apartment.  3 bed / ...</td>\n",
       "      <td>3000</td>\n",
       "      <td>3</td>\n",
       "      <td>1.0</td>\n",
       "      <td>11</td>\n",
       "    </tr>\n",
       "    <tr>\n",
       "      <th>831</th>\n",
       "      <td>Very large 4br/2bth located smack in the middl...</td>\n",
       "      <td>7500</td>\n",
       "      <td>4</td>\n",
       "      <td>2.0</td>\n",
       "      <td>10</td>\n",
       "    </tr>\n",
       "  </tbody>\n",
       "</table>\n",
       "</div>"
      ],
      "text/plain": [
       "                                           description  price  bedrooms  \\\n",
       "401  Amazing Location! 24 Hour Doorman/Concierge! N...   3295         2   \n",
       "564  NO BROKERS FEE\\r\\rAmazing location and Amazing...   2900         3   \n",
       "574  This beautiful newly renovated 1 bedroom, 1 ba...   1200         1   \n",
       "609  Check out this lovely new apartment.  3 bed / ...   3000         3   \n",
       "831  Very large 4br/2bth located smack in the middl...   7500         4   \n",
       "\n",
       "     bathrooms  photos_count  \n",
       "401        1.0             2  \n",
       "564        1.0             8  \n",
       "574        1.0            11  \n",
       "609        1.0            11  \n",
       "831        2.0            10  "
      ]
     },
     "metadata": {},
     "output_type": "display_data"
    },
    {
     "name": "stdout",
     "output_type": "stream",
     "text": [
      "Label was 0, classified as 1\n"
     ]
    },
    {
     "data": {
      "text/html": [
       "<div>\n",
       "<style scoped>\n",
       "    .dataframe tbody tr th:only-of-type {\n",
       "        vertical-align: middle;\n",
       "    }\n",
       "\n",
       "    .dataframe tbody tr th {\n",
       "        vertical-align: top;\n",
       "    }\n",
       "\n",
       "    .dataframe thead th {\n",
       "        text-align: right;\n",
       "    }\n",
       "</style>\n",
       "<table border=\"1\" class=\"dataframe\">\n",
       "  <thead>\n",
       "    <tr style=\"text-align: right;\">\n",
       "      <th></th>\n",
       "      <th>description</th>\n",
       "      <th>price</th>\n",
       "      <th>bedrooms</th>\n",
       "      <th>bathrooms</th>\n",
       "      <th>photos_count</th>\n",
       "    </tr>\n",
       "  </thead>\n",
       "  <tbody>\n",
       "    <tr>\n",
       "      <th>2</th>\n",
       "      <td>5TH ST/ 2 AVE! RENOVATED 2 BEDROOM IN CHARMING...</td>\n",
       "      <td>3200</td>\n",
       "      <td>2</td>\n",
       "      <td>1.0</td>\n",
       "      <td>6</td>\n",
       "    </tr>\n",
       "    <tr>\n",
       "      <th>9</th>\n",
       "      <td>83RD/ AMSTERDAM! TRUE 2 BED IN NICE WELL KEPT ...</td>\n",
       "      <td>3000</td>\n",
       "      <td>2</td>\n",
       "      <td>1.0</td>\n",
       "      <td>6</td>\n",
       "    </tr>\n",
       "    <tr>\n",
       "      <th>46</th>\n",
       "      <td>Gorgeous Renovated Studio apartment in Kew Gar...</td>\n",
       "      <td>1375</td>\n",
       "      <td>0</td>\n",
       "      <td>1.0</td>\n",
       "      <td>7</td>\n",
       "    </tr>\n",
       "    <tr>\n",
       "      <th>47</th>\n",
       "      <td>Simply amazing!!!! Spacious 3 bedroom apartmen...</td>\n",
       "      <td>1899</td>\n",
       "      <td>3</td>\n",
       "      <td>1.0</td>\n",
       "      <td>8</td>\n",
       "    </tr>\n",
       "    <tr>\n",
       "      <th>69</th>\n",
       "      <td>Spacious studio apartment near Fulton Street M...</td>\n",
       "      <td>2495</td>\n",
       "      <td>0</td>\n",
       "      <td>1.0</td>\n",
       "      <td>5</td>\n",
       "    </tr>\n",
       "  </tbody>\n",
       "</table>\n",
       "</div>"
      ],
      "text/plain": [
       "                                          description  price  bedrooms  \\\n",
       "2   5TH ST/ 2 AVE! RENOVATED 2 BEDROOM IN CHARMING...   3200         2   \n",
       "9   83RD/ AMSTERDAM! TRUE 2 BED IN NICE WELL KEPT ...   3000         2   \n",
       "46  Gorgeous Renovated Studio apartment in Kew Gar...   1375         0   \n",
       "47  Simply amazing!!!! Spacious 3 bedroom apartmen...   1899         3   \n",
       "69  Spacious studio apartment near Fulton Street M...   2495         0   \n",
       "\n",
       "    bathrooms  photos_count  \n",
       "2         1.0             6  \n",
       "9         1.0             6  \n",
       "46        1.0             7  \n",
       "47        1.0             8  \n",
       "69        1.0             5  "
      ]
     },
     "metadata": {},
     "output_type": "display_data"
    },
    {
     "name": "stdout",
     "output_type": "stream",
     "text": [
      "Label was 0, classified as 2\n"
     ]
    },
    {
     "data": {
      "text/html": [
       "<div>\n",
       "<style scoped>\n",
       "    .dataframe tbody tr th:only-of-type {\n",
       "        vertical-align: middle;\n",
       "    }\n",
       "\n",
       "    .dataframe tbody tr th {\n",
       "        vertical-align: top;\n",
       "    }\n",
       "\n",
       "    .dataframe thead th {\n",
       "        text-align: right;\n",
       "    }\n",
       "</style>\n",
       "<table border=\"1\" class=\"dataframe\">\n",
       "  <thead>\n",
       "    <tr style=\"text-align: right;\">\n",
       "      <th></th>\n",
       "      <th>description</th>\n",
       "      <th>price</th>\n",
       "      <th>bedrooms</th>\n",
       "      <th>bathrooms</th>\n",
       "      <th>photos_count</th>\n",
       "    </tr>\n",
       "  </thead>\n",
       "  <tbody>\n",
       "    <tr>\n",
       "      <th>188</th>\n",
       "      <td>Gramercy Park/Union Square! Huge 3 bedroom apa...</td>\n",
       "      <td>4553</td>\n",
       "      <td>3</td>\n",
       "      <td>1.0</td>\n",
       "      <td>5</td>\n",
       "    </tr>\n",
       "    <tr>\n",
       "      <th>270</th>\n",
       "      <td>Super spacious 4 bedroom apartment located in ...</td>\n",
       "      <td>3900</td>\n",
       "      <td>4</td>\n",
       "      <td>2.0</td>\n",
       "      <td>7</td>\n",
       "    </tr>\n",
       "    <tr>\n",
       "      <th>279</th>\n",
       "      <td>IN THE HEART OF MIDTOWN EAST, THIS LUXURY BUIL...</td>\n",
       "      <td>6000</td>\n",
       "      <td>4</td>\n",
       "      <td>2.0</td>\n",
       "      <td>8</td>\n",
       "    </tr>\n",
       "    <tr>\n",
       "      <th>513</th>\n",
       "      <td>** OPEN HOUSE SATURDAY 7/9 - 2:00pm-3:00pm ** ...</td>\n",
       "      <td>1395</td>\n",
       "      <td>1</td>\n",
       "      <td>1.0</td>\n",
       "      <td>3</td>\n",
       "    </tr>\n",
       "    <tr>\n",
       "      <th>571</th>\n",
       "      <td>*** 100% NO FEE***3 BEDROOM 2BATH CONV. FEATUR...</td>\n",
       "      <td>3900</td>\n",
       "      <td>3</td>\n",
       "      <td>2.0</td>\n",
       "      <td>6</td>\n",
       "    </tr>\n",
       "  </tbody>\n",
       "</table>\n",
       "</div>"
      ],
      "text/plain": [
       "                                           description  price  bedrooms  \\\n",
       "188  Gramercy Park/Union Square! Huge 3 bedroom apa...   4553         3   \n",
       "270  Super spacious 4 bedroom apartment located in ...   3900         4   \n",
       "279  IN THE HEART OF MIDTOWN EAST, THIS LUXURY BUIL...   6000         4   \n",
       "513  ** OPEN HOUSE SATURDAY 7/9 - 2:00pm-3:00pm ** ...   1395         1   \n",
       "571  *** 100% NO FEE***3 BEDROOM 2BATH CONV. FEATUR...   3900         3   \n",
       "\n",
       "     bathrooms  photos_count  \n",
       "188        1.0             5  \n",
       "270        2.0             7  \n",
       "279        2.0             8  \n",
       "513        1.0             3  \n",
       "571        2.0             6  "
      ]
     },
     "metadata": {},
     "output_type": "display_data"
    },
    {
     "name": "stdout",
     "output_type": "stream",
     "text": [
      "Label was 1, classified as 0\n"
     ]
    },
    {
     "data": {
      "text/html": [
       "<div>\n",
       "<style scoped>\n",
       "    .dataframe tbody tr th:only-of-type {\n",
       "        vertical-align: middle;\n",
       "    }\n",
       "\n",
       "    .dataframe tbody tr th {\n",
       "        vertical-align: top;\n",
       "    }\n",
       "\n",
       "    .dataframe thead th {\n",
       "        text-align: right;\n",
       "    }\n",
       "</style>\n",
       "<table border=\"1\" class=\"dataframe\">\n",
       "  <thead>\n",
       "    <tr style=\"text-align: right;\">\n",
       "      <th></th>\n",
       "      <th>description</th>\n",
       "      <th>price</th>\n",
       "      <th>bedrooms</th>\n",
       "      <th>bathrooms</th>\n",
       "      <th>photos_count</th>\n",
       "    </tr>\n",
       "  </thead>\n",
       "  <tbody>\n",
       "    <tr>\n",
       "      <th>34</th>\n",
       "      <td>This bright 1 bedroom apartment is located jus...</td>\n",
       "      <td>2100</td>\n",
       "      <td>1</td>\n",
       "      <td>1.0</td>\n",
       "      <td>5</td>\n",
       "    </tr>\n",
       "    <tr>\n",
       "      <th>113</th>\n",
       "      <td>Building features: Elevator/Laundry/Fitness ro...</td>\n",
       "      <td>1950</td>\n",
       "      <td>2</td>\n",
       "      <td>2.0</td>\n",
       "      <td>5</td>\n",
       "    </tr>\n",
       "    <tr>\n",
       "      <th>629</th>\n",
       "      <td>Welcome to an awesome flex 2 bedroom in the Fi...</td>\n",
       "      <td>3550</td>\n",
       "      <td>2</td>\n",
       "      <td>1.0</td>\n",
       "      <td>6</td>\n",
       "    </tr>\n",
       "    <tr>\n",
       "      <th>634</th>\n",
       "      <td>**MUST SEE**CENTRALLY LOCATED IN BAYSIDE****EV...</td>\n",
       "      <td>1995</td>\n",
       "      <td>3</td>\n",
       "      <td>1.0</td>\n",
       "      <td>6</td>\n",
       "    </tr>\n",
       "    <tr>\n",
       "      <th>816</th>\n",
       "      <td>Renovated Large Sunny 1bedroom Apt with Modern...</td>\n",
       "      <td>2400</td>\n",
       "      <td>1</td>\n",
       "      <td>1.0</td>\n",
       "      <td>6</td>\n",
       "    </tr>\n",
       "  </tbody>\n",
       "</table>\n",
       "</div>"
      ],
      "text/plain": [
       "                                           description  price  bedrooms  \\\n",
       "34   This bright 1 bedroom apartment is located jus...   2100         1   \n",
       "113  Building features: Elevator/Laundry/Fitness ro...   1950         2   \n",
       "629  Welcome to an awesome flex 2 bedroom in the Fi...   3550         2   \n",
       "634  **MUST SEE**CENTRALLY LOCATED IN BAYSIDE****EV...   1995         3   \n",
       "816  Renovated Large Sunny 1bedroom Apt with Modern...   2400         1   \n",
       "\n",
       "     bathrooms  photos_count  \n",
       "34         1.0             5  \n",
       "113        2.0             5  \n",
       "629        1.0             6  \n",
       "634        1.0             6  \n",
       "816        1.0             6  "
      ]
     },
     "metadata": {},
     "output_type": "display_data"
    },
    {
     "name": "stdout",
     "output_type": "stream",
     "text": [
      "Label was 1, classified as 1\n"
     ]
    },
    {
     "data": {
      "text/html": [
       "<div>\n",
       "<style scoped>\n",
       "    .dataframe tbody tr th:only-of-type {\n",
       "        vertical-align: middle;\n",
       "    }\n",
       "\n",
       "    .dataframe tbody tr th {\n",
       "        vertical-align: top;\n",
       "    }\n",
       "\n",
       "    .dataframe thead th {\n",
       "        text-align: right;\n",
       "    }\n",
       "</style>\n",
       "<table border=\"1\" class=\"dataframe\">\n",
       "  <thead>\n",
       "    <tr style=\"text-align: right;\">\n",
       "      <th></th>\n",
       "      <th>description</th>\n",
       "      <th>price</th>\n",
       "      <th>bedrooms</th>\n",
       "      <th>bathrooms</th>\n",
       "      <th>photos_count</th>\n",
       "    </tr>\n",
       "  </thead>\n",
       "  <tbody>\n",
       "    <tr>\n",
       "      <th>17</th>\n",
       "      <td>Residential Prewar Building With Art Deco Flai...</td>\n",
       "      <td>2995</td>\n",
       "      <td>2</td>\n",
       "      <td>1.0</td>\n",
       "      <td>4</td>\n",
       "    </tr>\n",
       "    <tr>\n",
       "      <th>24</th>\n",
       "      <td>LISTING ID: 150804\\rSunny apartment in a quiet...</td>\n",
       "      <td>2050</td>\n",
       "      <td>1</td>\n",
       "      <td>1.0</td>\n",
       "      <td>3</td>\n",
       "    </tr>\n",
       "    <tr>\n",
       "      <th>31</th>\n",
       "      <td>Prime Murray Hill Neighborhood!   Located off ...</td>\n",
       "      <td>2350</td>\n",
       "      <td>0</td>\n",
       "      <td>1.0</td>\n",
       "      <td>2</td>\n",
       "    </tr>\n",
       "    <tr>\n",
       "      <th>45</th>\n",
       "      <td>Move in to this great spacious studio, will no...</td>\n",
       "      <td>2550</td>\n",
       "      <td>0</td>\n",
       "      <td>1.0</td>\n",
       "      <td>3</td>\n",
       "    </tr>\n",
       "    <tr>\n",
       "      <th>48</th>\n",
       "      <td>Prewar Charm !! East 80s &amp; 1st AVE ~ Gorgeous ...</td>\n",
       "      <td>1775</td>\n",
       "      <td>0</td>\n",
       "      <td>1.0</td>\n",
       "      <td>3</td>\n",
       "    </tr>\n",
       "  </tbody>\n",
       "</table>\n",
       "</div>"
      ],
      "text/plain": [
       "                                          description  price  bedrooms  \\\n",
       "17  Residential Prewar Building With Art Deco Flai...   2995         2   \n",
       "24  LISTING ID: 150804\\rSunny apartment in a quiet...   2050         1   \n",
       "31  Prime Murray Hill Neighborhood!   Located off ...   2350         0   \n",
       "45  Move in to this great spacious studio, will no...   2550         0   \n",
       "48  Prewar Charm !! East 80s & 1st AVE ~ Gorgeous ...   1775         0   \n",
       "\n",
       "    bathrooms  photos_count  \n",
       "17        1.0             4  \n",
       "24        1.0             3  \n",
       "31        1.0             2  \n",
       "45        1.0             3  \n",
       "48        1.0             3  "
      ]
     },
     "metadata": {},
     "output_type": "display_data"
    },
    {
     "name": "stdout",
     "output_type": "stream",
     "text": [
      "Label was 1, classified as 2\n"
     ]
    },
    {
     "data": {
      "text/html": [
       "<div>\n",
       "<style scoped>\n",
       "    .dataframe tbody tr th:only-of-type {\n",
       "        vertical-align: middle;\n",
       "    }\n",
       "\n",
       "    .dataframe tbody tr th {\n",
       "        vertical-align: top;\n",
       "    }\n",
       "\n",
       "    .dataframe thead th {\n",
       "        text-align: right;\n",
       "    }\n",
       "</style>\n",
       "<table border=\"1\" class=\"dataframe\">\n",
       "  <thead>\n",
       "    <tr style=\"text-align: right;\">\n",
       "      <th></th>\n",
       "      <th>description</th>\n",
       "      <th>price</th>\n",
       "      <th>bedrooms</th>\n",
       "      <th>bathrooms</th>\n",
       "      <th>photos_count</th>\n",
       "    </tr>\n",
       "  </thead>\n",
       "  <tbody>\n",
       "    <tr>\n",
       "      <th>23</th>\n",
       "      <td>Charming 1 Bedroom Apartment for Rent in Boeru...</td>\n",
       "      <td>2500</td>\n",
       "      <td>1</td>\n",
       "      <td>1.0</td>\n",
       "      <td>12</td>\n",
       "    </tr>\n",
       "    <tr>\n",
       "      <th>43</th>\n",
       "      <td>PRIME Greenwich Village!\\r\\rMASSIVE 2BR!\\r\\rHi...</td>\n",
       "      <td>4350</td>\n",
       "      <td>2</td>\n",
       "      <td>1.0</td>\n",
       "      <td>4</td>\n",
       "    </tr>\n",
       "    <tr>\n",
       "      <th>52</th>\n",
       "      <td>AS YOU ENTER THIS ULTRA LUXURY BUILDING, YOU W...</td>\n",
       "      <td>2865</td>\n",
       "      <td>2</td>\n",
       "      <td>1.0</td>\n",
       "      <td>6</td>\n",
       "    </tr>\n",
       "    <tr>\n",
       "      <th>58</th>\n",
       "      <td>This is a Gut Renovated 3 Bedroom w/ Washer &amp; ...</td>\n",
       "      <td>5200</td>\n",
       "      <td>3</td>\n",
       "      <td>3.0</td>\n",
       "      <td>14</td>\n",
       "    </tr>\n",
       "    <tr>\n",
       "      <th>73</th>\n",
       "      <td>Building Features: Doorman &amp; concierge, Bike R...</td>\n",
       "      <td>3100</td>\n",
       "      <td>2</td>\n",
       "      <td>1.0</td>\n",
       "      <td>9</td>\n",
       "    </tr>\n",
       "  </tbody>\n",
       "</table>\n",
       "</div>"
      ],
      "text/plain": [
       "                                          description  price  bedrooms  \\\n",
       "23  Charming 1 Bedroom Apartment for Rent in Boeru...   2500         1   \n",
       "43  PRIME Greenwich Village!\\r\\rMASSIVE 2BR!\\r\\rHi...   4350         2   \n",
       "52  AS YOU ENTER THIS ULTRA LUXURY BUILDING, YOU W...   2865         2   \n",
       "58  This is a Gut Renovated 3 Bedroom w/ Washer & ...   5200         3   \n",
       "73  Building Features: Doorman & concierge, Bike R...   3100         2   \n",
       "\n",
       "    bathrooms  photos_count  \n",
       "23        1.0            12  \n",
       "43        1.0             4  \n",
       "52        1.0             6  \n",
       "58        3.0            14  \n",
       "73        1.0             9  "
      ]
     },
     "metadata": {},
     "output_type": "display_data"
    },
    {
     "name": "stdout",
     "output_type": "stream",
     "text": [
      "Label was 2, classified as 0\n"
     ]
    },
    {
     "data": {
      "text/html": [
       "<div>\n",
       "<style scoped>\n",
       "    .dataframe tbody tr th:only-of-type {\n",
       "        vertical-align: middle;\n",
       "    }\n",
       "\n",
       "    .dataframe tbody tr th {\n",
       "        vertical-align: top;\n",
       "    }\n",
       "\n",
       "    .dataframe thead th {\n",
       "        text-align: right;\n",
       "    }\n",
       "</style>\n",
       "<table border=\"1\" class=\"dataframe\">\n",
       "  <thead>\n",
       "    <tr style=\"text-align: right;\">\n",
       "      <th></th>\n",
       "      <th>description</th>\n",
       "      <th>price</th>\n",
       "      <th>bedrooms</th>\n",
       "      <th>bathrooms</th>\n",
       "      <th>photos_count</th>\n",
       "    </tr>\n",
       "  </thead>\n",
       "  <tbody>\n",
       "    <tr>\n",
       "      <th>133</th>\n",
       "      <td>PRIME DOWNTOWN LOCATION! FULL SERVICE DOORMAN ...</td>\n",
       "      <td>2390</td>\n",
       "      <td>0</td>\n",
       "      <td>1.0</td>\n",
       "      <td>5</td>\n",
       "    </tr>\n",
       "    <tr>\n",
       "      <th>242</th>\n",
       "      <td>***Beautiful  Stu - Alc in the Midtown East***...</td>\n",
       "      <td>2700</td>\n",
       "      <td>0</td>\n",
       "      <td>1.0</td>\n",
       "      <td>5</td>\n",
       "    </tr>\n",
       "    <tr>\n",
       "      <th>364</th>\n",
       "      <td>BRAND NEW ONE BEDROOM. LARGE FUNCTIONA...</td>\n",
       "      <td>3400</td>\n",
       "      <td>1</td>\n",
       "      <td>1.0</td>\n",
       "      <td>4</td>\n",
       "    </tr>\n",
       "    <tr>\n",
       "      <th>452</th>\n",
       "      <td>This True 1 Bedroom apartment is renovated wit...</td>\n",
       "      <td>3171</td>\n",
       "      <td>1</td>\n",
       "      <td>1.0</td>\n",
       "      <td>5</td>\n",
       "    </tr>\n",
       "    <tr>\n",
       "      <th>682</th>\n",
       "      <td>ENJOY the SUMMER PICNICKING and ENTERTAINING I...</td>\n",
       "      <td>2995</td>\n",
       "      <td>2</td>\n",
       "      <td>1.0</td>\n",
       "      <td>0</td>\n",
       "    </tr>\n",
       "  </tbody>\n",
       "</table>\n",
       "</div>"
      ],
      "text/plain": [
       "                                           description  price  bedrooms  \\\n",
       "133  PRIME DOWNTOWN LOCATION! FULL SERVICE DOORMAN ...   2390         0   \n",
       "242  ***Beautiful  Stu - Alc in the Midtown East***...   2700         0   \n",
       "364          BRAND NEW ONE BEDROOM. LARGE FUNCTIONA...   3400         1   \n",
       "452  This True 1 Bedroom apartment is renovated wit...   3171         1   \n",
       "682  ENJOY the SUMMER PICNICKING and ENTERTAINING I...   2995         2   \n",
       "\n",
       "     bathrooms  photos_count  \n",
       "133        1.0             5  \n",
       "242        1.0             5  \n",
       "364        1.0             4  \n",
       "452        1.0             5  \n",
       "682        1.0             0  "
      ]
     },
     "metadata": {},
     "output_type": "display_data"
    },
    {
     "name": "stdout",
     "output_type": "stream",
     "text": [
      "Label was 2, classified as 1\n"
     ]
    },
    {
     "data": {
      "text/html": [
       "<div>\n",
       "<style scoped>\n",
       "    .dataframe tbody tr th:only-of-type {\n",
       "        vertical-align: middle;\n",
       "    }\n",
       "\n",
       "    .dataframe tbody tr th {\n",
       "        vertical-align: top;\n",
       "    }\n",
       "\n",
       "    .dataframe thead th {\n",
       "        text-align: right;\n",
       "    }\n",
       "</style>\n",
       "<table border=\"1\" class=\"dataframe\">\n",
       "  <thead>\n",
       "    <tr style=\"text-align: right;\">\n",
       "      <th></th>\n",
       "      <th>description</th>\n",
       "      <th>price</th>\n",
       "      <th>bedrooms</th>\n",
       "      <th>bathrooms</th>\n",
       "      <th>photos_count</th>\n",
       "    </tr>\n",
       "  </thead>\n",
       "  <tbody>\n",
       "    <tr>\n",
       "      <th>0</th>\n",
       "      <td>THE PRICE IS NET EFFECTIVE - One month Free on...</td>\n",
       "      <td>2900</td>\n",
       "      <td>1</td>\n",
       "      <td>1.0</td>\n",
       "      <td>4</td>\n",
       "    </tr>\n",
       "    <tr>\n",
       "      <th>3</th>\n",
       "      <td>85TH/ 3 AVE! UNIQUE 800 SQFT PENTHOUSE DUPLEX ...</td>\n",
       "      <td>2850</td>\n",
       "      <td>1</td>\n",
       "      <td>2.0</td>\n",
       "      <td>6</td>\n",
       "    </tr>\n",
       "    <tr>\n",
       "      <th>7</th>\n",
       "      <td>Stunning one bedroom apartment in Upper West S...</td>\n",
       "      <td>2595</td>\n",
       "      <td>1</td>\n",
       "      <td>1.0</td>\n",
       "      <td>3</td>\n",
       "    </tr>\n",
       "    <tr>\n",
       "      <th>8</th>\n",
       "      <td></td>\n",
       "      <td>2200</td>\n",
       "      <td>2</td>\n",
       "      <td>1.0</td>\n",
       "      <td>20</td>\n",
       "    </tr>\n",
       "    <tr>\n",
       "      <th>10</th>\n",
       "      <td>Alcove studio\\r\\rRenovated kitchen and bathroo...</td>\n",
       "      <td>2550</td>\n",
       "      <td>1</td>\n",
       "      <td>1.0</td>\n",
       "      <td>2</td>\n",
       "    </tr>\n",
       "  </tbody>\n",
       "</table>\n",
       "</div>"
      ],
      "text/plain": [
       "                                          description  price  bedrooms  \\\n",
       "0   THE PRICE IS NET EFFECTIVE - One month Free on...   2900         1   \n",
       "3   85TH/ 3 AVE! UNIQUE 800 SQFT PENTHOUSE DUPLEX ...   2850         1   \n",
       "7   Stunning one bedroom apartment in Upper West S...   2595         1   \n",
       "8                                                       2200         2   \n",
       "10  Alcove studio\\r\\rRenovated kitchen and bathroo...   2550         1   \n",
       "\n",
       "    bathrooms  photos_count  \n",
       "0         1.0             4  \n",
       "3         2.0             6  \n",
       "7         1.0             3  \n",
       "8         1.0            20  \n",
       "10        1.0             2  "
      ]
     },
     "metadata": {},
     "output_type": "display_data"
    },
    {
     "name": "stdout",
     "output_type": "stream",
     "text": [
      "Label was 2, classified as 2\n"
     ]
    },
    {
     "data": {
      "text/html": [
       "<div>\n",
       "<style scoped>\n",
       "    .dataframe tbody tr th:only-of-type {\n",
       "        vertical-align: middle;\n",
       "    }\n",
       "\n",
       "    .dataframe tbody tr th {\n",
       "        vertical-align: top;\n",
       "    }\n",
       "\n",
       "    .dataframe thead th {\n",
       "        text-align: right;\n",
       "    }\n",
       "</style>\n",
       "<table border=\"1\" class=\"dataframe\">\n",
       "  <thead>\n",
       "    <tr style=\"text-align: right;\">\n",
       "      <th></th>\n",
       "      <th>description</th>\n",
       "      <th>price</th>\n",
       "      <th>bedrooms</th>\n",
       "      <th>bathrooms</th>\n",
       "      <th>photos_count</th>\n",
       "    </tr>\n",
       "  </thead>\n",
       "  <tbody>\n",
       "    <tr>\n",
       "      <th>1</th>\n",
       "      <td>Spacious and contemporary alcove studio with h...</td>\n",
       "      <td>4000</td>\n",
       "      <td>0</td>\n",
       "      <td>1.0</td>\n",
       "      <td>4</td>\n",
       "    </tr>\n",
       "    <tr>\n",
       "      <th>4</th>\n",
       "      <td>This HUGE STUDIO LOFT apartment HAS AN AMAZING...</td>\n",
       "      <td>3100</td>\n",
       "      <td>0</td>\n",
       "      <td>1.0</td>\n",
       "      <td>5</td>\n",
       "    </tr>\n",
       "    <tr>\n",
       "      <th>5</th>\n",
       "      <td>Located on west 57th st , short walk from Colu...</td>\n",
       "      <td>4000</td>\n",
       "      <td>2</td>\n",
       "      <td>1.0</td>\n",
       "      <td>6</td>\n",
       "    </tr>\n",
       "    <tr>\n",
       "      <th>6</th>\n",
       "      <td>AMAZING TWO BEDROOM UNIT!HUGE LIVING AREA WITH...</td>\n",
       "      <td>5125</td>\n",
       "      <td>2</td>\n",
       "      <td>2.0</td>\n",
       "      <td>14</td>\n",
       "    </tr>\n",
       "    <tr>\n",
       "      <th>13</th>\n",
       "      <td>COME SEE YOUR FUTURE HOME!!* NO BROKER FEE *BE...</td>\n",
       "      <td>6500</td>\n",
       "      <td>3</td>\n",
       "      <td>1.0</td>\n",
       "      <td>8</td>\n",
       "    </tr>\n",
       "  </tbody>\n",
       "</table>\n",
       "</div>"
      ],
      "text/plain": [
       "                                          description  price  bedrooms  \\\n",
       "1   Spacious and contemporary alcove studio with h...   4000         0   \n",
       "4   This HUGE STUDIO LOFT apartment HAS AN AMAZING...   3100         0   \n",
       "5   Located on west 57th st , short walk from Colu...   4000         2   \n",
       "6   AMAZING TWO BEDROOM UNIT!HUGE LIVING AREA WITH...   5125         2   \n",
       "13  COME SEE YOUR FUTURE HOME!!* NO BROKER FEE *BE...   6500         3   \n",
       "\n",
       "    bathrooms  photos_count  \n",
       "1         1.0             4  \n",
       "4         1.0             5  \n",
       "5         1.0             6  \n",
       "6         2.0            14  \n",
       "13        1.0             8  "
      ]
     },
     "metadata": {},
     "output_type": "display_data"
    },
    {
     "data": {
      "text/plain": [
       "<matplotlib.axes._subplots.AxesSubplot at 0x7efc7c52c5f8>"
      ]
     },
     "metadata": {},
     "output_type": "display_data"
    },
    {
     "name": "stdout",
     "output_type": "stream",
     "text": [
      "              precision    recall  f1-score   support\n",
      "\n",
      "           0       0.07      0.18      0.10       147\n",
      "           1       0.61      0.27      0.38      2468\n",
      "           2       0.54      0.80      0.64      2321\n",
      "\n",
      "   micro avg       0.52      0.52      0.52      4936\n",
      "   macro avg       0.41      0.42      0.37      4936\n",
      "weighted avg       0.56      0.52      0.49      4936\n",
      "\n",
      "Logistic loss 10.40883\n"
     ]
    },
    {
     "data": {
      "image/png": "[encoded data removed]",
      "text/plain": [
       "<Figure size 432x288 with 2 Axes>"
      ]
     },
     "metadata": {
      "needs_background": "light"
     },
     "output_type": "display_data"
    }
   ],
   "source": [
    "generate_classification_report(TEXTCNN_WITH_TABULAR_MODEL,\n",
    "                               VALIDATION_DATAFRAME,\n",
    "                               (VALIDATION_DESCRIPTIONS_NO_BIGRAMS,\n",
    "                                VALIDATION_FEATURES_CONTINUOUS_TENSOR,\n",
    "                                VALIDATION_FEATURES_CATEGORICAL_TENSOR),\n",
    "                               VALIDATION_LABELS.values,\n",
    "                               [0, 1, 2])"
   ]
  },
  {
   "cell_type": "code",
   "execution_count": 70,
   "metadata": {},
   "outputs": [],
   "source": [
    "write_predictions_table_to_csv(\n",
    "    get_prediction_probabilities_with_columns(\n",
    "        TEXTCNN_WITH_TABULAR_MODEL,\n",
    "        FEATURES_TEST_DATAFRAME['listing_id'],\n",
    "        (TEST_DESCRIPTIONS_NO_BIGRAMS,\n",
    "         TEST_FEATURES_CONTINUOUS_TENSOR,\n",
    "         TEST_FEATURES_CATEGORICAL_TENSOR),\n",
    "        \n",
    "    ),\n",
    "    'textcnn_tabular_model_submissions.csv'\n",
    ")"
   ]
  },
  {
   "cell_type": "markdown",
   "metadata": {},
   "source": [
    "### 3.3.4 BERT)\n",
    "\n",
    "BERT is a big ol' attentional model.\n",
    "\n",
    "We use the pretrained version of BERT (eg `bert-base-uncased`) and the\n",
    "corresponding tokenizer - `bert_featurize_dataframe` reads from\n",
    "`clean_description` in the dataframe and tokenizes sentences in the\n",
    "same way that the pre-trained model was tokenized and should in principle\n",
    "do the word vector mapping for us.\n",
    "\n",
    "Essentially what we are doing here is fine-tuning the classification\n",
    "layers of BERT."
   ]
  },
  {
   "cell_type": "code",
   "execution_count": 35,
   "metadata": {},
   "outputs": [
    {
     "name": "stderr",
     "output_type": "stream",
     "text": [
      "01/21/2019 12:27:14 - INFO - pytorch_pretrained_bert.tokenization -   loading vocabulary file https://s3.amazonaws.com/models.huggingface.co/bert/bert-base-uncased-vocab.txt from cache at /u/77/spilsbt1/unix/.pytorch_pretrained_bert/26bc1ad6c0ac742e9b52263248f6d0f00068293b33709fae12320c0e35ccfbbb.542ce4285a40d23a559526243235df47c5f75c197f04f37d1a0c124c32c9a084\n"
     ]
    }
   ],
   "source": [
    "(TRAIN_BERT_LANG_FEATURES,\n",
    " VALIDATION_BERT_LANG_FEATURES,\n",
    " TEST_BERT_LANG_FEATURES) = bert_featurize_data_frames(\n",
    "    TRAIN_DATAFRAME,\n",
    "    VALIDATION_DATAFRAME,\n",
    "    TEST_DATAFRAME\n",
    ")"
   ]
  },
  {
   "cell_type": "code",
   "execution_count": 36,
   "metadata": {},
   "outputs": [],
   "source": [
    "TRAIN_BERT_LANG_FEATURES_TENSOR = tuple(torch.stack(x) for x in zip(*TRAIN_BERT_LANG_FEATURES))\n",
    "VALIDATION_BERT_LANG_FEATURES_TENSOR = tuple(torch.stack(x) for x in zip(*VALIDATION_BERT_LANG_FEATURES))\n",
    "TEST_BERT_LANG_FEATURES_TENSOR = tuple(torch.stack(x) for x in zip(*TEST_BERT_LANG_FEATURES))"
   ]
  },
  {
   "cell_type": "code",
   "execution_count": 37,
   "metadata": {},
   "outputs": [],
   "source": [
    "TRAIN_BERT_FEATURES_TENSOR = tuple(torch.stack(x) for x in zip(*[\n",
    "    tuple(list(bert_features) + [categorical, continuous])\n",
    "    for bert_features, categorical, continuous in zip(TRAIN_BERT_LANG_FEATURES,\n",
    "                                                      TRAIN_FEATURES_CATEGORICAL_TENSOR,\n",
    "                                                      TRAIN_FEATURES_CONTINUOUS_TENSOR)\n",
    "]))\n",
    "VALIDATION_BERT_FEATURES_TENSOR = tuple(torch.stack(x) for x in zip(*[\n",
    "    tuple(list(bert_features) + [categorical, continuous])\n",
    "    for bert_features, categorical, continuous in zip(VALIDATION_BERT_LANG_FEATURES,\n",
    "                                                      VALIDATION_FEATURES_CATEGORICAL_TENSOR,\n",
    "                                                      VALIDATION_FEATURES_CONTINUOUS_TENSOR)\n",
    "]))\n",
    "TEST_BERT_FEATURES_TENSOR = tuple(torch.stack(x) for x in zip(*[\n",
    "    tuple(list(bert_features) + [categorical, continuous])\n",
    "    for bert_features, categorical, continuous in zip(TEST_BERT_LANG_FEATURES,\n",
    "                                                      TEST_FEATURES_CATEGORICAL_TENSOR,\n",
    "                                                      TEST_FEATURES_CONTINUOUS_TENSOR)\n",
    "]))"
   ]
  },
  {
   "cell_type": "code",
   "execution_count": 74,
   "metadata": {},
   "outputs": [
    {
     "name": "stderr",
     "output_type": "stream",
     "text": [
      "01/21/2019 09:50:47 - INFO - pytorch_pretrained_bert.modeling -   loading archive file https://s3.amazonaws.com/models.huggingface.co/bert/bert-base-uncased.tar.gz from cache at /u/77/spilsbt1/unix/.pytorch_pretrained_bert/9c41111e2de84547a463fd39217199738d1e3deb72d4fec4399e6e241983c6f0.ae3cef932725ca7a30cdcb93fc6e09150a55e2a130ec7af63975a16c153ae2ba\n",
      "01/21/2019 09:50:47 - INFO - pytorch_pretrained_bert.modeling -   extracting archive file /u/77/spilsbt1/unix/.pytorch_pretrained_bert/9c41111e2de84547a463fd39217199738d1e3deb72d4fec4399e6e241983c6f0.ae3cef932725ca7a30cdcb93fc6e09150a55e2a130ec7af63975a16c153ae2ba to temp dir /tmp/tmpn78zh2_3\n",
      "01/21/2019 09:50:50 - INFO - pytorch_pretrained_bert.modeling -   Model config {\n",
      "  \"attention_probs_dropout_prob\": 0.1,\n",
      "  \"hidden_act\": \"gelu\",\n",
      "  \"hidden_dropout_prob\": 0.1,\n",
      "  \"hidden_size\": 768,\n",
      "  \"initializer_range\": 0.02,\n",
      "  \"intermediate_size\": 3072,\n",
      "  \"max_position_embeddings\": 512,\n",
      "  \"num_attention_heads\": 12,\n",
      "  \"num_hidden_layers\": 12,\n",
      "  \"type_vocab_size\": 2,\n",
      "  \"vocab_size\": 30522\n",
      "}\n",
      "\n",
      "01/21/2019 09:50:52 - INFO - pytorch_pretrained_bert.modeling -   Weights of BertForSequenceClassification not initialized from pretrained model: ['classifier.weight', 'classifier.bias']\n",
      "01/21/2019 09:50:52 - INFO - pytorch_pretrained_bert.modeling -   Weights from pretrained model not used in BertForSequenceClassification: ['cls.predictions.bias', 'cls.predictions.transform.dense.weight', 'cls.predictions.transform.dense.bias', 'cls.predictions.transform.LayerNorm.gamma', 'cls.predictions.transform.LayerNorm.beta', 'cls.predictions.decoder.weight', 'cls.seq_relationship.weight', 'cls.seq_relationship.bias']\n"
     ]
    }
   ],
   "source": [
    "EPOCHS = 10\n",
    "NUM_TRAIN_STEPS = int(len(TRAIN_BERT_LANG_FEATURES) / TRAIN_BATCH_SIZE / GRADIENT_ACCUMULATION_STEPS * EPOCHS)\n",
    "BERT_LANG_MODEL = BertClassifier(\n",
    "    module=create_bert_model(\n",
    "        3\n",
    "    ),\n",
    "    optimizer__warmup=WARMUP_PROPORTION,\n",
    "    optimizer__t_total=NUM_TRAIN_STEPS,\n",
    "    device='cuda' if torch.cuda.is_available() else 'cpu',\n",
    "    optimizer=BertAdam,\n",
    "    lr=LEARNING_RATE,\n",
    "    num_train_steps=NUM_TRAIN_STEPS,\n",
    "    num_labels=3,\n",
    "    batch_size=TRAIN_BATCH_SIZE,\n",
    "    train_split=shuffled_train_test_split_by_indices(0.3),\n",
    "    callbacks=[\n",
    "        EpochScoring(scoring='accuracy'),\n",
    "        ProgressBar(),\n",
    "        CheckpointAndKeepBest(dirname='bert_lang_checkpoint'),\n",
    "        TrainEndCheckpoint(dirname='bert_lang_checkpoint',\n",
    "                           fn_prefix='bert_tabular_train_end_')\n",
    "    ],\n",
    ")"
   ]
  },
  {
   "cell_type": "code",
   "execution_count": 76,
   "metadata": {},
   "outputs": [
    {
     "name": "stdout",
     "output_type": "stream",
     "text": [
      "Re-initializing optimizer because the following parameters were re-set: t_total, warmup.\n"
     ]
    },
    {
     "data": {
      "application/vnd.jupyter.widget-view+json": {
       "model_id": "",
       "version_major": 2,
       "version_minor": 0
      },
      "text/plain": [
       "HBox(children=(IntProgress(value=0, max=695), HTML(value='')))"
      ]
     },
     "metadata": {},
     "output_type": "display_data"
    },
    {
     "name": "stdout",
     "output_type": "stream",
     "text": [
      "  epoch    accuracy    train_loss    valid_acc    valid_loss    cp       dur\n",
      "-------  ----------  ------------  -----------  ------------  ----  --------\n",
      "      1      \u001b[36m0.6955\u001b[0m        \u001b[32m0.7779\u001b[0m       \u001b[35m0.6955\u001b[0m        \u001b[31m0.7659\u001b[0m     +  506.6275\n"
     ]
    },
    {
     "data": {
      "application/vnd.jupyter.widget-view+json": {
       "model_id": "",
       "version_major": 2,
       "version_minor": 0
      },
      "text/plain": [
       "HBox(children=(IntProgress(value=0, max=695), HTML(value='')))"
      ]
     },
     "metadata": {},
     "output_type": "display_data"
    },
    {
     "name": "stdout",
     "output_type": "stream",
     "text": [
      "      2      0.6955        \u001b[32m0.7726\u001b[0m       0.6955        0.7815        513.1247\n"
     ]
    },
    {
     "data": {
      "application/vnd.jupyter.widget-view+json": {
       "model_id": "",
       "version_major": 2,
       "version_minor": 0
      },
      "text/plain": [
       "HBox(children=(IntProgress(value=0, max=695), HTML(value='')))"
      ]
     },
     "metadata": {},
     "output_type": "display_data"
    },
    {
     "name": "stdout",
     "output_type": "stream",
     "text": [
      "      3      0.6955        0.7844       0.6955        0.7798        507.2884\n"
     ]
    },
    {
     "data": {
      "application/vnd.jupyter.widget-view+json": {
       "model_id": "",
       "version_major": 2,
       "version_minor": 0
      },
      "text/plain": [
       "HBox(children=(IntProgress(value=0, max=695), HTML(value='')))"
      ]
     },
     "metadata": {},
     "output_type": "display_data"
    },
    {
     "name": "stdout",
     "output_type": "stream",
     "text": [
      "      4      0.6955        0.7827       0.6955        0.7787        508.5916\n"
     ]
    },
    {
     "data": {
      "application/vnd.jupyter.widget-view+json": {
       "model_id": "",
       "version_major": 2,
       "version_minor": 0
      },
      "text/plain": [
       "HBox(children=(IntProgress(value=0, max=695), HTML(value='')))"
      ]
     },
     "metadata": {},
     "output_type": "display_data"
    },
    {
     "name": "stdout",
     "output_type": "stream",
     "text": [
      "      5      0.6955        0.7829       0.6955        0.7787        507.1037\n"
     ]
    },
    {
     "data": {
      "application/vnd.jupyter.widget-view+json": {
       "model_id": "",
       "version_major": 2,
       "version_minor": 0
      },
      "text/plain": [
       "HBox(children=(IntProgress(value=0, max=695), HTML(value='')))"
      ]
     },
     "metadata": {},
     "output_type": "display_data"
    },
    {
     "name": "stdout",
     "output_type": "stream",
     "text": [
      "      6      0.6955        0.7817       0.6955        0.7775        504.0017\n"
     ]
    },
    {
     "data": {
      "application/vnd.jupyter.widget-view+json": {
       "model_id": "",
       "version_major": 2,
       "version_minor": 0
      },
      "text/plain": [
       "HBox(children=(IntProgress(value=0, max=695), HTML(value='')))"
      ]
     },
     "metadata": {},
     "output_type": "display_data"
    },
    {
     "name": "stdout",
     "output_type": "stream",
     "text": [
      "      7      0.6955        0.7810       0.6955        0.7774        504.1600\n"
     ]
    },
    {
     "data": {
      "application/vnd.jupyter.widget-view+json": {
       "model_id": "",
       "version_major": 2,
       "version_minor": 0
      },
      "text/plain": [
       "HBox(children=(IntProgress(value=0, max=695), HTML(value='')))"
      ]
     },
     "metadata": {},
     "output_type": "display_data"
    },
    {
     "name": "stdout",
     "output_type": "stream",
     "text": [
      "      8      0.6955        0.7814       0.6955        0.7777        503.8552\n"
     ]
    },
    {
     "data": {
      "application/vnd.jupyter.widget-view+json": {
       "model_id": "",
       "version_major": 2,
       "version_minor": 0
      },
      "text/plain": [
       "HBox(children=(IntProgress(value=0, max=695), HTML(value='')))"
      ]
     },
     "metadata": {},
     "output_type": "display_data"
    },
    {
     "name": "stdout",
     "output_type": "stream",
     "text": [
      "      9      0.6955        0.7812       0.6955        0.7780        503.7747\n"
     ]
    },
    {
     "data": {
      "application/vnd.jupyter.widget-view+json": {
       "model_id": "",
       "version_major": 2,
       "version_minor": 0
      },
      "text/plain": [
       "HBox(children=(IntProgress(value=0, max=695), HTML(value='')))"
      ]
     },
     "metadata": {},
     "output_type": "display_data"
    },
    {
     "name": "stdout",
     "output_type": "stream",
     "text": [
      "     10      0.6955        0.7814       0.6955        0.7777        514.1087\n",
      "Loading parameters from checkpoint 0\n"
     ]
    },
    {
     "data": {
      "text/plain": [
       "<class 'utils.language_models.bert.BertClassifier'>[initialized](\n",
       "  module_=BertForSequenceClassification(\n",
       "    (bert): BertModel(\n",
       "      (embeddings): BertEmbeddings(\n",
       "        (word_embeddings): Embedding(30522, 768)\n",
       "        (position_embeddings): Embedding(512, 768)\n",
       "        (token_type_embeddings): Embedding(2, 768)\n",
       "        (LayerNorm): BertLayerNorm()\n",
       "        (dropout): Dropout(p=0.1)\n",
       "      )\n",
       "      (encoder): BertEncoder(\n",
       "        (layer): ModuleList(\n",
       "          (0): BertLayer(\n",
       "            (attention): BertAttention(\n",
       "              (self): BertSelfAttention(\n",
       "                (query): Linear(in_features=768, out_features=768, bias=True)\n",
       "                (key): Linear(in_features=768, out_features=768, bias=True)\n",
       "                (value): Linear(in_features=768, out_features=768, bias=True)\n",
       "                (dropout): Dropout(p=0.1)\n",
       "              )\n",
       "              (output): BertSelfOutput(\n",
       "                (dense): Linear(in_features=768, out_features=768, bias=True)\n",
       "                (LayerNorm): BertLayerNorm()\n",
       "                (dropout): Dropout(p=0.1)\n",
       "              )\n",
       "            )\n",
       "            (intermediate): BertIntermediate(\n",
       "              (dense): Linear(in_features=768, out_features=3072, bias=True)\n",
       "            )\n",
       "            (output): BertOutput(\n",
       "              (dense): Linear(in_features=3072, out_features=768, bias=True)\n",
       "              (LayerNorm): BertLayerNorm()\n",
       "              (dropout): Dropout(p=0.1)\n",
       "            )\n",
       "          )\n",
       "          (1): BertLayer(\n",
       "            (attention): BertAttention(\n",
       "              (self): BertSelfAttention(\n",
       "                (query): Linear(in_features=768, out_features=768, bias=True)\n",
       "                (key): Linear(in_features=768, out_features=768, bias=True)\n",
       "                (value): Linear(in_features=768, out_features=768, bias=True)\n",
       "                (dropout): Dropout(p=0.1)\n",
       "              )\n",
       "              (output): BertSelfOutput(\n",
       "                (dense): Linear(in_features=768, out_features=768, bias=True)\n",
       "                (LayerNorm): BertLayerNorm()\n",
       "                (dropout): Dropout(p=0.1)\n",
       "              )\n",
       "            )\n",
       "            (intermediate): BertIntermediate(\n",
       "              (dense): Linear(in_features=768, out_features=3072, bias=True)\n",
       "            )\n",
       "            (output): BertOutput(\n",
       "              (dense): Linear(in_features=3072, out_features=768, bias=True)\n",
       "              (LayerNorm): BertLayerNorm()\n",
       "              (dropout): Dropout(p=0.1)\n",
       "            )\n",
       "          )\n",
       "          (2): BertLayer(\n",
       "            (attention): BertAttention(\n",
       "              (self): BertSelfAttention(\n",
       "                (query): Linear(in_features=768, out_features=768, bias=True)\n",
       "                (key): Linear(in_features=768, out_features=768, bias=True)\n",
       "                (value): Linear(in_features=768, out_features=768, bias=True)\n",
       "                (dropout): Dropout(p=0.1)\n",
       "              )\n",
       "              (output): BertSelfOutput(\n",
       "                (dense): Linear(in_features=768, out_features=768, bias=True)\n",
       "                (LayerNorm): BertLayerNorm()\n",
       "                (dropout): Dropout(p=0.1)\n",
       "              )\n",
       "            )\n",
       "            (intermediate): BertIntermediate(\n",
       "              (dense): Linear(in_features=768, out_features=3072, bias=True)\n",
       "            )\n",
       "            (output): BertOutput(\n",
       "              (dense): Linear(in_features=3072, out_features=768, bias=True)\n",
       "              (LayerNorm): BertLayerNorm()\n",
       "              (dropout): Dropout(p=0.1)\n",
       "            )\n",
       "          )\n",
       "          (3): BertLayer(\n",
       "            (attention): BertAttention(\n",
       "              (self): BertSelfAttention(\n",
       "                (query): Linear(in_features=768, out_features=768, bias=True)\n",
       "                (key): Linear(in_features=768, out_features=768, bias=True)\n",
       "                (value): Linear(in_features=768, out_features=768, bias=True)\n",
       "                (dropout): Dropout(p=0.1)\n",
       "              )\n",
       "              (output): BertSelfOutput(\n",
       "                (dense): Linear(in_features=768, out_features=768, bias=True)\n",
       "                (LayerNorm): BertLayerNorm()\n",
       "                (dropout): Dropout(p=0.1)\n",
       "              )\n",
       "            )\n",
       "            (intermediate): BertIntermediate(\n",
       "              (dense): Linear(in_features=768, out_features=3072, bias=True)\n",
       "            )\n",
       "            (output): BertOutput(\n",
       "              (dense): Linear(in_features=3072, out_features=768, bias=True)\n",
       "              (LayerNorm): BertLayerNorm()\n",
       "              (dropout): Dropout(p=0.1)\n",
       "            )\n",
       "          )\n",
       "          (4): BertLayer(\n",
       "            (attention): BertAttention(\n",
       "              (self): BertSelfAttention(\n",
       "                (query): Linear(in_features=768, out_features=768, bias=True)\n",
       "                (key): Linear(in_features=768, out_features=768, bias=True)\n",
       "                (value): Linear(in_features=768, out_features=768, bias=True)\n",
       "                (dropout): Dropout(p=0.1)\n",
       "              )\n",
       "              (output): BertSelfOutput(\n",
       "                (dense): Linear(in_features=768, out_features=768, bias=True)\n",
       "                (LayerNorm): BertLayerNorm()\n",
       "                (dropout): Dropout(p=0.1)\n",
       "              )\n",
       "            )\n",
       "            (intermediate): BertIntermediate(\n",
       "              (dense): Linear(in_features=768, out_features=3072, bias=True)\n",
       "            )\n",
       "            (output): BertOutput(\n",
       "              (dense): Linear(in_features=3072, out_features=768, bias=True)\n",
       "              (LayerNorm): BertLayerNorm()\n",
       "              (dropout): Dropout(p=0.1)\n",
       "            )\n",
       "          )\n",
       "          (5): BertLayer(\n",
       "            (attention): BertAttention(\n",
       "              (self): BertSelfAttention(\n",
       "                (query): Linear(in_features=768, out_features=768, bias=True)\n",
       "                (key): Linear(in_features=768, out_features=768, bias=True)\n",
       "                (value): Linear(in_features=768, out_features=768, bias=True)\n",
       "                (dropout): Dropout(p=0.1)\n",
       "              )\n",
       "              (output): BertSelfOutput(\n",
       "                (dense): Linear(in_features=768, out_features=768, bias=True)\n",
       "                (LayerNorm): BertLayerNorm()\n",
       "                (dropout): Dropout(p=0.1)\n",
       "              )\n",
       "            )\n",
       "            (intermediate): BertIntermediate(\n",
       "              (dense): Linear(in_features=768, out_features=3072, bias=True)\n",
       "            )\n",
       "            (output): BertOutput(\n",
       "              (dense): Linear(in_features=3072, out_features=768, bias=True)\n",
       "              (LayerNorm): BertLayerNorm()\n",
       "              (dropout): Dropout(p=0.1)\n",
       "            )\n",
       "          )\n",
       "          (6): BertLayer(\n",
       "            (attention): BertAttention(\n",
       "              (self): BertSelfAttention(\n",
       "                (query): Linear(in_features=768, out_features=768, bias=True)\n",
       "                (key): Linear(in_features=768, out_features=768, bias=True)\n",
       "                (value): Linear(in_features=768, out_features=768, bias=True)\n",
       "                (dropout): Dropout(p=0.1)\n",
       "              )\n",
       "              (output): BertSelfOutput(\n",
       "                (dense): Linear(in_features=768, out_features=768, bias=True)\n",
       "                (LayerNorm): BertLayerNorm()\n",
       "                (dropout): Dropout(p=0.1)\n",
       "              )\n",
       "            )\n",
       "            (intermediate): BertIntermediate(\n",
       "              (dense): Linear(in_features=768, out_features=3072, bias=True)\n",
       "            )\n",
       "            (output): BertOutput(\n",
       "              (dense): Linear(in_features=3072, out_features=768, bias=True)\n",
       "              (LayerNorm): BertLayerNorm()\n",
       "              (dropout): Dropout(p=0.1)\n",
       "            )\n",
       "          )\n",
       "          (7): BertLayer(\n",
       "            (attention): BertAttention(\n",
       "              (self): BertSelfAttention(\n",
       "                (query): Linear(in_features=768, out_features=768, bias=True)\n",
       "                (key): Linear(in_features=768, out_features=768, bias=True)\n",
       "                (value): Linear(in_features=768, out_features=768, bias=True)\n",
       "                (dropout): Dropout(p=0.1)\n",
       "              )\n",
       "              (output): BertSelfOutput(\n",
       "                (dense): Linear(in_features=768, out_features=768, bias=True)\n",
       "                (LayerNorm): BertLayerNorm()\n",
       "                (dropout): Dropout(p=0.1)\n",
       "              )\n",
       "            )\n",
       "            (intermediate): BertIntermediate(\n",
       "              (dense): Linear(in_features=768, out_features=3072, bias=True)\n",
       "            )\n",
       "            (output): BertOutput(\n",
       "              (dense): Linear(in_features=3072, out_features=768, bias=True)\n",
       "              (LayerNorm): BertLayerNorm()\n",
       "              (dropout): Dropout(p=0.1)\n",
       "            )\n",
       "          )\n",
       "          (8): BertLayer(\n",
       "            (attention): BertAttention(\n",
       "              (self): BertSelfAttention(\n",
       "                (query): Linear(in_features=768, out_features=768, bias=True)\n",
       "                (key): Linear(in_features=768, out_features=768, bias=True)\n",
       "                (value): Linear(in_features=768, out_features=768, bias=True)\n",
       "                (dropout): Dropout(p=0.1)\n",
       "              )\n",
       "              (output): BertSelfOutput(\n",
       "                (dense): Linear(in_features=768, out_features=768, bias=True)\n",
       "                (LayerNorm): BertLayerNorm()\n",
       "                (dropout): Dropout(p=0.1)\n",
       "              )\n",
       "            )\n",
       "            (intermediate): BertIntermediate(\n",
       "              (dense): Linear(in_features=768, out_features=3072, bias=True)\n",
       "            )\n",
       "            (output): BertOutput(\n",
       "              (dense): Linear(in_features=3072, out_features=768, bias=True)\n",
       "              (LayerNorm): BertLayerNorm()\n",
       "              (dropout): Dropout(p=0.1)\n",
       "            )\n",
       "          )\n",
       "          (9): BertLayer(\n",
       "            (attention): BertAttention(\n",
       "              (self): BertSelfAttention(\n",
       "                (query): Linear(in_features=768, out_features=768, bias=True)\n",
       "                (key): Linear(in_features=768, out_features=768, bias=True)\n",
       "                (value): Linear(in_features=768, out_features=768, bias=True)\n",
       "                (dropout): Dropout(p=0.1)\n",
       "              )\n",
       "              (output): BertSelfOutput(\n",
       "                (dense): Linear(in_features=768, out_features=768, bias=True)\n",
       "                (LayerNorm): BertLayerNorm()\n",
       "                (dropout): Dropout(p=0.1)\n",
       "              )\n",
       "            )\n",
       "            (intermediate): BertIntermediate(\n",
       "              (dense): Linear(in_features=768, out_features=3072, bias=True)\n",
       "            )\n",
       "            (output): BertOutput(\n",
       "              (dense): Linear(in_features=3072, out_features=768, bias=True)\n",
       "              (LayerNorm): BertLayerNorm()\n",
       "              (dropout): Dropout(p=0.1)\n",
       "            )\n",
       "          )\n",
       "          (10): BertLayer(\n",
       "            (attention): BertAttention(\n",
       "              (self): BertSelfAttention(\n",
       "                (query): Linear(in_features=768, out_features=768, bias=True)\n",
       "                (key): Linear(in_features=768, out_features=768, bias=True)\n",
       "                (value): Linear(in_features=768, out_features=768, bias=True)\n",
       "                (dropout): Dropout(p=0.1)\n",
       "              )\n",
       "              (output): BertSelfOutput(\n",
       "                (dense): Linear(in_features=768, out_features=768, bias=True)\n",
       "                (LayerNorm): BertLayerNorm()\n",
       "                (dropout): Dropout(p=0.1)\n",
       "              )\n",
       "            )\n",
       "            (intermediate): BertIntermediate(\n",
       "              (dense): Linear(in_features=768, out_features=3072, bias=True)\n",
       "            )\n",
       "            (output): BertOutput(\n",
       "              (dense): Linear(in_features=3072, out_features=768, bias=True)\n",
       "              (LayerNorm): BertLayerNorm()\n",
       "              (dropout): Dropout(p=0.1)\n",
       "            )\n",
       "          )\n",
       "          (11): BertLayer(\n",
       "            (attention): BertAttention(\n",
       "              (self): BertSelfAttention(\n",
       "                (query): Linear(in_features=768, out_features=768, bias=True)\n",
       "                (key): Linear(in_features=768, out_features=768, bias=True)\n",
       "                (value): Linear(in_features=768, out_features=768, bias=True)\n",
       "                (dropout): Dropout(p=0.1)\n",
       "              )\n",
       "              (output): BertSelfOutput(\n",
       "                (dense): Linear(in_features=768, out_features=768, bias=True)\n",
       "                (LayerNorm): BertLayerNorm()\n",
       "                (dropout): Dropout(p=0.1)\n",
       "              )\n",
       "            )\n",
       "            (intermediate): BertIntermediate(\n",
       "              (dense): Linear(in_features=768, out_features=3072, bias=True)\n",
       "            )\n",
       "            (output): BertOutput(\n",
       "              (dense): Linear(in_features=3072, out_features=768, bias=True)\n",
       "              (LayerNorm): BertLayerNorm()\n",
       "              (dropout): Dropout(p=0.1)\n",
       "            )\n",
       "          )\n",
       "        )\n",
       "      )\n",
       "      (pooler): BertPooler(\n",
       "        (dense): Linear(in_features=768, out_features=768, bias=True)\n",
       "        (activation): Tanh()\n",
       "      )\n",
       "    )\n",
       "    (dropout): Dropout(p=0.1)\n",
       "    (classifier): Linear(in_features=768, out_features=3, bias=True)\n",
       "  ),\n",
       ")"
      ]
     },
     "execution_count": 76,
     "metadata": {},
     "output_type": "execute_result"
    }
   ],
   "source": [
    "BERT_LANG_MODEL.fit(TRAIN_BERT_LANG_FEATURES_TENSOR,\n",
    "                    TRAIN_LABELS_TENSOR)"
   ]
  },
  {
   "cell_type": "code",
   "execution_count": 77,
   "metadata": {},
   "outputs": [
    {
     "name": "stdout",
     "output_type": "stream",
     "text": [
      "Label was 0, classified as 0\n"
     ]
    },
    {
     "data": {
      "text/html": [
       "<div>\n",
       "<style scoped>\n",
       "    .dataframe tbody tr th:only-of-type {\n",
       "        vertical-align: middle;\n",
       "    }\n",
       "\n",
       "    .dataframe tbody tr th {\n",
       "        vertical-align: top;\n",
       "    }\n",
       "\n",
       "    .dataframe thead th {\n",
       "        text-align: right;\n",
       "    }\n",
       "</style>\n",
       "<table border=\"1\" class=\"dataframe\">\n",
       "  <thead>\n",
       "    <tr style=\"text-align: right;\">\n",
       "      <th></th>\n",
       "      <th>description</th>\n",
       "      <th>price</th>\n",
       "      <th>bedrooms</th>\n",
       "      <th>bathrooms</th>\n",
       "      <th>photos_count</th>\n",
       "    </tr>\n",
       "  </thead>\n",
       "  <tbody>\n",
       "  </tbody>\n",
       "</table>\n",
       "</div>"
      ],
      "text/plain": [
       "Empty DataFrame\n",
       "Columns: [description, price, bedrooms, bathrooms, photos_count]\n",
       "Index: []"
      ]
     },
     "metadata": {},
     "output_type": "display_data"
    },
    {
     "name": "stdout",
     "output_type": "stream",
     "text": [
      "Label was 0, classified as 1\n"
     ]
    },
    {
     "data": {
      "text/html": [
       "<div>\n",
       "<style scoped>\n",
       "    .dataframe tbody tr th:only-of-type {\n",
       "        vertical-align: middle;\n",
       "    }\n",
       "\n",
       "    .dataframe tbody tr th {\n",
       "        vertical-align: top;\n",
       "    }\n",
       "\n",
       "    .dataframe thead th {\n",
       "        text-align: right;\n",
       "    }\n",
       "</style>\n",
       "<table border=\"1\" class=\"dataframe\">\n",
       "  <thead>\n",
       "    <tr style=\"text-align: right;\">\n",
       "      <th></th>\n",
       "      <th>description</th>\n",
       "      <th>price</th>\n",
       "      <th>bedrooms</th>\n",
       "      <th>bathrooms</th>\n",
       "      <th>photos_count</th>\n",
       "    </tr>\n",
       "  </thead>\n",
       "  <tbody>\n",
       "  </tbody>\n",
       "</table>\n",
       "</div>"
      ],
      "text/plain": [
       "Empty DataFrame\n",
       "Columns: [description, price, bedrooms, bathrooms, photos_count]\n",
       "Index: []"
      ]
     },
     "metadata": {},
     "output_type": "display_data"
    },
    {
     "name": "stdout",
     "output_type": "stream",
     "text": [
      "Label was 0, classified as 2\n"
     ]
    },
    {
     "data": {
      "text/html": [
       "<div>\n",
       "<style scoped>\n",
       "    .dataframe tbody tr th:only-of-type {\n",
       "        vertical-align: middle;\n",
       "    }\n",
       "\n",
       "    .dataframe tbody tr th {\n",
       "        vertical-align: top;\n",
       "    }\n",
       "\n",
       "    .dataframe thead th {\n",
       "        text-align: right;\n",
       "    }\n",
       "</style>\n",
       "<table border=\"1\" class=\"dataframe\">\n",
       "  <thead>\n",
       "    <tr style=\"text-align: right;\">\n",
       "      <th></th>\n",
       "      <th>description</th>\n",
       "      <th>price</th>\n",
       "      <th>bedrooms</th>\n",
       "      <th>bathrooms</th>\n",
       "      <th>photos_count</th>\n",
       "    </tr>\n",
       "  </thead>\n",
       "  <tbody>\n",
       "    <tr>\n",
       "      <th>2</th>\n",
       "      <td>5TH ST/ 2 AVE! RENOVATED 2 BEDROOM IN CHARMING...</td>\n",
       "      <td>3200</td>\n",
       "      <td>2</td>\n",
       "      <td>1.0</td>\n",
       "      <td>6</td>\n",
       "    </tr>\n",
       "    <tr>\n",
       "      <th>9</th>\n",
       "      <td>83RD/ AMSTERDAM! TRUE 2 BED IN NICE WELL KEPT ...</td>\n",
       "      <td>3000</td>\n",
       "      <td>2</td>\n",
       "      <td>1.0</td>\n",
       "      <td>6</td>\n",
       "    </tr>\n",
       "    <tr>\n",
       "      <th>46</th>\n",
       "      <td>Gorgeous Renovated Studio apartment in Kew Gar...</td>\n",
       "      <td>1375</td>\n",
       "      <td>0</td>\n",
       "      <td>1.0</td>\n",
       "      <td>7</td>\n",
       "    </tr>\n",
       "    <tr>\n",
       "      <th>47</th>\n",
       "      <td>Simply amazing!!!! Spacious 3 bedroom apartmen...</td>\n",
       "      <td>1899</td>\n",
       "      <td>3</td>\n",
       "      <td>1.0</td>\n",
       "      <td>8</td>\n",
       "    </tr>\n",
       "    <tr>\n",
       "      <th>69</th>\n",
       "      <td>Spacious studio apartment near Fulton Street M...</td>\n",
       "      <td>2495</td>\n",
       "      <td>0</td>\n",
       "      <td>1.0</td>\n",
       "      <td>5</td>\n",
       "    </tr>\n",
       "  </tbody>\n",
       "</table>\n",
       "</div>"
      ],
      "text/plain": [
       "                                          description  price  bedrooms  \\\n",
       "2   5TH ST/ 2 AVE! RENOVATED 2 BEDROOM IN CHARMING...   3200         2   \n",
       "9   83RD/ AMSTERDAM! TRUE 2 BED IN NICE WELL KEPT ...   3000         2   \n",
       "46  Gorgeous Renovated Studio apartment in Kew Gar...   1375         0   \n",
       "47  Simply amazing!!!! Spacious 3 bedroom apartmen...   1899         3   \n",
       "69  Spacious studio apartment near Fulton Street M...   2495         0   \n",
       "\n",
       "    bathrooms  photos_count  \n",
       "2         1.0             6  \n",
       "9         1.0             6  \n",
       "46        1.0             7  \n",
       "47        1.0             8  \n",
       "69        1.0             5  "
      ]
     },
     "metadata": {},
     "output_type": "display_data"
    },
    {
     "name": "stdout",
     "output_type": "stream",
     "text": [
      "Label was 1, classified as 0\n"
     ]
    },
    {
     "data": {
      "text/html": [
       "<div>\n",
       "<style scoped>\n",
       "    .dataframe tbody tr th:only-of-type {\n",
       "        vertical-align: middle;\n",
       "    }\n",
       "\n",
       "    .dataframe tbody tr th {\n",
       "        vertical-align: top;\n",
       "    }\n",
       "\n",
       "    .dataframe thead th {\n",
       "        text-align: right;\n",
       "    }\n",
       "</style>\n",
       "<table border=\"1\" class=\"dataframe\">\n",
       "  <thead>\n",
       "    <tr style=\"text-align: right;\">\n",
       "      <th></th>\n",
       "      <th>description</th>\n",
       "      <th>price</th>\n",
       "      <th>bedrooms</th>\n",
       "      <th>bathrooms</th>\n",
       "      <th>photos_count</th>\n",
       "    </tr>\n",
       "  </thead>\n",
       "  <tbody>\n",
       "  </tbody>\n",
       "</table>\n",
       "</div>"
      ],
      "text/plain": [
       "Empty DataFrame\n",
       "Columns: [description, price, bedrooms, bathrooms, photos_count]\n",
       "Index: []"
      ]
     },
     "metadata": {},
     "output_type": "display_data"
    },
    {
     "name": "stdout",
     "output_type": "stream",
     "text": [
      "Label was 1, classified as 1\n"
     ]
    },
    {
     "data": {
      "text/html": [
       "<div>\n",
       "<style scoped>\n",
       "    .dataframe tbody tr th:only-of-type {\n",
       "        vertical-align: middle;\n",
       "    }\n",
       "\n",
       "    .dataframe tbody tr th {\n",
       "        vertical-align: top;\n",
       "    }\n",
       "\n",
       "    .dataframe thead th {\n",
       "        text-align: right;\n",
       "    }\n",
       "</style>\n",
       "<table border=\"1\" class=\"dataframe\">\n",
       "  <thead>\n",
       "    <tr style=\"text-align: right;\">\n",
       "      <th></th>\n",
       "      <th>description</th>\n",
       "      <th>price</th>\n",
       "      <th>bedrooms</th>\n",
       "      <th>bathrooms</th>\n",
       "      <th>photos_count</th>\n",
       "    </tr>\n",
       "  </thead>\n",
       "  <tbody>\n",
       "  </tbody>\n",
       "</table>\n",
       "</div>"
      ],
      "text/plain": [
       "Empty DataFrame\n",
       "Columns: [description, price, bedrooms, bathrooms, photos_count]\n",
       "Index: []"
      ]
     },
     "metadata": {},
     "output_type": "display_data"
    },
    {
     "name": "stdout",
     "output_type": "stream",
     "text": [
      "Label was 1, classified as 2\n"
     ]
    },
    {
     "data": {
      "text/html": [
       "<div>\n",
       "<style scoped>\n",
       "    .dataframe tbody tr th:only-of-type {\n",
       "        vertical-align: middle;\n",
       "    }\n",
       "\n",
       "    .dataframe tbody tr th {\n",
       "        vertical-align: top;\n",
       "    }\n",
       "\n",
       "    .dataframe thead th {\n",
       "        text-align: right;\n",
       "    }\n",
       "</style>\n",
       "<table border=\"1\" class=\"dataframe\">\n",
       "  <thead>\n",
       "    <tr style=\"text-align: right;\">\n",
       "      <th></th>\n",
       "      <th>description</th>\n",
       "      <th>price</th>\n",
       "      <th>bedrooms</th>\n",
       "      <th>bathrooms</th>\n",
       "      <th>photos_count</th>\n",
       "    </tr>\n",
       "  </thead>\n",
       "  <tbody>\n",
       "    <tr>\n",
       "      <th>17</th>\n",
       "      <td>Residential Prewar Building With Art Deco Flai...</td>\n",
       "      <td>2995</td>\n",
       "      <td>2</td>\n",
       "      <td>1.0</td>\n",
       "      <td>4</td>\n",
       "    </tr>\n",
       "    <tr>\n",
       "      <th>23</th>\n",
       "      <td>Charming 1 Bedroom Apartment for Rent in Boeru...</td>\n",
       "      <td>2500</td>\n",
       "      <td>1</td>\n",
       "      <td>1.0</td>\n",
       "      <td>12</td>\n",
       "    </tr>\n",
       "    <tr>\n",
       "      <th>24</th>\n",
       "      <td>LISTING ID: 150804\\rSunny apartment in a quiet...</td>\n",
       "      <td>2050</td>\n",
       "      <td>1</td>\n",
       "      <td>1.0</td>\n",
       "      <td>3</td>\n",
       "    </tr>\n",
       "    <tr>\n",
       "      <th>31</th>\n",
       "      <td>Prime Murray Hill Neighborhood!   Located off ...</td>\n",
       "      <td>2350</td>\n",
       "      <td>0</td>\n",
       "      <td>1.0</td>\n",
       "      <td>2</td>\n",
       "    </tr>\n",
       "    <tr>\n",
       "      <th>34</th>\n",
       "      <td>This bright 1 bedroom apartment is located jus...</td>\n",
       "      <td>2100</td>\n",
       "      <td>1</td>\n",
       "      <td>1.0</td>\n",
       "      <td>5</td>\n",
       "    </tr>\n",
       "  </tbody>\n",
       "</table>\n",
       "</div>"
      ],
      "text/plain": [
       "                                          description  price  bedrooms  \\\n",
       "17  Residential Prewar Building With Art Deco Flai...   2995         2   \n",
       "23  Charming 1 Bedroom Apartment for Rent in Boeru...   2500         1   \n",
       "24  LISTING ID: 150804\\rSunny apartment in a quiet...   2050         1   \n",
       "31  Prime Murray Hill Neighborhood!   Located off ...   2350         0   \n",
       "34  This bright 1 bedroom apartment is located jus...   2100         1   \n",
       "\n",
       "    bathrooms  photos_count  \n",
       "17        1.0             4  \n",
       "23        1.0            12  \n",
       "24        1.0             3  \n",
       "31        1.0             2  \n",
       "34        1.0             5  "
      ]
     },
     "metadata": {},
     "output_type": "display_data"
    },
    {
     "name": "stdout",
     "output_type": "stream",
     "text": [
      "Label was 2, classified as 0\n"
     ]
    },
    {
     "data": {
      "text/html": [
       "<div>\n",
       "<style scoped>\n",
       "    .dataframe tbody tr th:only-of-type {\n",
       "        vertical-align: middle;\n",
       "    }\n",
       "\n",
       "    .dataframe tbody tr th {\n",
       "        vertical-align: top;\n",
       "    }\n",
       "\n",
       "    .dataframe thead th {\n",
       "        text-align: right;\n",
       "    }\n",
       "</style>\n",
       "<table border=\"1\" class=\"dataframe\">\n",
       "  <thead>\n",
       "    <tr style=\"text-align: right;\">\n",
       "      <th></th>\n",
       "      <th>description</th>\n",
       "      <th>price</th>\n",
       "      <th>bedrooms</th>\n",
       "      <th>bathrooms</th>\n",
       "      <th>photos_count</th>\n",
       "    </tr>\n",
       "  </thead>\n",
       "  <tbody>\n",
       "  </tbody>\n",
       "</table>\n",
       "</div>"
      ],
      "text/plain": [
       "Empty DataFrame\n",
       "Columns: [description, price, bedrooms, bathrooms, photos_count]\n",
       "Index: []"
      ]
     },
     "metadata": {},
     "output_type": "display_data"
    },
    {
     "name": "stdout",
     "output_type": "stream",
     "text": [
      "Label was 2, classified as 1\n"
     ]
    },
    {
     "data": {
      "text/html": [
       "<div>\n",
       "<style scoped>\n",
       "    .dataframe tbody tr th:only-of-type {\n",
       "        vertical-align: middle;\n",
       "    }\n",
       "\n",
       "    .dataframe tbody tr th {\n",
       "        vertical-align: top;\n",
       "    }\n",
       "\n",
       "    .dataframe thead th {\n",
       "        text-align: right;\n",
       "    }\n",
       "</style>\n",
       "<table border=\"1\" class=\"dataframe\">\n",
       "  <thead>\n",
       "    <tr style=\"text-align: right;\">\n",
       "      <th></th>\n",
       "      <th>description</th>\n",
       "      <th>price</th>\n",
       "      <th>bedrooms</th>\n",
       "      <th>bathrooms</th>\n",
       "      <th>photos_count</th>\n",
       "    </tr>\n",
       "  </thead>\n",
       "  <tbody>\n",
       "  </tbody>\n",
       "</table>\n",
       "</div>"
      ],
      "text/plain": [
       "Empty DataFrame\n",
       "Columns: [description, price, bedrooms, bathrooms, photos_count]\n",
       "Index: []"
      ]
     },
     "metadata": {},
     "output_type": "display_data"
    },
    {
     "name": "stdout",
     "output_type": "stream",
     "text": [
      "Label was 2, classified as 2\n"
     ]
    },
    {
     "data": {
      "text/html": [
       "<div>\n",
       "<style scoped>\n",
       "    .dataframe tbody tr th:only-of-type {\n",
       "        vertical-align: middle;\n",
       "    }\n",
       "\n",
       "    .dataframe tbody tr th {\n",
       "        vertical-align: top;\n",
       "    }\n",
       "\n",
       "    .dataframe thead th {\n",
       "        text-align: right;\n",
       "    }\n",
       "</style>\n",
       "<table border=\"1\" class=\"dataframe\">\n",
       "  <thead>\n",
       "    <tr style=\"text-align: right;\">\n",
       "      <th></th>\n",
       "      <th>description</th>\n",
       "      <th>price</th>\n",
       "      <th>bedrooms</th>\n",
       "      <th>bathrooms</th>\n",
       "      <th>photos_count</th>\n",
       "    </tr>\n",
       "  </thead>\n",
       "  <tbody>\n",
       "    <tr>\n",
       "      <th>0</th>\n",
       "      <td>THE PRICE IS NET EFFECTIVE - One month Free on...</td>\n",
       "      <td>2900</td>\n",
       "      <td>1</td>\n",
       "      <td>1.0</td>\n",
       "      <td>4</td>\n",
       "    </tr>\n",
       "    <tr>\n",
       "      <th>1</th>\n",
       "      <td>Spacious and contemporary alcove studio with h...</td>\n",
       "      <td>4000</td>\n",
       "      <td>0</td>\n",
       "      <td>1.0</td>\n",
       "      <td>4</td>\n",
       "    </tr>\n",
       "    <tr>\n",
       "      <th>3</th>\n",
       "      <td>85TH/ 3 AVE! UNIQUE 800 SQFT PENTHOUSE DUPLEX ...</td>\n",
       "      <td>2850</td>\n",
       "      <td>1</td>\n",
       "      <td>2.0</td>\n",
       "      <td>6</td>\n",
       "    </tr>\n",
       "    <tr>\n",
       "      <th>4</th>\n",
       "      <td>This HUGE STUDIO LOFT apartment HAS AN AMAZING...</td>\n",
       "      <td>3100</td>\n",
       "      <td>0</td>\n",
       "      <td>1.0</td>\n",
       "      <td>5</td>\n",
       "    </tr>\n",
       "    <tr>\n",
       "      <th>5</th>\n",
       "      <td>Located on west 57th st , short walk from Colu...</td>\n",
       "      <td>4000</td>\n",
       "      <td>2</td>\n",
       "      <td>1.0</td>\n",
       "      <td>6</td>\n",
       "    </tr>\n",
       "  </tbody>\n",
       "</table>\n",
       "</div>"
      ],
      "text/plain": [
       "                                         description  price  bedrooms  \\\n",
       "0  THE PRICE IS NET EFFECTIVE - One month Free on...   2900         1   \n",
       "1  Spacious and contemporary alcove studio with h...   4000         0   \n",
       "3  85TH/ 3 AVE! UNIQUE 800 SQFT PENTHOUSE DUPLEX ...   2850         1   \n",
       "4  This HUGE STUDIO LOFT apartment HAS AN AMAZING...   3100         0   \n",
       "5  Located on west 57th st , short walk from Colu...   4000         2   \n",
       "\n",
       "   bathrooms  photos_count  \n",
       "0        1.0             4  \n",
       "1        1.0             4  \n",
       "3        2.0             6  \n",
       "4        1.0             5  \n",
       "5        1.0             6  "
      ]
     },
     "metadata": {},
     "output_type": "display_data"
    },
    {
     "data": {
      "text/plain": [
       "<matplotlib.axes._subplots.AxesSubplot at 0x7efc7cc1ccc0>"
      ]
     },
     "metadata": {},
     "output_type": "display_data"
    },
    {
     "name": "stdout",
     "output_type": "stream",
     "text": [
      "              precision    recall  f1-score   support\n",
      "\n",
      "           0       0.00      0.00      0.00         0\n",
      "           1       0.00      0.00      0.00         0\n",
      "           2       1.00      0.70      0.82      4936\n",
      "\n",
      "   micro avg       0.70      0.70      0.70      4936\n",
      "   macro avg       0.33      0.23      0.27      4936\n",
      "weighted avg       1.00      0.70      0.82      4936\n",
      "\n",
      "Logistic loss 0.76142\n"
     ]
    },
    {
     "name": "stderr",
     "output_type": "stream",
     "text": [
      "/u/77/spilsbt1/unix/miniconda3/lib/python3.6/site-packages/sklearn/metrics/classification.py:1145: UndefinedMetricWarning: Recall and F-score are ill-defined and being set to 0.0 in labels with no true samples.\n",
      "  'recall', 'true', average, warn_for)\n",
      "/u/77/spilsbt1/unix/miniconda3/lib/python3.6/site-packages/sklearn/metrics/classification.py:1145: UndefinedMetricWarning: Recall and F-score are ill-defined and being set to 0.0 in labels with no true samples.\n",
      "  'recall', 'true', average, warn_for)\n",
      "/u/77/spilsbt1/unix/miniconda3/lib/python3.6/site-packages/sklearn/metrics/classification.py:1145: UndefinedMetricWarning: Recall and F-score are ill-defined and being set to 0.0 in labels with no true samples.\n",
      "  'recall', 'true', average, warn_for)\n"
     ]
    },
    {
     "data": {
      "image/png": "[encoded data removed]",
      "text/plain": [
       "<Figure size 432x288 with 2 Axes>"
      ]
     },
     "metadata": {
      "needs_background": "light"
     },
     "output_type": "display_data"
    }
   ],
   "source": [
    "generate_classification_report(BERT_LANG_MODEL,\n",
    "                               VALIDATION_DATAFRAME,\n",
    "                               VALIDATION_BERT_LANG_FEATURES_TENSOR,\n",
    "                               VALIDATION_LABELS.values,\n",
    "                               [0, 1, 2])"
   ]
  },
  {
   "cell_type": "code",
   "execution_count": 78,
   "metadata": {},
   "outputs": [],
   "source": [
    "write_predictions_table_to_csv(\n",
    "    get_prediction_probabilities_with_columns(\n",
    "        BERT_LANG_MODEL,\n",
    "        FEATURES_TEST_DATAFRAME['listing_id'],\n",
    "        TEST_BERT_LANG_FEATURES_TENSOR,\n",
    "    ),\n",
    "    'bert_model_submissions.csv'\n",
    ")"
   ]
  },
  {
   "cell_type": "code",
   "execution_count": 38,
   "metadata": {},
   "outputs": [
    {
     "name": "stderr",
     "output_type": "stream",
     "text": [
      "01/21/2019 12:29:54 - INFO - pytorch_pretrained_bert.modeling -   loading archive file https://s3.amazonaws.com/models.huggingface.co/bert/bert-base-uncased.tar.gz from cache at /u/77/spilsbt1/unix/.pytorch_pretrained_bert/9c41111e2de84547a463fd39217199738d1e3deb72d4fec4399e6e241983c6f0.ae3cef932725ca7a30cdcb93fc6e09150a55e2a130ec7af63975a16c153ae2ba\n",
      "01/21/2019 12:29:54 - INFO - pytorch_pretrained_bert.modeling -   extracting archive file /u/77/spilsbt1/unix/.pytorch_pretrained_bert/9c41111e2de84547a463fd39217199738d1e3deb72d4fec4399e6e241983c6f0.ae3cef932725ca7a30cdcb93fc6e09150a55e2a130ec7af63975a16c153ae2ba to temp dir /tmp/tmpbuz70fsy\n",
      "01/21/2019 12:29:57 - INFO - pytorch_pretrained_bert.modeling -   Model config {\n",
      "  \"attention_probs_dropout_prob\": 0.1,\n",
      "  \"hidden_act\": \"gelu\",\n",
      "  \"hidden_dropout_prob\": 0.1,\n",
      "  \"hidden_size\": 768,\n",
      "  \"initializer_range\": 0.02,\n",
      "  \"intermediate_size\": 3072,\n",
      "  \"max_position_embeddings\": 512,\n",
      "  \"num_attention_heads\": 12,\n",
      "  \"num_hidden_layers\": 12,\n",
      "  \"type_vocab_size\": 2,\n",
      "  \"vocab_size\": 30522\n",
      "}\n",
      "\n",
      "01/21/2019 12:30:01 - INFO - pytorch_pretrained_bert.modeling -   Weights of BertForSequenceClassificationWithTabularData not initialized from pretrained model: ['emb_0.weight', 'emb_1.weight', 'emb_2.weight', 'classifier.weight', 'classifier.bias']\n",
      "01/21/2019 12:30:01 - INFO - pytorch_pretrained_bert.modeling -   Weights from pretrained model not used in BertForSequenceClassificationWithTabularData: ['cls.predictions.bias', 'cls.predictions.transform.dense.weight', 'cls.predictions.transform.dense.bias', 'cls.predictions.transform.LayerNorm.gamma', 'cls.predictions.transform.LayerNorm.beta', 'cls.predictions.decoder.weight', 'cls.seq_relationship.weight', 'cls.seq_relationship.bias']\n"
     ]
    }
   ],
   "source": [
    "EPOCHS = 10\n",
    "NUM_TRAIN_STEPS = int(len(TRAIN_BERT_LANG_FEATURES) / TRAIN_BATCH_SIZE / GRADIENT_ACCUMULATION_STEPS * EPOCHS)\n",
    "BERT_TABULAR_MODEL = BertClassifier(\n",
    "    module=create_bert_model_with_tabular_features(\n",
    "        TRAIN_FEATURES_CONTINUOUS.shape[1],\n",
    "        [\n",
    "            (max(TRAIN_FEATURES_CATEGORICAL[:,c]) + 1, 80)\n",
    "            for c in range(TRAIN_FEATURES_CATEGORICAL.shape[1])\n",
    "        ],\n",
    "        3\n",
    "    ),\n",
    "    callbacks=[\n",
    "        EpochScoring(scoring='accuracy'),\n",
    "        ProgressBar(),\n",
    "        CheckpointAndKeepBest(dirname='bert_tabular_checkpoint'),\n",
    "        TrainEndCheckpoint(dirname='bert_tabular_checkpoint',\n",
    "                           fn_prefix='bert_tabular_train_end_')\n",
    "    ],\n",
    "    optimizer=BertAdam,\n",
    "    lr=LEARNING_RATE,\n",
    "    num_train_steps=NUM_TRAIN_STEPS,\n",
    "    num_labels=3,\n",
    "    batch_size=TRAIN_BATCH_SIZE,\n",
    "    train_split=ordered_train_test_split_with_oversampling(0.3),\n",
    "    optimizer__warmup=WARMUP_PROPORTION,\n",
    "    optimizer__t_total=NUM_TRAIN_STEPS,\n",
    "    device='cuda' if torch.cuda.is_available() else 'cpu'\n",
    ")"
   ]
  },
  {
   "cell_type": "code",
   "execution_count": 39,
   "metadata": {},
   "outputs": [
    {
     "data": {
      "application/vnd.jupyter.widget-view+json": {
       "model_id": "",
       "version_major": 2,
       "version_minor": 0
      },
      "text/plain": [
       "HBox(children=(IntProgress(value=0, max=1223), HTML(value='')))"
      ]
     },
     "metadata": {},
     "output_type": "display_data"
    },
    {
     "name": "stdout",
     "output_type": "stream",
     "text": [
      "  epoch    accuracy    train_loss    valid_acc    valid_loss    cp        dur\n",
      "-------  ----------  ------------  -----------  ------------  ----  ---------\n",
      "      1      \u001b[36m0.6534\u001b[0m        \u001b[32m1.0886\u001b[0m       \u001b[35m0.6534\u001b[0m        \u001b[31m0.8929\u001b[0m     +  1007.4100\n"
     ]
    },
    {
     "data": {
      "application/vnd.jupyter.widget-view+json": {
       "model_id": "",
       "version_major": 2,
       "version_minor": 0
      },
      "text/plain": [
       "HBox(children=(IntProgress(value=0, max=1223), HTML(value='')))"
      ]
     },
     "metadata": {},
     "output_type": "display_data"
    },
    {
     "name": "stdout",
     "output_type": "stream",
     "text": [
      "      2      \u001b[36m0.6402\u001b[0m        \u001b[32m0.9877\u001b[0m       0.6402        \u001b[31m0.8278\u001b[0m     +  1007.0459\n"
     ]
    },
    {
     "data": {
      "application/vnd.jupyter.widget-view+json": {
       "model_id": "",
       "version_major": 2,
       "version_minor": 0
      },
      "text/plain": [
       "HBox(children=(IntProgress(value=0, max=1223), HTML(value='')))"
      ]
     },
     "metadata": {},
     "output_type": "display_data"
    },
    {
     "name": "stdout",
     "output_type": "stream",
     "text": [
      "\r",
      "      3      0.6451        \u001b[32m0.8057\u001b[0m       0.6451        0.8282        1003.8262\n"
     ]
    },
    {
     "data": {
      "application/vnd.jupyter.widget-view+json": {
       "model_id": "",
       "version_major": 2,
       "version_minor": 0
      },
      "text/plain": [
       "HBox(children=(IntProgress(value=0, max=1223), HTML(value='')))"
      ]
     },
     "metadata": {},
     "output_type": "display_data"
    },
    {
     "name": "stdout",
     "output_type": "stream",
     "text": [
      "\r",
      "      4      0.6581        \u001b[32m0.6100\u001b[0m       \u001b[35m0.6581\u001b[0m        0.9030        988.6089\n"
     ]
    },
    {
     "data": {
      "application/vnd.jupyter.widget-view+json": {
       "model_id": "",
       "version_major": 2,
       "version_minor": 0
      },
      "text/plain": [
       "HBox(children=(IntProgress(value=0, max=1223), HTML(value='')))"
      ]
     },
     "metadata": {},
     "output_type": "display_data"
    },
    {
     "name": "stdout",
     "output_type": "stream",
     "text": [
      "\r",
      "      5      0.6546        \u001b[32m0.5114\u001b[0m       0.6546        0.9757        1005.7873\n"
     ]
    },
    {
     "data": {
      "application/vnd.jupyter.widget-view+json": {
       "model_id": "6871c71764fc4156a87c14081303ce51",
       "version_major": 2,
       "version_minor": 0
      },
      "text/plain": [
       "HBox(children=(IntProgress(value=0, max=1223), HTML(value='')))"
      ]
     },
     "metadata": {},
     "output_type": "display_data"
    },
    {
     "name": "stdout",
     "output_type": "stream",
     "text": [
      "Loading parameters from checkpoint 1\n"
     ]
    },
    {
     "data": {
      "text/plain": [
       "<class 'utils.language_models.bert.BertClassifier'>[initialized](\n",
       "  module_=BertForSequenceClassificationWithTabularData(\n",
       "    (bert): BertModel(\n",
       "      (embeddings): BertEmbeddings(\n",
       "        (word_embeddings): Embedding(30522, 768)\n",
       "        (position_embeddings): Embedding(512, 768)\n",
       "        (token_type_embeddings): Embedding(2, 768)\n",
       "        (LayerNorm): BertLayerNorm()\n",
       "        (dropout): Dropout(p=0.1)\n",
       "      )\n",
       "      (encoder): BertEncoder(\n",
       "        (layer): ModuleList(\n",
       "          (0): BertLayer(\n",
       "            (attention): BertAttention(\n",
       "              (self): BertSelfAttention(\n",
       "                (query): Linear(in_features=768, out_features=768, bias=True)\n",
       "                (key): Linear(in_features=768, out_features=768, bias=True)\n",
       "                (value): Linear(in_features=768, out_features=768, bias=True)\n",
       "                (dropout): Dropout(p=0.1)\n",
       "              )\n",
       "              (output): BertSelfOutput(\n",
       "                (dense): Linear(in_features=768, out_features=768, bias=True)\n",
       "                (LayerNorm): BertLayerNorm()\n",
       "                (dropout): Dropout(p=0.1)\n",
       "              )\n",
       "            )\n",
       "            (intermediate): BertIntermediate(\n",
       "              (dense): Linear(in_features=768, out_features=3072, bias=True)\n",
       "            )\n",
       "            (output): BertOutput(\n",
       "              (dense): Linear(in_features=3072, out_features=768, bias=True)\n",
       "              (LayerNorm): BertLayerNorm()\n",
       "              (dropout): Dropout(p=0.1)\n",
       "            )\n",
       "          )\n",
       "          (1): BertLayer(\n",
       "            (attention): BertAttention(\n",
       "              (self): BertSelfAttention(\n",
       "                (query): Linear(in_features=768, out_features=768, bias=True)\n",
       "                (key): Linear(in_features=768, out_features=768, bias=True)\n",
       "                (value): Linear(in_features=768, out_features=768, bias=True)\n",
       "                (dropout): Dropout(p=0.1)\n",
       "              )\n",
       "              (output): BertSelfOutput(\n",
       "                (dense): Linear(in_features=768, out_features=768, bias=True)\n",
       "                (LayerNorm): BertLayerNorm()\n",
       "                (dropout): Dropout(p=0.1)\n",
       "              )\n",
       "            )\n",
       "            (intermediate): BertIntermediate(\n",
       "              (dense): Linear(in_features=768, out_features=3072, bias=True)\n",
       "            )\n",
       "            (output): BertOutput(\n",
       "              (dense): Linear(in_features=3072, out_features=768, bias=True)\n",
       "              (LayerNorm): BertLayerNorm()\n",
       "              (dropout): Dropout(p=0.1)\n",
       "            )\n",
       "          )\n",
       "          (2): BertLayer(\n",
       "            (attention): BertAttention(\n",
       "              (self): BertSelfAttention(\n",
       "                (query): Linear(in_features=768, out_features=768, bias=True)\n",
       "                (key): Linear(in_features=768, out_features=768, bias=True)\n",
       "                (value): Linear(in_features=768, out_features=768, bias=True)\n",
       "                (dropout): Dropout(p=0.1)\n",
       "              )\n",
       "              (output): BertSelfOutput(\n",
       "                (dense): Linear(in_features=768, out_features=768, bias=True)\n",
       "                (LayerNorm): BertLayerNorm()\n",
       "                (dropout): Dropout(p=0.1)\n",
       "              )\n",
       "            )\n",
       "            (intermediate): BertIntermediate(\n",
       "              (dense): Linear(in_features=768, out_features=3072, bias=True)\n",
       "            )\n",
       "            (output): BertOutput(\n",
       "              (dense): Linear(in_features=3072, out_features=768, bias=True)\n",
       "              (LayerNorm): BertLayerNorm()\n",
       "              (dropout): Dropout(p=0.1)\n",
       "            )\n",
       "          )\n",
       "          (3): BertLayer(\n",
       "            (attention): BertAttention(\n",
       "              (self): BertSelfAttention(\n",
       "                (query): Linear(in_features=768, out_features=768, bias=True)\n",
       "                (key): Linear(in_features=768, out_features=768, bias=True)\n",
       "                (value): Linear(in_features=768, out_features=768, bias=True)\n",
       "                (dropout): Dropout(p=0.1)\n",
       "              )\n",
       "              (output): BertSelfOutput(\n",
       "                (dense): Linear(in_features=768, out_features=768, bias=True)\n",
       "                (LayerNorm): BertLayerNorm()\n",
       "                (dropout): Dropout(p=0.1)\n",
       "              )\n",
       "            )\n",
       "            (intermediate): BertIntermediate(\n",
       "              (dense): Linear(in_features=768, out_features=3072, bias=True)\n",
       "            )\n",
       "            (output): BertOutput(\n",
       "              (dense): Linear(in_features=3072, out_features=768, bias=True)\n",
       "              (LayerNorm): BertLayerNorm()\n",
       "              (dropout): Dropout(p=0.1)\n",
       "            )\n",
       "          )\n",
       "          (4): BertLayer(\n",
       "            (attention): BertAttention(\n",
       "              (self): BertSelfAttention(\n",
       "                (query): Linear(in_features=768, out_features=768, bias=True)\n",
       "                (key): Linear(in_features=768, out_features=768, bias=True)\n",
       "                (value): Linear(in_features=768, out_features=768, bias=True)\n",
       "                (dropout): Dropout(p=0.1)\n",
       "              )\n",
       "              (output): BertSelfOutput(\n",
       "                (dense): Linear(in_features=768, out_features=768, bias=True)\n",
       "                (LayerNorm): BertLayerNorm()\n",
       "                (dropout): Dropout(p=0.1)\n",
       "              )\n",
       "            )\n",
       "            (intermediate): BertIntermediate(\n",
       "              (dense): Linear(in_features=768, out_features=3072, bias=True)\n",
       "            )\n",
       "            (output): BertOutput(\n",
       "              (dense): Linear(in_features=3072, out_features=768, bias=True)\n",
       "              (LayerNorm): BertLayerNorm()\n",
       "              (dropout): Dropout(p=0.1)\n",
       "            )\n",
       "          )\n",
       "          (5): BertLayer(\n",
       "            (attention): BertAttention(\n",
       "              (self): BertSelfAttention(\n",
       "                (query): Linear(in_features=768, out_features=768, bias=True)\n",
       "                (key): Linear(in_features=768, out_features=768, bias=True)\n",
       "                (value): Linear(in_features=768, out_features=768, bias=True)\n",
       "                (dropout): Dropout(p=0.1)\n",
       "              )\n",
       "              (output): BertSelfOutput(\n",
       "                (dense): Linear(in_features=768, out_features=768, bias=True)\n",
       "                (LayerNorm): BertLayerNorm()\n",
       "                (dropout): Dropout(p=0.1)\n",
       "              )\n",
       "            )\n",
       "            (intermediate): BertIntermediate(\n",
       "              (dense): Linear(in_features=768, out_features=3072, bias=True)\n",
       "            )\n",
       "            (output): BertOutput(\n",
       "              (dense): Linear(in_features=3072, out_features=768, bias=True)\n",
       "              (LayerNorm): BertLayerNorm()\n",
       "              (dropout): Dropout(p=0.1)\n",
       "            )\n",
       "          )\n",
       "          (6): BertLayer(\n",
       "            (attention): BertAttention(\n",
       "              (self): BertSelfAttention(\n",
       "                (query): Linear(in_features=768, out_features=768, bias=True)\n",
       "                (key): Linear(in_features=768, out_features=768, bias=True)\n",
       "                (value): Linear(in_features=768, out_features=768, bias=True)\n",
       "                (dropout): Dropout(p=0.1)\n",
       "              )\n",
       "              (output): BertSelfOutput(\n",
       "                (dense): Linear(in_features=768, out_features=768, bias=True)\n",
       "                (LayerNorm): BertLayerNorm()\n",
       "                (dropout): Dropout(p=0.1)\n",
       "              )\n",
       "            )\n",
       "            (intermediate): BertIntermediate(\n",
       "              (dense): Linear(in_features=768, out_features=3072, bias=True)\n",
       "            )\n",
       "            (output): BertOutput(\n",
       "              (dense): Linear(in_features=3072, out_features=768, bias=True)\n",
       "              (LayerNorm): BertLayerNorm()\n",
       "              (dropout): Dropout(p=0.1)\n",
       "            )\n",
       "          )\n",
       "          (7): BertLayer(\n",
       "            (attention): BertAttention(\n",
       "              (self): BertSelfAttention(\n",
       "                (query): Linear(in_features=768, out_features=768, bias=True)\n",
       "                (key): Linear(in_features=768, out_features=768, bias=True)\n",
       "                (value): Linear(in_features=768, out_features=768, bias=True)\n",
       "                (dropout): Dropout(p=0.1)\n",
       "              )\n",
       "              (output): BertSelfOutput(\n",
       "                (dense): Linear(in_features=768, out_features=768, bias=True)\n",
       "                (LayerNorm): BertLayerNorm()\n",
       "                (dropout): Dropout(p=0.1)\n",
       "              )\n",
       "            )\n",
       "            (intermediate): BertIntermediate(\n",
       "              (dense): Linear(in_features=768, out_features=3072, bias=True)\n",
       "            )\n",
       "            (output): BertOutput(\n",
       "              (dense): Linear(in_features=3072, out_features=768, bias=True)\n",
       "              (LayerNorm): BertLayerNorm()\n",
       "              (dropout): Dropout(p=0.1)\n",
       "            )\n",
       "          )\n",
       "          (8): BertLayer(\n",
       "            (attention): BertAttention(\n",
       "              (self): BertSelfAttention(\n",
       "                (query): Linear(in_features=768, out_features=768, bias=True)\n",
       "                (key): Linear(in_features=768, out_features=768, bias=True)\n",
       "                (value): Linear(in_features=768, out_features=768, bias=True)\n",
       "                (dropout): Dropout(p=0.1)\n",
       "              )\n",
       "              (output): BertSelfOutput(\n",
       "                (dense): Linear(in_features=768, out_features=768, bias=True)\n",
       "                (LayerNorm): BertLayerNorm()\n",
       "                (dropout): Dropout(p=0.1)\n",
       "              )\n",
       "            )\n",
       "            (intermediate): BertIntermediate(\n",
       "              (dense): Linear(in_features=768, out_features=3072, bias=True)\n",
       "            )\n",
       "            (output): BertOutput(\n",
       "              (dense): Linear(in_features=3072, out_features=768, bias=True)\n",
       "              (LayerNorm): BertLayerNorm()\n",
       "              (dropout): Dropout(p=0.1)\n",
       "            )\n",
       "          )\n",
       "          (9): BertLayer(\n",
       "            (attention): BertAttention(\n",
       "              (self): BertSelfAttention(\n",
       "                (query): Linear(in_features=768, out_features=768, bias=True)\n",
       "                (key): Linear(in_features=768, out_features=768, bias=True)\n",
       "                (value): Linear(in_features=768, out_features=768, bias=True)\n",
       "                (dropout): Dropout(p=0.1)\n",
       "              )\n",
       "              (output): BertSelfOutput(\n",
       "                (dense): Linear(in_features=768, out_features=768, bias=True)\n",
       "                (LayerNorm): BertLayerNorm()\n",
       "                (dropout): Dropout(p=0.1)\n",
       "              )\n",
       "            )\n",
       "            (intermediate): BertIntermediate(\n",
       "              (dense): Linear(in_features=768, out_features=3072, bias=True)\n",
       "            )\n",
       "            (output): BertOutput(\n",
       "              (dense): Linear(in_features=3072, out_features=768, bias=True)\n",
       "              (LayerNorm): BertLayerNorm()\n",
       "              (dropout): Dropout(p=0.1)\n",
       "            )\n",
       "          )\n",
       "          (10): BertLayer(\n",
       "            (attention): BertAttention(\n",
       "              (self): BertSelfAttention(\n",
       "                (query): Linear(in_features=768, out_features=768, bias=True)\n",
       "                (key): Linear(in_features=768, out_features=768, bias=True)\n",
       "                (value): Linear(in_features=768, out_features=768, bias=True)\n",
       "                (dropout): Dropout(p=0.1)\n",
       "              )\n",
       "              (output): BertSelfOutput(\n",
       "                (dense): Linear(in_features=768, out_features=768, bias=True)\n",
       "                (LayerNorm): BertLayerNorm()\n",
       "                (dropout): Dropout(p=0.1)\n",
       "              )\n",
       "            )\n",
       "            (intermediate): BertIntermediate(\n",
       "              (dense): Linear(in_features=768, out_features=3072, bias=True)\n",
       "            )\n",
       "            (output): BertOutput(\n",
       "              (dense): Linear(in_features=3072, out_features=768, bias=True)\n",
       "              (LayerNorm): BertLayerNorm()\n",
       "              (dropout): Dropout(p=0.1)\n",
       "            )\n",
       "          )\n",
       "          (11): BertLayer(\n",
       "            (attention): BertAttention(\n",
       "              (self): BertSelfAttention(\n",
       "                (query): Linear(in_features=768, out_features=768, bias=True)\n",
       "                (key): Linear(in_features=768, out_features=768, bias=True)\n",
       "                (value): Linear(in_features=768, out_features=768, bias=True)\n",
       "                (dropout): Dropout(p=0.1)\n",
       "              )\n",
       "              (output): BertSelfOutput(\n",
       "                (dense): Linear(in_features=768, out_features=768, bias=True)\n",
       "                (LayerNorm): BertLayerNorm()\n",
       "                (dropout): Dropout(p=0.1)\n",
       "              )\n",
       "            )\n",
       "            (intermediate): BertIntermediate(\n",
       "              (dense): Linear(in_features=768, out_features=3072, bias=True)\n",
       "            )\n",
       "            (output): BertOutput(\n",
       "              (dense): Linear(in_features=3072, out_features=768, bias=True)\n",
       "              (LayerNorm): BertLayerNorm()\n",
       "              (dropout): Dropout(p=0.1)\n",
       "            )\n",
       "          )\n",
       "        )\n",
       "      )\n",
       "      (pooler): BertPooler(\n",
       "        (dense): Linear(in_features=768, out_features=768, bias=True)\n",
       "        (activation): Tanh()\n",
       "      )\n",
       "    )\n",
       "    (emb_0): Embedding(540, 80)\n",
       "    (emb_1): Embedding(718, 80)\n",
       "    (emb_2): Embedding(581, 80)\n",
       "    (dropout): Dropout(p=0.1)\n",
       "    (classifier): Linear(in_features=1115, out_features=3, bias=True)\n",
       "  ),\n",
       ")"
      ]
     },
     "execution_count": 39,
     "metadata": {},
     "output_type": "execute_result"
    }
   ],
   "source": [
    "BERT_TABULAR_MODEL.fit(TRAIN_BERT_FEATURES_TENSOR,\n",
    "                       TRAIN_LABELS_TENSOR)"
   ]
  },
  {
   "cell_type": "code",
   "execution_count": null,
   "metadata": {},
   "outputs": [],
   "source": [
    "generate_classification_report(BERT_TABULAR_MODEL,\n",
    "                               VALIDATION_DATAFRAME,\n",
    "                               VALIDATION_BERT_FEATURES_TENSOR,\n",
    "                               VALIDATION_LABELS.values,\n",
    "                               [0, 1, 2])"
   ]
  },
  {
   "cell_type": "code",
   "execution_count": 41,
   "metadata": {},
   "outputs": [],
   "source": [
    "write_predictions_table_to_csv(\n",
    "    get_prediction_probabilities_with_columns(\n",
    "        BERT_TABULAR_MODEL,\n",
    "        FEATURES_TEST_DATAFRAME['listing_id'],\n",
    "        TEST_BERT_FEATURES_TENSOR,\n",
    "    ),\n",
    "    'bert_tabular_model_submissions.csv'\n",
    ")"
   ]
  },
  {
   "cell_type": "markdown",
   "metadata": {},
   "source": [
    "### ULMFiT\n",
    "This is basically transfer learning onto an AWD-LSTM (used by fastai).\n",
    "\n",
    "We have to use the fastai API here directly, since the best\n",
    "implementation I found of this was by Jeremy Howard himself.\n",
    "\n",
    "Note before we ran the notebook, we used `train_lm.py` (pointing it\n",
    "to the training data) to fine-tune the existing language model,\n",
    "which in principle is good at English (WikiText-103) and made transferred\n",
    "what we knew about English word prediction to predicting RentHop\n",
    "descriptions, fine tuning on the RentHop description task. This is\n",
    "different from just using word vectors, since you get the benefit\n",
    "of the entire language model and contextual information, not just\n",
    "the vectors themselves.\n",
    "\n",
    "It is critical here that we load the same vocabulary used to fine\n",
    "tune the network into the model when we load in the weights. Also,\n",
    "we need to do the train-test split ourselves, because there\n",
    "is a bug in the library where the vocabulary is only computed\n",
    "on the training set and not the validation set, meaning that if the\n",
    "splits are random you could miss words.\n",
    "\n",
    "Unfortunately, the fastai API is very involved, making it difficult\n",
    "to wrap with skortch without breaking stuff, so we have to use it\n",
    "in a slightly different way to do the same thing. We can also only\n",
    "report statistics on the first batch, hopefully that should be enough."
   ]
  },
  {
   "cell_type": "code",
   "execution_count": 42,
   "metadata": {},
   "outputs": [],
   "source": [
    "with open('vocab.pkl', 'rb') as vocab_f:\n",
    "    ULMFIT_LANGUAGE_MODEL_VOCABULARY = pickle.load(vocab_f)\n",
    "\n",
    "ULMFIT_LEARNER = load_ulmfit_classifier_with_transfer_learning_from_data_frame(\n",
    "    TRAIN_DATAFRAME,\n",
    "    VALIDATION_DATAFRAME,\n",
    "    TEST_DATAFRAME,\n",
    "    ULMFIT_LANGUAGE_MODEL_VOCABULARY,\n",
    "    'renthop_ulmfit',\n",
    "    'fine_tuned_renthop'\n",
    ")"
   ]
  },
  {
   "cell_type": "code",
   "execution_count": 43,
   "metadata": {},
   "outputs": [
    {
     "data": {
      "text/html": [
       "Total time: 04:16 <p><table style='width:300px; margin-bottom:10px'>\n",
       "  <tr>\n",
       "    <th>epoch</th>\n",
       "    <th>train_loss</th>\n",
       "    <th>valid_loss</th>\n",
       "    <th>accuracy</th>\n",
       "  </tr>\n",
       "  <tr>\n",
       "    <th>1</th>\n",
       "    <th>0.775524</th>\n",
       "    <th>0.773560</th>\n",
       "    <th>0.685575</th>\n",
       "  </tr>\n",
       "  <tr>\n",
       "    <th>2</th>\n",
       "    <th>0.755109</th>\n",
       "    <th>0.772267</th>\n",
       "    <th>0.687601</th>\n",
       "  </tr>\n",
       "</table>\n"
      ],
      "text/plain": [
       "<IPython.core.display.HTML object>"
      ]
     },
     "metadata": {},
     "output_type": "display_data"
    },
    {
     "data": {
      "text/html": [
       "Total time: 02:12 <p><table style='width:300px; margin-bottom:10px'>\n",
       "  <tr>\n",
       "    <th>epoch</th>\n",
       "    <th>train_loss</th>\n",
       "    <th>valid_loss</th>\n",
       "    <th>accuracy</th>\n",
       "  </tr>\n",
       "  <tr>\n",
       "    <th>1</th>\n",
       "    <th>0.773798</th>\n",
       "    <th>0.741369</th>\n",
       "    <th>0.691653</th>\n",
       "  </tr>\n",
       "</table>\n"
      ],
      "text/plain": [
       "<IPython.core.display.HTML object>"
      ]
     },
     "metadata": {},
     "output_type": "display_data"
    },
    {
     "data": {
      "text/html": [
       "\n",
       "    <div>\n",
       "        <style>\n",
       "            /* Turns off some styling */\n",
       "            progress {\n",
       "                /* gets rid of default border in Firefox and Opera. */\n",
       "                border: none;\n",
       "                /* Needs to be in here for Safari polyfill so background images work as expected. */\n",
       "                background-size: auto;\n",
       "            }\n",
       "            .progress-bar-interrupted, .progress-bar-interrupted::-webkit-progress-bar {\n",
       "                background: #F44336;\n",
       "            }\n",
       "        </style>\n",
       "      <progress value='0' class='' max='1', style='width:300px; height:20px; vertical-align: middle;'></progress>\n",
       "      0.00% [0/1 00:00<00:00]\n",
       "    </div>\n",
       "    \n",
       "<table style='width:300px; margin-bottom:10px'>\n",
       "  <tr>\n",
       "    <th>epoch</th>\n",
       "    <th>train_loss</th>\n",
       "    <th>valid_loss</th>\n",
       "    <th>accuracy</th>\n",
       "  </tr>\n",
       "</table>\n",
       "\n",
       "\n",
       "    <div>\n",
       "        <style>\n",
       "            /* Turns off some styling */\n",
       "            progress {\n",
       "                /* gets rid of default border in Firefox and Opera. */\n",
       "                border: none;\n",
       "                /* Needs to be in here for Safari polyfill so background images work as expected. */\n",
       "                background-size: auto;\n",
       "            }\n",
       "            .progress-bar-interrupted, .progress-bar-interrupted::-webkit-progress-bar {\n",
       "                background: #F44336;\n",
       "            }\n",
       "        </style>\n",
       "      <progress value='445' class='' max='1850', style='width:300px; height:20px; vertical-align: middle;'></progress>\n",
       "      24.05% [445/1850 00:44<02:21 0.7471]\n",
       "    </div>\n",
       "    "
      ],
      "text/plain": [
       "<IPython.core.display.HTML object>"
      ]
     },
     "metadata": {},
     "output_type": "display_data"
    },
    {
     "name": "stderr",
     "output_type": "stream",
     "text": [
      "IOPub message rate exceeded.\n",
      "The notebook server will temporarily stop sending output\n",
      "to the client in order to avoid crashing it.\n",
      "To change this limit, set the config variable\n",
      "`--NotebookApp.iopub_msg_rate_limit`.\n",
      "\n",
      "Current values:\n",
      "NotebookApp.iopub_msg_rate_limit=1000.0 (msgs/sec)\n",
      "NotebookApp.rate_limit_window=3.0 (secs)\n",
      "\n"
     ]
    }
   ],
   "source": [
    "train_ulmfit_classifier_with_gradual_unfreezing(ULMFIT_LEARNER, 1e-2)"
   ]
  },
  {
   "cell_type": "code",
   "execution_count": 44,
   "metadata": {},
   "outputs": [
    {
     "data": {
      "text/html": [
       "\n",
       "    <div>\n",
       "        <style>\n",
       "            /* Turns off some styling */\n",
       "            progress {\n",
       "                /* gets rid of default border in Firefox and Opera. */\n",
       "                border: none;\n",
       "                /* Needs to be in here for Safari polyfill so background images work as expected. */\n",
       "                background-size: auto;\n",
       "            }\n",
       "            .progress-bar-interrupted, .progress-bar-interrupted::-webkit-progress-bar {\n",
       "                background: #F44336;\n",
       "            }\n",
       "        </style>\n",
       "      <progress value='6' class='' max='10', style='width:300px; height:20px; vertical-align: middle;'></progress>\n",
       "      60.00% [6/10 28:52<19:14]\n",
       "    </div>\n",
       "    \n",
       "<table style='width:300px; margin-bottom:10px'>\n",
       "  <tr>\n",
       "    <th>epoch</th>\n",
       "    <th>train_loss</th>\n",
       "    <th>valid_loss</th>\n",
       "    <th>accuracy</th>\n",
       "  </tr>\n",
       "  <tr>\n",
       "    <th>1</th>\n",
       "    <th>0.717749</th>\n",
       "    <th>0.729675</th>\n",
       "    <th>0.696313</th>\n",
       "  </tr>\n",
       "  <tr>\n",
       "    <th>2</th>\n",
       "    <th>0.719705</th>\n",
       "    <th>0.736379</th>\n",
       "    <th>0.697123</th>\n",
       "  </tr>\n",
       "  <tr>\n",
       "    <th>3</th>\n",
       "    <th>0.731112</th>\n",
       "    <th>0.731291</th>\n",
       "    <th>0.696921</th>\n",
       "  </tr>\n",
       "  <tr>\n",
       "    <th>4</th>\n",
       "    <th>0.749117</th>\n",
       "    <th>0.732700</th>\n",
       "    <th>0.693882</th>\n",
       "  </tr>\n",
       "  <tr>\n",
       "    <th>5</th>\n",
       "    <th>0.704555</th>\n",
       "    <th>0.725013</th>\n",
       "    <th>0.699149</th>\n",
       "  </tr>\n",
       "  <tr>\n",
       "    <th>6</th>\n",
       "    <th>0.740856</th>\n",
       "    <th>0.734320</th>\n",
       "    <th>0.697326</th>\n",
       "  </tr>\n",
       "</table>\n",
       "\n",
       "\n",
       "    <div>\n",
       "        <style>\n",
       "            /* Turns off some styling */\n",
       "            progress {\n",
       "                /* gets rid of default border in Firefox and Opera. */\n",
       "                border: none;\n",
       "                /* Needs to be in here for Safari polyfill so background images work as expected. */\n",
       "                background-size: auto;\n",
       "            }\n",
       "            .progress-bar-interrupted, .progress-bar-interrupted::-webkit-progress-bar {\n",
       "                background: #F44336;\n",
       "            }\n",
       "        </style>\n",
       "      <progress value='1848' class='' max='1850', style='width:300px; height:20px; vertical-align: middle;'></progress>\n",
       "      99.89% [1848/1850 04:23<00:00 0.7150]\n",
       "    </div>\n",
       "    "
      ],
      "text/plain": [
       "<IPython.core.display.HTML object>"
      ]
     },
     "metadata": {},
     "output_type": "display_data"
    },
    {
     "name": "stderr",
     "output_type": "stream",
     "text": [
      "IOPub message rate exceeded.\n",
      "The notebook server will temporarily stop sending output\n",
      "to the client in order to avoid crashing it.\n",
      "To change this limit, set the config variable\n",
      "`--NotebookApp.iopub_msg_rate_limit`.\n",
      "\n",
      "Current values:\n",
      "NotebookApp.iopub_msg_rate_limit=1000.0 (msgs/sec)\n",
      "NotebookApp.rate_limit_window=3.0 (secs)\n",
      "\n",
      "IOPub message rate exceeded.\n",
      "The notebook server will temporarily stop sending output\n",
      "to the client in order to avoid crashing it.\n",
      "To change this limit, set the config variable\n",
      "`--NotebookApp.iopub_msg_rate_limit`.\n",
      "\n",
      "Current values:\n",
      "NotebookApp.iopub_msg_rate_limit=1000.0 (msgs/sec)\n",
      "NotebookApp.rate_limit_window=3.0 (secs)\n",
      "\n"
     ]
    }
   ],
   "source": [
    "ULMFIT_LEARNER.fit_one_cycle(10,\n",
    "                             slice((1e-2 / 10) / (2.6 ** 4),\n",
    "                                   1e-2 / 10),\n",
    "                             moms=(0.8, 0.7))"
   ]
  },
  {
   "cell_type": "code",
   "execution_count": 46,
   "metadata": {},
   "outputs": [],
   "source": [
    "ULMFIT_VAL_DATA, ULMFIT_VAL_LABELS = next(iter(ULMFIT_LEARNER.data.valid_dl))\n",
    "ULMFIT_RECONSTRUCTED_VAL_DATA = pd.DataFrame([\n",
    "    ULMFIT_LEARNER.data.valid_ds.reconstruct(d) for d in ULMFIT_VAL_DATA\n",
    "], columns=['description'])"
   ]
  },
  {
   "cell_type": "code",
   "execution_count": 47,
   "metadata": {},
   "outputs": [],
   "source": [
    "ULMFIT_VALID_PREDS = ULMFIT_LEARNER.get_preds(ds_type='valid', n_batch=1)"
   ]
  },
  {
   "cell_type": "code",
   "execution_count": 48,
   "metadata": {},
   "outputs": [],
   "source": [
    "ULMFIT_TEST_PREDS = ULMFIT_LEARNER.get_preds(ds_type='test')"
   ]
  },
  {
   "cell_type": "code",
   "execution_count": 52,
   "metadata": {},
   "outputs": [
    {
     "name": "stdout",
     "output_type": "stream",
     "text": [
      "Label was 0, classified as 0\n"
     ]
    },
    {
     "data": {
      "text/html": [
       "<div>\n",
       "<style scoped>\n",
       "    .dataframe tbody tr th:only-of-type {\n",
       "        vertical-align: middle;\n",
       "    }\n",
       "\n",
       "    .dataframe tbody tr th {\n",
       "        vertical-align: top;\n",
       "    }\n",
       "\n",
       "    .dataframe thead th {\n",
       "        text-align: right;\n",
       "    }\n",
       "</style>\n",
       "<table border=\"1\" class=\"dataframe\">\n",
       "  <thead>\n",
       "    <tr style=\"text-align: right;\">\n",
       "      <th></th>\n",
       "      <th>description</th>\n",
       "    </tr>\n",
       "  </thead>\n",
       "  <tbody>\n",
       "    <tr>\n",
       "      <th>8</th>\n",
       "      <td>xxbos ( ( no broker fee ) ) new new new ! be t...</td>\n",
       "    </tr>\n",
       "  </tbody>\n",
       "</table>\n",
       "</div>"
      ],
      "text/plain": [
       "                                         description\n",
       "8  xxbos ( ( no broker fee ) ) new new new ! be t..."
      ]
     },
     "metadata": {},
     "output_type": "display_data"
    },
    {
     "name": "stdout",
     "output_type": "stream",
     "text": [
      "Label was 0, classified as 1\n"
     ]
    },
    {
     "data": {
      "text/html": [
       "<div>\n",
       "<style scoped>\n",
       "    .dataframe tbody tr th:only-of-type {\n",
       "        vertical-align: middle;\n",
       "    }\n",
       "\n",
       "    .dataframe tbody tr th {\n",
       "        vertical-align: top;\n",
       "    }\n",
       "\n",
       "    .dataframe thead th {\n",
       "        text-align: right;\n",
       "    }\n",
       "</style>\n",
       "<table border=\"1\" class=\"dataframe\">\n",
       "  <thead>\n",
       "    <tr style=\"text-align: right;\">\n",
       "      <th></th>\n",
       "      <th>description</th>\n",
       "    </tr>\n",
       "  </thead>\n",
       "  <tbody>\n",
       "  </tbody>\n",
       "</table>\n",
       "</div>"
      ],
      "text/plain": [
       "Empty DataFrame\n",
       "Columns: [description]\n",
       "Index: []"
      ]
     },
     "metadata": {},
     "output_type": "display_data"
    },
    {
     "name": "stdout",
     "output_type": "stream",
     "text": [
      "Label was 0, classified as 2\n"
     ]
    },
    {
     "data": {
      "text/html": [
       "<div>\n",
       "<style scoped>\n",
       "    .dataframe tbody tr th:only-of-type {\n",
       "        vertical-align: middle;\n",
       "    }\n",
       "\n",
       "    .dataframe tbody tr th {\n",
       "        vertical-align: top;\n",
       "    }\n",
       "\n",
       "    .dataframe thead th {\n",
       "        text-align: right;\n",
       "    }\n",
       "</style>\n",
       "<table border=\"1\" class=\"dataframe\">\n",
       "  <thead>\n",
       "    <tr style=\"text-align: right;\">\n",
       "      <th></th>\n",
       "      <th>description</th>\n",
       "    </tr>\n",
       "  </thead>\n",
       "  <tbody>\n",
       "  </tbody>\n",
       "</table>\n",
       "</div>"
      ],
      "text/plain": [
       "Empty DataFrame\n",
       "Columns: [description]\n",
       "Index: []"
      ]
     },
     "metadata": {},
     "output_type": "display_data"
    },
    {
     "name": "stdout",
     "output_type": "stream",
     "text": [
      "Label was 1, classified as 0\n"
     ]
    },
    {
     "data": {
      "text/html": [
       "<div>\n",
       "<style scoped>\n",
       "    .dataframe tbody tr th:only-of-type {\n",
       "        vertical-align: middle;\n",
       "    }\n",
       "\n",
       "    .dataframe tbody tr th {\n",
       "        vertical-align: top;\n",
       "    }\n",
       "\n",
       "    .dataframe thead th {\n",
       "        text-align: right;\n",
       "    }\n",
       "</style>\n",
       "<table border=\"1\" class=\"dataframe\">\n",
       "  <thead>\n",
       "    <tr style=\"text-align: right;\">\n",
       "      <th></th>\n",
       "      <th>description</th>\n",
       "    </tr>\n",
       "  </thead>\n",
       "  <tbody>\n",
       "  </tbody>\n",
       "</table>\n",
       "</div>"
      ],
      "text/plain": [
       "Empty DataFrame\n",
       "Columns: [description]\n",
       "Index: []"
      ]
     },
     "metadata": {},
     "output_type": "display_data"
    },
    {
     "name": "stdout",
     "output_type": "stream",
     "text": [
      "Label was 1, classified as 1\n"
     ]
    },
    {
     "data": {
      "text/html": [
       "<div>\n",
       "<style scoped>\n",
       "    .dataframe tbody tr th:only-of-type {\n",
       "        vertical-align: middle;\n",
       "    }\n",
       "\n",
       "    .dataframe tbody tr th {\n",
       "        vertical-align: top;\n",
       "    }\n",
       "\n",
       "    .dataframe thead th {\n",
       "        text-align: right;\n",
       "    }\n",
       "</style>\n",
       "<table border=\"1\" class=\"dataframe\">\n",
       "  <thead>\n",
       "    <tr style=\"text-align: right;\">\n",
       "      <th></th>\n",
       "      <th>description</th>\n",
       "    </tr>\n",
       "  </thead>\n",
       "  <tbody>\n",
       "    <tr>\n",
       "      <th>1</th>\n",
       "      <td>xxbos grand upper bedroom bath duplex with exc...</td>\n",
       "    </tr>\n",
       "    <tr>\n",
       "      <th>13</th>\n",
       "      <td>xxbos beautifully renovated bedroom , bath res...</td>\n",
       "    </tr>\n",
       "    <tr>\n",
       "      <th>26</th>\n",
       "      <td>xxbos take a deep breath of relaxation the mom...</td>\n",
       "    </tr>\n",
       "    <tr>\n",
       "      <th>32</th>\n",
       "      <td>xxbos analyze this ! take a quick preview of t...</td>\n",
       "    </tr>\n",
       "  </tbody>\n",
       "</table>\n",
       "</div>"
      ],
      "text/plain": [
       "                                          description\n",
       "1   xxbos grand upper bedroom bath duplex with exc...\n",
       "13  xxbos beautifully renovated bedroom , bath res...\n",
       "26  xxbos take a deep breath of relaxation the mom...\n",
       "32  xxbos analyze this ! take a quick preview of t..."
      ]
     },
     "metadata": {},
     "output_type": "display_data"
    },
    {
     "name": "stdout",
     "output_type": "stream",
     "text": [
      "Label was 1, classified as 2\n"
     ]
    },
    {
     "data": {
      "text/html": [
       "<div>\n",
       "<style scoped>\n",
       "    .dataframe tbody tr th:only-of-type {\n",
       "        vertical-align: middle;\n",
       "    }\n",
       "\n",
       "    .dataframe tbody tr th {\n",
       "        vertical-align: top;\n",
       "    }\n",
       "\n",
       "    .dataframe thead th {\n",
       "        text-align: right;\n",
       "    }\n",
       "</style>\n",
       "<table border=\"1\" class=\"dataframe\">\n",
       "  <thead>\n",
       "    <tr style=\"text-align: right;\">\n",
       "      <th></th>\n",
       "      <th>description</th>\n",
       "    </tr>\n",
       "  </thead>\n",
       "  <tbody>\n",
       "    <tr>\n",
       "      <th>7</th>\n",
       "      <td>xxbos this story luxury high rise offers studi...</td>\n",
       "    </tr>\n",
       "    <tr>\n",
       "      <th>9</th>\n",
       "      <td>xxbos shown by appointment . please contact ca...</td>\n",
       "    </tr>\n",
       "    <tr>\n",
       "      <th>16</th>\n",
       "      <td>xxbos analyze this ! take a quick preview of t...</td>\n",
       "    </tr>\n",
       "    <tr>\n",
       "      <th>17</th>\n",
       "      <td>xxbos analyze this ! take a quick preview of t...</td>\n",
       "    </tr>\n",
       "    <tr>\n",
       "      <th>25</th>\n",
       "      <td>xxbos gorgeous large studio in a luxury hr dm ...</td>\n",
       "    </tr>\n",
       "  </tbody>\n",
       "</table>\n",
       "</div>"
      ],
      "text/plain": [
       "                                          description\n",
       "7   xxbos this story luxury high rise offers studi...\n",
       "9   xxbos shown by appointment . please contact ca...\n",
       "16  xxbos analyze this ! take a quick preview of t...\n",
       "17  xxbos analyze this ! take a quick preview of t...\n",
       "25  xxbos gorgeous large studio in a luxury hr dm ..."
      ]
     },
     "metadata": {},
     "output_type": "display_data"
    },
    {
     "name": "stdout",
     "output_type": "stream",
     "text": [
      "Label was 2, classified as 0\n"
     ]
    },
    {
     "data": {
      "text/html": [
       "<div>\n",
       "<style scoped>\n",
       "    .dataframe tbody tr th:only-of-type {\n",
       "        vertical-align: middle;\n",
       "    }\n",
       "\n",
       "    .dataframe tbody tr th {\n",
       "        vertical-align: top;\n",
       "    }\n",
       "\n",
       "    .dataframe thead th {\n",
       "        text-align: right;\n",
       "    }\n",
       "</style>\n",
       "<table border=\"1\" class=\"dataframe\">\n",
       "  <thead>\n",
       "    <tr style=\"text-align: right;\">\n",
       "      <th></th>\n",
       "      <th>description</th>\n",
       "    </tr>\n",
       "  </thead>\n",
       "  <tbody>\n",
       "    <tr>\n",
       "      <th>11</th>\n",
       "      <td>xxbos one month free with two a year lease at ...</td>\n",
       "    </tr>\n",
       "  </tbody>\n",
       "</table>\n",
       "</div>"
      ],
      "text/plain": [
       "                                          description\n",
       "11  xxbos one month free with two a year lease at ..."
      ]
     },
     "metadata": {},
     "output_type": "display_data"
    },
    {
     "name": "stdout",
     "output_type": "stream",
     "text": [
      "Label was 2, classified as 1\n"
     ]
    },
    {
     "data": {
      "text/html": [
       "<div>\n",
       "<style scoped>\n",
       "    .dataframe tbody tr th:only-of-type {\n",
       "        vertical-align: middle;\n",
       "    }\n",
       "\n",
       "    .dataframe tbody tr th {\n",
       "        vertical-align: top;\n",
       "    }\n",
       "\n",
       "    .dataframe thead th {\n",
       "        text-align: right;\n",
       "    }\n",
       "</style>\n",
       "<table border=\"1\" class=\"dataframe\">\n",
       "  <thead>\n",
       "    <tr style=\"text-align: right;\">\n",
       "      <th></th>\n",
       "      <th>description</th>\n",
       "    </tr>\n",
       "  </thead>\n",
       "  <tbody>\n",
       "    <tr>\n",
       "      <th>3</th>\n",
       "      <td>xxbos within its handsome , industrial inspire...</td>\n",
       "    </tr>\n",
       "    <tr>\n",
       "      <th>12</th>\n",
       "      <td>xxbos sweeping river and city views on the upp...</td>\n",
       "    </tr>\n",
       "    <tr>\n",
       "      <th>18</th>\n",
       "      <td>xxbos welcome to metropolitan ! this new devel...</td>\n",
       "    </tr>\n",
       "    <tr>\n",
       "      <th>28</th>\n",
       "      <td>xxbos amenities dishwasher , renovateddescript...</td>\n",
       "    </tr>\n",
       "  </tbody>\n",
       "</table>\n",
       "</div>"
      ],
      "text/plain": [
       "                                          description\n",
       "3   xxbos within its handsome , industrial inspire...\n",
       "12  xxbos sweeping river and city views on the upp...\n",
       "18  xxbos welcome to metropolitan ! this new devel...\n",
       "28  xxbos amenities dishwasher , renovateddescript..."
      ]
     },
     "metadata": {},
     "output_type": "display_data"
    },
    {
     "name": "stdout",
     "output_type": "stream",
     "text": [
      "Label was 2, classified as 2\n"
     ]
    },
    {
     "data": {
      "text/html": [
       "<div>\n",
       "<style scoped>\n",
       "    .dataframe tbody tr th:only-of-type {\n",
       "        vertical-align: middle;\n",
       "    }\n",
       "\n",
       "    .dataframe tbody tr th {\n",
       "        vertical-align: top;\n",
       "    }\n",
       "\n",
       "    .dataframe thead th {\n",
       "        text-align: right;\n",
       "    }\n",
       "</style>\n",
       "<table border=\"1\" class=\"dataframe\">\n",
       "  <thead>\n",
       "    <tr style=\"text-align: right;\">\n",
       "      <th></th>\n",
       "      <th>description</th>\n",
       "    </tr>\n",
       "  </thead>\n",
       "  <tbody>\n",
       "    <tr>\n",
       "      <th>0</th>\n",
       "      <td>xxbos the new crown jewel of manhattan , the b...</td>\n",
       "    </tr>\n",
       "    <tr>\n",
       "      <th>2</th>\n",
       "      <td>xxbos welcome home to an awesome . bedroom apa...</td>\n",
       "    </tr>\n",
       "    <tr>\n",
       "      <th>4</th>\n",
       "      <td>xxbos available now must see no brokers fee+ m...</td>\n",
       "    </tr>\n",
       "    <tr>\n",
       "      <th>5</th>\n",
       "      <td>xxbos this substantial one bedroom one bathroo...</td>\n",
       "    </tr>\n",
       "    <tr>\n",
       "      <th>6</th>\n",
       "      <td>xxbos welcome to bedford , williamsburg 's new...</td>\n",
       "    </tr>\n",
       "  </tbody>\n",
       "</table>\n",
       "</div>"
      ],
      "text/plain": [
       "                                         description\n",
       "0  xxbos the new crown jewel of manhattan , the b...\n",
       "2  xxbos welcome home to an awesome . bedroom apa...\n",
       "4  xxbos available now must see no brokers fee+ m...\n",
       "5  xxbos this substantial one bedroom one bathroo...\n",
       "6  xxbos welcome to bedford , williamsburg 's new..."
      ]
     },
     "metadata": {},
     "output_type": "display_data"
    },
    {
     "data": {
      "text/plain": [
       "<matplotlib.axes._subplots.AxesSubplot at 0x7fd6cb492ac8>"
      ]
     },
     "metadata": {},
     "output_type": "display_data"
    },
    {
     "name": "stdout",
     "output_type": "stream",
     "text": [
      "              precision    recall  f1-score   support\n",
      "\n",
      "           0       1.00      0.50      0.67         2\n",
      "           1       0.36      0.50      0.42         8\n",
      "           2       0.86      0.82      0.84        38\n",
      "\n",
      "   micro avg       0.75      0.75      0.75        48\n",
      "   macro avg       0.74      0.61      0.64        48\n",
      "weighted avg       0.78      0.75      0.76        48\n",
      "\n",
      "Logistic loss 0.65799\n"
     ]
    },
    {
     "data": {
      "image/png": "[encoded data removed]",
      "text/plain": [
       "<Figure size 432x288 with 2 Axes>"
      ]
     },
     "metadata": {
      "needs_background": "light"
     },
     "output_type": "display_data"
    }
   ],
   "source": [
    "ULMFIT_PROBABILITIES, ULMFIT_PREDICTIONS = ULMFIT_VALID_PREDS\n",
    "generate_classification_report_from_preds(ULMFIT_PREDICTIONS.cpu().numpy(),\n",
    "                                          ULMFIT_PROBABILITIES.cpu().numpy(),\n",
    "                                          ULMFIT_RECONSTRUCTED_VAL_DATA,\n",
    "                                          ULMFIT_VAL_LABELS.cpu().numpy(),\n",
    "                                          [0, 1, 2],\n",
    "                                          columns=['description'])"
   ]
  },
  {
   "cell_type": "code",
   "execution_count": 57,
   "metadata": {},
   "outputs": [],
   "source": [
    "write_predictions_table_to_csv(\n",
    "    get_prediction_probabilities_with_columns_from_predictions(\n",
    "        FEATURES_TEST_DATAFRAME['listing_id'],\n",
    "        ULMFIT_TEST_PREDS[0].cpu().numpy()\n",
    "    ),\n",
    "    'ulmfit_submissions.csv'\n",
    ")"
   ]
  },
  {
   "cell_type": "markdown",
   "metadata": {},
   "source": [
    "### Ensembling\n",
    "\n",
    "Now that we have all of our models and various predictions, we can\n",
    "ensemble them together in the form of one big gradient boosted tree to work out what the \"true\" classes are based on how all the different models were voting.\n",
    "\n",
    "Notice that the confusion matrix for each of the models was quite\n",
    "different - this indicates that each model is probably more biased towards certain features. We can get the predictions for all\n",
    "of our training data and put them together into another dataset which we then apply XGBoost to. In principle this allows us to decide which learner best "
   ]
  }
 ],
 "metadata": {
  "kernelspec": {
   "display_name": "Python 3",
   "language": "python",
   "name": "python3"
  },
  "language_info": {
   "codemirror_mode": {
    "name": "ipython",
    "version": 3
   },
   "file_extension": ".py",
   "mimetype": "text/x-python",
   "name": "python",
   "nbconvert_exporter": "python",
   "pygments_lexer": "ipython3",
   "version": "3.6.8"
  }
 },
 "nbformat": 4,
 "nbformat_minor": 2
}
