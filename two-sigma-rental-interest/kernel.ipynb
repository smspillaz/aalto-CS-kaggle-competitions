{
 "cells": [
  {
   "cell_type": "markdown",
   "metadata": {},
   "source": [
    "# Two Sigma: Rental Interest Competition"
   ]
  },
  {
   "cell_type": "code",
   "execution_count": 1,
   "metadata": {},
   "outputs": [],
   "source": [
    "import datetime\n",
    "import itertools\n",
    "import json\n",
    "import operator\n",
    "import os\n",
    "import pandas as pd\n",
    "import pprint\n",
    "import numpy as np\n",
    "import re\n",
    "import spacy\n",
    "import torch\n",
    "\n",
    "from collections import Counter, deque\n",
    "\n",
    "from utils.data import load_training_test_data\n",
    "from utils.dataframe import (\n",
    "    categories_from_column,\n",
    "    column_list_to_category_flags,\n",
    "    count_ngrams_up_to_n,\n",
    "    map_categorical_column_to_category_ids,\n",
    "    normalize_categories,\n",
    "    remap_column,\n",
    "    remap_date_column_to_days_before,\n",
    "    remove_small_or_stopwords_from_ranking\n",
    ")\n",
    "\n",
    "nlp = spacy.load(\"en\")"
   ]
  },
  {
   "cell_type": "markdown",
   "metadata": {},
   "source": [
    "Check GPU support"
   ]
  },
  {
   "cell_type": "code",
   "execution_count": 2,
   "metadata": {
    "scrolled": true
   },
   "outputs": [
    {
     "data": {
      "text/plain": [
       "True"
      ]
     },
     "execution_count": 2,
     "metadata": {},
     "output_type": "execute_result"
    }
   ],
   "source": [
    "torch.cuda.is_available()"
   ]
  },
  {
   "cell_type": "markdown",
   "metadata": {},
   "source": [
    "## 1) Load data"
   ]
  },
  {
   "cell_type": "code",
   "execution_count": 3,
   "metadata": {
    "scrolled": true
   },
   "outputs": [],
   "source": [
    "(TRAIN_DATAFRAME, TEST_DATAFRAME) = \\\n",
    "  load_training_test_data(os.path.join('data', 'train.json'),\n",
    "                          os.path.join('data', 'test.json'))"
   ]
  },
  {
   "cell_type": "markdown",
   "metadata": {},
   "source": [
    "## 2) Data Cleaning"
   ]
  },
  {
   "cell_type": "markdown",
   "metadata": {},
   "source": [
    "Let's see what this table looks like. We'll display the head of the table which shows its features"
   ]
  },
  {
   "cell_type": "code",
   "execution_count": 4,
   "metadata": {
    "scrolled": false
   },
   "outputs": [
    {
     "data": {
      "text/html": [
       "<div>\n",
       "<style scoped>\n",
       "    .dataframe tbody tr th:only-of-type {\n",
       "        vertical-align: middle;\n",
       "    }\n",
       "\n",
       "    .dataframe tbody tr th {\n",
       "        vertical-align: top;\n",
       "    }\n",
       "\n",
       "    .dataframe thead th {\n",
       "        text-align: right;\n",
       "    }\n",
       "</style>\n",
       "<table border=\"1\" class=\"dataframe\">\n",
       "  <thead>\n",
       "    <tr style=\"text-align: right;\">\n",
       "      <th></th>\n",
       "      <th>id</th>\n",
       "      <th>bathrooms</th>\n",
       "      <th>bedrooms</th>\n",
       "      <th>building_id</th>\n",
       "      <th>created</th>\n",
       "      <th>description</th>\n",
       "      <th>display_address</th>\n",
       "      <th>features</th>\n",
       "      <th>latitude</th>\n",
       "      <th>listing_id</th>\n",
       "      <th>longitude</th>\n",
       "      <th>manager_id</th>\n",
       "      <th>photos</th>\n",
       "      <th>price</th>\n",
       "      <th>street_address</th>\n",
       "      <th>interest_level</th>\n",
       "    </tr>\n",
       "  </thead>\n",
       "  <tbody>\n",
       "    <tr>\n",
       "      <th>0</th>\n",
       "      <td>4</td>\n",
       "      <td>1.0</td>\n",
       "      <td>1</td>\n",
       "      <td>8579a0b0d54db803821a35a4a615e97a</td>\n",
       "      <td>2016-06-16 05:55:27</td>\n",
       "      <td>Spacious 1 Bedroom 1 Bathroom in Williamsburg!...</td>\n",
       "      <td>145 Borinquen Place</td>\n",
       "      <td>[Dining Room, Pre-War, Laundry in Building, Di...</td>\n",
       "      <td>40.7108</td>\n",
       "      <td>7170325</td>\n",
       "      <td>-73.9539</td>\n",
       "      <td>a10db4590843d78c784171a107bdacb4</td>\n",
       "      <td>[https://photos.renthop.com/2/7170325_3bb5ac84...</td>\n",
       "      <td>2400</td>\n",
       "      <td>145 Borinquen Place</td>\n",
       "      <td>medium</td>\n",
       "    </tr>\n",
       "    <tr>\n",
       "      <th>1</th>\n",
       "      <td>6</td>\n",
       "      <td>1.0</td>\n",
       "      <td>2</td>\n",
       "      <td>b8e75fc949a6cd8225b455648a951712</td>\n",
       "      <td>2016-06-01 05:44:33</td>\n",
       "      <td>BRAND NEW GUT RENOVATED TRUE 2 BEDROOMFind you...</td>\n",
       "      <td>East 44th</td>\n",
       "      <td>[Doorman, Elevator, Laundry in Building, Dishw...</td>\n",
       "      <td>40.7513</td>\n",
       "      <td>7092344</td>\n",
       "      <td>-73.9722</td>\n",
       "      <td>955db33477af4f40004820b4aed804a0</td>\n",
       "      <td>[https://photos.renthop.com/2/7092344_7663c19a...</td>\n",
       "      <td>3800</td>\n",
       "      <td>230 East 44th</td>\n",
       "      <td>low</td>\n",
       "    </tr>\n",
       "    <tr>\n",
       "      <th>2</th>\n",
       "      <td>9</td>\n",
       "      <td>1.0</td>\n",
       "      <td>2</td>\n",
       "      <td>cd759a988b8f23924b5a2058d5ab2b49</td>\n",
       "      <td>2016-06-14 15:19:59</td>\n",
       "      <td>**FLEX 2 BEDROOM WITH FULL PRESSURIZED WALL**L...</td>\n",
       "      <td>East 56th Street</td>\n",
       "      <td>[Doorman, Elevator, Laundry in Building, Laund...</td>\n",
       "      <td>40.7575</td>\n",
       "      <td>7158677</td>\n",
       "      <td>-73.9625</td>\n",
       "      <td>c8b10a317b766204f08e613cef4ce7a0</td>\n",
       "      <td>[https://photos.renthop.com/2/7158677_c897a134...</td>\n",
       "      <td>3495</td>\n",
       "      <td>405 East 56th Street</td>\n",
       "      <td>medium</td>\n",
       "    </tr>\n",
       "    <tr>\n",
       "      <th>3</th>\n",
       "      <td>10</td>\n",
       "      <td>1.5</td>\n",
       "      <td>3</td>\n",
       "      <td>53a5b119ba8f7b61d4e010512e0dfc85</td>\n",
       "      <td>2016-06-24 07:54:24</td>\n",
       "      <td>A Brand New 3 Bedroom 1.5 bath ApartmentEnjoy ...</td>\n",
       "      <td>Metropolitan Avenue</td>\n",
       "      <td>[]</td>\n",
       "      <td>40.7145</td>\n",
       "      <td>7211212</td>\n",
       "      <td>-73.9425</td>\n",
       "      <td>5ba989232d0489da1b5f2c45f6688adc</td>\n",
       "      <td>[https://photos.renthop.com/2/7211212_1ed4542e...</td>\n",
       "      <td>3000</td>\n",
       "      <td>792 Metropolitan Avenue</td>\n",
       "      <td>medium</td>\n",
       "    </tr>\n",
       "    <tr>\n",
       "      <th>4</th>\n",
       "      <td>15</td>\n",
       "      <td>1.0</td>\n",
       "      <td>0</td>\n",
       "      <td>bfb9405149bfff42a92980b594c28234</td>\n",
       "      <td>2016-06-28 03:50:23</td>\n",
       "      <td>Over-sized Studio w abundant closets. Availabl...</td>\n",
       "      <td>East 34th Street</td>\n",
       "      <td>[Doorman, Elevator, Fitness Center, Laundry in...</td>\n",
       "      <td>40.7439</td>\n",
       "      <td>7225292</td>\n",
       "      <td>-73.9743</td>\n",
       "      <td>2c3b41f588fbb5234d8a1e885a436cfa</td>\n",
       "      <td>[https://photos.renthop.com/2/7225292_901f1984...</td>\n",
       "      <td>2795</td>\n",
       "      <td>340 East 34th Street</td>\n",
       "      <td>low</td>\n",
       "    </tr>\n",
       "  </tbody>\n",
       "</table>\n",
       "</div>"
      ],
      "text/plain": [
       "   id  bathrooms  bedrooms                       building_id  \\\n",
       "0   4        1.0         1  8579a0b0d54db803821a35a4a615e97a   \n",
       "1   6        1.0         2  b8e75fc949a6cd8225b455648a951712   \n",
       "2   9        1.0         2  cd759a988b8f23924b5a2058d5ab2b49   \n",
       "3  10        1.5         3  53a5b119ba8f7b61d4e010512e0dfc85   \n",
       "4  15        1.0         0  bfb9405149bfff42a92980b594c28234   \n",
       "\n",
       "               created                                        description  \\\n",
       "0  2016-06-16 05:55:27  Spacious 1 Bedroom 1 Bathroom in Williamsburg!...   \n",
       "1  2016-06-01 05:44:33  BRAND NEW GUT RENOVATED TRUE 2 BEDROOMFind you...   \n",
       "2  2016-06-14 15:19:59  **FLEX 2 BEDROOM WITH FULL PRESSURIZED WALL**L...   \n",
       "3  2016-06-24 07:54:24  A Brand New 3 Bedroom 1.5 bath ApartmentEnjoy ...   \n",
       "4  2016-06-28 03:50:23  Over-sized Studio w abundant closets. Availabl...   \n",
       "\n",
       "       display_address                                           features  \\\n",
       "0  145 Borinquen Place  [Dining Room, Pre-War, Laundry in Building, Di...   \n",
       "1            East 44th  [Doorman, Elevator, Laundry in Building, Dishw...   \n",
       "2     East 56th Street  [Doorman, Elevator, Laundry in Building, Laund...   \n",
       "3  Metropolitan Avenue                                                 []   \n",
       "4     East 34th Street  [Doorman, Elevator, Fitness Center, Laundry in...   \n",
       "\n",
       "   latitude  listing_id  longitude                        manager_id  \\\n",
       "0   40.7108     7170325   -73.9539  a10db4590843d78c784171a107bdacb4   \n",
       "1   40.7513     7092344   -73.9722  955db33477af4f40004820b4aed804a0   \n",
       "2   40.7575     7158677   -73.9625  c8b10a317b766204f08e613cef4ce7a0   \n",
       "3   40.7145     7211212   -73.9425  5ba989232d0489da1b5f2c45f6688adc   \n",
       "4   40.7439     7225292   -73.9743  2c3b41f588fbb5234d8a1e885a436cfa   \n",
       "\n",
       "                                              photos  price  \\\n",
       "0  [https://photos.renthop.com/2/7170325_3bb5ac84...   2400   \n",
       "1  [https://photos.renthop.com/2/7092344_7663c19a...   3800   \n",
       "2  [https://photos.renthop.com/2/7158677_c897a134...   3495   \n",
       "3  [https://photos.renthop.com/2/7211212_1ed4542e...   3000   \n",
       "4  [https://photos.renthop.com/2/7225292_901f1984...   2795   \n",
       "\n",
       "            street_address interest_level  \n",
       "0      145 Borinquen Place         medium  \n",
       "1            230 East 44th            low  \n",
       "2     405 East 56th Street         medium  \n",
       "3  792 Metropolitan Avenue         medium  \n",
       "4     340 East 34th Street            low  "
      ]
     },
     "execution_count": 4,
     "metadata": {},
     "output_type": "execute_result"
    }
   ],
   "source": [
    "TRAIN_DATAFRAME.head()"
   ]
  },
  {
   "cell_type": "markdown",
   "metadata": {},
   "source": [
    "### 2.1) Cleaning up categories"
   ]
  },
  {
   "cell_type": "markdown",
   "metadata": {},
   "source": [
    "Let's clean up the categories and put them into a sensible vector. Unfortunately the categories are a bit of a mess - since the user can specify what categories they want there isn't much in the way of consistency between categories.\n",
    "\n",
    "Some of the patterns that we frequently see in the categories are:\n",
    " - Separating category names with \"**\"\n",
    " - Mix of caps/nocaps\n",
    " - Some common themes, such as:\n",
    "   - \"pets\"\n",
    "   - \"office\"\n",
    "   - \"living room\"\n",
    "   - \"garden\"\n",
    "   - \"common area\"\n",
    "   - \"storage\"\n",
    "   - \"no pets\"\n",
    "   - \"parking\"\n",
    "   - \"bicycle\"\n",
    "   - \"doorman\"\n",
    "   - etc\n",
    "\n",
    "To deal with this, lets pull out all of the categories and normalize them\n",
    "by removing excess punctuation, normalizing for whitespace, lowercasing, and counting for certain n-grams."
   ]
  },
  {
   "cell_type": "code",
   "execution_count": 5,
   "metadata": {
    "scrolled": false
   },
   "outputs": [
    {
     "data": {
      "text/plain": [
       "['$1000. move in visa giftcard will be handed to new tenants upon rental lease signing',\n",
       " '$1500. move in visa giftcard will be handed to new tenants upon rental lease signing',\n",
       " '$250 application fee with background and credit check. board interview and approval.',\n",
       " '$250 security deposit',\n",
       " '$500 security deposit',\n",
       " '$600 gift card for move ins prior to june 19',\n",
       " '000 sf fitness center',\n",
       " '000 sq. ft. landscaped terrace complete with an organic garden',\n",
       " '000 square foot exclusive courtyard oasis for via residents',\n",
       " '000 square foot sun deck• free wifi in marc club',\n",
       " '1 br or conv 2',\n",
       " \"1 mo broker's fee 18 mo lease\",\n",
       " '1 month free',\n",
       " '1 month free',\n",
       " '1 month free',\n",
       " '1 month free rent',\n",
       " '1.5 bath',\n",
       " '1.5 bathrooms',\n",
       " '1.5 baths',\n",
       " '1.5 baths',\n",
       " '1.5 marble baths',\n",
       " '1/2 bath',\n",
       " '1/2 month fee',\n",
       " '1100 sq ft',\n",
       " '1200sq ft',\n",
       " '12th st 3rd ave',\n",
       " '1st',\n",
       " '2',\n",
       " '2 bathrooms',\n",
       " '2 beautifully furnished outside sundecks',\n",
       " '2 bedroon convertible',\n",
       " '2 blocks away from union square',\n",
       " '2 full bathrooms',\n",
       " '2 full baths',\n",
       " '2 months free',\n",
       " '2 queen bedrooms',\n",
       " '2 story tenant lounge',\n",
       " '2 year lease',\n",
       " '22',\n",
       " '24 hour attended lobby',\n",
       " '24 hour attended lobby',\n",
       " '24 hour concierge',\n",
       " '24 hour concierge and doorman',\n",
       " '24 hour doorman',\n",
       " '24 hour doorman',\n",
       " '24 hour doorman',\n",
       " '24 hour doorman concierge',\n",
       " '24 hour parking garage with an electric vehicle charging station.',\n",
       " '24 hr concierge',\n",
       " '24 hr doorman']"
      ]
     },
     "execution_count": 5,
     "metadata": {},
     "output_type": "execute_result"
    }
   ],
   "source": [
    "normalized_categories = sorted(normalize_categories(categories_from_column(TRAIN_DATAFRAME, 'features')))\n",
    "normalized_categories[:50]"
   ]
  },
  {
   "cell_type": "markdown",
   "metadata": {},
   "source": [
    "Now that we have our slightly tidied up categories, we can create some n-grams and count their frequency"
   ]
  },
  {
   "cell_type": "code",
   "execution_count": 6,
   "metadata": {
    "scrolled": false
   },
   "outputs": [
    {
     "data": {
      "text/plain": [
       "[('', 6421),\n",
       " ('in', 122),\n",
       " ('kitchen', 121),\n",
       " ('to', 90),\n",
       " ('room', 85),\n",
       " ('home', 65),\n",
       " ('of', 63),\n",
       " ('fee', 62),\n",
       " ('and', 59),\n",
       " ('no', 57),\n",
       " ('the', 57),\n",
       " ('private', 56),\n",
       " ('super', 56),\n",
       " ('2br', 54),\n",
       " ('new', 50),\n",
       " ('on', 49),\n",
       " ('2', 48),\n",
       " ('massive', 48),\n",
       " ('windows', 45),\n",
       " ('share', 44),\n",
       " ('sprawling', 44),\n",
       " ('no fee', 42),\n",
       " ('park', 42),\n",
       " ('storage', 42),\n",
       " ('pets', 41),\n",
       " ('ok', 40),\n",
       " ('bldg', 39),\n",
       " ('deck', 38),\n",
       " ('l', 37),\n",
       " ('laundry', 37),\n",
       " ('all', 35),\n",
       " ('huge', 33),\n",
       " ('eat', 32),\n",
       " ('eat in', 32),\n",
       " ('in kitchen', 32),\n",
       " ('oversized', 32),\n",
       " ('parking', 32),\n",
       " ('renovated', 32),\n",
       " ('roof', 32),\n",
       " ('3br', 31),\n",
       " ('blks', 31),\n",
       " ('blks to', 31),\n",
       " ('free', 31),\n",
       " ('on site', 30),\n",
       " ('site', 30),\n",
       " ('doorman', 29),\n",
       " ('super share', 29),\n",
       " ('with', 29),\n",
       " ('1br', 28),\n",
       " ('closets', 28)]"
      ]
     },
     "execution_count": 6,
     "metadata": {},
     "output_type": "execute_result"
    }
   ],
   "source": [
    "most_common_ngrams = sorted(count_ngrams_up_to_n(\" \".join(normalized_categories), 3).most_common(),\n",
    "                            key=lambda x: (-x[1], x[0]))\n",
    "most_common_ngrams[:50]"
   ]
  },
  {
   "cell_type": "markdown",
   "metadata": {},
   "source": [
    "There's quite a few words here that don't add much value. We can remove them by consulting a list of stopwords"
   ]
  },
  {
   "cell_type": "code",
   "execution_count": 7,
   "metadata": {
    "scrolled": false
   },
   "outputs": [
    {
     "data": {
      "text/plain": [
       "[('kitchen', 121),\n",
       " ('room', 85),\n",
       " ('home', 65),\n",
       " ('fee', 62),\n",
       " ('private', 56),\n",
       " ('super', 56),\n",
       " ('2br', 54),\n",
       " ('new', 50),\n",
       " ('massive', 48),\n",
       " ('windows', 45),\n",
       " ('share', 44),\n",
       " ('sprawling', 44),\n",
       " ('no fee', 42),\n",
       " ('park', 42),\n",
       " ('storage', 42),\n",
       " ('pets', 41),\n",
       " ('bldg', 39),\n",
       " ('deck', 38),\n",
       " ('laundry', 37),\n",
       " ('huge', 33),\n",
       " ('eat', 32),\n",
       " ('eat in', 32),\n",
       " ('in kitchen', 32),\n",
       " ('oversized', 32),\n",
       " ('parking', 32),\n",
       " ('renovated', 32),\n",
       " ('roof', 32),\n",
       " ('3br', 31),\n",
       " ('blks', 31),\n",
       " ('blks to', 31),\n",
       " ('free', 31),\n",
       " ('on site', 30),\n",
       " ('site', 30),\n",
       " ('doorman', 29),\n",
       " ('super share', 29),\n",
       " ('1br', 28),\n",
       " ('closets', 28),\n",
       " ('included', 27),\n",
       " ('large', 27),\n",
       " ('steps', 27),\n",
       " ('studio', 27),\n",
       " ('bedford', 26),\n",
       " ('bedford l', 26),\n",
       " ('floor', 26),\n",
       " ('lounge', 26),\n",
       " ('pets ok', 26),\n",
       " ('steps to', 26),\n",
       " ('clean', 25),\n",
       " ('terrace', 25),\n",
       " ('train', 25)]"
      ]
     },
     "execution_count": 7,
     "metadata": {},
     "output_type": "execute_result"
    }
   ],
   "source": [
    "most_common_ngrams = sorted(list(remove_small_or_stopwords_from_ranking(most_common_ngrams, nlp, 3)),\n",
    "                            key=lambda x: (-x[1], x[0]))\n",
    "most_common_ngrams[:50]"
   ]
  },
  {
   "cell_type": "markdown",
   "metadata": {},
   "source": [
    "Now that we have these, we can probably take 100 most common and arrange\n",
    "them into category flags for our table"
   ]
  },
  {
   "cell_type": "code",
   "execution_count": 8,
   "metadata": {
    "scrolled": true
   },
   "outputs": [],
   "source": [
    "TRAIN_DATAFRAME = column_list_to_category_flags(TRAIN_DATAFRAME, 'features', list(map(operator.itemgetter(0), most_common_ngrams[:100])))\n",
    "TEST_DATAFRAME = column_list_to_category_flags(TEST_DATAFRAME, 'features', list(map(operator.itemgetter(0), most_common_ngrams[:100])))"
   ]
  },
  {
   "cell_type": "code",
   "execution_count": 9,
   "metadata": {
    "scrolled": false
   },
   "outputs": [
    {
     "data": {
      "text/html": [
       "<div>\n",
       "<style scoped>\n",
       "    .dataframe tbody tr th:only-of-type {\n",
       "        vertical-align: middle;\n",
       "    }\n",
       "\n",
       "    .dataframe tbody tr th {\n",
       "        vertical-align: top;\n",
       "    }\n",
       "\n",
       "    .dataframe thead th {\n",
       "        text-align: right;\n",
       "    }\n",
       "</style>\n",
       "<table border=\"1\" class=\"dataframe\">\n",
       "  <thead>\n",
       "    <tr style=\"text-align: right;\">\n",
       "      <th></th>\n",
       "      <th>id</th>\n",
       "      <th>bathrooms</th>\n",
       "      <th>bedrooms</th>\n",
       "      <th>building_id</th>\n",
       "      <th>created</th>\n",
       "      <th>description</th>\n",
       "      <th>display_address</th>\n",
       "      <th>features</th>\n",
       "      <th>latitude</th>\n",
       "      <th>listing_id</th>\n",
       "      <th>...</th>\n",
       "      <th>features_in_unit</th>\n",
       "      <th>features_l_stop</th>\n",
       "      <th>features_stop</th>\n",
       "      <th>features_true</th>\n",
       "      <th>features_views</th>\n",
       "      <th>features_details</th>\n",
       "      <th>features_dryer</th>\n",
       "      <th>features_elev/lndry</th>\n",
       "      <th>features_elev/lndry_bldg</th>\n",
       "      <th>features_gut</th>\n",
       "    </tr>\n",
       "  </thead>\n",
       "  <tbody>\n",
       "    <tr>\n",
       "      <th>0</th>\n",
       "      <td>4</td>\n",
       "      <td>1.0</td>\n",
       "      <td>1</td>\n",
       "      <td>8579a0b0d54db803821a35a4a615e97a</td>\n",
       "      <td>2016-06-16 05:55:27</td>\n",
       "      <td>Spacious 1 Bedroom 1 Bathroom in Williamsburg!...</td>\n",
       "      <td>145 Borinquen Place</td>\n",
       "      <td>[Dining Room, Pre-War, Laundry in Building, Di...</td>\n",
       "      <td>40.7108</td>\n",
       "      <td>7170325</td>\n",
       "      <td>...</td>\n",
       "      <td>0</td>\n",
       "      <td>0</td>\n",
       "      <td>0</td>\n",
       "      <td>0</td>\n",
       "      <td>0</td>\n",
       "      <td>0</td>\n",
       "      <td>0</td>\n",
       "      <td>0</td>\n",
       "      <td>0</td>\n",
       "      <td>0</td>\n",
       "    </tr>\n",
       "    <tr>\n",
       "      <th>1</th>\n",
       "      <td>6</td>\n",
       "      <td>1.0</td>\n",
       "      <td>2</td>\n",
       "      <td>b8e75fc949a6cd8225b455648a951712</td>\n",
       "      <td>2016-06-01 05:44:33</td>\n",
       "      <td>BRAND NEW GUT RENOVATED TRUE 2 BEDROOMFind you...</td>\n",
       "      <td>East 44th</td>\n",
       "      <td>[Doorman, Elevator, Laundry in Building, Dishw...</td>\n",
       "      <td>40.7513</td>\n",
       "      <td>7092344</td>\n",
       "      <td>...</td>\n",
       "      <td>0</td>\n",
       "      <td>0</td>\n",
       "      <td>0</td>\n",
       "      <td>0</td>\n",
       "      <td>0</td>\n",
       "      <td>0</td>\n",
       "      <td>0</td>\n",
       "      <td>0</td>\n",
       "      <td>0</td>\n",
       "      <td>0</td>\n",
       "    </tr>\n",
       "    <tr>\n",
       "      <th>2</th>\n",
       "      <td>9</td>\n",
       "      <td>1.0</td>\n",
       "      <td>2</td>\n",
       "      <td>cd759a988b8f23924b5a2058d5ab2b49</td>\n",
       "      <td>2016-06-14 15:19:59</td>\n",
       "      <td>**FLEX 2 BEDROOM WITH FULL PRESSURIZED WALL**L...</td>\n",
       "      <td>East 56th Street</td>\n",
       "      <td>[Doorman, Elevator, Laundry in Building, Laund...</td>\n",
       "      <td>40.7575</td>\n",
       "      <td>7158677</td>\n",
       "      <td>...</td>\n",
       "      <td>1</td>\n",
       "      <td>0</td>\n",
       "      <td>0</td>\n",
       "      <td>0</td>\n",
       "      <td>0</td>\n",
       "      <td>0</td>\n",
       "      <td>0</td>\n",
       "      <td>0</td>\n",
       "      <td>0</td>\n",
       "      <td>0</td>\n",
       "    </tr>\n",
       "    <tr>\n",
       "      <th>3</th>\n",
       "      <td>10</td>\n",
       "      <td>1.5</td>\n",
       "      <td>3</td>\n",
       "      <td>53a5b119ba8f7b61d4e010512e0dfc85</td>\n",
       "      <td>2016-06-24 07:54:24</td>\n",
       "      <td>A Brand New 3 Bedroom 1.5 bath ApartmentEnjoy ...</td>\n",
       "      <td>Metropolitan Avenue</td>\n",
       "      <td>[]</td>\n",
       "      <td>40.7145</td>\n",
       "      <td>7211212</td>\n",
       "      <td>...</td>\n",
       "      <td>0</td>\n",
       "      <td>0</td>\n",
       "      <td>0</td>\n",
       "      <td>0</td>\n",
       "      <td>0</td>\n",
       "      <td>0</td>\n",
       "      <td>0</td>\n",
       "      <td>0</td>\n",
       "      <td>0</td>\n",
       "      <td>0</td>\n",
       "    </tr>\n",
       "    <tr>\n",
       "      <th>4</th>\n",
       "      <td>15</td>\n",
       "      <td>1.0</td>\n",
       "      <td>0</td>\n",
       "      <td>bfb9405149bfff42a92980b594c28234</td>\n",
       "      <td>2016-06-28 03:50:23</td>\n",
       "      <td>Over-sized Studio w abundant closets. Availabl...</td>\n",
       "      <td>East 34th Street</td>\n",
       "      <td>[Doorman, Elevator, Fitness Center, Laundry in...</td>\n",
       "      <td>40.7439</td>\n",
       "      <td>7225292</td>\n",
       "      <td>...</td>\n",
       "      <td>0</td>\n",
       "      <td>0</td>\n",
       "      <td>0</td>\n",
       "      <td>0</td>\n",
       "      <td>0</td>\n",
       "      <td>0</td>\n",
       "      <td>0</td>\n",
       "      <td>0</td>\n",
       "      <td>0</td>\n",
       "      <td>0</td>\n",
       "    </tr>\n",
       "  </tbody>\n",
       "</table>\n",
       "<p>5 rows × 116 columns</p>\n",
       "</div>"
      ],
      "text/plain": [
       "   id  bathrooms  bedrooms                       building_id  \\\n",
       "0   4        1.0         1  8579a0b0d54db803821a35a4a615e97a   \n",
       "1   6        1.0         2  b8e75fc949a6cd8225b455648a951712   \n",
       "2   9        1.0         2  cd759a988b8f23924b5a2058d5ab2b49   \n",
       "3  10        1.5         3  53a5b119ba8f7b61d4e010512e0dfc85   \n",
       "4  15        1.0         0  bfb9405149bfff42a92980b594c28234   \n",
       "\n",
       "               created                                        description  \\\n",
       "0  2016-06-16 05:55:27  Spacious 1 Bedroom 1 Bathroom in Williamsburg!...   \n",
       "1  2016-06-01 05:44:33  BRAND NEW GUT RENOVATED TRUE 2 BEDROOMFind you...   \n",
       "2  2016-06-14 15:19:59  **FLEX 2 BEDROOM WITH FULL PRESSURIZED WALL**L...   \n",
       "3  2016-06-24 07:54:24  A Brand New 3 Bedroom 1.5 bath ApartmentEnjoy ...   \n",
       "4  2016-06-28 03:50:23  Over-sized Studio w abundant closets. Availabl...   \n",
       "\n",
       "       display_address                                           features  \\\n",
       "0  145 Borinquen Place  [Dining Room, Pre-War, Laundry in Building, Di...   \n",
       "1            East 44th  [Doorman, Elevator, Laundry in Building, Dishw...   \n",
       "2     East 56th Street  [Doorman, Elevator, Laundry in Building, Laund...   \n",
       "3  Metropolitan Avenue                                                 []   \n",
       "4     East 34th Street  [Doorman, Elevator, Fitness Center, Laundry in...   \n",
       "\n",
       "   latitude  listing_id      ...       features_in_unit features_l_stop  \\\n",
       "0   40.7108     7170325      ...                      0               0   \n",
       "1   40.7513     7092344      ...                      0               0   \n",
       "2   40.7575     7158677      ...                      1               0   \n",
       "3   40.7145     7211212      ...                      0               0   \n",
       "4   40.7439     7225292      ...                      0               0   \n",
       "\n",
       "  features_stop  features_true features_views features_details  \\\n",
       "0             0              0              0                0   \n",
       "1             0              0              0                0   \n",
       "2             0              0              0                0   \n",
       "3             0              0              0                0   \n",
       "4             0              0              0                0   \n",
       "\n",
       "   features_dryer  features_elev/lndry  features_elev/lndry_bldg  features_gut  \n",
       "0               0                    0                         0             0  \n",
       "1               0                    0                         0             0  \n",
       "2               0                    0                         0             0  \n",
       "3               0                    0                         0             0  \n",
       "4               0                    0                         0             0  \n",
       "\n",
       "[5 rows x 116 columns]"
      ]
     },
     "execution_count": 9,
     "metadata": {},
     "output_type": "execute_result"
    }
   ],
   "source": [
    "TRAIN_DATAFRAME.head(5)"
   ]
  },
  {
   "cell_type": "markdown",
   "metadata": {},
   "source": [
    "### 2.2) Cleaning up listing_date"
   ]
  },
  {
   "cell_type": "markdown",
   "metadata": {},
   "source": [
    "We can also do something useful with the listing date - it may be better to say how many days ago the property was listed - older properties are probably going to get a lot less interest than newer properties."
   ]
  },
  {
   "cell_type": "code",
   "execution_count": 10,
   "metadata": {
    "scrolled": false
   },
   "outputs": [],
   "source": [
    "TRAIN_DATAFRAME = remap_date_column_to_days_before(TRAIN_DATAFRAME, \"created\", \"created_days_ago\", datetime.datetime(2017, 1, 1))\n",
    "TEST_DATAFRAME = remap_date_column_to_days_before(TEST_DATAFRAME, \"created\", \"created_days_ago\", datetime.datetime(2017, 1, 1))"
   ]
  },
  {
   "cell_type": "code",
   "execution_count": 11,
   "metadata": {
    "scrolled": false
   },
   "outputs": [
    {
     "data": {
      "text/plain": [
       "0    198\n",
       "1    213\n",
       "2    200\n",
       "3    190\n",
       "4    186\n",
       "Name: created_days_ago, dtype: int64"
      ]
     },
     "execution_count": 11,
     "metadata": {},
     "output_type": "execute_result"
    }
   ],
   "source": [
    "TRAIN_DATAFRAME[\"created_days_ago\"].head(5)"
   ]
  },
  {
   "cell_type": "markdown",
   "metadata": {},
   "source": [
    "### 2.3) Cleaning up interest_level"
   ]
  },
  {
   "cell_type": "markdown",
   "metadata": {},
   "source": [
    "Right now the interest level is encoded on a scale of \"Low, Medium, High\". Since these are related to each other on a number line, we can convert these to floting point numbers on a scale between 0-1."
   ]
  },
  {
   "cell_type": "code",
   "execution_count": 12,
   "metadata": {
    "scrolled": false
   },
   "outputs": [],
   "source": [
    "TRAIN_DATAFRAME = remap_column(TRAIN_DATAFRAME, \"interest_level\", \"float_interest_level\", lambda x: {\n",
    "    \"low\": 0.0,\n",
    "    \"medium\": 0.5,\n",
    "    \"high\": 1.0\n",
    "}[x])\n",
    "# The TEST_DATAFRAME does not have an interest_level column, so we\n",
    "# instead add it and replace it with all zeros\n",
    "TEST_DATAFRAME[\"float_interest_level\"] = 0.0"
   ]
  },
  {
   "cell_type": "code",
   "execution_count": 13,
   "metadata": {
    "scrolled": false
   },
   "outputs": [
    {
     "data": {
      "text/plain": [
       "0    0.5\n",
       "1    0.0\n",
       "2    0.5\n",
       "3    0.5\n",
       "4    0.0\n",
       "Name: float_interest_level, dtype: float64"
      ]
     },
     "execution_count": 13,
     "metadata": {},
     "output_type": "execute_result"
    }
   ],
   "source": [
    "TRAIN_DATAFRAME[\"float_interest_level\"].head(5)"
   ]
  },
  {
   "cell_type": "markdown",
   "metadata": {},
   "source": [
    "### 2.4) Cleaning up building_id, manager_id"
   ]
  },
  {
   "cell_type": "markdown",
   "metadata": {},
   "source": [
    "`building_id` and `manager_id` look a bit useless to us on the outside, but according to https://www.kaggle.com/den3b81/some-insights-on-building-id they are actually quite predictive of interest since 20% of the manager make up 80% of the rentals (we can also see this in their writing style as well).\n",
    "\n",
    "Since there aren't too many managers or buildings in total, we can convert these into category ID's where we'll pass them through an embedding later on.\n",
    "\n",
    "Note that we need to do this over both dataframes - since there could\n",
    "be some managers that are in the test dataframe which are not in the training dataframe and vice versa."
   ]
  },
  {
   "cell_type": "code",
   "execution_count": 14,
   "metadata": {},
   "outputs": [],
   "source": [
    "(BUILDING_ID_TO_BUILDING_CATEGORY,\n",
    " BUILDING_CATEGORY_TO_BUILDING_ID,\n",
    " TRAIN_DATAFRAME,\n",
    " TEST_DATAFRAME) = map_categorical_column_to_category_ids(\n",
    "    TRAIN_DATAFRAME,\n",
    "    TEST_DATAFRAME,\n",
    "    'building_id',\n",
    "    'building_id_category'\n",
    ")"
   ]
  },
  {
   "cell_type": "code",
   "execution_count": 15,
   "metadata": {},
   "outputs": [],
   "source": [
    "(MANAGER_ID_TO_MANAGER_CATEGORY,\n",
    " MANAGER_CATEGORY_TO_MANAGER_ID,\n",
    " TRAIN_DATAFRAME,\n",
    " TEST_DATAFRAME) = map_categorical_column_to_category_ids(\n",
    "    TRAIN_DATAFRAME,\n",
    "    TEST_DATAFRAME,\n",
    "    'manager_id',\n",
    "    'manager_id_category'\n",
    ")"
   ]
  },
  {
   "cell_type": "markdown",
   "metadata": {},
   "source": [
    "### 2.5) Drop unnecessary columns"
   ]
  },
  {
   "cell_type": "markdown",
   "metadata": {},
   "source": [
    "Now that we have made our data nicer to work with, we can drop all the inconvenient to work with columns."
   ]
  },
  {
   "cell_type": "code",
   "execution_count": 35,
   "metadata": {},
   "outputs": [],
   "source": [
    "DROP_COLUMNS = [\n",
    "    'id',\n",
    "    'building_id',\n",
    "    'description',\n",
    "    'features',\n",
    "    'display_address',\n",
    "    'listing_id',\n",
    "    'manager_id',\n",
    "    'photos',\n",
    "    'street_address',\n",
    "    'interest_level',\n",
    "]\n",
    "TRAIN_DATAFRAME = TRAIN_DATAFRAME.drop(DROP_COLUMNS, axis=1)\n",
    "# TEST_DATAFRAME doesn't have interest_level, so we remove it\n",
    "# from the DROP_COLUMNS\n",
    "TEST_DATAFRAME = TEST_DATAFRAME.drop(DROP_COLUMNS[:-1], axis=1)"
   ]
  },
  {
   "cell_type": "code",
   "execution_count": 36,
   "metadata": {},
   "outputs": [
    {
     "data": {
      "text/html": [
       "<div>\n",
       "<style scoped>\n",
       "    .dataframe tbody tr th:only-of-type {\n",
       "        vertical-align: middle;\n",
       "    }\n",
       "\n",
       "    .dataframe tbody tr th {\n",
       "        vertical-align: top;\n",
       "    }\n",
       "\n",
       "    .dataframe thead th {\n",
       "        text-align: right;\n",
       "    }\n",
       "</style>\n",
       "<table border=\"1\" class=\"dataframe\">\n",
       "  <thead>\n",
       "    <tr style=\"text-align: right;\">\n",
       "      <th></th>\n",
       "      <th>bathrooms</th>\n",
       "      <th>bedrooms</th>\n",
       "      <th>created</th>\n",
       "      <th>latitude</th>\n",
       "      <th>longitude</th>\n",
       "      <th>price</th>\n",
       "      <th>street_address</th>\n",
       "      <th>features_kitchen</th>\n",
       "      <th>features_room</th>\n",
       "      <th>features_home</th>\n",
       "      <th>...</th>\n",
       "      <th>features_views</th>\n",
       "      <th>features_details</th>\n",
       "      <th>features_dryer</th>\n",
       "      <th>features_elev/lndry</th>\n",
       "      <th>features_elev/lndry_bldg</th>\n",
       "      <th>features_gut</th>\n",
       "      <th>created_days_ago</th>\n",
       "      <th>float_interest_level</th>\n",
       "      <th>building_id_category</th>\n",
       "      <th>manager_id_category</th>\n",
       "    </tr>\n",
       "  </thead>\n",
       "  <tbody>\n",
       "    <tr>\n",
       "      <th>0</th>\n",
       "      <td>1.0</td>\n",
       "      <td>1</td>\n",
       "      <td>2016-06-16 05:55:27</td>\n",
       "      <td>40.7108</td>\n",
       "      <td>-73.9539</td>\n",
       "      <td>2400</td>\n",
       "      <td>145 Borinquen Place</td>\n",
       "      <td>0</td>\n",
       "      <td>1</td>\n",
       "      <td>0</td>\n",
       "      <td>...</td>\n",
       "      <td>0</td>\n",
       "      <td>0</td>\n",
       "      <td>0</td>\n",
       "      <td>0</td>\n",
       "      <td>0</td>\n",
       "      <td>0</td>\n",
       "      <td>198</td>\n",
       "      <td>0.5</td>\n",
       "      <td>6083</td>\n",
       "      <td>2767</td>\n",
       "    </tr>\n",
       "    <tr>\n",
       "      <th>1</th>\n",
       "      <td>1.0</td>\n",
       "      <td>2</td>\n",
       "      <td>2016-06-01 05:44:33</td>\n",
       "      <td>40.7513</td>\n",
       "      <td>-73.9722</td>\n",
       "      <td>3800</td>\n",
       "      <td>230 East 44th</td>\n",
       "      <td>0</td>\n",
       "      <td>0</td>\n",
       "      <td>0</td>\n",
       "      <td>...</td>\n",
       "      <td>0</td>\n",
       "      <td>0</td>\n",
       "      <td>0</td>\n",
       "      <td>0</td>\n",
       "      <td>0</td>\n",
       "      <td>0</td>\n",
       "      <td>213</td>\n",
       "      <td>0.0</td>\n",
       "      <td>8417</td>\n",
       "      <td>2565</td>\n",
       "    </tr>\n",
       "    <tr>\n",
       "      <th>2</th>\n",
       "      <td>1.0</td>\n",
       "      <td>2</td>\n",
       "      <td>2016-06-14 15:19:59</td>\n",
       "      <td>40.7575</td>\n",
       "      <td>-73.9625</td>\n",
       "      <td>3495</td>\n",
       "      <td>405 East 56th Street</td>\n",
       "      <td>0</td>\n",
       "      <td>0</td>\n",
       "      <td>0</td>\n",
       "      <td>...</td>\n",
       "      <td>0</td>\n",
       "      <td>0</td>\n",
       "      <td>0</td>\n",
       "      <td>0</td>\n",
       "      <td>0</td>\n",
       "      <td>0</td>\n",
       "      <td>200</td>\n",
       "      <td>0.5</td>\n",
       "      <td>9344</td>\n",
       "      <td>3458</td>\n",
       "    </tr>\n",
       "    <tr>\n",
       "      <th>3</th>\n",
       "      <td>1.5</td>\n",
       "      <td>3</td>\n",
       "      <td>2016-06-24 07:54:24</td>\n",
       "      <td>40.7145</td>\n",
       "      <td>-73.9425</td>\n",
       "      <td>3000</td>\n",
       "      <td>792 Metropolitan Avenue</td>\n",
       "      <td>0</td>\n",
       "      <td>0</td>\n",
       "      <td>0</td>\n",
       "      <td>...</td>\n",
       "      <td>0</td>\n",
       "      <td>0</td>\n",
       "      <td>0</td>\n",
       "      <td>0</td>\n",
       "      <td>0</td>\n",
       "      <td>0</td>\n",
       "      <td>190</td>\n",
       "      <td>0.5</td>\n",
       "      <td>3797</td>\n",
       "      <td>1568</td>\n",
       "    </tr>\n",
       "    <tr>\n",
       "      <th>4</th>\n",
       "      <td>1.0</td>\n",
       "      <td>0</td>\n",
       "      <td>2016-06-28 03:50:23</td>\n",
       "      <td>40.7439</td>\n",
       "      <td>-73.9743</td>\n",
       "      <td>2795</td>\n",
       "      <td>340 East 34th Street</td>\n",
       "      <td>0</td>\n",
       "      <td>0</td>\n",
       "      <td>0</td>\n",
       "      <td>...</td>\n",
       "      <td>0</td>\n",
       "      <td>0</td>\n",
       "      <td>0</td>\n",
       "      <td>0</td>\n",
       "      <td>0</td>\n",
       "      <td>0</td>\n",
       "      <td>186</td>\n",
       "      <td>0.0</td>\n",
       "      <td>8717</td>\n",
       "      <td>790</td>\n",
       "    </tr>\n",
       "  </tbody>\n",
       "</table>\n",
       "<p>5 rows × 111 columns</p>\n",
       "</div>"
      ],
      "text/plain": [
       "   bathrooms  bedrooms              created  latitude  longitude  price  \\\n",
       "0        1.0         1  2016-06-16 05:55:27   40.7108   -73.9539   2400   \n",
       "1        1.0         2  2016-06-01 05:44:33   40.7513   -73.9722   3800   \n",
       "2        1.0         2  2016-06-14 15:19:59   40.7575   -73.9625   3495   \n",
       "3        1.5         3  2016-06-24 07:54:24   40.7145   -73.9425   3000   \n",
       "4        1.0         0  2016-06-28 03:50:23   40.7439   -73.9743   2795   \n",
       "\n",
       "            street_address  features_kitchen  features_room  features_home  \\\n",
       "0      145 Borinquen Place                 0              1              0   \n",
       "1            230 East 44th                 0              0              0   \n",
       "2     405 East 56th Street                 0              0              0   \n",
       "3  792 Metropolitan Avenue                 0              0              0   \n",
       "4     340 East 34th Street                 0              0              0   \n",
       "\n",
       "          ...           features_views  features_details  features_dryer  \\\n",
       "0         ...                        0                 0               0   \n",
       "1         ...                        0                 0               0   \n",
       "2         ...                        0                 0               0   \n",
       "3         ...                        0                 0               0   \n",
       "4         ...                        0                 0               0   \n",
       "\n",
       "   features_elev/lndry  features_elev/lndry_bldg  features_gut  \\\n",
       "0                    0                         0             0   \n",
       "1                    0                         0             0   \n",
       "2                    0                         0             0   \n",
       "3                    0                         0             0   \n",
       "4                    0                         0             0   \n",
       "\n",
       "   created_days_ago  float_interest_level  building_id_category  \\\n",
       "0               198                   0.5                  6083   \n",
       "1               213                   0.0                  8417   \n",
       "2               200                   0.5                  9344   \n",
       "3               190                   0.5                  3797   \n",
       "4               186                   0.0                  8717   \n",
       "\n",
       "   manager_id_category  \n",
       "0                 2767  \n",
       "1                 2565  \n",
       "2                 3458  \n",
       "3                 1568  \n",
       "4                  790  \n",
       "\n",
       "[5 rows x 111 columns]"
      ]
     },
     "execution_count": 36,
     "metadata": {},
     "output_type": "execute_result"
    }
   ],
   "source": [
    "TRAIN_DATAFRAME.head(5)"
   ]
  },
  {
   "cell_type": "code",
   "execution_count": null,
   "metadata": {},
   "outputs": [],
   "source": []
  }
 ],
 "metadata": {
  "kernelspec": {
   "display_name": "python3.6-anaconda",
   "language": "python",
   "name": "python3.6-anaconda"
  },
  "language_info": {
   "codemirror_mode": {
    "name": "ipython",
    "version": 3
   },
   "file_extension": ".py",
   "mimetype": "text/x-python",
   "name": "python",
   "nbconvert_exporter": "python",
   "pygments_lexer": "ipython3",
   "version": "3.6.4"
  }
 },
 "nbformat": 4,
 "nbformat_minor": 2
}
